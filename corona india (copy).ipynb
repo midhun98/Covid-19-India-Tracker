{
 "cells": [
  {
   "cell_type": "code",
   "execution_count": 1,
   "metadata": {},
   "outputs": [],
   "source": [
    "import pandas as pd\n",
    "import folium"
   ]
  },
  {
   "cell_type": "code",
   "execution_count": 2,
   "metadata": {},
   "outputs": [
    {
     "data": {
      "text/html": [
       "        <script type=\"text/javascript\">\n",
       "        window.PlotlyConfig = {MathJaxConfig: 'local'};\n",
       "        if (window.MathJax) {MathJax.Hub.Config({SVG: {font: \"STIX-Web\"}});}\n",
       "        if (typeof require !== 'undefined') {\n",
       "        require.undef(\"plotly\");\n",
       "        requirejs.config({\n",
       "            paths: {\n",
       "                'plotly': ['https://cdn.plot.ly/plotly-latest.min']\n",
       "            }\n",
       "        });\n",
       "        require(['plotly'], function(Plotly) {\n",
       "            window._Plotly = Plotly;\n",
       "        });\n",
       "        }\n",
       "        </script>\n",
       "        "
      ]
     },
     "metadata": {},
     "output_type": "display_data"
    },
    {
     "data": {
      "text/html": [
       "        <script type=\"text/javascript\">\n",
       "        window.PlotlyConfig = {MathJaxConfig: 'local'};\n",
       "        if (window.MathJax) {MathJax.Hub.Config({SVG: {font: \"STIX-Web\"}});}\n",
       "        if (typeof require !== 'undefined') {\n",
       "        require.undef(\"plotly\");\n",
       "        requirejs.config({\n",
       "            paths: {\n",
       "                'plotly': ['https://cdn.plot.ly/plotly-latest.min']\n",
       "            }\n",
       "        });\n",
       "        require(['plotly'], function(Plotly) {\n",
       "            window._Plotly = Plotly;\n",
       "        });\n",
       "        }\n",
       "        </script>\n",
       "        "
      ]
     },
     "metadata": {},
     "output_type": "display_data"
    }
   ],
   "source": [
    "import matplotlib.pyplot as plt\n",
    "import plotly\n",
    "import plotly.express as px\n",
    "import plotly.graph_objects as go\n",
    "import cufflinks as cf\n",
    "import plotly.offline as pyo\n",
    "from plotly.offline import init_notebook_mode,plot,iplot\n",
    "\n",
    "pyo.init_notebook_mode(connected=True)\n",
    "cf.go_offline()"
   ]
  },
  {
   "cell_type": "code",
   "execution_count": 3,
   "metadata": {},
   "outputs": [],
   "source": [
    "coord=pd.read_excel('Indian Coordinates.xlsx')"
   ]
  },
  {
   "cell_type": "code",
   "execution_count": 4,
   "metadata": {},
   "outputs": [
    {
     "data": {
      "text/html": [
       "<div>\n",
       "<style scoped>\n",
       "    .dataframe tbody tr th:only-of-type {\n",
       "        vertical-align: middle;\n",
       "    }\n",
       "\n",
       "    .dataframe tbody tr th {\n",
       "        vertical-align: top;\n",
       "    }\n",
       "\n",
       "    .dataframe thead th {\n",
       "        text-align: right;\n",
       "    }\n",
       "</style>\n",
       "<table border=\"1\" class=\"dataframe\">\n",
       "  <thead>\n",
       "    <tr style=\"text-align: right;\">\n",
       "      <th></th>\n",
       "      <th>Name of State / UT</th>\n",
       "      <th>Latitude</th>\n",
       "      <th>Longitude</th>\n",
       "    </tr>\n",
       "  </thead>\n",
       "  <tbody>\n",
       "    <tr>\n",
       "      <th>0</th>\n",
       "      <td>Andaman And Nicobar</td>\n",
       "      <td>11.667026</td>\n",
       "      <td>92.735983</td>\n",
       "    </tr>\n",
       "    <tr>\n",
       "      <th>1</th>\n",
       "      <td>Andhra Pradesh</td>\n",
       "      <td>14.750429</td>\n",
       "      <td>78.570026</td>\n",
       "    </tr>\n",
       "    <tr>\n",
       "      <th>2</th>\n",
       "      <td>Arunachal Pradesh</td>\n",
       "      <td>27.100399</td>\n",
       "      <td>93.616601</td>\n",
       "    </tr>\n",
       "    <tr>\n",
       "      <th>3</th>\n",
       "      <td>Assam</td>\n",
       "      <td>26.749981</td>\n",
       "      <td>94.216667</td>\n",
       "    </tr>\n",
       "    <tr>\n",
       "      <th>4</th>\n",
       "      <td>Bihar</td>\n",
       "      <td>25.785414</td>\n",
       "      <td>87.479973</td>\n",
       "    </tr>\n",
       "    <tr>\n",
       "      <th>5</th>\n",
       "      <td>Chandigarh</td>\n",
       "      <td>30.719997</td>\n",
       "      <td>76.780006</td>\n",
       "    </tr>\n",
       "    <tr>\n",
       "      <th>6</th>\n",
       "      <td>Chhattisgarh</td>\n",
       "      <td>22.090420</td>\n",
       "      <td>82.159987</td>\n",
       "    </tr>\n",
       "    <tr>\n",
       "      <th>7</th>\n",
       "      <td>Dadra And Nagar Haveli</td>\n",
       "      <td>20.266578</td>\n",
       "      <td>73.016618</td>\n",
       "    </tr>\n",
       "    <tr>\n",
       "      <th>8</th>\n",
       "      <td>Delhi</td>\n",
       "      <td>28.669993</td>\n",
       "      <td>77.230004</td>\n",
       "    </tr>\n",
       "    <tr>\n",
       "      <th>9</th>\n",
       "      <td>Goa</td>\n",
       "      <td>15.491997</td>\n",
       "      <td>73.818001</td>\n",
       "    </tr>\n",
       "    <tr>\n",
       "      <th>10</th>\n",
       "      <td>Gujarat</td>\n",
       "      <td>22.309425</td>\n",
       "      <td>72.136230</td>\n",
       "    </tr>\n",
       "    <tr>\n",
       "      <th>11</th>\n",
       "      <td>Haryana</td>\n",
       "      <td>28.450006</td>\n",
       "      <td>77.019991</td>\n",
       "    </tr>\n",
       "    <tr>\n",
       "      <th>12</th>\n",
       "      <td>Himachal Pradesh</td>\n",
       "      <td>31.100025</td>\n",
       "      <td>77.166597</td>\n",
       "    </tr>\n",
       "    <tr>\n",
       "      <th>13</th>\n",
       "      <td>Jammu and Kashmir</td>\n",
       "      <td>33.450000</td>\n",
       "      <td>76.240000</td>\n",
       "    </tr>\n",
       "    <tr>\n",
       "      <th>14</th>\n",
       "      <td>Jharkhand</td>\n",
       "      <td>23.800393</td>\n",
       "      <td>86.419986</td>\n",
       "    </tr>\n",
       "    <tr>\n",
       "      <th>15</th>\n",
       "      <td>Karnataka</td>\n",
       "      <td>12.570381</td>\n",
       "      <td>76.919997</td>\n",
       "    </tr>\n",
       "    <tr>\n",
       "      <th>16</th>\n",
       "      <td>Kerala</td>\n",
       "      <td>8.900373</td>\n",
       "      <td>76.569993</td>\n",
       "    </tr>\n",
       "    <tr>\n",
       "      <th>17</th>\n",
       "      <td>Ladakh</td>\n",
       "      <td>34.100000</td>\n",
       "      <td>77.340000</td>\n",
       "    </tr>\n",
       "    <tr>\n",
       "      <th>18</th>\n",
       "      <td>Lakshadweep</td>\n",
       "      <td>10.562573</td>\n",
       "      <td>72.636867</td>\n",
       "    </tr>\n",
       "    <tr>\n",
       "      <th>19</th>\n",
       "      <td>Madhya Pradesh</td>\n",
       "      <td>21.300391</td>\n",
       "      <td>76.130019</td>\n",
       "    </tr>\n",
       "    <tr>\n",
       "      <th>20</th>\n",
       "      <td>Maharashtra</td>\n",
       "      <td>19.250232</td>\n",
       "      <td>73.160175</td>\n",
       "    </tr>\n",
       "    <tr>\n",
       "      <th>21</th>\n",
       "      <td>Manipur</td>\n",
       "      <td>24.799971</td>\n",
       "      <td>93.950017</td>\n",
       "    </tr>\n",
       "    <tr>\n",
       "      <th>22</th>\n",
       "      <td>Meghalaya</td>\n",
       "      <td>25.570492</td>\n",
       "      <td>91.880014</td>\n",
       "    </tr>\n",
       "    <tr>\n",
       "      <th>23</th>\n",
       "      <td>Mizoram</td>\n",
       "      <td>23.710399</td>\n",
       "      <td>92.720015</td>\n",
       "    </tr>\n",
       "    <tr>\n",
       "      <th>24</th>\n",
       "      <td>Nagaland</td>\n",
       "      <td>25.666998</td>\n",
       "      <td>94.116570</td>\n",
       "    </tr>\n",
       "    <tr>\n",
       "      <th>25</th>\n",
       "      <td>Orissa</td>\n",
       "      <td>19.820430</td>\n",
       "      <td>85.900017</td>\n",
       "    </tr>\n",
       "    <tr>\n",
       "      <th>26</th>\n",
       "      <td>Puducherry</td>\n",
       "      <td>11.934994</td>\n",
       "      <td>79.830000</td>\n",
       "    </tr>\n",
       "    <tr>\n",
       "      <th>27</th>\n",
       "      <td>Punjab</td>\n",
       "      <td>31.519974</td>\n",
       "      <td>75.980003</td>\n",
       "    </tr>\n",
       "    <tr>\n",
       "      <th>28</th>\n",
       "      <td>Rajasthan</td>\n",
       "      <td>26.449999</td>\n",
       "      <td>74.639981</td>\n",
       "    </tr>\n",
       "    <tr>\n",
       "      <th>29</th>\n",
       "      <td>Sikkim</td>\n",
       "      <td>27.333330</td>\n",
       "      <td>88.616647</td>\n",
       "    </tr>\n",
       "    <tr>\n",
       "      <th>30</th>\n",
       "      <td>Tamil Nadu</td>\n",
       "      <td>12.920386</td>\n",
       "      <td>79.150042</td>\n",
       "    </tr>\n",
       "    <tr>\n",
       "      <th>31</th>\n",
       "      <td>Telengana</td>\n",
       "      <td>18.112400</td>\n",
       "      <td>79.019300</td>\n",
       "    </tr>\n",
       "    <tr>\n",
       "      <th>32</th>\n",
       "      <td>Tripura</td>\n",
       "      <td>23.835404</td>\n",
       "      <td>91.279999</td>\n",
       "    </tr>\n",
       "    <tr>\n",
       "      <th>33</th>\n",
       "      <td>Uttarakhand</td>\n",
       "      <td>30.320409</td>\n",
       "      <td>78.050006</td>\n",
       "    </tr>\n",
       "    <tr>\n",
       "      <th>34</th>\n",
       "      <td>Uttar Pradesh</td>\n",
       "      <td>27.599981</td>\n",
       "      <td>78.050006</td>\n",
       "    </tr>\n",
       "    <tr>\n",
       "      <th>35</th>\n",
       "      <td>West Bengal</td>\n",
       "      <td>22.580390</td>\n",
       "      <td>88.329947</td>\n",
       "    </tr>\n",
       "  </tbody>\n",
       "</table>\n",
       "</div>"
      ],
      "text/plain": [
       "         Name of State / UT   Latitude  Longitude\n",
       "0      Andaman And Nicobar   11.667026  92.735983\n",
       "1            Andhra Pradesh  14.750429  78.570026\n",
       "2        Arunachal Pradesh   27.100399  93.616601\n",
       "3                    Assam   26.749981  94.216667\n",
       "4                    Bihar   25.785414  87.479973\n",
       "5               Chandigarh   30.719997  76.780006\n",
       "6             Chhattisgarh   22.090420  82.159987\n",
       "7   Dadra And Nagar Haveli   20.266578  73.016618\n",
       "8                     Delhi  28.669993  77.230004\n",
       "9                      Goa   15.491997  73.818001\n",
       "10                  Gujarat  22.309425  72.136230\n",
       "11                  Haryana  28.450006  77.019991\n",
       "12        Himachal Pradesh   31.100025  77.166597\n",
       "13        Jammu and Kashmir  33.450000  76.240000\n",
       "14               Jharkhand   23.800393  86.419986\n",
       "15                Karnataka  12.570381  76.919997\n",
       "16                   Kerala   8.900373  76.569993\n",
       "17                   Ladakh  34.100000  77.340000\n",
       "18             Lakshadweep   10.562573  72.636867\n",
       "19          Madhya Pradesh   21.300391  76.130019\n",
       "20              Maharashtra  19.250232  73.160175\n",
       "21                 Manipur   24.799971  93.950017\n",
       "22               Meghalaya   25.570492  91.880014\n",
       "23                 Mizoram   23.710399  92.720015\n",
       "24                Nagaland   25.666998  94.116570\n",
       "25                  Orissa   19.820430  85.900017\n",
       "26              Puducherry   11.934994  79.830000\n",
       "27                   Punjab  31.519974  75.980003\n",
       "28                Rajasthan  26.449999  74.639981\n",
       "29                  Sikkim   27.333330  88.616647\n",
       "30               Tamil Nadu  12.920386  79.150042\n",
       "31                Telengana  18.112400  79.019300\n",
       "32                 Tripura   23.835404  91.279999\n",
       "33              Uttarakhand  30.320409  78.050006\n",
       "34            Uttar Pradesh  27.599981  78.050006\n",
       "35             West Bengal   22.580390  88.329947"
      ]
     },
     "execution_count": 4,
     "metadata": {},
     "output_type": "execute_result"
    }
   ],
   "source": [
    "coord"
   ]
  },
  {
   "cell_type": "code",
   "execution_count": 5,
   "metadata": {},
   "outputs": [
    {
     "data": {
      "text/plain": [
       "Name of State / UT     object\n",
       "Latitude              float64\n",
       "Longitude             float64\n",
       "dtype: object"
      ]
     },
     "execution_count": 5,
     "metadata": {},
     "output_type": "execute_result"
    }
   ],
   "source": [
    "coord.dtypes"
   ]
  },
  {
   "cell_type": "code",
   "execution_count": 6,
   "metadata": {},
   "outputs": [],
   "source": [
    "# info = pd.read_html('https://www.distancelatlong.com/country/india',match='States') \n",
    "# coordinates = pd.DataFrame(info[0])\n",
    "# coordinates.head()"
   ]
  },
  {
   "cell_type": "code",
   "execution_count": 7,
   "metadata": {},
   "outputs": [
    {
     "data": {
      "text/html": [
       "<div>\n",
       "<style scoped>\n",
       "    .dataframe tbody tr th:only-of-type {\n",
       "        vertical-align: middle;\n",
       "    }\n",
       "\n",
       "    .dataframe tbody tr th {\n",
       "        vertical-align: top;\n",
       "    }\n",
       "\n",
       "    .dataframe thead tr th {\n",
       "        text-align: left;\n",
       "    }\n",
       "</style>\n",
       "<table border=\"1\" class=\"dataframe\">\n",
       "  <thead>\n",
       "    <tr>\n",
       "      <th></th>\n",
       "      <th colspan=\"9\" halign=\"left\">[show all]viewtalkeditCOVID-19 pandemic in India by state and union territory</th>\n",
       "    </tr>\n",
       "    <tr>\n",
       "      <th></th>\n",
       "      <th>State/Union Territory</th>\n",
       "      <th>Cases[a]</th>\n",
       "      <th>Deaths</th>\n",
       "      <th>Recoveries</th>\n",
       "      <th>Active</th>\n",
       "      <th>Unnamed: 5_level_1</th>\n",
       "      <th>Unnamed: 6_level_1</th>\n",
       "      <th>Unnamed: 7_level_1</th>\n",
       "      <th>Unnamed: 8_level_1</th>\n",
       "    </tr>\n",
       "    <tr>\n",
       "      <th></th>\n",
       "      <th>35 / 36</th>\n",
       "      <th>6,623,815</th>\n",
       "      <th>102,685</th>\n",
       "      <th>5,586,703</th>\n",
       "      <th>934,427</th>\n",
       "      <th>Unnamed: 5_level_2</th>\n",
       "      <th>Unnamed: 6_level_2</th>\n",
       "      <th>Unnamed: 7_level_2</th>\n",
       "      <th>Unnamed: 8_level_2</th>\n",
       "    </tr>\n",
       "  </thead>\n",
       "  <tbody>\n",
       "    <tr>\n",
       "      <th>0</th>\n",
       "      <td>Andaman and Nicobar Islands</td>\n",
       "      <td>3884</td>\n",
       "      <td>53</td>\n",
       "      <td>3649</td>\n",
       "      <td>182</td>\n",
       "      <td>NaN</td>\n",
       "      <td>NaN</td>\n",
       "      <td>NaN</td>\n",
       "      <td>NaN</td>\n",
       "    </tr>\n",
       "    <tr>\n",
       "      <th>1</th>\n",
       "      <td>Andhra Pradesh</td>\n",
       "      <td>719256</td>\n",
       "      <td>5981</td>\n",
       "      <td>658875</td>\n",
       "      <td>54400</td>\n",
       "      <td>NaN</td>\n",
       "      <td>NaN</td>\n",
       "      <td>NaN</td>\n",
       "      <td>NaN</td>\n",
       "    </tr>\n",
       "    <tr>\n",
       "      <th>2</th>\n",
       "      <td>Arunachal Pradesh</td>\n",
       "      <td>10548</td>\n",
       "      <td>18</td>\n",
       "      <td>7577</td>\n",
       "      <td>2953</td>\n",
       "      <td>NaN</td>\n",
       "      <td>NaN</td>\n",
       "      <td>NaN</td>\n",
       "      <td>NaN</td>\n",
       "    </tr>\n",
       "    <tr>\n",
       "      <th>3</th>\n",
       "      <td>Assam</td>\n",
       "      <td>186,200[b]</td>\n",
       "      <td>749</td>\n",
       "      <td>152127</td>\n",
       "      <td>33324</td>\n",
       "      <td>NaN</td>\n",
       "      <td>NaN</td>\n",
       "      <td>NaN</td>\n",
       "      <td>NaN</td>\n",
       "    </tr>\n",
       "    <tr>\n",
       "      <th>4</th>\n",
       "      <td>Bihar</td>\n",
       "      <td>188168</td>\n",
       "      <td>915</td>\n",
       "      <td>175458</td>\n",
       "      <td>11795</td>\n",
       "      <td>NaN</td>\n",
       "      <td>NaN</td>\n",
       "      <td>NaN</td>\n",
       "      <td>NaN</td>\n",
       "    </tr>\n",
       "  </tbody>\n",
       "</table>\n",
       "</div>"
      ],
      "text/plain": [
       "  [show all]viewtalkeditCOVID-19 pandemic in India by state and union territory  \\\n",
       "                                                          State/Union Territory   \n",
       "                                                                        35 / 36   \n",
       "0                        Andaman and Nicobar Islands                              \n",
       "1                                     Andhra Pradesh                              \n",
       "2                                  Arunachal Pradesh                              \n",
       "3                                              Assam                              \n",
       "4                                              Bihar                              \n",
       "\n",
       "                                                             \\\n",
       "     Cases[a]  Deaths Recoveries  Active Unnamed: 5_level_1   \n",
       "    6,623,815 102,685  5,586,703 934,427 Unnamed: 5_level_2   \n",
       "0        3884      53       3649     182                NaN   \n",
       "1      719256    5981     658875   54400                NaN   \n",
       "2       10548      18       7577    2953                NaN   \n",
       "3  186,200[b]     749     152127   33324                NaN   \n",
       "4      188168     915     175458   11795                NaN   \n",
       "\n",
       "                                                            \n",
       "  Unnamed: 6_level_1 Unnamed: 7_level_1 Unnamed: 8_level_1  \n",
       "  Unnamed: 6_level_2 Unnamed: 7_level_2 Unnamed: 8_level_2  \n",
       "0                NaN                NaN                NaN  \n",
       "1                NaN                NaN                NaN  \n",
       "2                NaN                NaN                NaN  \n",
       "3                NaN                NaN                NaN  \n",
       "4                NaN                NaN                NaN  "
      ]
     },
     "execution_count": 7,
     "metadata": {},
     "output_type": "execute_result"
    }
   ],
   "source": [
    "coronastats = pd.read_html('https://en.wikipedia.org/wiki/COVID-19_pandemic_in_India#covid19-container',match='State/Union Territory')\n",
    "covid19 = pd.DataFrame(coronastats[0])\n",
    "covid19.head()"
   ]
  },
  {
   "cell_type": "code",
   "execution_count": 8,
   "metadata": {
    "scrolled": true
   },
   "outputs": [
    {
     "data": {
      "text/html": [
       "<div>\n",
       "<style scoped>\n",
       "    .dataframe tbody tr th:only-of-type {\n",
       "        vertical-align: middle;\n",
       "    }\n",
       "\n",
       "    .dataframe tbody tr th {\n",
       "        vertical-align: top;\n",
       "    }\n",
       "\n",
       "    .dataframe thead tr th {\n",
       "        text-align: left;\n",
       "    }\n",
       "</style>\n",
       "<table border=\"1\" class=\"dataframe\">\n",
       "  <thead>\n",
       "    <tr>\n",
       "      <th></th>\n",
       "      <th colspan=\"9\" halign=\"left\">[show all]viewtalkeditCOVID-19 pandemic in India by state and union territory</th>\n",
       "    </tr>\n",
       "    <tr>\n",
       "      <th></th>\n",
       "      <th>State/Union Territory</th>\n",
       "      <th>Cases[a]</th>\n",
       "      <th>Deaths</th>\n",
       "      <th>Recoveries</th>\n",
       "      <th>Active</th>\n",
       "      <th>Unnamed: 5_level_1</th>\n",
       "      <th>Unnamed: 6_level_1</th>\n",
       "      <th>Unnamed: 7_level_1</th>\n",
       "      <th>Unnamed: 8_level_1</th>\n",
       "    </tr>\n",
       "    <tr>\n",
       "      <th></th>\n",
       "      <th>35 / 36</th>\n",
       "      <th>6,623,815</th>\n",
       "      <th>102,685</th>\n",
       "      <th>5,586,703</th>\n",
       "      <th>934,427</th>\n",
       "      <th>Unnamed: 5_level_2</th>\n",
       "      <th>Unnamed: 6_level_2</th>\n",
       "      <th>Unnamed: 7_level_2</th>\n",
       "      <th>Unnamed: 8_level_2</th>\n",
       "    </tr>\n",
       "  </thead>\n",
       "  <tbody>\n",
       "    <tr>\n",
       "      <th>0</th>\n",
       "      <td>Andaman and Nicobar Islands</td>\n",
       "      <td>3884</td>\n",
       "      <td>53</td>\n",
       "      <td>3649</td>\n",
       "      <td>182</td>\n",
       "      <td>NaN</td>\n",
       "      <td>NaN</td>\n",
       "      <td>NaN</td>\n",
       "      <td>NaN</td>\n",
       "    </tr>\n",
       "    <tr>\n",
       "      <th>1</th>\n",
       "      <td>Andhra Pradesh</td>\n",
       "      <td>719256</td>\n",
       "      <td>5981</td>\n",
       "      <td>658875</td>\n",
       "      <td>54400</td>\n",
       "      <td>NaN</td>\n",
       "      <td>NaN</td>\n",
       "      <td>NaN</td>\n",
       "      <td>NaN</td>\n",
       "    </tr>\n",
       "    <tr>\n",
       "      <th>2</th>\n",
       "      <td>Arunachal Pradesh</td>\n",
       "      <td>10548</td>\n",
       "      <td>18</td>\n",
       "      <td>7577</td>\n",
       "      <td>2953</td>\n",
       "      <td>NaN</td>\n",
       "      <td>NaN</td>\n",
       "      <td>NaN</td>\n",
       "      <td>NaN</td>\n",
       "    </tr>\n",
       "    <tr>\n",
       "      <th>3</th>\n",
       "      <td>Assam</td>\n",
       "      <td>186,200[b]</td>\n",
       "      <td>749</td>\n",
       "      <td>152127</td>\n",
       "      <td>33324</td>\n",
       "      <td>NaN</td>\n",
       "      <td>NaN</td>\n",
       "      <td>NaN</td>\n",
       "      <td>NaN</td>\n",
       "    </tr>\n",
       "    <tr>\n",
       "      <th>4</th>\n",
       "      <td>Bihar</td>\n",
       "      <td>188168</td>\n",
       "      <td>915</td>\n",
       "      <td>175458</td>\n",
       "      <td>11795</td>\n",
       "      <td>NaN</td>\n",
       "      <td>NaN</td>\n",
       "      <td>NaN</td>\n",
       "      <td>NaN</td>\n",
       "    </tr>\n",
       "    <tr>\n",
       "      <th>5</th>\n",
       "      <td>Chandigarh</td>\n",
       "      <td>12445</td>\n",
       "      <td>174</td>\n",
       "      <td>10598</td>\n",
       "      <td>1673</td>\n",
       "      <td>NaN</td>\n",
       "      <td>NaN</td>\n",
       "      <td>NaN</td>\n",
       "      <td>NaN</td>\n",
       "    </tr>\n",
       "    <tr>\n",
       "      <th>6</th>\n",
       "      <td>Chhattisgarh</td>\n",
       "      <td>123324</td>\n",
       "      <td>1045</td>\n",
       "      <td>93731</td>\n",
       "      <td>28548</td>\n",
       "      <td>NaN</td>\n",
       "      <td>NaN</td>\n",
       "      <td>NaN</td>\n",
       "      <td>NaN</td>\n",
       "    </tr>\n",
       "    <tr>\n",
       "      <th>7</th>\n",
       "      <td>Dadra and Nagar Haveli and Daman and Diu</td>\n",
       "      <td>3087</td>\n",
       "      <td>2</td>\n",
       "      <td>2980</td>\n",
       "      <td>105</td>\n",
       "      <td>NaN</td>\n",
       "      <td>NaN</td>\n",
       "      <td>NaN</td>\n",
       "      <td>NaN</td>\n",
       "    </tr>\n",
       "    <tr>\n",
       "      <th>8</th>\n",
       "      <td>Delhi</td>\n",
       "      <td>290613</td>\n",
       "      <td>5510</td>\n",
       "      <td>260350</td>\n",
       "      <td>24753</td>\n",
       "      <td>NaN</td>\n",
       "      <td>NaN</td>\n",
       "      <td>NaN</td>\n",
       "      <td>NaN</td>\n",
       "    </tr>\n",
       "    <tr>\n",
       "      <th>9</th>\n",
       "      <td>Goa</td>\n",
       "      <td>35328</td>\n",
       "      <td>456</td>\n",
       "      <td>30033</td>\n",
       "      <td>4839</td>\n",
       "      <td>NaN</td>\n",
       "      <td>NaN</td>\n",
       "      <td>NaN</td>\n",
       "      <td>NaN</td>\n",
       "    </tr>\n",
       "    <tr>\n",
       "      <th>10</th>\n",
       "      <td>Gujarat</td>\n",
       "      <td>142538</td>\n",
       "      <td>3496</td>\n",
       "      <td>122233</td>\n",
       "      <td>16809</td>\n",
       "      <td>NaN</td>\n",
       "      <td>NaN</td>\n",
       "      <td>NaN</td>\n",
       "      <td>NaN</td>\n",
       "    </tr>\n",
       "    <tr>\n",
       "      <th>11</th>\n",
       "      <td>Haryana</td>\n",
       "      <td>133878</td>\n",
       "      <td>1470</td>\n",
       "      <td>120341</td>\n",
       "      <td>12067</td>\n",
       "      <td>NaN</td>\n",
       "      <td>NaN</td>\n",
       "      <td>NaN</td>\n",
       "      <td>NaN</td>\n",
       "    </tr>\n",
       "    <tr>\n",
       "      <th>12</th>\n",
       "      <td>Himachal Pradesh</td>\n",
       "      <td>15851</td>\n",
       "      <td>217</td>\n",
       "      <td>12361</td>\n",
       "      <td>3273</td>\n",
       "      <td>NaN</td>\n",
       "      <td>NaN</td>\n",
       "      <td>NaN</td>\n",
       "      <td>NaN</td>\n",
       "    </tr>\n",
       "    <tr>\n",
       "      <th>13</th>\n",
       "      <td>Jammu and Kashmir</td>\n",
       "      <td>79106</td>\n",
       "      <td>1242</td>\n",
       "      <td>62404</td>\n",
       "      <td>15460</td>\n",
       "      <td>NaN</td>\n",
       "      <td>NaN</td>\n",
       "      <td>NaN</td>\n",
       "      <td>NaN</td>\n",
       "    </tr>\n",
       "    <tr>\n",
       "      <th>14</th>\n",
       "      <td>Jharkhand</td>\n",
       "      <td>87210</td>\n",
       "      <td>743</td>\n",
       "      <td>75531</td>\n",
       "      <td>10936</td>\n",
       "      <td>NaN</td>\n",
       "      <td>NaN</td>\n",
       "      <td>NaN</td>\n",
       "      <td>NaN</td>\n",
       "    </tr>\n",
       "    <tr>\n",
       "      <th>15</th>\n",
       "      <td>Karnataka</td>\n",
       "      <td>640661</td>\n",
       "      <td>9286</td>\n",
       "      <td>515782</td>\n",
       "      <td>115593</td>\n",
       "      <td>NaN</td>\n",
       "      <td>NaN</td>\n",
       "      <td>NaN</td>\n",
       "      <td>NaN</td>\n",
       "    </tr>\n",
       "    <tr>\n",
       "      <th>16</th>\n",
       "      <td>Kerala</td>\n",
       "      <td>229886</td>\n",
       "      <td>836[c]</td>\n",
       "      <td>144471</td>\n",
       "      <td>84579</td>\n",
       "      <td>NaN</td>\n",
       "      <td>NaN</td>\n",
       "      <td>NaN</td>\n",
       "      <td>NaN</td>\n",
       "    </tr>\n",
       "    <tr>\n",
       "      <th>17</th>\n",
       "      <td>Ladakh</td>\n",
       "      <td>4521</td>\n",
       "      <td>61</td>\n",
       "      <td>3354</td>\n",
       "      <td>1106</td>\n",
       "      <td>NaN</td>\n",
       "      <td>NaN</td>\n",
       "      <td>NaN</td>\n",
       "      <td>NaN</td>\n",
       "    </tr>\n",
       "    <tr>\n",
       "      <th>18</th>\n",
       "      <td>Lakshadweep</td>\n",
       "      <td>0</td>\n",
       "      <td>0</td>\n",
       "      <td>0</td>\n",
       "      <td>0</td>\n",
       "      <td>NaN</td>\n",
       "      <td>NaN</td>\n",
       "      <td>NaN</td>\n",
       "      <td>NaN</td>\n",
       "    </tr>\n",
       "    <tr>\n",
       "      <th>19</th>\n",
       "      <td>Madhya Pradesh</td>\n",
       "      <td>135638</td>\n",
       "      <td>2434</td>\n",
       "      <td>113832</td>\n",
       "      <td>19372</td>\n",
       "      <td>NaN</td>\n",
       "      <td>NaN</td>\n",
       "      <td>NaN</td>\n",
       "      <td>NaN</td>\n",
       "    </tr>\n",
       "    <tr>\n",
       "      <th>20</th>\n",
       "      <td>Maharashtra</td>\n",
       "      <td>1443409</td>\n",
       "      <td>38084</td>\n",
       "      <td>1149603</td>\n",
       "      <td>255722</td>\n",
       "      <td>NaN</td>\n",
       "      <td>NaN</td>\n",
       "      <td>NaN</td>\n",
       "      <td>NaN</td>\n",
       "    </tr>\n",
       "    <tr>\n",
       "      <th>21</th>\n",
       "      <td>Manipur</td>\n",
       "      <td>11855</td>\n",
       "      <td>74</td>\n",
       "      <td>9205</td>\n",
       "      <td>2576</td>\n",
       "      <td>NaN</td>\n",
       "      <td>NaN</td>\n",
       "      <td>NaN</td>\n",
       "      <td>NaN</td>\n",
       "    </tr>\n",
       "    <tr>\n",
       "      <th>22</th>\n",
       "      <td>Meghalaya</td>\n",
       "      <td>6656</td>\n",
       "      <td>54</td>\n",
       "      <td>4393</td>\n",
       "      <td>2209</td>\n",
       "      <td>NaN</td>\n",
       "      <td>NaN</td>\n",
       "      <td>NaN</td>\n",
       "      <td>NaN</td>\n",
       "    </tr>\n",
       "    <tr>\n",
       "      <th>23</th>\n",
       "      <td>Mizoram</td>\n",
       "      <td>2120</td>\n",
       "      <td>0</td>\n",
       "      <td>1807</td>\n",
       "      <td>313</td>\n",
       "      <td>NaN</td>\n",
       "      <td>NaN</td>\n",
       "      <td>NaN</td>\n",
       "      <td>NaN</td>\n",
       "    </tr>\n",
       "    <tr>\n",
       "      <th>24</th>\n",
       "      <td>Nagaland</td>\n",
       "      <td>6552</td>\n",
       "      <td>17</td>\n",
       "      <td>5309</td>\n",
       "      <td>1226</td>\n",
       "      <td>NaN</td>\n",
       "      <td>NaN</td>\n",
       "      <td>NaN</td>\n",
       "      <td>NaN</td>\n",
       "    </tr>\n",
       "    <tr>\n",
       "      <th>25</th>\n",
       "      <td>Odisha</td>\n",
       "      <td>232713</td>\n",
       "      <td>907</td>\n",
       "      <td>202302</td>\n",
       "      <td>29504</td>\n",
       "      <td>NaN</td>\n",
       "      <td>NaN</td>\n",
       "      <td>NaN</td>\n",
       "      <td>NaN</td>\n",
       "    </tr>\n",
       "    <tr>\n",
       "      <th>26</th>\n",
       "      <td>Puducherry</td>\n",
       "      <td>29089</td>\n",
       "      <td>539</td>\n",
       "      <td>23763</td>\n",
       "      <td>4787</td>\n",
       "      <td>NaN</td>\n",
       "      <td>NaN</td>\n",
       "      <td>NaN</td>\n",
       "      <td>NaN</td>\n",
       "    </tr>\n",
       "    <tr>\n",
       "      <th>27</th>\n",
       "      <td>Punjab</td>\n",
       "      <td>118157</td>\n",
       "      <td>3603</td>\n",
       "      <td>100977</td>\n",
       "      <td>13577</td>\n",
       "      <td>NaN</td>\n",
       "      <td>NaN</td>\n",
       "      <td>NaN</td>\n",
       "      <td>NaN</td>\n",
       "    </tr>\n",
       "    <tr>\n",
       "      <th>28</th>\n",
       "      <td>Rajasthan</td>\n",
       "      <td>144030</td>\n",
       "      <td>1545</td>\n",
       "      <td>121331</td>\n",
       "      <td>21154</td>\n",
       "      <td>NaN</td>\n",
       "      <td>NaN</td>\n",
       "      <td>NaN</td>\n",
       "      <td>NaN</td>\n",
       "    </tr>\n",
       "    <tr>\n",
       "      <th>29</th>\n",
       "      <td>Sikkim</td>\n",
       "      <td>3174</td>\n",
       "      <td>45</td>\n",
       "      <td>2480</td>\n",
       "      <td>649</td>\n",
       "      <td>NaN</td>\n",
       "      <td>NaN</td>\n",
       "      <td>NaN</td>\n",
       "      <td>NaN</td>\n",
       "    </tr>\n",
       "    <tr>\n",
       "      <th>30</th>\n",
       "      <td>Tamil Nadu</td>\n",
       "      <td>619996</td>\n",
       "      <td>9784</td>\n",
       "      <td>564092</td>\n",
       "      <td>46120</td>\n",
       "      <td>NaN</td>\n",
       "      <td>NaN</td>\n",
       "      <td>NaN</td>\n",
       "      <td>NaN</td>\n",
       "    </tr>\n",
       "    <tr>\n",
       "      <th>31</th>\n",
       "      <td>Telangana</td>\n",
       "      <td>200611</td>\n",
       "      <td>1171</td>\n",
       "      <td>172388</td>\n",
       "      <td>27052</td>\n",
       "      <td>NaN</td>\n",
       "      <td>NaN</td>\n",
       "      <td>NaN</td>\n",
       "      <td>NaN</td>\n",
       "    </tr>\n",
       "    <tr>\n",
       "      <th>32</th>\n",
       "      <td>Tripura</td>\n",
       "      <td>27033</td>\n",
       "      <td>299</td>\n",
       "      <td>21876</td>\n",
       "      <td>4858</td>\n",
       "      <td>NaN</td>\n",
       "      <td>NaN</td>\n",
       "      <td>NaN</td>\n",
       "      <td>NaN</td>\n",
       "    </tr>\n",
       "    <tr>\n",
       "      <th>33</th>\n",
       "      <td>Uttarakhand</td>\n",
       "      <td>51481</td>\n",
       "      <td>652</td>\n",
       "      <td>41740</td>\n",
       "      <td>9089</td>\n",
       "      <td>NaN</td>\n",
       "      <td>NaN</td>\n",
       "      <td>NaN</td>\n",
       "      <td>NaN</td>\n",
       "    </tr>\n",
       "    <tr>\n",
       "      <th>34</th>\n",
       "      <td>Uttar Pradesh</td>\n",
       "      <td>414466</td>\n",
       "      <td>6029</td>\n",
       "      <td>362052</td>\n",
       "      <td>46385</td>\n",
       "      <td>NaN</td>\n",
       "      <td>NaN</td>\n",
       "      <td>NaN</td>\n",
       "      <td>NaN</td>\n",
       "    </tr>\n",
       "    <tr>\n",
       "      <th>35</th>\n",
       "      <td>West Bengal</td>\n",
       "      <td>270331</td>\n",
       "      <td>5194</td>\n",
       "      <td>237698</td>\n",
       "      <td>27439</td>\n",
       "      <td>NaN</td>\n",
       "      <td>NaN</td>\n",
       "      <td>NaN</td>\n",
       "      <td>NaN</td>\n",
       "    </tr>\n",
       "    <tr>\n",
       "      <th>36</th>\n",
       "      <td>As of 5 October 2020[39]</td>\n",
       "      <td>As of 5 October 2020[39]</td>\n",
       "      <td>As of 5 October 2020[39]</td>\n",
       "      <td>As of 5 October 2020[39]</td>\n",
       "      <td>As of 5 October 2020[39]</td>\n",
       "      <td>NaN</td>\n",
       "      <td>NaN</td>\n",
       "      <td>NaN</td>\n",
       "      <td>NaN</td>\n",
       "    </tr>\n",
       "    <tr>\n",
       "      <th>37</th>\n",
       "      <td>Notes ^ Inclusive of foreign nationals ^ The M...</td>\n",
       "      <td>Notes ^ Inclusive of foreign nationals ^ The M...</td>\n",
       "      <td>Notes ^ Inclusive of foreign nationals ^ The M...</td>\n",
       "      <td>Notes ^ Inclusive of foreign nationals ^ The M...</td>\n",
       "      <td>Notes ^ Inclusive of foreign nationals ^ The M...</td>\n",
       "      <td>NaN</td>\n",
       "      <td>NaN</td>\n",
       "      <td>NaN</td>\n",
       "      <td>NaN</td>\n",
       "    </tr>\n",
       "  </tbody>\n",
       "</table>\n",
       "</div>"
      ],
      "text/plain": [
       "   [show all]viewtalkeditCOVID-19 pandemic in India by state and union territory  \\\n",
       "                                                           State/Union Territory   \n",
       "                                                                         35 / 36   \n",
       "0                         Andaman and Nicobar Islands                              \n",
       "1                                      Andhra Pradesh                              \n",
       "2                                   Arunachal Pradesh                              \n",
       "3                                               Assam                              \n",
       "4                                               Bihar                              \n",
       "5                                          Chandigarh                              \n",
       "6                                        Chhattisgarh                              \n",
       "7            Dadra and Nagar Haveli and Daman and Diu                              \n",
       "8                                               Delhi                              \n",
       "9                                                 Goa                              \n",
       "10                                            Gujarat                              \n",
       "11                                            Haryana                              \n",
       "12                                   Himachal Pradesh                              \n",
       "13                                  Jammu and Kashmir                              \n",
       "14                                          Jharkhand                              \n",
       "15                                          Karnataka                              \n",
       "16                                             Kerala                              \n",
       "17                                             Ladakh                              \n",
       "18                                        Lakshadweep                              \n",
       "19                                     Madhya Pradesh                              \n",
       "20                                        Maharashtra                              \n",
       "21                                            Manipur                              \n",
       "22                                          Meghalaya                              \n",
       "23                                            Mizoram                              \n",
       "24                                           Nagaland                              \n",
       "25                                             Odisha                              \n",
       "26                                         Puducherry                              \n",
       "27                                             Punjab                              \n",
       "28                                          Rajasthan                              \n",
       "29                                             Sikkim                              \n",
       "30                                         Tamil Nadu                              \n",
       "31                                          Telangana                              \n",
       "32                                            Tripura                              \n",
       "33                                        Uttarakhand                              \n",
       "34                                      Uttar Pradesh                              \n",
       "35                                        West Bengal                              \n",
       "36                           As of 5 October 2020[39]                              \n",
       "37  Notes ^ Inclusive of foreign nationals ^ The M...                              \n",
       "\n",
       "                                                       \\\n",
       "                                             Cases[a]   \n",
       "                                            6,623,815   \n",
       "0                                                3884   \n",
       "1                                              719256   \n",
       "2                                               10548   \n",
       "3                                          186,200[b]   \n",
       "4                                              188168   \n",
       "5                                               12445   \n",
       "6                                              123324   \n",
       "7                                                3087   \n",
       "8                                              290613   \n",
       "9                                               35328   \n",
       "10                                             142538   \n",
       "11                                             133878   \n",
       "12                                              15851   \n",
       "13                                              79106   \n",
       "14                                              87210   \n",
       "15                                             640661   \n",
       "16                                             229886   \n",
       "17                                               4521   \n",
       "18                                                  0   \n",
       "19                                             135638   \n",
       "20                                            1443409   \n",
       "21                                              11855   \n",
       "22                                               6656   \n",
       "23                                               2120   \n",
       "24                                               6552   \n",
       "25                                             232713   \n",
       "26                                              29089   \n",
       "27                                             118157   \n",
       "28                                             144030   \n",
       "29                                               3174   \n",
       "30                                             619996   \n",
       "31                                             200611   \n",
       "32                                              27033   \n",
       "33                                              51481   \n",
       "34                                             414466   \n",
       "35                                             270331   \n",
       "36                           As of 5 October 2020[39]   \n",
       "37  Notes ^ Inclusive of foreign nationals ^ The M...   \n",
       "\n",
       "                                                       \\\n",
       "                                               Deaths   \n",
       "                                              102,685   \n",
       "0                                                  53   \n",
       "1                                                5981   \n",
       "2                                                  18   \n",
       "3                                                 749   \n",
       "4                                                 915   \n",
       "5                                                 174   \n",
       "6                                                1045   \n",
       "7                                                   2   \n",
       "8                                                5510   \n",
       "9                                                 456   \n",
       "10                                               3496   \n",
       "11                                               1470   \n",
       "12                                                217   \n",
       "13                                               1242   \n",
       "14                                                743   \n",
       "15                                               9286   \n",
       "16                                             836[c]   \n",
       "17                                                 61   \n",
       "18                                                  0   \n",
       "19                                               2434   \n",
       "20                                              38084   \n",
       "21                                                 74   \n",
       "22                                                 54   \n",
       "23                                                  0   \n",
       "24                                                 17   \n",
       "25                                                907   \n",
       "26                                                539   \n",
       "27                                               3603   \n",
       "28                                               1545   \n",
       "29                                                 45   \n",
       "30                                               9784   \n",
       "31                                               1171   \n",
       "32                                                299   \n",
       "33                                                652   \n",
       "34                                               6029   \n",
       "35                                               5194   \n",
       "36                           As of 5 October 2020[39]   \n",
       "37  Notes ^ Inclusive of foreign nationals ^ The M...   \n",
       "\n",
       "                                                       \\\n",
       "                                           Recoveries   \n",
       "                                            5,586,703   \n",
       "0                                                3649   \n",
       "1                                              658875   \n",
       "2                                                7577   \n",
       "3                                              152127   \n",
       "4                                              175458   \n",
       "5                                               10598   \n",
       "6                                               93731   \n",
       "7                                                2980   \n",
       "8                                              260350   \n",
       "9                                               30033   \n",
       "10                                             122233   \n",
       "11                                             120341   \n",
       "12                                              12361   \n",
       "13                                              62404   \n",
       "14                                              75531   \n",
       "15                                             515782   \n",
       "16                                             144471   \n",
       "17                                               3354   \n",
       "18                                                  0   \n",
       "19                                             113832   \n",
       "20                                            1149603   \n",
       "21                                               9205   \n",
       "22                                               4393   \n",
       "23                                               1807   \n",
       "24                                               5309   \n",
       "25                                             202302   \n",
       "26                                              23763   \n",
       "27                                             100977   \n",
       "28                                             121331   \n",
       "29                                               2480   \n",
       "30                                             564092   \n",
       "31                                             172388   \n",
       "32                                              21876   \n",
       "33                                              41740   \n",
       "34                                             362052   \n",
       "35                                             237698   \n",
       "36                           As of 5 October 2020[39]   \n",
       "37  Notes ^ Inclusive of foreign nationals ^ The M...   \n",
       "\n",
       "                                                                          \\\n",
       "                                               Active Unnamed: 5_level_1   \n",
       "                                              934,427 Unnamed: 5_level_2   \n",
       "0                                                 182                NaN   \n",
       "1                                               54400                NaN   \n",
       "2                                                2953                NaN   \n",
       "3                                               33324                NaN   \n",
       "4                                               11795                NaN   \n",
       "5                                                1673                NaN   \n",
       "6                                               28548                NaN   \n",
       "7                                                 105                NaN   \n",
       "8                                               24753                NaN   \n",
       "9                                                4839                NaN   \n",
       "10                                              16809                NaN   \n",
       "11                                              12067                NaN   \n",
       "12                                               3273                NaN   \n",
       "13                                              15460                NaN   \n",
       "14                                              10936                NaN   \n",
       "15                                             115593                NaN   \n",
       "16                                              84579                NaN   \n",
       "17                                               1106                NaN   \n",
       "18                                                  0                NaN   \n",
       "19                                              19372                NaN   \n",
       "20                                             255722                NaN   \n",
       "21                                               2576                NaN   \n",
       "22                                               2209                NaN   \n",
       "23                                                313                NaN   \n",
       "24                                               1226                NaN   \n",
       "25                                              29504                NaN   \n",
       "26                                               4787                NaN   \n",
       "27                                              13577                NaN   \n",
       "28                                              21154                NaN   \n",
       "29                                                649                NaN   \n",
       "30                                              46120                NaN   \n",
       "31                                              27052                NaN   \n",
       "32                                               4858                NaN   \n",
       "33                                               9089                NaN   \n",
       "34                                              46385                NaN   \n",
       "35                                              27439                NaN   \n",
       "36                           As of 5 October 2020[39]                NaN   \n",
       "37  Notes ^ Inclusive of foreign nationals ^ The M...                NaN   \n",
       "\n",
       "                                                             \n",
       "   Unnamed: 6_level_1 Unnamed: 7_level_1 Unnamed: 8_level_1  \n",
       "   Unnamed: 6_level_2 Unnamed: 7_level_2 Unnamed: 8_level_2  \n",
       "0                 NaN                NaN                NaN  \n",
       "1                 NaN                NaN                NaN  \n",
       "2                 NaN                NaN                NaN  \n",
       "3                 NaN                NaN                NaN  \n",
       "4                 NaN                NaN                NaN  \n",
       "5                 NaN                NaN                NaN  \n",
       "6                 NaN                NaN                NaN  \n",
       "7                 NaN                NaN                NaN  \n",
       "8                 NaN                NaN                NaN  \n",
       "9                 NaN                NaN                NaN  \n",
       "10                NaN                NaN                NaN  \n",
       "11                NaN                NaN                NaN  \n",
       "12                NaN                NaN                NaN  \n",
       "13                NaN                NaN                NaN  \n",
       "14                NaN                NaN                NaN  \n",
       "15                NaN                NaN                NaN  \n",
       "16                NaN                NaN                NaN  \n",
       "17                NaN                NaN                NaN  \n",
       "18                NaN                NaN                NaN  \n",
       "19                NaN                NaN                NaN  \n",
       "20                NaN                NaN                NaN  \n",
       "21                NaN                NaN                NaN  \n",
       "22                NaN                NaN                NaN  \n",
       "23                NaN                NaN                NaN  \n",
       "24                NaN                NaN                NaN  \n",
       "25                NaN                NaN                NaN  \n",
       "26                NaN                NaN                NaN  \n",
       "27                NaN                NaN                NaN  \n",
       "28                NaN                NaN                NaN  \n",
       "29                NaN                NaN                NaN  \n",
       "30                NaN                NaN                NaN  \n",
       "31                NaN                NaN                NaN  \n",
       "32                NaN                NaN                NaN  \n",
       "33                NaN                NaN                NaN  \n",
       "34                NaN                NaN                NaN  \n",
       "35                NaN                NaN                NaN  \n",
       "36                NaN                NaN                NaN  \n",
       "37                NaN                NaN                NaN  "
      ]
     },
     "execution_count": 8,
     "metadata": {},
     "output_type": "execute_result"
    }
   ],
   "source": [
    "covid19"
   ]
  },
  {
   "cell_type": "code",
   "execution_count": 9,
   "metadata": {},
   "outputs": [],
   "source": [
    "header = list(covid19.iloc[0])\n",
    "header[0]='list'\n",
    "covid19 = covid19.iloc[0:-2,:]\n",
    "covid19.columns = header"
   ]
  },
  {
   "cell_type": "code",
   "execution_count": 10,
   "metadata": {},
   "outputs": [
    {
     "data": {
      "text/html": [
       "<div>\n",
       "<style scoped>\n",
       "    .dataframe tbody tr th:only-of-type {\n",
       "        vertical-align: middle;\n",
       "    }\n",
       "\n",
       "    .dataframe tbody tr th {\n",
       "        vertical-align: top;\n",
       "    }\n",
       "\n",
       "    .dataframe thead th {\n",
       "        text-align: right;\n",
       "    }\n",
       "</style>\n",
       "<table border=\"1\" class=\"dataframe\">\n",
       "  <thead>\n",
       "    <tr style=\"text-align: right;\">\n",
       "      <th></th>\n",
       "      <th>list</th>\n",
       "      <th>3884</th>\n",
       "      <th>53</th>\n",
       "      <th>3649</th>\n",
       "      <th>182</th>\n",
       "      <th>NaN</th>\n",
       "      <th>NaN</th>\n",
       "      <th>NaN</th>\n",
       "      <th>NaN</th>\n",
       "    </tr>\n",
       "  </thead>\n",
       "  <tbody>\n",
       "    <tr>\n",
       "      <th>0</th>\n",
       "      <td>Andaman and Nicobar Islands</td>\n",
       "      <td>3884</td>\n",
       "      <td>53</td>\n",
       "      <td>3649</td>\n",
       "      <td>182</td>\n",
       "      <td>NaN</td>\n",
       "      <td>NaN</td>\n",
       "      <td>NaN</td>\n",
       "      <td>NaN</td>\n",
       "    </tr>\n",
       "    <tr>\n",
       "      <th>1</th>\n",
       "      <td>Andhra Pradesh</td>\n",
       "      <td>719256</td>\n",
       "      <td>5981</td>\n",
       "      <td>658875</td>\n",
       "      <td>54400</td>\n",
       "      <td>NaN</td>\n",
       "      <td>NaN</td>\n",
       "      <td>NaN</td>\n",
       "      <td>NaN</td>\n",
       "    </tr>\n",
       "    <tr>\n",
       "      <th>2</th>\n",
       "      <td>Arunachal Pradesh</td>\n",
       "      <td>10548</td>\n",
       "      <td>18</td>\n",
       "      <td>7577</td>\n",
       "      <td>2953</td>\n",
       "      <td>NaN</td>\n",
       "      <td>NaN</td>\n",
       "      <td>NaN</td>\n",
       "      <td>NaN</td>\n",
       "    </tr>\n",
       "    <tr>\n",
       "      <th>3</th>\n",
       "      <td>Assam</td>\n",
       "      <td>186,200[b]</td>\n",
       "      <td>749</td>\n",
       "      <td>152127</td>\n",
       "      <td>33324</td>\n",
       "      <td>NaN</td>\n",
       "      <td>NaN</td>\n",
       "      <td>NaN</td>\n",
       "      <td>NaN</td>\n",
       "    </tr>\n",
       "    <tr>\n",
       "      <th>4</th>\n",
       "      <td>Bihar</td>\n",
       "      <td>188168</td>\n",
       "      <td>915</td>\n",
       "      <td>175458</td>\n",
       "      <td>11795</td>\n",
       "      <td>NaN</td>\n",
       "      <td>NaN</td>\n",
       "      <td>NaN</td>\n",
       "      <td>NaN</td>\n",
       "    </tr>\n",
       "    <tr>\n",
       "      <th>5</th>\n",
       "      <td>Chandigarh</td>\n",
       "      <td>12445</td>\n",
       "      <td>174</td>\n",
       "      <td>10598</td>\n",
       "      <td>1673</td>\n",
       "      <td>NaN</td>\n",
       "      <td>NaN</td>\n",
       "      <td>NaN</td>\n",
       "      <td>NaN</td>\n",
       "    </tr>\n",
       "    <tr>\n",
       "      <th>6</th>\n",
       "      <td>Chhattisgarh</td>\n",
       "      <td>123324</td>\n",
       "      <td>1045</td>\n",
       "      <td>93731</td>\n",
       "      <td>28548</td>\n",
       "      <td>NaN</td>\n",
       "      <td>NaN</td>\n",
       "      <td>NaN</td>\n",
       "      <td>NaN</td>\n",
       "    </tr>\n",
       "    <tr>\n",
       "      <th>7</th>\n",
       "      <td>Dadra and Nagar Haveli and Daman and Diu</td>\n",
       "      <td>3087</td>\n",
       "      <td>2</td>\n",
       "      <td>2980</td>\n",
       "      <td>105</td>\n",
       "      <td>NaN</td>\n",
       "      <td>NaN</td>\n",
       "      <td>NaN</td>\n",
       "      <td>NaN</td>\n",
       "    </tr>\n",
       "    <tr>\n",
       "      <th>8</th>\n",
       "      <td>Delhi</td>\n",
       "      <td>290613</td>\n",
       "      <td>5510</td>\n",
       "      <td>260350</td>\n",
       "      <td>24753</td>\n",
       "      <td>NaN</td>\n",
       "      <td>NaN</td>\n",
       "      <td>NaN</td>\n",
       "      <td>NaN</td>\n",
       "    </tr>\n",
       "    <tr>\n",
       "      <th>9</th>\n",
       "      <td>Goa</td>\n",
       "      <td>35328</td>\n",
       "      <td>456</td>\n",
       "      <td>30033</td>\n",
       "      <td>4839</td>\n",
       "      <td>NaN</td>\n",
       "      <td>NaN</td>\n",
       "      <td>NaN</td>\n",
       "      <td>NaN</td>\n",
       "    </tr>\n",
       "    <tr>\n",
       "      <th>10</th>\n",
       "      <td>Gujarat</td>\n",
       "      <td>142538</td>\n",
       "      <td>3496</td>\n",
       "      <td>122233</td>\n",
       "      <td>16809</td>\n",
       "      <td>NaN</td>\n",
       "      <td>NaN</td>\n",
       "      <td>NaN</td>\n",
       "      <td>NaN</td>\n",
       "    </tr>\n",
       "    <tr>\n",
       "      <th>11</th>\n",
       "      <td>Haryana</td>\n",
       "      <td>133878</td>\n",
       "      <td>1470</td>\n",
       "      <td>120341</td>\n",
       "      <td>12067</td>\n",
       "      <td>NaN</td>\n",
       "      <td>NaN</td>\n",
       "      <td>NaN</td>\n",
       "      <td>NaN</td>\n",
       "    </tr>\n",
       "    <tr>\n",
       "      <th>12</th>\n",
       "      <td>Himachal Pradesh</td>\n",
       "      <td>15851</td>\n",
       "      <td>217</td>\n",
       "      <td>12361</td>\n",
       "      <td>3273</td>\n",
       "      <td>NaN</td>\n",
       "      <td>NaN</td>\n",
       "      <td>NaN</td>\n",
       "      <td>NaN</td>\n",
       "    </tr>\n",
       "    <tr>\n",
       "      <th>13</th>\n",
       "      <td>Jammu and Kashmir</td>\n",
       "      <td>79106</td>\n",
       "      <td>1242</td>\n",
       "      <td>62404</td>\n",
       "      <td>15460</td>\n",
       "      <td>NaN</td>\n",
       "      <td>NaN</td>\n",
       "      <td>NaN</td>\n",
       "      <td>NaN</td>\n",
       "    </tr>\n",
       "    <tr>\n",
       "      <th>14</th>\n",
       "      <td>Jharkhand</td>\n",
       "      <td>87210</td>\n",
       "      <td>743</td>\n",
       "      <td>75531</td>\n",
       "      <td>10936</td>\n",
       "      <td>NaN</td>\n",
       "      <td>NaN</td>\n",
       "      <td>NaN</td>\n",
       "      <td>NaN</td>\n",
       "    </tr>\n",
       "    <tr>\n",
       "      <th>15</th>\n",
       "      <td>Karnataka</td>\n",
       "      <td>640661</td>\n",
       "      <td>9286</td>\n",
       "      <td>515782</td>\n",
       "      <td>115593</td>\n",
       "      <td>NaN</td>\n",
       "      <td>NaN</td>\n",
       "      <td>NaN</td>\n",
       "      <td>NaN</td>\n",
       "    </tr>\n",
       "    <tr>\n",
       "      <th>16</th>\n",
       "      <td>Kerala</td>\n",
       "      <td>229886</td>\n",
       "      <td>836[c]</td>\n",
       "      <td>144471</td>\n",
       "      <td>84579</td>\n",
       "      <td>NaN</td>\n",
       "      <td>NaN</td>\n",
       "      <td>NaN</td>\n",
       "      <td>NaN</td>\n",
       "    </tr>\n",
       "    <tr>\n",
       "      <th>17</th>\n",
       "      <td>Ladakh</td>\n",
       "      <td>4521</td>\n",
       "      <td>61</td>\n",
       "      <td>3354</td>\n",
       "      <td>1106</td>\n",
       "      <td>NaN</td>\n",
       "      <td>NaN</td>\n",
       "      <td>NaN</td>\n",
       "      <td>NaN</td>\n",
       "    </tr>\n",
       "    <tr>\n",
       "      <th>18</th>\n",
       "      <td>Lakshadweep</td>\n",
       "      <td>0</td>\n",
       "      <td>0</td>\n",
       "      <td>0</td>\n",
       "      <td>0</td>\n",
       "      <td>NaN</td>\n",
       "      <td>NaN</td>\n",
       "      <td>NaN</td>\n",
       "      <td>NaN</td>\n",
       "    </tr>\n",
       "    <tr>\n",
       "      <th>19</th>\n",
       "      <td>Madhya Pradesh</td>\n",
       "      <td>135638</td>\n",
       "      <td>2434</td>\n",
       "      <td>113832</td>\n",
       "      <td>19372</td>\n",
       "      <td>NaN</td>\n",
       "      <td>NaN</td>\n",
       "      <td>NaN</td>\n",
       "      <td>NaN</td>\n",
       "    </tr>\n",
       "    <tr>\n",
       "      <th>20</th>\n",
       "      <td>Maharashtra</td>\n",
       "      <td>1443409</td>\n",
       "      <td>38084</td>\n",
       "      <td>1149603</td>\n",
       "      <td>255722</td>\n",
       "      <td>NaN</td>\n",
       "      <td>NaN</td>\n",
       "      <td>NaN</td>\n",
       "      <td>NaN</td>\n",
       "    </tr>\n",
       "    <tr>\n",
       "      <th>21</th>\n",
       "      <td>Manipur</td>\n",
       "      <td>11855</td>\n",
       "      <td>74</td>\n",
       "      <td>9205</td>\n",
       "      <td>2576</td>\n",
       "      <td>NaN</td>\n",
       "      <td>NaN</td>\n",
       "      <td>NaN</td>\n",
       "      <td>NaN</td>\n",
       "    </tr>\n",
       "    <tr>\n",
       "      <th>22</th>\n",
       "      <td>Meghalaya</td>\n",
       "      <td>6656</td>\n",
       "      <td>54</td>\n",
       "      <td>4393</td>\n",
       "      <td>2209</td>\n",
       "      <td>NaN</td>\n",
       "      <td>NaN</td>\n",
       "      <td>NaN</td>\n",
       "      <td>NaN</td>\n",
       "    </tr>\n",
       "    <tr>\n",
       "      <th>23</th>\n",
       "      <td>Mizoram</td>\n",
       "      <td>2120</td>\n",
       "      <td>0</td>\n",
       "      <td>1807</td>\n",
       "      <td>313</td>\n",
       "      <td>NaN</td>\n",
       "      <td>NaN</td>\n",
       "      <td>NaN</td>\n",
       "      <td>NaN</td>\n",
       "    </tr>\n",
       "    <tr>\n",
       "      <th>24</th>\n",
       "      <td>Nagaland</td>\n",
       "      <td>6552</td>\n",
       "      <td>17</td>\n",
       "      <td>5309</td>\n",
       "      <td>1226</td>\n",
       "      <td>NaN</td>\n",
       "      <td>NaN</td>\n",
       "      <td>NaN</td>\n",
       "      <td>NaN</td>\n",
       "    </tr>\n",
       "    <tr>\n",
       "      <th>25</th>\n",
       "      <td>Odisha</td>\n",
       "      <td>232713</td>\n",
       "      <td>907</td>\n",
       "      <td>202302</td>\n",
       "      <td>29504</td>\n",
       "      <td>NaN</td>\n",
       "      <td>NaN</td>\n",
       "      <td>NaN</td>\n",
       "      <td>NaN</td>\n",
       "    </tr>\n",
       "    <tr>\n",
       "      <th>26</th>\n",
       "      <td>Puducherry</td>\n",
       "      <td>29089</td>\n",
       "      <td>539</td>\n",
       "      <td>23763</td>\n",
       "      <td>4787</td>\n",
       "      <td>NaN</td>\n",
       "      <td>NaN</td>\n",
       "      <td>NaN</td>\n",
       "      <td>NaN</td>\n",
       "    </tr>\n",
       "    <tr>\n",
       "      <th>27</th>\n",
       "      <td>Punjab</td>\n",
       "      <td>118157</td>\n",
       "      <td>3603</td>\n",
       "      <td>100977</td>\n",
       "      <td>13577</td>\n",
       "      <td>NaN</td>\n",
       "      <td>NaN</td>\n",
       "      <td>NaN</td>\n",
       "      <td>NaN</td>\n",
       "    </tr>\n",
       "    <tr>\n",
       "      <th>28</th>\n",
       "      <td>Rajasthan</td>\n",
       "      <td>144030</td>\n",
       "      <td>1545</td>\n",
       "      <td>121331</td>\n",
       "      <td>21154</td>\n",
       "      <td>NaN</td>\n",
       "      <td>NaN</td>\n",
       "      <td>NaN</td>\n",
       "      <td>NaN</td>\n",
       "    </tr>\n",
       "    <tr>\n",
       "      <th>29</th>\n",
       "      <td>Sikkim</td>\n",
       "      <td>3174</td>\n",
       "      <td>45</td>\n",
       "      <td>2480</td>\n",
       "      <td>649</td>\n",
       "      <td>NaN</td>\n",
       "      <td>NaN</td>\n",
       "      <td>NaN</td>\n",
       "      <td>NaN</td>\n",
       "    </tr>\n",
       "    <tr>\n",
       "      <th>30</th>\n",
       "      <td>Tamil Nadu</td>\n",
       "      <td>619996</td>\n",
       "      <td>9784</td>\n",
       "      <td>564092</td>\n",
       "      <td>46120</td>\n",
       "      <td>NaN</td>\n",
       "      <td>NaN</td>\n",
       "      <td>NaN</td>\n",
       "      <td>NaN</td>\n",
       "    </tr>\n",
       "    <tr>\n",
       "      <th>31</th>\n",
       "      <td>Telangana</td>\n",
       "      <td>200611</td>\n",
       "      <td>1171</td>\n",
       "      <td>172388</td>\n",
       "      <td>27052</td>\n",
       "      <td>NaN</td>\n",
       "      <td>NaN</td>\n",
       "      <td>NaN</td>\n",
       "      <td>NaN</td>\n",
       "    </tr>\n",
       "    <tr>\n",
       "      <th>32</th>\n",
       "      <td>Tripura</td>\n",
       "      <td>27033</td>\n",
       "      <td>299</td>\n",
       "      <td>21876</td>\n",
       "      <td>4858</td>\n",
       "      <td>NaN</td>\n",
       "      <td>NaN</td>\n",
       "      <td>NaN</td>\n",
       "      <td>NaN</td>\n",
       "    </tr>\n",
       "    <tr>\n",
       "      <th>33</th>\n",
       "      <td>Uttarakhand</td>\n",
       "      <td>51481</td>\n",
       "      <td>652</td>\n",
       "      <td>41740</td>\n",
       "      <td>9089</td>\n",
       "      <td>NaN</td>\n",
       "      <td>NaN</td>\n",
       "      <td>NaN</td>\n",
       "      <td>NaN</td>\n",
       "    </tr>\n",
       "    <tr>\n",
       "      <th>34</th>\n",
       "      <td>Uttar Pradesh</td>\n",
       "      <td>414466</td>\n",
       "      <td>6029</td>\n",
       "      <td>362052</td>\n",
       "      <td>46385</td>\n",
       "      <td>NaN</td>\n",
       "      <td>NaN</td>\n",
       "      <td>NaN</td>\n",
       "      <td>NaN</td>\n",
       "    </tr>\n",
       "    <tr>\n",
       "      <th>35</th>\n",
       "      <td>West Bengal</td>\n",
       "      <td>270331</td>\n",
       "      <td>5194</td>\n",
       "      <td>237698</td>\n",
       "      <td>27439</td>\n",
       "      <td>NaN</td>\n",
       "      <td>NaN</td>\n",
       "      <td>NaN</td>\n",
       "      <td>NaN</td>\n",
       "    </tr>\n",
       "  </tbody>\n",
       "</table>\n",
       "</div>"
      ],
      "text/plain": [
       "                                        list        3884      53     3649  \\\n",
       "0                Andaman and Nicobar Islands        3884      53     3649   \n",
       "1                             Andhra Pradesh      719256    5981   658875   \n",
       "2                          Arunachal Pradesh       10548      18     7577   \n",
       "3                                      Assam  186,200[b]     749   152127   \n",
       "4                                      Bihar      188168     915   175458   \n",
       "5                                 Chandigarh       12445     174    10598   \n",
       "6                               Chhattisgarh      123324    1045    93731   \n",
       "7   Dadra and Nagar Haveli and Daman and Diu        3087       2     2980   \n",
       "8                                      Delhi      290613    5510   260350   \n",
       "9                                        Goa       35328     456    30033   \n",
       "10                                   Gujarat      142538    3496   122233   \n",
       "11                                   Haryana      133878    1470   120341   \n",
       "12                          Himachal Pradesh       15851     217    12361   \n",
       "13                         Jammu and Kashmir       79106    1242    62404   \n",
       "14                                 Jharkhand       87210     743    75531   \n",
       "15                                 Karnataka      640661    9286   515782   \n",
       "16                                    Kerala      229886  836[c]   144471   \n",
       "17                                    Ladakh        4521      61     3354   \n",
       "18                               Lakshadweep           0       0        0   \n",
       "19                            Madhya Pradesh      135638    2434   113832   \n",
       "20                               Maharashtra     1443409   38084  1149603   \n",
       "21                                   Manipur       11855      74     9205   \n",
       "22                                 Meghalaya        6656      54     4393   \n",
       "23                                   Mizoram        2120       0     1807   \n",
       "24                                  Nagaland        6552      17     5309   \n",
       "25                                    Odisha      232713     907   202302   \n",
       "26                                Puducherry       29089     539    23763   \n",
       "27                                    Punjab      118157    3603   100977   \n",
       "28                                 Rajasthan      144030    1545   121331   \n",
       "29                                    Sikkim        3174      45     2480   \n",
       "30                                Tamil Nadu      619996    9784   564092   \n",
       "31                                 Telangana      200611    1171   172388   \n",
       "32                                   Tripura       27033     299    21876   \n",
       "33                               Uttarakhand       51481     652    41740   \n",
       "34                             Uttar Pradesh      414466    6029   362052   \n",
       "35                               West Bengal      270331    5194   237698   \n",
       "\n",
       "       182  NaN  NaN  NaN  NaN  \n",
       "0      182  NaN  NaN  NaN  NaN  \n",
       "1    54400  NaN  NaN  NaN  NaN  \n",
       "2     2953  NaN  NaN  NaN  NaN  \n",
       "3    33324  NaN  NaN  NaN  NaN  \n",
       "4    11795  NaN  NaN  NaN  NaN  \n",
       "5     1673  NaN  NaN  NaN  NaN  \n",
       "6    28548  NaN  NaN  NaN  NaN  \n",
       "7      105  NaN  NaN  NaN  NaN  \n",
       "8    24753  NaN  NaN  NaN  NaN  \n",
       "9     4839  NaN  NaN  NaN  NaN  \n",
       "10   16809  NaN  NaN  NaN  NaN  \n",
       "11   12067  NaN  NaN  NaN  NaN  \n",
       "12    3273  NaN  NaN  NaN  NaN  \n",
       "13   15460  NaN  NaN  NaN  NaN  \n",
       "14   10936  NaN  NaN  NaN  NaN  \n",
       "15  115593  NaN  NaN  NaN  NaN  \n",
       "16   84579  NaN  NaN  NaN  NaN  \n",
       "17    1106  NaN  NaN  NaN  NaN  \n",
       "18       0  NaN  NaN  NaN  NaN  \n",
       "19   19372  NaN  NaN  NaN  NaN  \n",
       "20  255722  NaN  NaN  NaN  NaN  \n",
       "21    2576  NaN  NaN  NaN  NaN  \n",
       "22    2209  NaN  NaN  NaN  NaN  \n",
       "23     313  NaN  NaN  NaN  NaN  \n",
       "24    1226  NaN  NaN  NaN  NaN  \n",
       "25   29504  NaN  NaN  NaN  NaN  \n",
       "26    4787  NaN  NaN  NaN  NaN  \n",
       "27   13577  NaN  NaN  NaN  NaN  \n",
       "28   21154  NaN  NaN  NaN  NaN  \n",
       "29     649  NaN  NaN  NaN  NaN  \n",
       "30   46120  NaN  NaN  NaN  NaN  \n",
       "31   27052  NaN  NaN  NaN  NaN  \n",
       "32    4858  NaN  NaN  NaN  NaN  \n",
       "33    9089  NaN  NaN  NaN  NaN  \n",
       "34   46385  NaN  NaN  NaN  NaN  \n",
       "35   27439  NaN  NaN  NaN  NaN  "
      ]
     },
     "execution_count": 10,
     "metadata": {},
     "output_type": "execute_result"
    }
   ],
   "source": [
    "covid19"
   ]
  },
  {
   "cell_type": "code",
   "execution_count": 11,
   "metadata": {},
   "outputs": [],
   "source": [
    "# Renaming the columns\n",
    "covid19.columns = ['state','cases','deaths', 'recovered','active','n','n','n','n']"
   ]
  },
  {
   "cell_type": "code",
   "execution_count": 12,
   "metadata": {},
   "outputs": [
    {
     "data": {
      "text/html": [
       "<div>\n",
       "<style scoped>\n",
       "    .dataframe tbody tr th:only-of-type {\n",
       "        vertical-align: middle;\n",
       "    }\n",
       "\n",
       "    .dataframe tbody tr th {\n",
       "        vertical-align: top;\n",
       "    }\n",
       "\n",
       "    .dataframe thead th {\n",
       "        text-align: right;\n",
       "    }\n",
       "</style>\n",
       "<table border=\"1\" class=\"dataframe\">\n",
       "  <thead>\n",
       "    <tr style=\"text-align: right;\">\n",
       "      <th></th>\n",
       "      <th>state</th>\n",
       "      <th>cases</th>\n",
       "      <th>deaths</th>\n",
       "      <th>recovered</th>\n",
       "      <th>active</th>\n",
       "      <th>n</th>\n",
       "      <th>n</th>\n",
       "      <th>n</th>\n",
       "      <th>n</th>\n",
       "    </tr>\n",
       "  </thead>\n",
       "  <tbody>\n",
       "    <tr>\n",
       "      <th>0</th>\n",
       "      <td>Andaman and Nicobar Islands</td>\n",
       "      <td>3884</td>\n",
       "      <td>53</td>\n",
       "      <td>3649</td>\n",
       "      <td>182</td>\n",
       "      <td>NaN</td>\n",
       "      <td>NaN</td>\n",
       "      <td>NaN</td>\n",
       "      <td>NaN</td>\n",
       "    </tr>\n",
       "    <tr>\n",
       "      <th>1</th>\n",
       "      <td>Andhra Pradesh</td>\n",
       "      <td>719256</td>\n",
       "      <td>5981</td>\n",
       "      <td>658875</td>\n",
       "      <td>54400</td>\n",
       "      <td>NaN</td>\n",
       "      <td>NaN</td>\n",
       "      <td>NaN</td>\n",
       "      <td>NaN</td>\n",
       "    </tr>\n",
       "    <tr>\n",
       "      <th>2</th>\n",
       "      <td>Arunachal Pradesh</td>\n",
       "      <td>10548</td>\n",
       "      <td>18</td>\n",
       "      <td>7577</td>\n",
       "      <td>2953</td>\n",
       "      <td>NaN</td>\n",
       "      <td>NaN</td>\n",
       "      <td>NaN</td>\n",
       "      <td>NaN</td>\n",
       "    </tr>\n",
       "    <tr>\n",
       "      <th>3</th>\n",
       "      <td>Assam</td>\n",
       "      <td>186,200[b]</td>\n",
       "      <td>749</td>\n",
       "      <td>152127</td>\n",
       "      <td>33324</td>\n",
       "      <td>NaN</td>\n",
       "      <td>NaN</td>\n",
       "      <td>NaN</td>\n",
       "      <td>NaN</td>\n",
       "    </tr>\n",
       "    <tr>\n",
       "      <th>4</th>\n",
       "      <td>Bihar</td>\n",
       "      <td>188168</td>\n",
       "      <td>915</td>\n",
       "      <td>175458</td>\n",
       "      <td>11795</td>\n",
       "      <td>NaN</td>\n",
       "      <td>NaN</td>\n",
       "      <td>NaN</td>\n",
       "      <td>NaN</td>\n",
       "    </tr>\n",
       "    <tr>\n",
       "      <th>5</th>\n",
       "      <td>Chandigarh</td>\n",
       "      <td>12445</td>\n",
       "      <td>174</td>\n",
       "      <td>10598</td>\n",
       "      <td>1673</td>\n",
       "      <td>NaN</td>\n",
       "      <td>NaN</td>\n",
       "      <td>NaN</td>\n",
       "      <td>NaN</td>\n",
       "    </tr>\n",
       "    <tr>\n",
       "      <th>6</th>\n",
       "      <td>Chhattisgarh</td>\n",
       "      <td>123324</td>\n",
       "      <td>1045</td>\n",
       "      <td>93731</td>\n",
       "      <td>28548</td>\n",
       "      <td>NaN</td>\n",
       "      <td>NaN</td>\n",
       "      <td>NaN</td>\n",
       "      <td>NaN</td>\n",
       "    </tr>\n",
       "    <tr>\n",
       "      <th>7</th>\n",
       "      <td>Dadra and Nagar Haveli and Daman and Diu</td>\n",
       "      <td>3087</td>\n",
       "      <td>2</td>\n",
       "      <td>2980</td>\n",
       "      <td>105</td>\n",
       "      <td>NaN</td>\n",
       "      <td>NaN</td>\n",
       "      <td>NaN</td>\n",
       "      <td>NaN</td>\n",
       "    </tr>\n",
       "    <tr>\n",
       "      <th>8</th>\n",
       "      <td>Delhi</td>\n",
       "      <td>290613</td>\n",
       "      <td>5510</td>\n",
       "      <td>260350</td>\n",
       "      <td>24753</td>\n",
       "      <td>NaN</td>\n",
       "      <td>NaN</td>\n",
       "      <td>NaN</td>\n",
       "      <td>NaN</td>\n",
       "    </tr>\n",
       "    <tr>\n",
       "      <th>9</th>\n",
       "      <td>Goa</td>\n",
       "      <td>35328</td>\n",
       "      <td>456</td>\n",
       "      <td>30033</td>\n",
       "      <td>4839</td>\n",
       "      <td>NaN</td>\n",
       "      <td>NaN</td>\n",
       "      <td>NaN</td>\n",
       "      <td>NaN</td>\n",
       "    </tr>\n",
       "    <tr>\n",
       "      <th>10</th>\n",
       "      <td>Gujarat</td>\n",
       "      <td>142538</td>\n",
       "      <td>3496</td>\n",
       "      <td>122233</td>\n",
       "      <td>16809</td>\n",
       "      <td>NaN</td>\n",
       "      <td>NaN</td>\n",
       "      <td>NaN</td>\n",
       "      <td>NaN</td>\n",
       "    </tr>\n",
       "    <tr>\n",
       "      <th>11</th>\n",
       "      <td>Haryana</td>\n",
       "      <td>133878</td>\n",
       "      <td>1470</td>\n",
       "      <td>120341</td>\n",
       "      <td>12067</td>\n",
       "      <td>NaN</td>\n",
       "      <td>NaN</td>\n",
       "      <td>NaN</td>\n",
       "      <td>NaN</td>\n",
       "    </tr>\n",
       "    <tr>\n",
       "      <th>12</th>\n",
       "      <td>Himachal Pradesh</td>\n",
       "      <td>15851</td>\n",
       "      <td>217</td>\n",
       "      <td>12361</td>\n",
       "      <td>3273</td>\n",
       "      <td>NaN</td>\n",
       "      <td>NaN</td>\n",
       "      <td>NaN</td>\n",
       "      <td>NaN</td>\n",
       "    </tr>\n",
       "    <tr>\n",
       "      <th>13</th>\n",
       "      <td>Jammu and Kashmir</td>\n",
       "      <td>79106</td>\n",
       "      <td>1242</td>\n",
       "      <td>62404</td>\n",
       "      <td>15460</td>\n",
       "      <td>NaN</td>\n",
       "      <td>NaN</td>\n",
       "      <td>NaN</td>\n",
       "      <td>NaN</td>\n",
       "    </tr>\n",
       "    <tr>\n",
       "      <th>14</th>\n",
       "      <td>Jharkhand</td>\n",
       "      <td>87210</td>\n",
       "      <td>743</td>\n",
       "      <td>75531</td>\n",
       "      <td>10936</td>\n",
       "      <td>NaN</td>\n",
       "      <td>NaN</td>\n",
       "      <td>NaN</td>\n",
       "      <td>NaN</td>\n",
       "    </tr>\n",
       "    <tr>\n",
       "      <th>15</th>\n",
       "      <td>Karnataka</td>\n",
       "      <td>640661</td>\n",
       "      <td>9286</td>\n",
       "      <td>515782</td>\n",
       "      <td>115593</td>\n",
       "      <td>NaN</td>\n",
       "      <td>NaN</td>\n",
       "      <td>NaN</td>\n",
       "      <td>NaN</td>\n",
       "    </tr>\n",
       "    <tr>\n",
       "      <th>16</th>\n",
       "      <td>Kerala</td>\n",
       "      <td>229886</td>\n",
       "      <td>836[c]</td>\n",
       "      <td>144471</td>\n",
       "      <td>84579</td>\n",
       "      <td>NaN</td>\n",
       "      <td>NaN</td>\n",
       "      <td>NaN</td>\n",
       "      <td>NaN</td>\n",
       "    </tr>\n",
       "    <tr>\n",
       "      <th>17</th>\n",
       "      <td>Ladakh</td>\n",
       "      <td>4521</td>\n",
       "      <td>61</td>\n",
       "      <td>3354</td>\n",
       "      <td>1106</td>\n",
       "      <td>NaN</td>\n",
       "      <td>NaN</td>\n",
       "      <td>NaN</td>\n",
       "      <td>NaN</td>\n",
       "    </tr>\n",
       "    <tr>\n",
       "      <th>18</th>\n",
       "      <td>Lakshadweep</td>\n",
       "      <td>0</td>\n",
       "      <td>0</td>\n",
       "      <td>0</td>\n",
       "      <td>0</td>\n",
       "      <td>NaN</td>\n",
       "      <td>NaN</td>\n",
       "      <td>NaN</td>\n",
       "      <td>NaN</td>\n",
       "    </tr>\n",
       "    <tr>\n",
       "      <th>19</th>\n",
       "      <td>Madhya Pradesh</td>\n",
       "      <td>135638</td>\n",
       "      <td>2434</td>\n",
       "      <td>113832</td>\n",
       "      <td>19372</td>\n",
       "      <td>NaN</td>\n",
       "      <td>NaN</td>\n",
       "      <td>NaN</td>\n",
       "      <td>NaN</td>\n",
       "    </tr>\n",
       "    <tr>\n",
       "      <th>20</th>\n",
       "      <td>Maharashtra</td>\n",
       "      <td>1443409</td>\n",
       "      <td>38084</td>\n",
       "      <td>1149603</td>\n",
       "      <td>255722</td>\n",
       "      <td>NaN</td>\n",
       "      <td>NaN</td>\n",
       "      <td>NaN</td>\n",
       "      <td>NaN</td>\n",
       "    </tr>\n",
       "    <tr>\n",
       "      <th>21</th>\n",
       "      <td>Manipur</td>\n",
       "      <td>11855</td>\n",
       "      <td>74</td>\n",
       "      <td>9205</td>\n",
       "      <td>2576</td>\n",
       "      <td>NaN</td>\n",
       "      <td>NaN</td>\n",
       "      <td>NaN</td>\n",
       "      <td>NaN</td>\n",
       "    </tr>\n",
       "    <tr>\n",
       "      <th>22</th>\n",
       "      <td>Meghalaya</td>\n",
       "      <td>6656</td>\n",
       "      <td>54</td>\n",
       "      <td>4393</td>\n",
       "      <td>2209</td>\n",
       "      <td>NaN</td>\n",
       "      <td>NaN</td>\n",
       "      <td>NaN</td>\n",
       "      <td>NaN</td>\n",
       "    </tr>\n",
       "    <tr>\n",
       "      <th>23</th>\n",
       "      <td>Mizoram</td>\n",
       "      <td>2120</td>\n",
       "      <td>0</td>\n",
       "      <td>1807</td>\n",
       "      <td>313</td>\n",
       "      <td>NaN</td>\n",
       "      <td>NaN</td>\n",
       "      <td>NaN</td>\n",
       "      <td>NaN</td>\n",
       "    </tr>\n",
       "    <tr>\n",
       "      <th>24</th>\n",
       "      <td>Nagaland</td>\n",
       "      <td>6552</td>\n",
       "      <td>17</td>\n",
       "      <td>5309</td>\n",
       "      <td>1226</td>\n",
       "      <td>NaN</td>\n",
       "      <td>NaN</td>\n",
       "      <td>NaN</td>\n",
       "      <td>NaN</td>\n",
       "    </tr>\n",
       "    <tr>\n",
       "      <th>25</th>\n",
       "      <td>Odisha</td>\n",
       "      <td>232713</td>\n",
       "      <td>907</td>\n",
       "      <td>202302</td>\n",
       "      <td>29504</td>\n",
       "      <td>NaN</td>\n",
       "      <td>NaN</td>\n",
       "      <td>NaN</td>\n",
       "      <td>NaN</td>\n",
       "    </tr>\n",
       "    <tr>\n",
       "      <th>26</th>\n",
       "      <td>Puducherry</td>\n",
       "      <td>29089</td>\n",
       "      <td>539</td>\n",
       "      <td>23763</td>\n",
       "      <td>4787</td>\n",
       "      <td>NaN</td>\n",
       "      <td>NaN</td>\n",
       "      <td>NaN</td>\n",
       "      <td>NaN</td>\n",
       "    </tr>\n",
       "    <tr>\n",
       "      <th>27</th>\n",
       "      <td>Punjab</td>\n",
       "      <td>118157</td>\n",
       "      <td>3603</td>\n",
       "      <td>100977</td>\n",
       "      <td>13577</td>\n",
       "      <td>NaN</td>\n",
       "      <td>NaN</td>\n",
       "      <td>NaN</td>\n",
       "      <td>NaN</td>\n",
       "    </tr>\n",
       "    <tr>\n",
       "      <th>28</th>\n",
       "      <td>Rajasthan</td>\n",
       "      <td>144030</td>\n",
       "      <td>1545</td>\n",
       "      <td>121331</td>\n",
       "      <td>21154</td>\n",
       "      <td>NaN</td>\n",
       "      <td>NaN</td>\n",
       "      <td>NaN</td>\n",
       "      <td>NaN</td>\n",
       "    </tr>\n",
       "    <tr>\n",
       "      <th>29</th>\n",
       "      <td>Sikkim</td>\n",
       "      <td>3174</td>\n",
       "      <td>45</td>\n",
       "      <td>2480</td>\n",
       "      <td>649</td>\n",
       "      <td>NaN</td>\n",
       "      <td>NaN</td>\n",
       "      <td>NaN</td>\n",
       "      <td>NaN</td>\n",
       "    </tr>\n",
       "    <tr>\n",
       "      <th>30</th>\n",
       "      <td>Tamil Nadu</td>\n",
       "      <td>619996</td>\n",
       "      <td>9784</td>\n",
       "      <td>564092</td>\n",
       "      <td>46120</td>\n",
       "      <td>NaN</td>\n",
       "      <td>NaN</td>\n",
       "      <td>NaN</td>\n",
       "      <td>NaN</td>\n",
       "    </tr>\n",
       "    <tr>\n",
       "      <th>31</th>\n",
       "      <td>Telangana</td>\n",
       "      <td>200611</td>\n",
       "      <td>1171</td>\n",
       "      <td>172388</td>\n",
       "      <td>27052</td>\n",
       "      <td>NaN</td>\n",
       "      <td>NaN</td>\n",
       "      <td>NaN</td>\n",
       "      <td>NaN</td>\n",
       "    </tr>\n",
       "    <tr>\n",
       "      <th>32</th>\n",
       "      <td>Tripura</td>\n",
       "      <td>27033</td>\n",
       "      <td>299</td>\n",
       "      <td>21876</td>\n",
       "      <td>4858</td>\n",
       "      <td>NaN</td>\n",
       "      <td>NaN</td>\n",
       "      <td>NaN</td>\n",
       "      <td>NaN</td>\n",
       "    </tr>\n",
       "    <tr>\n",
       "      <th>33</th>\n",
       "      <td>Uttarakhand</td>\n",
       "      <td>51481</td>\n",
       "      <td>652</td>\n",
       "      <td>41740</td>\n",
       "      <td>9089</td>\n",
       "      <td>NaN</td>\n",
       "      <td>NaN</td>\n",
       "      <td>NaN</td>\n",
       "      <td>NaN</td>\n",
       "    </tr>\n",
       "    <tr>\n",
       "      <th>34</th>\n",
       "      <td>Uttar Pradesh</td>\n",
       "      <td>414466</td>\n",
       "      <td>6029</td>\n",
       "      <td>362052</td>\n",
       "      <td>46385</td>\n",
       "      <td>NaN</td>\n",
       "      <td>NaN</td>\n",
       "      <td>NaN</td>\n",
       "      <td>NaN</td>\n",
       "    </tr>\n",
       "    <tr>\n",
       "      <th>35</th>\n",
       "      <td>West Bengal</td>\n",
       "      <td>270331</td>\n",
       "      <td>5194</td>\n",
       "      <td>237698</td>\n",
       "      <td>27439</td>\n",
       "      <td>NaN</td>\n",
       "      <td>NaN</td>\n",
       "      <td>NaN</td>\n",
       "      <td>NaN</td>\n",
       "    </tr>\n",
       "  </tbody>\n",
       "</table>\n",
       "</div>"
      ],
      "text/plain": [
       "                                       state       cases  deaths recovered  \\\n",
       "0                Andaman and Nicobar Islands        3884      53      3649   \n",
       "1                             Andhra Pradesh      719256    5981    658875   \n",
       "2                          Arunachal Pradesh       10548      18      7577   \n",
       "3                                      Assam  186,200[b]     749    152127   \n",
       "4                                      Bihar      188168     915    175458   \n",
       "5                                 Chandigarh       12445     174     10598   \n",
       "6                               Chhattisgarh      123324    1045     93731   \n",
       "7   Dadra and Nagar Haveli and Daman and Diu        3087       2      2980   \n",
       "8                                      Delhi      290613    5510    260350   \n",
       "9                                        Goa       35328     456     30033   \n",
       "10                                   Gujarat      142538    3496    122233   \n",
       "11                                   Haryana      133878    1470    120341   \n",
       "12                          Himachal Pradesh       15851     217     12361   \n",
       "13                         Jammu and Kashmir       79106    1242     62404   \n",
       "14                                 Jharkhand       87210     743     75531   \n",
       "15                                 Karnataka      640661    9286    515782   \n",
       "16                                    Kerala      229886  836[c]    144471   \n",
       "17                                    Ladakh        4521      61      3354   \n",
       "18                               Lakshadweep           0       0         0   \n",
       "19                            Madhya Pradesh      135638    2434    113832   \n",
       "20                               Maharashtra     1443409   38084   1149603   \n",
       "21                                   Manipur       11855      74      9205   \n",
       "22                                 Meghalaya        6656      54      4393   \n",
       "23                                   Mizoram        2120       0      1807   \n",
       "24                                  Nagaland        6552      17      5309   \n",
       "25                                    Odisha      232713     907    202302   \n",
       "26                                Puducherry       29089     539     23763   \n",
       "27                                    Punjab      118157    3603    100977   \n",
       "28                                 Rajasthan      144030    1545    121331   \n",
       "29                                    Sikkim        3174      45      2480   \n",
       "30                                Tamil Nadu      619996    9784    564092   \n",
       "31                                 Telangana      200611    1171    172388   \n",
       "32                                   Tripura       27033     299     21876   \n",
       "33                               Uttarakhand       51481     652     41740   \n",
       "34                             Uttar Pradesh      414466    6029    362052   \n",
       "35                               West Bengal      270331    5194    237698   \n",
       "\n",
       "    active   n   n   n   n  \n",
       "0      182 NaN NaN NaN NaN  \n",
       "1    54400 NaN NaN NaN NaN  \n",
       "2     2953 NaN NaN NaN NaN  \n",
       "3    33324 NaN NaN NaN NaN  \n",
       "4    11795 NaN NaN NaN NaN  \n",
       "5     1673 NaN NaN NaN NaN  \n",
       "6    28548 NaN NaN NaN NaN  \n",
       "7      105 NaN NaN NaN NaN  \n",
       "8    24753 NaN NaN NaN NaN  \n",
       "9     4839 NaN NaN NaN NaN  \n",
       "10   16809 NaN NaN NaN NaN  \n",
       "11   12067 NaN NaN NaN NaN  \n",
       "12    3273 NaN NaN NaN NaN  \n",
       "13   15460 NaN NaN NaN NaN  \n",
       "14   10936 NaN NaN NaN NaN  \n",
       "15  115593 NaN NaN NaN NaN  \n",
       "16   84579 NaN NaN NaN NaN  \n",
       "17    1106 NaN NaN NaN NaN  \n",
       "18       0 NaN NaN NaN NaN  \n",
       "19   19372 NaN NaN NaN NaN  \n",
       "20  255722 NaN NaN NaN NaN  \n",
       "21    2576 NaN NaN NaN NaN  \n",
       "22    2209 NaN NaN NaN NaN  \n",
       "23     313 NaN NaN NaN NaN  \n",
       "24    1226 NaN NaN NaN NaN  \n",
       "25   29504 NaN NaN NaN NaN  \n",
       "26    4787 NaN NaN NaN NaN  \n",
       "27   13577 NaN NaN NaN NaN  \n",
       "28   21154 NaN NaN NaN NaN  \n",
       "29     649 NaN NaN NaN NaN  \n",
       "30   46120 NaN NaN NaN NaN  \n",
       "31   27052 NaN NaN NaN NaN  \n",
       "32    4858 NaN NaN NaN NaN  \n",
       "33    9089 NaN NaN NaN NaN  \n",
       "34   46385 NaN NaN NaN NaN  \n",
       "35   27439 NaN NaN NaN NaN  "
      ]
     },
     "execution_count": 12,
     "metadata": {},
     "output_type": "execute_result"
    }
   ],
   "source": [
    "covid19"
   ]
  },
  {
   "cell_type": "code",
   "execution_count": 13,
   "metadata": {},
   "outputs": [],
   "source": [
    "covid19 = covid19[['state','cases','deaths', 'recovered','active']]"
   ]
  },
  {
   "cell_type": "code",
   "execution_count": 14,
   "metadata": {},
   "outputs": [
    {
     "data": {
      "text/html": [
       "<div>\n",
       "<style scoped>\n",
       "    .dataframe tbody tr th:only-of-type {\n",
       "        vertical-align: middle;\n",
       "    }\n",
       "\n",
       "    .dataframe tbody tr th {\n",
       "        vertical-align: top;\n",
       "    }\n",
       "\n",
       "    .dataframe thead th {\n",
       "        text-align: right;\n",
       "    }\n",
       "</style>\n",
       "<table border=\"1\" class=\"dataframe\">\n",
       "  <thead>\n",
       "    <tr style=\"text-align: right;\">\n",
       "      <th></th>\n",
       "      <th>state</th>\n",
       "      <th>cases</th>\n",
       "      <th>deaths</th>\n",
       "      <th>recovered</th>\n",
       "      <th>active</th>\n",
       "    </tr>\n",
       "  </thead>\n",
       "  <tbody>\n",
       "    <tr>\n",
       "      <th>0</th>\n",
       "      <td>Andaman and Nicobar Islands</td>\n",
       "      <td>3884</td>\n",
       "      <td>53</td>\n",
       "      <td>3649</td>\n",
       "      <td>182</td>\n",
       "    </tr>\n",
       "    <tr>\n",
       "      <th>1</th>\n",
       "      <td>Andhra Pradesh</td>\n",
       "      <td>719256</td>\n",
       "      <td>5981</td>\n",
       "      <td>658875</td>\n",
       "      <td>54400</td>\n",
       "    </tr>\n",
       "    <tr>\n",
       "      <th>2</th>\n",
       "      <td>Arunachal Pradesh</td>\n",
       "      <td>10548</td>\n",
       "      <td>18</td>\n",
       "      <td>7577</td>\n",
       "      <td>2953</td>\n",
       "    </tr>\n",
       "    <tr>\n",
       "      <th>3</th>\n",
       "      <td>Assam</td>\n",
       "      <td>186,200[b]</td>\n",
       "      <td>749</td>\n",
       "      <td>152127</td>\n",
       "      <td>33324</td>\n",
       "    </tr>\n",
       "    <tr>\n",
       "      <th>4</th>\n",
       "      <td>Bihar</td>\n",
       "      <td>188168</td>\n",
       "      <td>915</td>\n",
       "      <td>175458</td>\n",
       "      <td>11795</td>\n",
       "    </tr>\n",
       "    <tr>\n",
       "      <th>5</th>\n",
       "      <td>Chandigarh</td>\n",
       "      <td>12445</td>\n",
       "      <td>174</td>\n",
       "      <td>10598</td>\n",
       "      <td>1673</td>\n",
       "    </tr>\n",
       "    <tr>\n",
       "      <th>6</th>\n",
       "      <td>Chhattisgarh</td>\n",
       "      <td>123324</td>\n",
       "      <td>1045</td>\n",
       "      <td>93731</td>\n",
       "      <td>28548</td>\n",
       "    </tr>\n",
       "    <tr>\n",
       "      <th>7</th>\n",
       "      <td>Dadra and Nagar Haveli and Daman and Diu</td>\n",
       "      <td>3087</td>\n",
       "      <td>2</td>\n",
       "      <td>2980</td>\n",
       "      <td>105</td>\n",
       "    </tr>\n",
       "    <tr>\n",
       "      <th>8</th>\n",
       "      <td>Delhi</td>\n",
       "      <td>290613</td>\n",
       "      <td>5510</td>\n",
       "      <td>260350</td>\n",
       "      <td>24753</td>\n",
       "    </tr>\n",
       "    <tr>\n",
       "      <th>9</th>\n",
       "      <td>Goa</td>\n",
       "      <td>35328</td>\n",
       "      <td>456</td>\n",
       "      <td>30033</td>\n",
       "      <td>4839</td>\n",
       "    </tr>\n",
       "    <tr>\n",
       "      <th>10</th>\n",
       "      <td>Gujarat</td>\n",
       "      <td>142538</td>\n",
       "      <td>3496</td>\n",
       "      <td>122233</td>\n",
       "      <td>16809</td>\n",
       "    </tr>\n",
       "    <tr>\n",
       "      <th>11</th>\n",
       "      <td>Haryana</td>\n",
       "      <td>133878</td>\n",
       "      <td>1470</td>\n",
       "      <td>120341</td>\n",
       "      <td>12067</td>\n",
       "    </tr>\n",
       "    <tr>\n",
       "      <th>12</th>\n",
       "      <td>Himachal Pradesh</td>\n",
       "      <td>15851</td>\n",
       "      <td>217</td>\n",
       "      <td>12361</td>\n",
       "      <td>3273</td>\n",
       "    </tr>\n",
       "    <tr>\n",
       "      <th>13</th>\n",
       "      <td>Jammu and Kashmir</td>\n",
       "      <td>79106</td>\n",
       "      <td>1242</td>\n",
       "      <td>62404</td>\n",
       "      <td>15460</td>\n",
       "    </tr>\n",
       "    <tr>\n",
       "      <th>14</th>\n",
       "      <td>Jharkhand</td>\n",
       "      <td>87210</td>\n",
       "      <td>743</td>\n",
       "      <td>75531</td>\n",
       "      <td>10936</td>\n",
       "    </tr>\n",
       "    <tr>\n",
       "      <th>15</th>\n",
       "      <td>Karnataka</td>\n",
       "      <td>640661</td>\n",
       "      <td>9286</td>\n",
       "      <td>515782</td>\n",
       "      <td>115593</td>\n",
       "    </tr>\n",
       "    <tr>\n",
       "      <th>16</th>\n",
       "      <td>Kerala</td>\n",
       "      <td>229886</td>\n",
       "      <td>836[c]</td>\n",
       "      <td>144471</td>\n",
       "      <td>84579</td>\n",
       "    </tr>\n",
       "    <tr>\n",
       "      <th>17</th>\n",
       "      <td>Ladakh</td>\n",
       "      <td>4521</td>\n",
       "      <td>61</td>\n",
       "      <td>3354</td>\n",
       "      <td>1106</td>\n",
       "    </tr>\n",
       "    <tr>\n",
       "      <th>18</th>\n",
       "      <td>Lakshadweep</td>\n",
       "      <td>0</td>\n",
       "      <td>0</td>\n",
       "      <td>0</td>\n",
       "      <td>0</td>\n",
       "    </tr>\n",
       "    <tr>\n",
       "      <th>19</th>\n",
       "      <td>Madhya Pradesh</td>\n",
       "      <td>135638</td>\n",
       "      <td>2434</td>\n",
       "      <td>113832</td>\n",
       "      <td>19372</td>\n",
       "    </tr>\n",
       "    <tr>\n",
       "      <th>20</th>\n",
       "      <td>Maharashtra</td>\n",
       "      <td>1443409</td>\n",
       "      <td>38084</td>\n",
       "      <td>1149603</td>\n",
       "      <td>255722</td>\n",
       "    </tr>\n",
       "    <tr>\n",
       "      <th>21</th>\n",
       "      <td>Manipur</td>\n",
       "      <td>11855</td>\n",
       "      <td>74</td>\n",
       "      <td>9205</td>\n",
       "      <td>2576</td>\n",
       "    </tr>\n",
       "    <tr>\n",
       "      <th>22</th>\n",
       "      <td>Meghalaya</td>\n",
       "      <td>6656</td>\n",
       "      <td>54</td>\n",
       "      <td>4393</td>\n",
       "      <td>2209</td>\n",
       "    </tr>\n",
       "    <tr>\n",
       "      <th>23</th>\n",
       "      <td>Mizoram</td>\n",
       "      <td>2120</td>\n",
       "      <td>0</td>\n",
       "      <td>1807</td>\n",
       "      <td>313</td>\n",
       "    </tr>\n",
       "    <tr>\n",
       "      <th>24</th>\n",
       "      <td>Nagaland</td>\n",
       "      <td>6552</td>\n",
       "      <td>17</td>\n",
       "      <td>5309</td>\n",
       "      <td>1226</td>\n",
       "    </tr>\n",
       "    <tr>\n",
       "      <th>25</th>\n",
       "      <td>Odisha</td>\n",
       "      <td>232713</td>\n",
       "      <td>907</td>\n",
       "      <td>202302</td>\n",
       "      <td>29504</td>\n",
       "    </tr>\n",
       "    <tr>\n",
       "      <th>26</th>\n",
       "      <td>Puducherry</td>\n",
       "      <td>29089</td>\n",
       "      <td>539</td>\n",
       "      <td>23763</td>\n",
       "      <td>4787</td>\n",
       "    </tr>\n",
       "    <tr>\n",
       "      <th>27</th>\n",
       "      <td>Punjab</td>\n",
       "      <td>118157</td>\n",
       "      <td>3603</td>\n",
       "      <td>100977</td>\n",
       "      <td>13577</td>\n",
       "    </tr>\n",
       "    <tr>\n",
       "      <th>28</th>\n",
       "      <td>Rajasthan</td>\n",
       "      <td>144030</td>\n",
       "      <td>1545</td>\n",
       "      <td>121331</td>\n",
       "      <td>21154</td>\n",
       "    </tr>\n",
       "    <tr>\n",
       "      <th>29</th>\n",
       "      <td>Sikkim</td>\n",
       "      <td>3174</td>\n",
       "      <td>45</td>\n",
       "      <td>2480</td>\n",
       "      <td>649</td>\n",
       "    </tr>\n",
       "    <tr>\n",
       "      <th>30</th>\n",
       "      <td>Tamil Nadu</td>\n",
       "      <td>619996</td>\n",
       "      <td>9784</td>\n",
       "      <td>564092</td>\n",
       "      <td>46120</td>\n",
       "    </tr>\n",
       "    <tr>\n",
       "      <th>31</th>\n",
       "      <td>Telangana</td>\n",
       "      <td>200611</td>\n",
       "      <td>1171</td>\n",
       "      <td>172388</td>\n",
       "      <td>27052</td>\n",
       "    </tr>\n",
       "    <tr>\n",
       "      <th>32</th>\n",
       "      <td>Tripura</td>\n",
       "      <td>27033</td>\n",
       "      <td>299</td>\n",
       "      <td>21876</td>\n",
       "      <td>4858</td>\n",
       "    </tr>\n",
       "    <tr>\n",
       "      <th>33</th>\n",
       "      <td>Uttarakhand</td>\n",
       "      <td>51481</td>\n",
       "      <td>652</td>\n",
       "      <td>41740</td>\n",
       "      <td>9089</td>\n",
       "    </tr>\n",
       "    <tr>\n",
       "      <th>34</th>\n",
       "      <td>Uttar Pradesh</td>\n",
       "      <td>414466</td>\n",
       "      <td>6029</td>\n",
       "      <td>362052</td>\n",
       "      <td>46385</td>\n",
       "    </tr>\n",
       "    <tr>\n",
       "      <th>35</th>\n",
       "      <td>West Bengal</td>\n",
       "      <td>270331</td>\n",
       "      <td>5194</td>\n",
       "      <td>237698</td>\n",
       "      <td>27439</td>\n",
       "    </tr>\n",
       "  </tbody>\n",
       "</table>\n",
       "</div>"
      ],
      "text/plain": [
       "                                       state       cases  deaths recovered  \\\n",
       "0                Andaman and Nicobar Islands        3884      53      3649   \n",
       "1                             Andhra Pradesh      719256    5981    658875   \n",
       "2                          Arunachal Pradesh       10548      18      7577   \n",
       "3                                      Assam  186,200[b]     749    152127   \n",
       "4                                      Bihar      188168     915    175458   \n",
       "5                                 Chandigarh       12445     174     10598   \n",
       "6                               Chhattisgarh      123324    1045     93731   \n",
       "7   Dadra and Nagar Haveli and Daman and Diu        3087       2      2980   \n",
       "8                                      Delhi      290613    5510    260350   \n",
       "9                                        Goa       35328     456     30033   \n",
       "10                                   Gujarat      142538    3496    122233   \n",
       "11                                   Haryana      133878    1470    120341   \n",
       "12                          Himachal Pradesh       15851     217     12361   \n",
       "13                         Jammu and Kashmir       79106    1242     62404   \n",
       "14                                 Jharkhand       87210     743     75531   \n",
       "15                                 Karnataka      640661    9286    515782   \n",
       "16                                    Kerala      229886  836[c]    144471   \n",
       "17                                    Ladakh        4521      61      3354   \n",
       "18                               Lakshadweep           0       0         0   \n",
       "19                            Madhya Pradesh      135638    2434    113832   \n",
       "20                               Maharashtra     1443409   38084   1149603   \n",
       "21                                   Manipur       11855      74      9205   \n",
       "22                                 Meghalaya        6656      54      4393   \n",
       "23                                   Mizoram        2120       0      1807   \n",
       "24                                  Nagaland        6552      17      5309   \n",
       "25                                    Odisha      232713     907    202302   \n",
       "26                                Puducherry       29089     539     23763   \n",
       "27                                    Punjab      118157    3603    100977   \n",
       "28                                 Rajasthan      144030    1545    121331   \n",
       "29                                    Sikkim        3174      45      2480   \n",
       "30                                Tamil Nadu      619996    9784    564092   \n",
       "31                                 Telangana      200611    1171    172388   \n",
       "32                                   Tripura       27033     299     21876   \n",
       "33                               Uttarakhand       51481     652     41740   \n",
       "34                             Uttar Pradesh      414466    6029    362052   \n",
       "35                               West Bengal      270331    5194    237698   \n",
       "\n",
       "    active  \n",
       "0      182  \n",
       "1    54400  \n",
       "2     2953  \n",
       "3    33324  \n",
       "4    11795  \n",
       "5     1673  \n",
       "6    28548  \n",
       "7      105  \n",
       "8    24753  \n",
       "9     4839  \n",
       "10   16809  \n",
       "11   12067  \n",
       "12    3273  \n",
       "13   15460  \n",
       "14   10936  \n",
       "15  115593  \n",
       "16   84579  \n",
       "17    1106  \n",
       "18       0  \n",
       "19   19372  \n",
       "20  255722  \n",
       "21    2576  \n",
       "22    2209  \n",
       "23     313  \n",
       "24    1226  \n",
       "25   29504  \n",
       "26    4787  \n",
       "27   13577  \n",
       "28   21154  \n",
       "29     649  \n",
       "30   46120  \n",
       "31   27052  \n",
       "32    4858  \n",
       "33    9089  \n",
       "34   46385  \n",
       "35   27439  "
      ]
     },
     "execution_count": 14,
     "metadata": {},
     "output_type": "execute_result"
    }
   ],
   "source": [
    "covid19"
   ]
  },
  {
   "cell_type": "code",
   "execution_count": 15,
   "metadata": {},
   "outputs": [],
   "source": [
    "final_data = pd.concat([coord, covid19],axis=1)\n",
    "# pd.concat([df1, df2], axis=1)"
   ]
  },
  {
   "cell_type": "code",
   "execution_count": 16,
   "metadata": {},
   "outputs": [
    {
     "data": {
      "text/html": [
       "<div>\n",
       "<style scoped>\n",
       "    .dataframe tbody tr th:only-of-type {\n",
       "        vertical-align: middle;\n",
       "    }\n",
       "\n",
       "    .dataframe tbody tr th {\n",
       "        vertical-align: top;\n",
       "    }\n",
       "\n",
       "    .dataframe thead th {\n",
       "        text-align: right;\n",
       "    }\n",
       "</style>\n",
       "<table border=\"1\" class=\"dataframe\">\n",
       "  <thead>\n",
       "    <tr style=\"text-align: right;\">\n",
       "      <th></th>\n",
       "      <th>Name of State / UT</th>\n",
       "      <th>Latitude</th>\n",
       "      <th>Longitude</th>\n",
       "      <th>state</th>\n",
       "      <th>cases</th>\n",
       "      <th>deaths</th>\n",
       "      <th>recovered</th>\n",
       "      <th>active</th>\n",
       "    </tr>\n",
       "  </thead>\n",
       "  <tbody>\n",
       "    <tr>\n",
       "      <th>0</th>\n",
       "      <td>Andaman And Nicobar</td>\n",
       "      <td>11.667026</td>\n",
       "      <td>92.735983</td>\n",
       "      <td>Andaman and Nicobar Islands</td>\n",
       "      <td>3884</td>\n",
       "      <td>53</td>\n",
       "      <td>3649</td>\n",
       "      <td>182</td>\n",
       "    </tr>\n",
       "    <tr>\n",
       "      <th>1</th>\n",
       "      <td>Andhra Pradesh</td>\n",
       "      <td>14.750429</td>\n",
       "      <td>78.570026</td>\n",
       "      <td>Andhra Pradesh</td>\n",
       "      <td>719256</td>\n",
       "      <td>5981</td>\n",
       "      <td>658875</td>\n",
       "      <td>54400</td>\n",
       "    </tr>\n",
       "    <tr>\n",
       "      <th>2</th>\n",
       "      <td>Arunachal Pradesh</td>\n",
       "      <td>27.100399</td>\n",
       "      <td>93.616601</td>\n",
       "      <td>Arunachal Pradesh</td>\n",
       "      <td>10548</td>\n",
       "      <td>18</td>\n",
       "      <td>7577</td>\n",
       "      <td>2953</td>\n",
       "    </tr>\n",
       "    <tr>\n",
       "      <th>3</th>\n",
       "      <td>Assam</td>\n",
       "      <td>26.749981</td>\n",
       "      <td>94.216667</td>\n",
       "      <td>Assam</td>\n",
       "      <td>186,200[b]</td>\n",
       "      <td>749</td>\n",
       "      <td>152127</td>\n",
       "      <td>33324</td>\n",
       "    </tr>\n",
       "    <tr>\n",
       "      <th>4</th>\n",
       "      <td>Bihar</td>\n",
       "      <td>25.785414</td>\n",
       "      <td>87.479973</td>\n",
       "      <td>Bihar</td>\n",
       "      <td>188168</td>\n",
       "      <td>915</td>\n",
       "      <td>175458</td>\n",
       "      <td>11795</td>\n",
       "    </tr>\n",
       "    <tr>\n",
       "      <th>5</th>\n",
       "      <td>Chandigarh</td>\n",
       "      <td>30.719997</td>\n",
       "      <td>76.780006</td>\n",
       "      <td>Chandigarh</td>\n",
       "      <td>12445</td>\n",
       "      <td>174</td>\n",
       "      <td>10598</td>\n",
       "      <td>1673</td>\n",
       "    </tr>\n",
       "    <tr>\n",
       "      <th>6</th>\n",
       "      <td>Chhattisgarh</td>\n",
       "      <td>22.090420</td>\n",
       "      <td>82.159987</td>\n",
       "      <td>Chhattisgarh</td>\n",
       "      <td>123324</td>\n",
       "      <td>1045</td>\n",
       "      <td>93731</td>\n",
       "      <td>28548</td>\n",
       "    </tr>\n",
       "    <tr>\n",
       "      <th>7</th>\n",
       "      <td>Dadra And Nagar Haveli</td>\n",
       "      <td>20.266578</td>\n",
       "      <td>73.016618</td>\n",
       "      <td>Dadra and Nagar Haveli and Daman and Diu</td>\n",
       "      <td>3087</td>\n",
       "      <td>2</td>\n",
       "      <td>2980</td>\n",
       "      <td>105</td>\n",
       "    </tr>\n",
       "    <tr>\n",
       "      <th>8</th>\n",
       "      <td>Delhi</td>\n",
       "      <td>28.669993</td>\n",
       "      <td>77.230004</td>\n",
       "      <td>Delhi</td>\n",
       "      <td>290613</td>\n",
       "      <td>5510</td>\n",
       "      <td>260350</td>\n",
       "      <td>24753</td>\n",
       "    </tr>\n",
       "    <tr>\n",
       "      <th>9</th>\n",
       "      <td>Goa</td>\n",
       "      <td>15.491997</td>\n",
       "      <td>73.818001</td>\n",
       "      <td>Goa</td>\n",
       "      <td>35328</td>\n",
       "      <td>456</td>\n",
       "      <td>30033</td>\n",
       "      <td>4839</td>\n",
       "    </tr>\n",
       "    <tr>\n",
       "      <th>10</th>\n",
       "      <td>Gujarat</td>\n",
       "      <td>22.309425</td>\n",
       "      <td>72.136230</td>\n",
       "      <td>Gujarat</td>\n",
       "      <td>142538</td>\n",
       "      <td>3496</td>\n",
       "      <td>122233</td>\n",
       "      <td>16809</td>\n",
       "    </tr>\n",
       "    <tr>\n",
       "      <th>11</th>\n",
       "      <td>Haryana</td>\n",
       "      <td>28.450006</td>\n",
       "      <td>77.019991</td>\n",
       "      <td>Haryana</td>\n",
       "      <td>133878</td>\n",
       "      <td>1470</td>\n",
       "      <td>120341</td>\n",
       "      <td>12067</td>\n",
       "    </tr>\n",
       "    <tr>\n",
       "      <th>12</th>\n",
       "      <td>Himachal Pradesh</td>\n",
       "      <td>31.100025</td>\n",
       "      <td>77.166597</td>\n",
       "      <td>Himachal Pradesh</td>\n",
       "      <td>15851</td>\n",
       "      <td>217</td>\n",
       "      <td>12361</td>\n",
       "      <td>3273</td>\n",
       "    </tr>\n",
       "    <tr>\n",
       "      <th>13</th>\n",
       "      <td>Jammu and Kashmir</td>\n",
       "      <td>33.450000</td>\n",
       "      <td>76.240000</td>\n",
       "      <td>Jammu and Kashmir</td>\n",
       "      <td>79106</td>\n",
       "      <td>1242</td>\n",
       "      <td>62404</td>\n",
       "      <td>15460</td>\n",
       "    </tr>\n",
       "    <tr>\n",
       "      <th>14</th>\n",
       "      <td>Jharkhand</td>\n",
       "      <td>23.800393</td>\n",
       "      <td>86.419986</td>\n",
       "      <td>Jharkhand</td>\n",
       "      <td>87210</td>\n",
       "      <td>743</td>\n",
       "      <td>75531</td>\n",
       "      <td>10936</td>\n",
       "    </tr>\n",
       "    <tr>\n",
       "      <th>15</th>\n",
       "      <td>Karnataka</td>\n",
       "      <td>12.570381</td>\n",
       "      <td>76.919997</td>\n",
       "      <td>Karnataka</td>\n",
       "      <td>640661</td>\n",
       "      <td>9286</td>\n",
       "      <td>515782</td>\n",
       "      <td>115593</td>\n",
       "    </tr>\n",
       "    <tr>\n",
       "      <th>16</th>\n",
       "      <td>Kerala</td>\n",
       "      <td>8.900373</td>\n",
       "      <td>76.569993</td>\n",
       "      <td>Kerala</td>\n",
       "      <td>229886</td>\n",
       "      <td>836[c]</td>\n",
       "      <td>144471</td>\n",
       "      <td>84579</td>\n",
       "    </tr>\n",
       "    <tr>\n",
       "      <th>17</th>\n",
       "      <td>Ladakh</td>\n",
       "      <td>34.100000</td>\n",
       "      <td>77.340000</td>\n",
       "      <td>Ladakh</td>\n",
       "      <td>4521</td>\n",
       "      <td>61</td>\n",
       "      <td>3354</td>\n",
       "      <td>1106</td>\n",
       "    </tr>\n",
       "    <tr>\n",
       "      <th>18</th>\n",
       "      <td>Lakshadweep</td>\n",
       "      <td>10.562573</td>\n",
       "      <td>72.636867</td>\n",
       "      <td>Lakshadweep</td>\n",
       "      <td>0</td>\n",
       "      <td>0</td>\n",
       "      <td>0</td>\n",
       "      <td>0</td>\n",
       "    </tr>\n",
       "    <tr>\n",
       "      <th>19</th>\n",
       "      <td>Madhya Pradesh</td>\n",
       "      <td>21.300391</td>\n",
       "      <td>76.130019</td>\n",
       "      <td>Madhya Pradesh</td>\n",
       "      <td>135638</td>\n",
       "      <td>2434</td>\n",
       "      <td>113832</td>\n",
       "      <td>19372</td>\n",
       "    </tr>\n",
       "    <tr>\n",
       "      <th>20</th>\n",
       "      <td>Maharashtra</td>\n",
       "      <td>19.250232</td>\n",
       "      <td>73.160175</td>\n",
       "      <td>Maharashtra</td>\n",
       "      <td>1443409</td>\n",
       "      <td>38084</td>\n",
       "      <td>1149603</td>\n",
       "      <td>255722</td>\n",
       "    </tr>\n",
       "    <tr>\n",
       "      <th>21</th>\n",
       "      <td>Manipur</td>\n",
       "      <td>24.799971</td>\n",
       "      <td>93.950017</td>\n",
       "      <td>Manipur</td>\n",
       "      <td>11855</td>\n",
       "      <td>74</td>\n",
       "      <td>9205</td>\n",
       "      <td>2576</td>\n",
       "    </tr>\n",
       "    <tr>\n",
       "      <th>22</th>\n",
       "      <td>Meghalaya</td>\n",
       "      <td>25.570492</td>\n",
       "      <td>91.880014</td>\n",
       "      <td>Meghalaya</td>\n",
       "      <td>6656</td>\n",
       "      <td>54</td>\n",
       "      <td>4393</td>\n",
       "      <td>2209</td>\n",
       "    </tr>\n",
       "    <tr>\n",
       "      <th>23</th>\n",
       "      <td>Mizoram</td>\n",
       "      <td>23.710399</td>\n",
       "      <td>92.720015</td>\n",
       "      <td>Mizoram</td>\n",
       "      <td>2120</td>\n",
       "      <td>0</td>\n",
       "      <td>1807</td>\n",
       "      <td>313</td>\n",
       "    </tr>\n",
       "    <tr>\n",
       "      <th>24</th>\n",
       "      <td>Nagaland</td>\n",
       "      <td>25.666998</td>\n",
       "      <td>94.116570</td>\n",
       "      <td>Nagaland</td>\n",
       "      <td>6552</td>\n",
       "      <td>17</td>\n",
       "      <td>5309</td>\n",
       "      <td>1226</td>\n",
       "    </tr>\n",
       "    <tr>\n",
       "      <th>25</th>\n",
       "      <td>Orissa</td>\n",
       "      <td>19.820430</td>\n",
       "      <td>85.900017</td>\n",
       "      <td>Odisha</td>\n",
       "      <td>232713</td>\n",
       "      <td>907</td>\n",
       "      <td>202302</td>\n",
       "      <td>29504</td>\n",
       "    </tr>\n",
       "    <tr>\n",
       "      <th>26</th>\n",
       "      <td>Puducherry</td>\n",
       "      <td>11.934994</td>\n",
       "      <td>79.830000</td>\n",
       "      <td>Puducherry</td>\n",
       "      <td>29089</td>\n",
       "      <td>539</td>\n",
       "      <td>23763</td>\n",
       "      <td>4787</td>\n",
       "    </tr>\n",
       "    <tr>\n",
       "      <th>27</th>\n",
       "      <td>Punjab</td>\n",
       "      <td>31.519974</td>\n",
       "      <td>75.980003</td>\n",
       "      <td>Punjab</td>\n",
       "      <td>118157</td>\n",
       "      <td>3603</td>\n",
       "      <td>100977</td>\n",
       "      <td>13577</td>\n",
       "    </tr>\n",
       "    <tr>\n",
       "      <th>28</th>\n",
       "      <td>Rajasthan</td>\n",
       "      <td>26.449999</td>\n",
       "      <td>74.639981</td>\n",
       "      <td>Rajasthan</td>\n",
       "      <td>144030</td>\n",
       "      <td>1545</td>\n",
       "      <td>121331</td>\n",
       "      <td>21154</td>\n",
       "    </tr>\n",
       "    <tr>\n",
       "      <th>29</th>\n",
       "      <td>Sikkim</td>\n",
       "      <td>27.333330</td>\n",
       "      <td>88.616647</td>\n",
       "      <td>Sikkim</td>\n",
       "      <td>3174</td>\n",
       "      <td>45</td>\n",
       "      <td>2480</td>\n",
       "      <td>649</td>\n",
       "    </tr>\n",
       "    <tr>\n",
       "      <th>30</th>\n",
       "      <td>Tamil Nadu</td>\n",
       "      <td>12.920386</td>\n",
       "      <td>79.150042</td>\n",
       "      <td>Tamil Nadu</td>\n",
       "      <td>619996</td>\n",
       "      <td>9784</td>\n",
       "      <td>564092</td>\n",
       "      <td>46120</td>\n",
       "    </tr>\n",
       "    <tr>\n",
       "      <th>31</th>\n",
       "      <td>Telengana</td>\n",
       "      <td>18.112400</td>\n",
       "      <td>79.019300</td>\n",
       "      <td>Telangana</td>\n",
       "      <td>200611</td>\n",
       "      <td>1171</td>\n",
       "      <td>172388</td>\n",
       "      <td>27052</td>\n",
       "    </tr>\n",
       "    <tr>\n",
       "      <th>32</th>\n",
       "      <td>Tripura</td>\n",
       "      <td>23.835404</td>\n",
       "      <td>91.279999</td>\n",
       "      <td>Tripura</td>\n",
       "      <td>27033</td>\n",
       "      <td>299</td>\n",
       "      <td>21876</td>\n",
       "      <td>4858</td>\n",
       "    </tr>\n",
       "    <tr>\n",
       "      <th>33</th>\n",
       "      <td>Uttarakhand</td>\n",
       "      <td>30.320409</td>\n",
       "      <td>78.050006</td>\n",
       "      <td>Uttarakhand</td>\n",
       "      <td>51481</td>\n",
       "      <td>652</td>\n",
       "      <td>41740</td>\n",
       "      <td>9089</td>\n",
       "    </tr>\n",
       "    <tr>\n",
       "      <th>34</th>\n",
       "      <td>Uttar Pradesh</td>\n",
       "      <td>27.599981</td>\n",
       "      <td>78.050006</td>\n",
       "      <td>Uttar Pradesh</td>\n",
       "      <td>414466</td>\n",
       "      <td>6029</td>\n",
       "      <td>362052</td>\n",
       "      <td>46385</td>\n",
       "    </tr>\n",
       "    <tr>\n",
       "      <th>35</th>\n",
       "      <td>West Bengal</td>\n",
       "      <td>22.580390</td>\n",
       "      <td>88.329947</td>\n",
       "      <td>West Bengal</td>\n",
       "      <td>270331</td>\n",
       "      <td>5194</td>\n",
       "      <td>237698</td>\n",
       "      <td>27439</td>\n",
       "    </tr>\n",
       "  </tbody>\n",
       "</table>\n",
       "</div>"
      ],
      "text/plain": [
       "         Name of State / UT   Latitude  Longitude  \\\n",
       "0      Andaman And Nicobar   11.667026  92.735983   \n",
       "1            Andhra Pradesh  14.750429  78.570026   \n",
       "2        Arunachal Pradesh   27.100399  93.616601   \n",
       "3                    Assam   26.749981  94.216667   \n",
       "4                    Bihar   25.785414  87.479973   \n",
       "5               Chandigarh   30.719997  76.780006   \n",
       "6             Chhattisgarh   22.090420  82.159987   \n",
       "7   Dadra And Nagar Haveli   20.266578  73.016618   \n",
       "8                     Delhi  28.669993  77.230004   \n",
       "9                      Goa   15.491997  73.818001   \n",
       "10                  Gujarat  22.309425  72.136230   \n",
       "11                  Haryana  28.450006  77.019991   \n",
       "12        Himachal Pradesh   31.100025  77.166597   \n",
       "13        Jammu and Kashmir  33.450000  76.240000   \n",
       "14               Jharkhand   23.800393  86.419986   \n",
       "15                Karnataka  12.570381  76.919997   \n",
       "16                   Kerala   8.900373  76.569993   \n",
       "17                   Ladakh  34.100000  77.340000   \n",
       "18             Lakshadweep   10.562573  72.636867   \n",
       "19          Madhya Pradesh   21.300391  76.130019   \n",
       "20              Maharashtra  19.250232  73.160175   \n",
       "21                 Manipur   24.799971  93.950017   \n",
       "22               Meghalaya   25.570492  91.880014   \n",
       "23                 Mizoram   23.710399  92.720015   \n",
       "24                Nagaland   25.666998  94.116570   \n",
       "25                  Orissa   19.820430  85.900017   \n",
       "26              Puducherry   11.934994  79.830000   \n",
       "27                   Punjab  31.519974  75.980003   \n",
       "28                Rajasthan  26.449999  74.639981   \n",
       "29                  Sikkim   27.333330  88.616647   \n",
       "30               Tamil Nadu  12.920386  79.150042   \n",
       "31                Telengana  18.112400  79.019300   \n",
       "32                 Tripura   23.835404  91.279999   \n",
       "33              Uttarakhand  30.320409  78.050006   \n",
       "34            Uttar Pradesh  27.599981  78.050006   \n",
       "35             West Bengal   22.580390  88.329947   \n",
       "\n",
       "                                       state       cases  deaths recovered  \\\n",
       "0                Andaman and Nicobar Islands        3884      53      3649   \n",
       "1                             Andhra Pradesh      719256    5981    658875   \n",
       "2                          Arunachal Pradesh       10548      18      7577   \n",
       "3                                      Assam  186,200[b]     749    152127   \n",
       "4                                      Bihar      188168     915    175458   \n",
       "5                                 Chandigarh       12445     174     10598   \n",
       "6                               Chhattisgarh      123324    1045     93731   \n",
       "7   Dadra and Nagar Haveli and Daman and Diu        3087       2      2980   \n",
       "8                                      Delhi      290613    5510    260350   \n",
       "9                                        Goa       35328     456     30033   \n",
       "10                                   Gujarat      142538    3496    122233   \n",
       "11                                   Haryana      133878    1470    120341   \n",
       "12                          Himachal Pradesh       15851     217     12361   \n",
       "13                         Jammu and Kashmir       79106    1242     62404   \n",
       "14                                 Jharkhand       87210     743     75531   \n",
       "15                                 Karnataka      640661    9286    515782   \n",
       "16                                    Kerala      229886  836[c]    144471   \n",
       "17                                    Ladakh        4521      61      3354   \n",
       "18                               Lakshadweep           0       0         0   \n",
       "19                            Madhya Pradesh      135638    2434    113832   \n",
       "20                               Maharashtra     1443409   38084   1149603   \n",
       "21                                   Manipur       11855      74      9205   \n",
       "22                                 Meghalaya        6656      54      4393   \n",
       "23                                   Mizoram        2120       0      1807   \n",
       "24                                  Nagaland        6552      17      5309   \n",
       "25                                    Odisha      232713     907    202302   \n",
       "26                                Puducherry       29089     539     23763   \n",
       "27                                    Punjab      118157    3603    100977   \n",
       "28                                 Rajasthan      144030    1545    121331   \n",
       "29                                    Sikkim        3174      45      2480   \n",
       "30                                Tamil Nadu      619996    9784    564092   \n",
       "31                                 Telangana      200611    1171    172388   \n",
       "32                                   Tripura       27033     299     21876   \n",
       "33                               Uttarakhand       51481     652     41740   \n",
       "34                             Uttar Pradesh      414466    6029    362052   \n",
       "35                               West Bengal      270331    5194    237698   \n",
       "\n",
       "    active  \n",
       "0      182  \n",
       "1    54400  \n",
       "2     2953  \n",
       "3    33324  \n",
       "4    11795  \n",
       "5     1673  \n",
       "6    28548  \n",
       "7      105  \n",
       "8    24753  \n",
       "9     4839  \n",
       "10   16809  \n",
       "11   12067  \n",
       "12    3273  \n",
       "13   15460  \n",
       "14   10936  \n",
       "15  115593  \n",
       "16   84579  \n",
       "17    1106  \n",
       "18       0  \n",
       "19   19372  \n",
       "20  255722  \n",
       "21    2576  \n",
       "22    2209  \n",
       "23     313  \n",
       "24    1226  \n",
       "25   29504  \n",
       "26    4787  \n",
       "27   13577  \n",
       "28   21154  \n",
       "29     649  \n",
       "30   46120  \n",
       "31   27052  \n",
       "32    4858  \n",
       "33    9089  \n",
       "34   46385  \n",
       "35   27439  "
      ]
     },
     "execution_count": 16,
     "metadata": {},
     "output_type": "execute_result"
    }
   ],
   "source": [
    "final_data"
   ]
  },
  {
   "cell_type": "code",
   "execution_count": 17,
   "metadata": {},
   "outputs": [],
   "source": [
    "india = folium.Map(location = [20.5937,78.9629],zoom_start=4.5)\n",
    "for state,lat,long,total_cases,Death,Recov,Active in zip(list(final_data['state']),\n",
    "                                                                                       list(final_data['Latitude']),\n",
    "                                                                                       list(final_data['Longitude']),\n",
    "                                                                                       list(final_data['cases']),\n",
    "                                                                                       list(final_data['deaths']),\n",
    "                                                                                       list(final_data['recovered']),\n",
    "                                                                                       list(final_data['active'])):\n",
    "    folium.CircleMarker(location = [lat,long],\n",
    "                       radius = 5,\n",
    "                       color='red',\n",
    "                       fill = True,\n",
    "                       fill_color=\"red\").add_to(india)\n",
    "    folium.Marker(location = [lat,long],\n",
    "                  popup=folium.Popup(('<strong><b>State  : '+state+'</strong> <br>' +\n",
    "                    '<strong><b>Total Cases : '+total_cases+'</striong><br>' +\n",
    "                    '<strong><font color= red>Deaths : </font>'+Death+'</striong><br>' +\n",
    "                    '<strong><font color=green>Recoveries : </font>'+Recov+'</striong><br>' +\n",
    "                    '<strong><b>Active Cases : '+Active+'</striong>' ),max_width=200)).add_to(india)\n",
    "    #to show the map\n",
    "    india"
   ]
  },
  {
   "cell_type": "code",
   "execution_count": 18,
   "metadata": {
    "scrolled": true
   },
   "outputs": [
    {
     "data": {
      "text/html": [
       "<div style=\"width:100%;\"><div style=\"position:relative;width:100%;height:0;padding-bottom:60%;\"><span style=\"color:#565656\">Make this Notebook Trusted to load map: File -> Trust Notebook</span><iframe src=\"about:blank\" style=\"position:absolute;width:100%;height:100%;left:0;top:0;border:none !important;\" data-html=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 onload=\"this.contentDocument.open();this.contentDocument.write(atob(this.getAttribute('data-html')));this.contentDocument.close();\" allowfullscreen webkitallowfullscreen mozallowfullscreen></iframe></div></div>"
      ],
      "text/plain": [
       "<folium.folium.Map at 0x7fea5e14b110>"
      ]
     },
     "execution_count": 18,
     "metadata": {},
     "output_type": "execute_result"
    }
   ],
   "source": [
    "india"
   ]
  },
  {
   "cell_type": "code",
   "execution_count": 19,
   "metadata": {},
   "outputs": [
    {
     "data": {
      "text/html": [
       "<div>\n",
       "<style scoped>\n",
       "    .dataframe tbody tr th:only-of-type {\n",
       "        vertical-align: middle;\n",
       "    }\n",
       "\n",
       "    .dataframe tbody tr th {\n",
       "        vertical-align: top;\n",
       "    }\n",
       "\n",
       "    .dataframe thead th {\n",
       "        text-align: right;\n",
       "    }\n",
       "</style>\n",
       "<table border=\"1\" class=\"dataframe\">\n",
       "  <thead>\n",
       "    <tr style=\"text-align: right;\">\n",
       "      <th></th>\n",
       "      <th>Name of State / UT</th>\n",
       "      <th>Latitude</th>\n",
       "      <th>Longitude</th>\n",
       "      <th>cases</th>\n",
       "      <th>deaths</th>\n",
       "      <th>recovered</th>\n",
       "      <th>active</th>\n",
       "    </tr>\n",
       "  </thead>\n",
       "  <tbody>\n",
       "    <tr>\n",
       "      <th>0</th>\n",
       "      <td>Andaman And Nicobar</td>\n",
       "      <td>11.667026</td>\n",
       "      <td>92.735983</td>\n",
       "      <td>3884</td>\n",
       "      <td>53</td>\n",
       "      <td>3649</td>\n",
       "      <td>182</td>\n",
       "    </tr>\n",
       "    <tr>\n",
       "      <th>1</th>\n",
       "      <td>Andhra Pradesh</td>\n",
       "      <td>14.750429</td>\n",
       "      <td>78.570026</td>\n",
       "      <td>719256</td>\n",
       "      <td>5981</td>\n",
       "      <td>658875</td>\n",
       "      <td>54400</td>\n",
       "    </tr>\n",
       "    <tr>\n",
       "      <th>2</th>\n",
       "      <td>Arunachal Pradesh</td>\n",
       "      <td>27.100399</td>\n",
       "      <td>93.616601</td>\n",
       "      <td>10548</td>\n",
       "      <td>18</td>\n",
       "      <td>7577</td>\n",
       "      <td>2953</td>\n",
       "    </tr>\n",
       "    <tr>\n",
       "      <th>3</th>\n",
       "      <td>Assam</td>\n",
       "      <td>26.749981</td>\n",
       "      <td>94.216667</td>\n",
       "      <td>186,200[b]</td>\n",
       "      <td>749</td>\n",
       "      <td>152127</td>\n",
       "      <td>33324</td>\n",
       "    </tr>\n",
       "    <tr>\n",
       "      <th>4</th>\n",
       "      <td>Bihar</td>\n",
       "      <td>25.785414</td>\n",
       "      <td>87.479973</td>\n",
       "      <td>188168</td>\n",
       "      <td>915</td>\n",
       "      <td>175458</td>\n",
       "      <td>11795</td>\n",
       "    </tr>\n",
       "    <tr>\n",
       "      <th>5</th>\n",
       "      <td>Chandigarh</td>\n",
       "      <td>30.719997</td>\n",
       "      <td>76.780006</td>\n",
       "      <td>12445</td>\n",
       "      <td>174</td>\n",
       "      <td>10598</td>\n",
       "      <td>1673</td>\n",
       "    </tr>\n",
       "    <tr>\n",
       "      <th>6</th>\n",
       "      <td>Chhattisgarh</td>\n",
       "      <td>22.090420</td>\n",
       "      <td>82.159987</td>\n",
       "      <td>123324</td>\n",
       "      <td>1045</td>\n",
       "      <td>93731</td>\n",
       "      <td>28548</td>\n",
       "    </tr>\n",
       "    <tr>\n",
       "      <th>7</th>\n",
       "      <td>Dadra And Nagar Haveli</td>\n",
       "      <td>20.266578</td>\n",
       "      <td>73.016618</td>\n",
       "      <td>3087</td>\n",
       "      <td>2</td>\n",
       "      <td>2980</td>\n",
       "      <td>105</td>\n",
       "    </tr>\n",
       "    <tr>\n",
       "      <th>8</th>\n",
       "      <td>Delhi</td>\n",
       "      <td>28.669993</td>\n",
       "      <td>77.230004</td>\n",
       "      <td>290613</td>\n",
       "      <td>5510</td>\n",
       "      <td>260350</td>\n",
       "      <td>24753</td>\n",
       "    </tr>\n",
       "    <tr>\n",
       "      <th>9</th>\n",
       "      <td>Goa</td>\n",
       "      <td>15.491997</td>\n",
       "      <td>73.818001</td>\n",
       "      <td>35328</td>\n",
       "      <td>456</td>\n",
       "      <td>30033</td>\n",
       "      <td>4839</td>\n",
       "    </tr>\n",
       "    <tr>\n",
       "      <th>10</th>\n",
       "      <td>Gujarat</td>\n",
       "      <td>22.309425</td>\n",
       "      <td>72.136230</td>\n",
       "      <td>142538</td>\n",
       "      <td>3496</td>\n",
       "      <td>122233</td>\n",
       "      <td>16809</td>\n",
       "    </tr>\n",
       "    <tr>\n",
       "      <th>11</th>\n",
       "      <td>Haryana</td>\n",
       "      <td>28.450006</td>\n",
       "      <td>77.019991</td>\n",
       "      <td>133878</td>\n",
       "      <td>1470</td>\n",
       "      <td>120341</td>\n",
       "      <td>12067</td>\n",
       "    </tr>\n",
       "    <tr>\n",
       "      <th>12</th>\n",
       "      <td>Himachal Pradesh</td>\n",
       "      <td>31.100025</td>\n",
       "      <td>77.166597</td>\n",
       "      <td>15851</td>\n",
       "      <td>217</td>\n",
       "      <td>12361</td>\n",
       "      <td>3273</td>\n",
       "    </tr>\n",
       "    <tr>\n",
       "      <th>13</th>\n",
       "      <td>Jammu and Kashmir</td>\n",
       "      <td>33.450000</td>\n",
       "      <td>76.240000</td>\n",
       "      <td>79106</td>\n",
       "      <td>1242</td>\n",
       "      <td>62404</td>\n",
       "      <td>15460</td>\n",
       "    </tr>\n",
       "    <tr>\n",
       "      <th>14</th>\n",
       "      <td>Jharkhand</td>\n",
       "      <td>23.800393</td>\n",
       "      <td>86.419986</td>\n",
       "      <td>87210</td>\n",
       "      <td>743</td>\n",
       "      <td>75531</td>\n",
       "      <td>10936</td>\n",
       "    </tr>\n",
       "    <tr>\n",
       "      <th>15</th>\n",
       "      <td>Karnataka</td>\n",
       "      <td>12.570381</td>\n",
       "      <td>76.919997</td>\n",
       "      <td>640661</td>\n",
       "      <td>9286</td>\n",
       "      <td>515782</td>\n",
       "      <td>115593</td>\n",
       "    </tr>\n",
       "    <tr>\n",
       "      <th>16</th>\n",
       "      <td>Kerala</td>\n",
       "      <td>8.900373</td>\n",
       "      <td>76.569993</td>\n",
       "      <td>229886</td>\n",
       "      <td>836[c]</td>\n",
       "      <td>144471</td>\n",
       "      <td>84579</td>\n",
       "    </tr>\n",
       "    <tr>\n",
       "      <th>17</th>\n",
       "      <td>Ladakh</td>\n",
       "      <td>34.100000</td>\n",
       "      <td>77.340000</td>\n",
       "      <td>4521</td>\n",
       "      <td>61</td>\n",
       "      <td>3354</td>\n",
       "      <td>1106</td>\n",
       "    </tr>\n",
       "    <tr>\n",
       "      <th>18</th>\n",
       "      <td>Lakshadweep</td>\n",
       "      <td>10.562573</td>\n",
       "      <td>72.636867</td>\n",
       "      <td>0</td>\n",
       "      <td>0</td>\n",
       "      <td>0</td>\n",
       "      <td>0</td>\n",
       "    </tr>\n",
       "    <tr>\n",
       "      <th>19</th>\n",
       "      <td>Madhya Pradesh</td>\n",
       "      <td>21.300391</td>\n",
       "      <td>76.130019</td>\n",
       "      <td>135638</td>\n",
       "      <td>2434</td>\n",
       "      <td>113832</td>\n",
       "      <td>19372</td>\n",
       "    </tr>\n",
       "    <tr>\n",
       "      <th>20</th>\n",
       "      <td>Maharashtra</td>\n",
       "      <td>19.250232</td>\n",
       "      <td>73.160175</td>\n",
       "      <td>1443409</td>\n",
       "      <td>38084</td>\n",
       "      <td>1149603</td>\n",
       "      <td>255722</td>\n",
       "    </tr>\n",
       "    <tr>\n",
       "      <th>21</th>\n",
       "      <td>Manipur</td>\n",
       "      <td>24.799971</td>\n",
       "      <td>93.950017</td>\n",
       "      <td>11855</td>\n",
       "      <td>74</td>\n",
       "      <td>9205</td>\n",
       "      <td>2576</td>\n",
       "    </tr>\n",
       "    <tr>\n",
       "      <th>22</th>\n",
       "      <td>Meghalaya</td>\n",
       "      <td>25.570492</td>\n",
       "      <td>91.880014</td>\n",
       "      <td>6656</td>\n",
       "      <td>54</td>\n",
       "      <td>4393</td>\n",
       "      <td>2209</td>\n",
       "    </tr>\n",
       "    <tr>\n",
       "      <th>23</th>\n",
       "      <td>Mizoram</td>\n",
       "      <td>23.710399</td>\n",
       "      <td>92.720015</td>\n",
       "      <td>2120</td>\n",
       "      <td>0</td>\n",
       "      <td>1807</td>\n",
       "      <td>313</td>\n",
       "    </tr>\n",
       "    <tr>\n",
       "      <th>24</th>\n",
       "      <td>Nagaland</td>\n",
       "      <td>25.666998</td>\n",
       "      <td>94.116570</td>\n",
       "      <td>6552</td>\n",
       "      <td>17</td>\n",
       "      <td>5309</td>\n",
       "      <td>1226</td>\n",
       "    </tr>\n",
       "    <tr>\n",
       "      <th>25</th>\n",
       "      <td>Orissa</td>\n",
       "      <td>19.820430</td>\n",
       "      <td>85.900017</td>\n",
       "      <td>232713</td>\n",
       "      <td>907</td>\n",
       "      <td>202302</td>\n",
       "      <td>29504</td>\n",
       "    </tr>\n",
       "    <tr>\n",
       "      <th>26</th>\n",
       "      <td>Puducherry</td>\n",
       "      <td>11.934994</td>\n",
       "      <td>79.830000</td>\n",
       "      <td>29089</td>\n",
       "      <td>539</td>\n",
       "      <td>23763</td>\n",
       "      <td>4787</td>\n",
       "    </tr>\n",
       "    <tr>\n",
       "      <th>27</th>\n",
       "      <td>Punjab</td>\n",
       "      <td>31.519974</td>\n",
       "      <td>75.980003</td>\n",
       "      <td>118157</td>\n",
       "      <td>3603</td>\n",
       "      <td>100977</td>\n",
       "      <td>13577</td>\n",
       "    </tr>\n",
       "    <tr>\n",
       "      <th>28</th>\n",
       "      <td>Rajasthan</td>\n",
       "      <td>26.449999</td>\n",
       "      <td>74.639981</td>\n",
       "      <td>144030</td>\n",
       "      <td>1545</td>\n",
       "      <td>121331</td>\n",
       "      <td>21154</td>\n",
       "    </tr>\n",
       "    <tr>\n",
       "      <th>29</th>\n",
       "      <td>Sikkim</td>\n",
       "      <td>27.333330</td>\n",
       "      <td>88.616647</td>\n",
       "      <td>3174</td>\n",
       "      <td>45</td>\n",
       "      <td>2480</td>\n",
       "      <td>649</td>\n",
       "    </tr>\n",
       "    <tr>\n",
       "      <th>30</th>\n",
       "      <td>Tamil Nadu</td>\n",
       "      <td>12.920386</td>\n",
       "      <td>79.150042</td>\n",
       "      <td>619996</td>\n",
       "      <td>9784</td>\n",
       "      <td>564092</td>\n",
       "      <td>46120</td>\n",
       "    </tr>\n",
       "    <tr>\n",
       "      <th>31</th>\n",
       "      <td>Telengana</td>\n",
       "      <td>18.112400</td>\n",
       "      <td>79.019300</td>\n",
       "      <td>200611</td>\n",
       "      <td>1171</td>\n",
       "      <td>172388</td>\n",
       "      <td>27052</td>\n",
       "    </tr>\n",
       "    <tr>\n",
       "      <th>32</th>\n",
       "      <td>Tripura</td>\n",
       "      <td>23.835404</td>\n",
       "      <td>91.279999</td>\n",
       "      <td>27033</td>\n",
       "      <td>299</td>\n",
       "      <td>21876</td>\n",
       "      <td>4858</td>\n",
       "    </tr>\n",
       "    <tr>\n",
       "      <th>33</th>\n",
       "      <td>Uttarakhand</td>\n",
       "      <td>30.320409</td>\n",
       "      <td>78.050006</td>\n",
       "      <td>51481</td>\n",
       "      <td>652</td>\n",
       "      <td>41740</td>\n",
       "      <td>9089</td>\n",
       "    </tr>\n",
       "    <tr>\n",
       "      <th>34</th>\n",
       "      <td>Uttar Pradesh</td>\n",
       "      <td>27.599981</td>\n",
       "      <td>78.050006</td>\n",
       "      <td>414466</td>\n",
       "      <td>6029</td>\n",
       "      <td>362052</td>\n",
       "      <td>46385</td>\n",
       "    </tr>\n",
       "    <tr>\n",
       "      <th>35</th>\n",
       "      <td>West Bengal</td>\n",
       "      <td>22.580390</td>\n",
       "      <td>88.329947</td>\n",
       "      <td>270331</td>\n",
       "      <td>5194</td>\n",
       "      <td>237698</td>\n",
       "      <td>27439</td>\n",
       "    </tr>\n",
       "  </tbody>\n",
       "</table>\n",
       "</div>"
      ],
      "text/plain": [
       "         Name of State / UT   Latitude  Longitude       cases  deaths  \\\n",
       "0      Andaman And Nicobar   11.667026  92.735983        3884      53   \n",
       "1            Andhra Pradesh  14.750429  78.570026      719256    5981   \n",
       "2        Arunachal Pradesh   27.100399  93.616601       10548      18   \n",
       "3                    Assam   26.749981  94.216667  186,200[b]     749   \n",
       "4                    Bihar   25.785414  87.479973      188168     915   \n",
       "5               Chandigarh   30.719997  76.780006       12445     174   \n",
       "6             Chhattisgarh   22.090420  82.159987      123324    1045   \n",
       "7   Dadra And Nagar Haveli   20.266578  73.016618        3087       2   \n",
       "8                     Delhi  28.669993  77.230004      290613    5510   \n",
       "9                      Goa   15.491997  73.818001       35328     456   \n",
       "10                  Gujarat  22.309425  72.136230      142538    3496   \n",
       "11                  Haryana  28.450006  77.019991      133878    1470   \n",
       "12        Himachal Pradesh   31.100025  77.166597       15851     217   \n",
       "13        Jammu and Kashmir  33.450000  76.240000       79106    1242   \n",
       "14               Jharkhand   23.800393  86.419986       87210     743   \n",
       "15                Karnataka  12.570381  76.919997      640661    9286   \n",
       "16                   Kerala   8.900373  76.569993      229886  836[c]   \n",
       "17                   Ladakh  34.100000  77.340000        4521      61   \n",
       "18             Lakshadweep   10.562573  72.636867           0       0   \n",
       "19          Madhya Pradesh   21.300391  76.130019      135638    2434   \n",
       "20              Maharashtra  19.250232  73.160175     1443409   38084   \n",
       "21                 Manipur   24.799971  93.950017       11855      74   \n",
       "22               Meghalaya   25.570492  91.880014        6656      54   \n",
       "23                 Mizoram   23.710399  92.720015        2120       0   \n",
       "24                Nagaland   25.666998  94.116570        6552      17   \n",
       "25                  Orissa   19.820430  85.900017      232713     907   \n",
       "26              Puducherry   11.934994  79.830000       29089     539   \n",
       "27                   Punjab  31.519974  75.980003      118157    3603   \n",
       "28                Rajasthan  26.449999  74.639981      144030    1545   \n",
       "29                  Sikkim   27.333330  88.616647        3174      45   \n",
       "30               Tamil Nadu  12.920386  79.150042      619996    9784   \n",
       "31                Telengana  18.112400  79.019300      200611    1171   \n",
       "32                 Tripura   23.835404  91.279999       27033     299   \n",
       "33              Uttarakhand  30.320409  78.050006       51481     652   \n",
       "34            Uttar Pradesh  27.599981  78.050006      414466    6029   \n",
       "35             West Bengal   22.580390  88.329947      270331    5194   \n",
       "\n",
       "   recovered  active  \n",
       "0       3649     182  \n",
       "1     658875   54400  \n",
       "2       7577    2953  \n",
       "3     152127   33324  \n",
       "4     175458   11795  \n",
       "5      10598    1673  \n",
       "6      93731   28548  \n",
       "7       2980     105  \n",
       "8     260350   24753  \n",
       "9      30033    4839  \n",
       "10    122233   16809  \n",
       "11    120341   12067  \n",
       "12     12361    3273  \n",
       "13     62404   15460  \n",
       "14     75531   10936  \n",
       "15    515782  115593  \n",
       "16    144471   84579  \n",
       "17      3354    1106  \n",
       "18         0       0  \n",
       "19    113832   19372  \n",
       "20   1149603  255722  \n",
       "21      9205    2576  \n",
       "22      4393    2209  \n",
       "23      1807     313  \n",
       "24      5309    1226  \n",
       "25    202302   29504  \n",
       "26     23763    4787  \n",
       "27    100977   13577  \n",
       "28    121331   21154  \n",
       "29      2480     649  \n",
       "30    564092   46120  \n",
       "31    172388   27052  \n",
       "32     21876    4858  \n",
       "33     41740    9089  \n",
       "34    362052   46385  \n",
       "35    237698   27439  "
      ]
     },
     "execution_count": 19,
     "metadata": {},
     "output_type": "execute_result"
    }
   ],
   "source": [
    "df=final_data.drop('state',axis=1)\n",
    "df"
   ]
  },
  {
   "cell_type": "code",
   "execution_count": 20,
   "metadata": {},
   "outputs": [
    {
     "data": {
      "text/plain": [
       "Name of State / UT     object\n",
       "Latitude              float64\n",
       "Longitude             float64\n",
       "cases                  object\n",
       "deaths                 object\n",
       "recovered              object\n",
       "active                 object\n",
       "dtype: object"
      ]
     },
     "execution_count": 20,
     "metadata": {},
     "output_type": "execute_result"
    }
   ],
   "source": [
    "df.dtypes"
   ]
  },
  {
   "cell_type": "code",
   "execution_count": 21,
   "metadata": {},
   "outputs": [
    {
     "data": {
      "text/html": [
       "<div>\n",
       "<style scoped>\n",
       "    .dataframe tbody tr th:only-of-type {\n",
       "        vertical-align: middle;\n",
       "    }\n",
       "\n",
       "    .dataframe tbody tr th {\n",
       "        vertical-align: top;\n",
       "    }\n",
       "\n",
       "    .dataframe thead th {\n",
       "        text-align: right;\n",
       "    }\n",
       "</style>\n",
       "<table border=\"1\" class=\"dataframe\">\n",
       "  <thead>\n",
       "    <tr style=\"text-align: right;\">\n",
       "      <th></th>\n",
       "      <th>Latitude</th>\n",
       "      <th>Longitude</th>\n",
       "    </tr>\n",
       "  </thead>\n",
       "  <tbody>\n",
       "    <tr>\n",
       "      <th>count</th>\n",
       "      <td>36.000000</td>\n",
       "      <td>36.000000</td>\n",
       "    </tr>\n",
       "    <tr>\n",
       "      <th>mean</th>\n",
       "      <td>22.812822</td>\n",
       "      <td>81.746563</td>\n",
       "    </tr>\n",
       "    <tr>\n",
       "      <th>std</th>\n",
       "      <td>6.871739</td>\n",
       "      <td>7.450233</td>\n",
       "    </tr>\n",
       "    <tr>\n",
       "      <th>min</th>\n",
       "      <td>8.900373</td>\n",
       "      <td>72.136230</td>\n",
       "    </tr>\n",
       "    <tr>\n",
       "      <th>25%</th>\n",
       "      <td>18.965774</td>\n",
       "      <td>76.487494</td>\n",
       "    </tr>\n",
       "    <tr>\n",
       "      <th>50%</th>\n",
       "      <td>23.817899</td>\n",
       "      <td>78.310016</td>\n",
       "    </tr>\n",
       "    <tr>\n",
       "      <th>75%</th>\n",
       "      <td>27.399993</td>\n",
       "      <td>88.401622</td>\n",
       "    </tr>\n",
       "    <tr>\n",
       "      <th>max</th>\n",
       "      <td>34.100000</td>\n",
       "      <td>94.216667</td>\n",
       "    </tr>\n",
       "  </tbody>\n",
       "</table>\n",
       "</div>"
      ],
      "text/plain": [
       "        Latitude  Longitude\n",
       "count  36.000000  36.000000\n",
       "mean   22.812822  81.746563\n",
       "std     6.871739   7.450233\n",
       "min     8.900373  72.136230\n",
       "25%    18.965774  76.487494\n",
       "50%    23.817899  78.310016\n",
       "75%    27.399993  88.401622\n",
       "max    34.100000  94.216667"
      ]
     },
     "execution_count": 21,
     "metadata": {},
     "output_type": "execute_result"
    }
   ],
   "source": [
    "df.describe()"
   ]
  },
  {
   "cell_type": "code",
   "execution_count": 22,
   "metadata": {},
   "outputs": [],
   "source": [
    "df['cases'] = df['cases'].str.extract('(\\d+)').astype('int')\n",
    "df['deaths'] = df['deaths'].str.extract('(\\d+)').astype('int')\n",
    "df['recovered'] = df['recovered'].str.extract('(\\d+)').astype('int')\n",
    "df['active'] = df['active'].str.extract('(\\d+)').astype('int')"
   ]
  },
  {
   "cell_type": "code",
   "execution_count": 23,
   "metadata": {},
   "outputs": [
    {
     "data": {
      "text/html": [
       "<div>\n",
       "<style scoped>\n",
       "    .dataframe tbody tr th:only-of-type {\n",
       "        vertical-align: middle;\n",
       "    }\n",
       "\n",
       "    .dataframe tbody tr th {\n",
       "        vertical-align: top;\n",
       "    }\n",
       "\n",
       "    .dataframe thead th {\n",
       "        text-align: right;\n",
       "    }\n",
       "</style>\n",
       "<table border=\"1\" class=\"dataframe\">\n",
       "  <thead>\n",
       "    <tr style=\"text-align: right;\">\n",
       "      <th></th>\n",
       "      <th>Name of State / UT</th>\n",
       "      <th>Latitude</th>\n",
       "      <th>Longitude</th>\n",
       "      <th>cases</th>\n",
       "      <th>deaths</th>\n",
       "      <th>recovered</th>\n",
       "      <th>active</th>\n",
       "    </tr>\n",
       "  </thead>\n",
       "  <tbody>\n",
       "    <tr>\n",
       "      <th>0</th>\n",
       "      <td>Andaman And Nicobar</td>\n",
       "      <td>11.667026</td>\n",
       "      <td>92.735983</td>\n",
       "      <td>3884</td>\n",
       "      <td>53</td>\n",
       "      <td>3649</td>\n",
       "      <td>182</td>\n",
       "    </tr>\n",
       "    <tr>\n",
       "      <th>1</th>\n",
       "      <td>Andhra Pradesh</td>\n",
       "      <td>14.750429</td>\n",
       "      <td>78.570026</td>\n",
       "      <td>719256</td>\n",
       "      <td>5981</td>\n",
       "      <td>658875</td>\n",
       "      <td>54400</td>\n",
       "    </tr>\n",
       "    <tr>\n",
       "      <th>2</th>\n",
       "      <td>Arunachal Pradesh</td>\n",
       "      <td>27.100399</td>\n",
       "      <td>93.616601</td>\n",
       "      <td>10548</td>\n",
       "      <td>18</td>\n",
       "      <td>7577</td>\n",
       "      <td>2953</td>\n",
       "    </tr>\n",
       "    <tr>\n",
       "      <th>3</th>\n",
       "      <td>Assam</td>\n",
       "      <td>26.749981</td>\n",
       "      <td>94.216667</td>\n",
       "      <td>186</td>\n",
       "      <td>749</td>\n",
       "      <td>152127</td>\n",
       "      <td>33324</td>\n",
       "    </tr>\n",
       "    <tr>\n",
       "      <th>4</th>\n",
       "      <td>Bihar</td>\n",
       "      <td>25.785414</td>\n",
       "      <td>87.479973</td>\n",
       "      <td>188168</td>\n",
       "      <td>915</td>\n",
       "      <td>175458</td>\n",
       "      <td>11795</td>\n",
       "    </tr>\n",
       "    <tr>\n",
       "      <th>5</th>\n",
       "      <td>Chandigarh</td>\n",
       "      <td>30.719997</td>\n",
       "      <td>76.780006</td>\n",
       "      <td>12445</td>\n",
       "      <td>174</td>\n",
       "      <td>10598</td>\n",
       "      <td>1673</td>\n",
       "    </tr>\n",
       "    <tr>\n",
       "      <th>6</th>\n",
       "      <td>Chhattisgarh</td>\n",
       "      <td>22.090420</td>\n",
       "      <td>82.159987</td>\n",
       "      <td>123324</td>\n",
       "      <td>1045</td>\n",
       "      <td>93731</td>\n",
       "      <td>28548</td>\n",
       "    </tr>\n",
       "    <tr>\n",
       "      <th>7</th>\n",
       "      <td>Dadra And Nagar Haveli</td>\n",
       "      <td>20.266578</td>\n",
       "      <td>73.016618</td>\n",
       "      <td>3087</td>\n",
       "      <td>2</td>\n",
       "      <td>2980</td>\n",
       "      <td>105</td>\n",
       "    </tr>\n",
       "    <tr>\n",
       "      <th>8</th>\n",
       "      <td>Delhi</td>\n",
       "      <td>28.669993</td>\n",
       "      <td>77.230004</td>\n",
       "      <td>290613</td>\n",
       "      <td>5510</td>\n",
       "      <td>260350</td>\n",
       "      <td>24753</td>\n",
       "    </tr>\n",
       "    <tr>\n",
       "      <th>9</th>\n",
       "      <td>Goa</td>\n",
       "      <td>15.491997</td>\n",
       "      <td>73.818001</td>\n",
       "      <td>35328</td>\n",
       "      <td>456</td>\n",
       "      <td>30033</td>\n",
       "      <td>4839</td>\n",
       "    </tr>\n",
       "    <tr>\n",
       "      <th>10</th>\n",
       "      <td>Gujarat</td>\n",
       "      <td>22.309425</td>\n",
       "      <td>72.136230</td>\n",
       "      <td>142538</td>\n",
       "      <td>3496</td>\n",
       "      <td>122233</td>\n",
       "      <td>16809</td>\n",
       "    </tr>\n",
       "    <tr>\n",
       "      <th>11</th>\n",
       "      <td>Haryana</td>\n",
       "      <td>28.450006</td>\n",
       "      <td>77.019991</td>\n",
       "      <td>133878</td>\n",
       "      <td>1470</td>\n",
       "      <td>120341</td>\n",
       "      <td>12067</td>\n",
       "    </tr>\n",
       "    <tr>\n",
       "      <th>12</th>\n",
       "      <td>Himachal Pradesh</td>\n",
       "      <td>31.100025</td>\n",
       "      <td>77.166597</td>\n",
       "      <td>15851</td>\n",
       "      <td>217</td>\n",
       "      <td>12361</td>\n",
       "      <td>3273</td>\n",
       "    </tr>\n",
       "    <tr>\n",
       "      <th>13</th>\n",
       "      <td>Jammu and Kashmir</td>\n",
       "      <td>33.450000</td>\n",
       "      <td>76.240000</td>\n",
       "      <td>79106</td>\n",
       "      <td>1242</td>\n",
       "      <td>62404</td>\n",
       "      <td>15460</td>\n",
       "    </tr>\n",
       "    <tr>\n",
       "      <th>14</th>\n",
       "      <td>Jharkhand</td>\n",
       "      <td>23.800393</td>\n",
       "      <td>86.419986</td>\n",
       "      <td>87210</td>\n",
       "      <td>743</td>\n",
       "      <td>75531</td>\n",
       "      <td>10936</td>\n",
       "    </tr>\n",
       "    <tr>\n",
       "      <th>15</th>\n",
       "      <td>Karnataka</td>\n",
       "      <td>12.570381</td>\n",
       "      <td>76.919997</td>\n",
       "      <td>640661</td>\n",
       "      <td>9286</td>\n",
       "      <td>515782</td>\n",
       "      <td>115593</td>\n",
       "    </tr>\n",
       "    <tr>\n",
       "      <th>16</th>\n",
       "      <td>Kerala</td>\n",
       "      <td>8.900373</td>\n",
       "      <td>76.569993</td>\n",
       "      <td>229886</td>\n",
       "      <td>836</td>\n",
       "      <td>144471</td>\n",
       "      <td>84579</td>\n",
       "    </tr>\n",
       "    <tr>\n",
       "      <th>17</th>\n",
       "      <td>Ladakh</td>\n",
       "      <td>34.100000</td>\n",
       "      <td>77.340000</td>\n",
       "      <td>4521</td>\n",
       "      <td>61</td>\n",
       "      <td>3354</td>\n",
       "      <td>1106</td>\n",
       "    </tr>\n",
       "    <tr>\n",
       "      <th>18</th>\n",
       "      <td>Lakshadweep</td>\n",
       "      <td>10.562573</td>\n",
       "      <td>72.636867</td>\n",
       "      <td>0</td>\n",
       "      <td>0</td>\n",
       "      <td>0</td>\n",
       "      <td>0</td>\n",
       "    </tr>\n",
       "    <tr>\n",
       "      <th>19</th>\n",
       "      <td>Madhya Pradesh</td>\n",
       "      <td>21.300391</td>\n",
       "      <td>76.130019</td>\n",
       "      <td>135638</td>\n",
       "      <td>2434</td>\n",
       "      <td>113832</td>\n",
       "      <td>19372</td>\n",
       "    </tr>\n",
       "    <tr>\n",
       "      <th>20</th>\n",
       "      <td>Maharashtra</td>\n",
       "      <td>19.250232</td>\n",
       "      <td>73.160175</td>\n",
       "      <td>1443409</td>\n",
       "      <td>38084</td>\n",
       "      <td>1149603</td>\n",
       "      <td>255722</td>\n",
       "    </tr>\n",
       "    <tr>\n",
       "      <th>21</th>\n",
       "      <td>Manipur</td>\n",
       "      <td>24.799971</td>\n",
       "      <td>93.950017</td>\n",
       "      <td>11855</td>\n",
       "      <td>74</td>\n",
       "      <td>9205</td>\n",
       "      <td>2576</td>\n",
       "    </tr>\n",
       "    <tr>\n",
       "      <th>22</th>\n",
       "      <td>Meghalaya</td>\n",
       "      <td>25.570492</td>\n",
       "      <td>91.880014</td>\n",
       "      <td>6656</td>\n",
       "      <td>54</td>\n",
       "      <td>4393</td>\n",
       "      <td>2209</td>\n",
       "    </tr>\n",
       "    <tr>\n",
       "      <th>23</th>\n",
       "      <td>Mizoram</td>\n",
       "      <td>23.710399</td>\n",
       "      <td>92.720015</td>\n",
       "      <td>2120</td>\n",
       "      <td>0</td>\n",
       "      <td>1807</td>\n",
       "      <td>313</td>\n",
       "    </tr>\n",
       "    <tr>\n",
       "      <th>24</th>\n",
       "      <td>Nagaland</td>\n",
       "      <td>25.666998</td>\n",
       "      <td>94.116570</td>\n",
       "      <td>6552</td>\n",
       "      <td>17</td>\n",
       "      <td>5309</td>\n",
       "      <td>1226</td>\n",
       "    </tr>\n",
       "    <tr>\n",
       "      <th>25</th>\n",
       "      <td>Orissa</td>\n",
       "      <td>19.820430</td>\n",
       "      <td>85.900017</td>\n",
       "      <td>232713</td>\n",
       "      <td>907</td>\n",
       "      <td>202302</td>\n",
       "      <td>29504</td>\n",
       "    </tr>\n",
       "    <tr>\n",
       "      <th>26</th>\n",
       "      <td>Puducherry</td>\n",
       "      <td>11.934994</td>\n",
       "      <td>79.830000</td>\n",
       "      <td>29089</td>\n",
       "      <td>539</td>\n",
       "      <td>23763</td>\n",
       "      <td>4787</td>\n",
       "    </tr>\n",
       "    <tr>\n",
       "      <th>27</th>\n",
       "      <td>Punjab</td>\n",
       "      <td>31.519974</td>\n",
       "      <td>75.980003</td>\n",
       "      <td>118157</td>\n",
       "      <td>3603</td>\n",
       "      <td>100977</td>\n",
       "      <td>13577</td>\n",
       "    </tr>\n",
       "    <tr>\n",
       "      <th>28</th>\n",
       "      <td>Rajasthan</td>\n",
       "      <td>26.449999</td>\n",
       "      <td>74.639981</td>\n",
       "      <td>144030</td>\n",
       "      <td>1545</td>\n",
       "      <td>121331</td>\n",
       "      <td>21154</td>\n",
       "    </tr>\n",
       "    <tr>\n",
       "      <th>29</th>\n",
       "      <td>Sikkim</td>\n",
       "      <td>27.333330</td>\n",
       "      <td>88.616647</td>\n",
       "      <td>3174</td>\n",
       "      <td>45</td>\n",
       "      <td>2480</td>\n",
       "      <td>649</td>\n",
       "    </tr>\n",
       "    <tr>\n",
       "      <th>30</th>\n",
       "      <td>Tamil Nadu</td>\n",
       "      <td>12.920386</td>\n",
       "      <td>79.150042</td>\n",
       "      <td>619996</td>\n",
       "      <td>9784</td>\n",
       "      <td>564092</td>\n",
       "      <td>46120</td>\n",
       "    </tr>\n",
       "    <tr>\n",
       "      <th>31</th>\n",
       "      <td>Telengana</td>\n",
       "      <td>18.112400</td>\n",
       "      <td>79.019300</td>\n",
       "      <td>200611</td>\n",
       "      <td>1171</td>\n",
       "      <td>172388</td>\n",
       "      <td>27052</td>\n",
       "    </tr>\n",
       "    <tr>\n",
       "      <th>32</th>\n",
       "      <td>Tripura</td>\n",
       "      <td>23.835404</td>\n",
       "      <td>91.279999</td>\n",
       "      <td>27033</td>\n",
       "      <td>299</td>\n",
       "      <td>21876</td>\n",
       "      <td>4858</td>\n",
       "    </tr>\n",
       "    <tr>\n",
       "      <th>33</th>\n",
       "      <td>Uttarakhand</td>\n",
       "      <td>30.320409</td>\n",
       "      <td>78.050006</td>\n",
       "      <td>51481</td>\n",
       "      <td>652</td>\n",
       "      <td>41740</td>\n",
       "      <td>9089</td>\n",
       "    </tr>\n",
       "    <tr>\n",
       "      <th>34</th>\n",
       "      <td>Uttar Pradesh</td>\n",
       "      <td>27.599981</td>\n",
       "      <td>78.050006</td>\n",
       "      <td>414466</td>\n",
       "      <td>6029</td>\n",
       "      <td>362052</td>\n",
       "      <td>46385</td>\n",
       "    </tr>\n",
       "    <tr>\n",
       "      <th>35</th>\n",
       "      <td>West Bengal</td>\n",
       "      <td>22.580390</td>\n",
       "      <td>88.329947</td>\n",
       "      <td>270331</td>\n",
       "      <td>5194</td>\n",
       "      <td>237698</td>\n",
       "      <td>27439</td>\n",
       "    </tr>\n",
       "  </tbody>\n",
       "</table>\n",
       "</div>"
      ],
      "text/plain": [
       "         Name of State / UT   Latitude  Longitude    cases  deaths  recovered  \\\n",
       "0      Andaman And Nicobar   11.667026  92.735983     3884      53       3649   \n",
       "1            Andhra Pradesh  14.750429  78.570026   719256    5981     658875   \n",
       "2        Arunachal Pradesh   27.100399  93.616601    10548      18       7577   \n",
       "3                    Assam   26.749981  94.216667      186     749     152127   \n",
       "4                    Bihar   25.785414  87.479973   188168     915     175458   \n",
       "5               Chandigarh   30.719997  76.780006    12445     174      10598   \n",
       "6             Chhattisgarh   22.090420  82.159987   123324    1045      93731   \n",
       "7   Dadra And Nagar Haveli   20.266578  73.016618     3087       2       2980   \n",
       "8                     Delhi  28.669993  77.230004   290613    5510     260350   \n",
       "9                      Goa   15.491997  73.818001    35328     456      30033   \n",
       "10                  Gujarat  22.309425  72.136230   142538    3496     122233   \n",
       "11                  Haryana  28.450006  77.019991   133878    1470     120341   \n",
       "12        Himachal Pradesh   31.100025  77.166597    15851     217      12361   \n",
       "13        Jammu and Kashmir  33.450000  76.240000    79106    1242      62404   \n",
       "14               Jharkhand   23.800393  86.419986    87210     743      75531   \n",
       "15                Karnataka  12.570381  76.919997   640661    9286     515782   \n",
       "16                   Kerala   8.900373  76.569993   229886     836     144471   \n",
       "17                   Ladakh  34.100000  77.340000     4521      61       3354   \n",
       "18             Lakshadweep   10.562573  72.636867        0       0          0   \n",
       "19          Madhya Pradesh   21.300391  76.130019   135638    2434     113832   \n",
       "20              Maharashtra  19.250232  73.160175  1443409   38084    1149603   \n",
       "21                 Manipur   24.799971  93.950017    11855      74       9205   \n",
       "22               Meghalaya   25.570492  91.880014     6656      54       4393   \n",
       "23                 Mizoram   23.710399  92.720015     2120       0       1807   \n",
       "24                Nagaland   25.666998  94.116570     6552      17       5309   \n",
       "25                  Orissa   19.820430  85.900017   232713     907     202302   \n",
       "26              Puducherry   11.934994  79.830000    29089     539      23763   \n",
       "27                   Punjab  31.519974  75.980003   118157    3603     100977   \n",
       "28                Rajasthan  26.449999  74.639981   144030    1545     121331   \n",
       "29                  Sikkim   27.333330  88.616647     3174      45       2480   \n",
       "30               Tamil Nadu  12.920386  79.150042   619996    9784     564092   \n",
       "31                Telengana  18.112400  79.019300   200611    1171     172388   \n",
       "32                 Tripura   23.835404  91.279999    27033     299      21876   \n",
       "33              Uttarakhand  30.320409  78.050006    51481     652      41740   \n",
       "34            Uttar Pradesh  27.599981  78.050006   414466    6029     362052   \n",
       "35             West Bengal   22.580390  88.329947   270331    5194     237698   \n",
       "\n",
       "    active  \n",
       "0      182  \n",
       "1    54400  \n",
       "2     2953  \n",
       "3    33324  \n",
       "4    11795  \n",
       "5     1673  \n",
       "6    28548  \n",
       "7      105  \n",
       "8    24753  \n",
       "9     4839  \n",
       "10   16809  \n",
       "11   12067  \n",
       "12    3273  \n",
       "13   15460  \n",
       "14   10936  \n",
       "15  115593  \n",
       "16   84579  \n",
       "17    1106  \n",
       "18       0  \n",
       "19   19372  \n",
       "20  255722  \n",
       "21    2576  \n",
       "22    2209  \n",
       "23     313  \n",
       "24    1226  \n",
       "25   29504  \n",
       "26    4787  \n",
       "27   13577  \n",
       "28   21154  \n",
       "29     649  \n",
       "30   46120  \n",
       "31   27052  \n",
       "32    4858  \n",
       "33    9089  \n",
       "34   46385  \n",
       "35   27439  "
      ]
     },
     "execution_count": 23,
     "metadata": {},
     "output_type": "execute_result"
    }
   ],
   "source": [
    "df"
   ]
  },
  {
   "cell_type": "code",
   "execution_count": 24,
   "metadata": {},
   "outputs": [
    {
     "data": {
      "text/plain": [
       "Name of State / UT     object\n",
       "Latitude              float64\n",
       "Longitude             float64\n",
       "cases                   int64\n",
       "deaths                  int64\n",
       "recovered               int64\n",
       "active                  int64\n",
       "dtype: object"
      ]
     },
     "execution_count": 24,
     "metadata": {},
     "output_type": "execute_result"
    }
   ],
   "source": [
    "df.dtypes"
   ]
  },
  {
   "cell_type": "code",
   "execution_count": 25,
   "metadata": {},
   "outputs": [
    {
     "data": {
      "text/html": [
       "<div>\n",
       "<style scoped>\n",
       "    .dataframe tbody tr th:only-of-type {\n",
       "        vertical-align: middle;\n",
       "    }\n",
       "\n",
       "    .dataframe tbody tr th {\n",
       "        vertical-align: top;\n",
       "    }\n",
       "\n",
       "    .dataframe thead th {\n",
       "        text-align: right;\n",
       "    }\n",
       "</style>\n",
       "<table border=\"1\" class=\"dataframe\">\n",
       "  <thead>\n",
       "    <tr style=\"text-align: right;\">\n",
       "      <th></th>\n",
       "      <th>Name of State / UT</th>\n",
       "      <th>Latitude</th>\n",
       "      <th>Longitude</th>\n",
       "      <th>cases</th>\n",
       "      <th>deaths</th>\n",
       "      <th>recovered</th>\n",
       "      <th>active</th>\n",
       "    </tr>\n",
       "  </thead>\n",
       "  <tbody>\n",
       "    <tr>\n",
       "      <th>20</th>\n",
       "      <td>Maharashtra</td>\n",
       "      <td>19.250232</td>\n",
       "      <td>73.160175</td>\n",
       "      <td>1443409</td>\n",
       "      <td>38084</td>\n",
       "      <td>1149603</td>\n",
       "      <td>255722</td>\n",
       "    </tr>\n",
       "    <tr>\n",
       "      <th>1</th>\n",
       "      <td>Andhra Pradesh</td>\n",
       "      <td>14.750429</td>\n",
       "      <td>78.570026</td>\n",
       "      <td>719256</td>\n",
       "      <td>5981</td>\n",
       "      <td>658875</td>\n",
       "      <td>54400</td>\n",
       "    </tr>\n",
       "    <tr>\n",
       "      <th>15</th>\n",
       "      <td>Karnataka</td>\n",
       "      <td>12.570381</td>\n",
       "      <td>76.919997</td>\n",
       "      <td>640661</td>\n",
       "      <td>9286</td>\n",
       "      <td>515782</td>\n",
       "      <td>115593</td>\n",
       "    </tr>\n",
       "    <tr>\n",
       "      <th>30</th>\n",
       "      <td>Tamil Nadu</td>\n",
       "      <td>12.920386</td>\n",
       "      <td>79.150042</td>\n",
       "      <td>619996</td>\n",
       "      <td>9784</td>\n",
       "      <td>564092</td>\n",
       "      <td>46120</td>\n",
       "    </tr>\n",
       "    <tr>\n",
       "      <th>34</th>\n",
       "      <td>Uttar Pradesh</td>\n",
       "      <td>27.599981</td>\n",
       "      <td>78.050006</td>\n",
       "      <td>414466</td>\n",
       "      <td>6029</td>\n",
       "      <td>362052</td>\n",
       "      <td>46385</td>\n",
       "    </tr>\n",
       "  </tbody>\n",
       "</table>\n",
       "</div>"
      ],
      "text/plain": [
       "   Name of State / UT   Latitude  Longitude    cases  deaths  recovered  \\\n",
       "20        Maharashtra  19.250232  73.160175  1443409   38084    1149603   \n",
       "1      Andhra Pradesh  14.750429  78.570026   719256    5981     658875   \n",
       "15          Karnataka  12.570381  76.919997   640661    9286     515782   \n",
       "30         Tamil Nadu  12.920386  79.150042   619996    9784     564092   \n",
       "34      Uttar Pradesh  27.599981  78.050006   414466    6029     362052   \n",
       "\n",
       "    active  \n",
       "20  255722  \n",
       "1    54400  \n",
       "15  115593  \n",
       "30   46120  \n",
       "34   46385  "
      ]
     },
     "execution_count": 25,
     "metadata": {},
     "output_type": "execute_result"
    }
   ],
   "source": [
    "df_cases=df.sort_values(by=['cases'], ascending=False)\n",
    "df_cases.head()"
   ]
  },
  {
   "cell_type": "code",
   "execution_count": 26,
   "metadata": {},
   "outputs": [
    {
     "data": {
      "text/plain": [
       "Name of State / UT     object\n",
       "Latitude              float64\n",
       "Longitude             float64\n",
       "cases                   int64\n",
       "deaths                  int64\n",
       "recovered               int64\n",
       "active                  int64\n",
       "dtype: object"
      ]
     },
     "execution_count": 26,
     "metadata": {},
     "output_type": "execute_result"
    }
   ],
   "source": [
    "df_cases.dtypes"
   ]
  },
  {
   "cell_type": "code",
   "execution_count": 27,
   "metadata": {},
   "outputs": [
    {
     "data": {
      "application/vnd.plotly.v1+json": {
       "config": {
        "linkText": "Export to plot.ly",
        "plotlyServerURL": "https://plot.ly",
        "showLink": true
       },
       "data": [
        {
         "line": {
          "color": "rgba(219, 64, 82, 1.0)",
          "dash": "solid",
          "shape": "linear",
          "width": 1.3
         },
         "marker": {
          "size": 12,
          "symbol": "circle"
         },
         "mode": "markers+lines",
         "name": "cases",
         "text": "",
         "type": "scatter",
         "x": [
          "Maharashtra",
          "Andhra Pradesh",
          "Karnataka",
          "Tamil Nadu",
          "Uttar Pradesh",
          "Delhi",
          "West Bengal ",
          "Orissa ",
          "Kerala",
          "Telengana",
          "Bihar ",
          "Rajasthan",
          "Gujarat",
          "Madhya Pradesh ",
          "Haryana",
          "Chhattisgarh ",
          "Punjab",
          "Jharkhand ",
          "Jammu and Kashmir",
          "Uttarakhand",
          "Goa ",
          "Puducherry ",
          "Tripura ",
          "Himachal Pradesh ",
          "Chandigarh ",
          "Manipur ",
          "Arunachal Pradesh ",
          "Meghalaya ",
          "Nagaland ",
          "Ladakh",
          "Andaman And Nicobar ",
          "Sikkim ",
          "Dadra And Nagar Haveli ",
          "Mizoram ",
          "Assam ",
          "Lakshadweep "
         ],
         "y": [
          1443409,
          719256,
          640661,
          619996,
          414466,
          290613,
          270331,
          232713,
          229886,
          200611,
          188168,
          144030,
          142538,
          135638,
          133878,
          123324,
          118157,
          87210,
          79106,
          51481,
          35328,
          29089,
          27033,
          15851,
          12445,
          11855,
          10548,
          6656,
          6552,
          4521,
          3884,
          3174,
          3087,
          2120,
          186,
          0
         ]
        }
       ],
       "layout": {
        "legend": {
         "bgcolor": "#F5F6F9",
         "font": {
          "color": "#4D5663"
         }
        },
        "paper_bgcolor": "#F5F6F9",
        "plot_bgcolor": "#F5F6F9",
        "template": {
         "data": {
          "bar": [
           {
            "error_x": {
             "color": "#2a3f5f"
            },
            "error_y": {
             "color": "#2a3f5f"
            },
            "marker": {
             "line": {
              "color": "#E5ECF6",
              "width": 0.5
             }
            },
            "type": "bar"
           }
          ],
          "barpolar": [
           {
            "marker": {
             "line": {
              "color": "#E5ECF6",
              "width": 0.5
             }
            },
            "type": "barpolar"
           }
          ],
          "carpet": [
           {
            "aaxis": {
             "endlinecolor": "#2a3f5f",
             "gridcolor": "white",
             "linecolor": "white",
             "minorgridcolor": "white",
             "startlinecolor": "#2a3f5f"
            },
            "baxis": {
             "endlinecolor": "#2a3f5f",
             "gridcolor": "white",
             "linecolor": "white",
             "minorgridcolor": "white",
             "startlinecolor": "#2a3f5f"
            },
            "type": "carpet"
           }
          ],
          "choropleth": [
           {
            "colorbar": {
             "outlinewidth": 0,
             "ticks": ""
            },
            "type": "choropleth"
           }
          ],
          "contour": [
           {
            "colorbar": {
             "outlinewidth": 0,
             "ticks": ""
            },
            "colorscale": [
             [
              0,
              "#0d0887"
             ],
             [
              0.1111111111111111,
              "#46039f"
             ],
             [
              0.2222222222222222,
              "#7201a8"
             ],
             [
              0.3333333333333333,
              "#9c179e"
             ],
             [
              0.4444444444444444,
              "#bd3786"
             ],
             [
              0.5555555555555556,
              "#d8576b"
             ],
             [
              0.6666666666666666,
              "#ed7953"
             ],
             [
              0.7777777777777778,
              "#fb9f3a"
             ],
             [
              0.8888888888888888,
              "#fdca26"
             ],
             [
              1,
              "#f0f921"
             ]
            ],
            "type": "contour"
           }
          ],
          "contourcarpet": [
           {
            "colorbar": {
             "outlinewidth": 0,
             "ticks": ""
            },
            "type": "contourcarpet"
           }
          ],
          "heatmap": [
           {
            "colorbar": {
             "outlinewidth": 0,
             "ticks": ""
            },
            "colorscale": [
             [
              0,
              "#0d0887"
             ],
             [
              0.1111111111111111,
              "#46039f"
             ],
             [
              0.2222222222222222,
              "#7201a8"
             ],
             [
              0.3333333333333333,
              "#9c179e"
             ],
             [
              0.4444444444444444,
              "#bd3786"
             ],
             [
              0.5555555555555556,
              "#d8576b"
             ],
             [
              0.6666666666666666,
              "#ed7953"
             ],
             [
              0.7777777777777778,
              "#fb9f3a"
             ],
             [
              0.8888888888888888,
              "#fdca26"
             ],
             [
              1,
              "#f0f921"
             ]
            ],
            "type": "heatmap"
           }
          ],
          "heatmapgl": [
           {
            "colorbar": {
             "outlinewidth": 0,
             "ticks": ""
            },
            "colorscale": [
             [
              0,
              "#0d0887"
             ],
             [
              0.1111111111111111,
              "#46039f"
             ],
             [
              0.2222222222222222,
              "#7201a8"
             ],
             [
              0.3333333333333333,
              "#9c179e"
             ],
             [
              0.4444444444444444,
              "#bd3786"
             ],
             [
              0.5555555555555556,
              "#d8576b"
             ],
             [
              0.6666666666666666,
              "#ed7953"
             ],
             [
              0.7777777777777778,
              "#fb9f3a"
             ],
             [
              0.8888888888888888,
              "#fdca26"
             ],
             [
              1,
              "#f0f921"
             ]
            ],
            "type": "heatmapgl"
           }
          ],
          "histogram": [
           {
            "marker": {
             "colorbar": {
              "outlinewidth": 0,
              "ticks": ""
             }
            },
            "type": "histogram"
           }
          ],
          "histogram2d": [
           {
            "colorbar": {
             "outlinewidth": 0,
             "ticks": ""
            },
            "colorscale": [
             [
              0,
              "#0d0887"
             ],
             [
              0.1111111111111111,
              "#46039f"
             ],
             [
              0.2222222222222222,
              "#7201a8"
             ],
             [
              0.3333333333333333,
              "#9c179e"
             ],
             [
              0.4444444444444444,
              "#bd3786"
             ],
             [
              0.5555555555555556,
              "#d8576b"
             ],
             [
              0.6666666666666666,
              "#ed7953"
             ],
             [
              0.7777777777777778,
              "#fb9f3a"
             ],
             [
              0.8888888888888888,
              "#fdca26"
             ],
             [
              1,
              "#f0f921"
             ]
            ],
            "type": "histogram2d"
           }
          ],
          "histogram2dcontour": [
           {
            "colorbar": {
             "outlinewidth": 0,
             "ticks": ""
            },
            "colorscale": [
             [
              0,
              "#0d0887"
             ],
             [
              0.1111111111111111,
              "#46039f"
             ],
             [
              0.2222222222222222,
              "#7201a8"
             ],
             [
              0.3333333333333333,
              "#9c179e"
             ],
             [
              0.4444444444444444,
              "#bd3786"
             ],
             [
              0.5555555555555556,
              "#d8576b"
             ],
             [
              0.6666666666666666,
              "#ed7953"
             ],
             [
              0.7777777777777778,
              "#fb9f3a"
             ],
             [
              0.8888888888888888,
              "#fdca26"
             ],
             [
              1,
              "#f0f921"
             ]
            ],
            "type": "histogram2dcontour"
           }
          ],
          "mesh3d": [
           {
            "colorbar": {
             "outlinewidth": 0,
             "ticks": ""
            },
            "type": "mesh3d"
           }
          ],
          "parcoords": [
           {
            "line": {
             "colorbar": {
              "outlinewidth": 0,
              "ticks": ""
             }
            },
            "type": "parcoords"
           }
          ],
          "pie": [
           {
            "automargin": true,
            "type": "pie"
           }
          ],
          "scatter": [
           {
            "marker": {
             "colorbar": {
              "outlinewidth": 0,
              "ticks": ""
             }
            },
            "type": "scatter"
           }
          ],
          "scatter3d": [
           {
            "line": {
             "colorbar": {
              "outlinewidth": 0,
              "ticks": ""
             }
            },
            "marker": {
             "colorbar": {
              "outlinewidth": 0,
              "ticks": ""
             }
            },
            "type": "scatter3d"
           }
          ],
          "scattercarpet": [
           {
            "marker": {
             "colorbar": {
              "outlinewidth": 0,
              "ticks": ""
             }
            },
            "type": "scattercarpet"
           }
          ],
          "scattergeo": [
           {
            "marker": {
             "colorbar": {
              "outlinewidth": 0,
              "ticks": ""
             }
            },
            "type": "scattergeo"
           }
          ],
          "scattergl": [
           {
            "marker": {
             "colorbar": {
              "outlinewidth": 0,
              "ticks": ""
             }
            },
            "type": "scattergl"
           }
          ],
          "scattermapbox": [
           {
            "marker": {
             "colorbar": {
              "outlinewidth": 0,
              "ticks": ""
             }
            },
            "type": "scattermapbox"
           }
          ],
          "scatterpolar": [
           {
            "marker": {
             "colorbar": {
              "outlinewidth": 0,
              "ticks": ""
             }
            },
            "type": "scatterpolar"
           }
          ],
          "scatterpolargl": [
           {
            "marker": {
             "colorbar": {
              "outlinewidth": 0,
              "ticks": ""
             }
            },
            "type": "scatterpolargl"
           }
          ],
          "scatterternary": [
           {
            "marker": {
             "colorbar": {
              "outlinewidth": 0,
              "ticks": ""
             }
            },
            "type": "scatterternary"
           }
          ],
          "surface": [
           {
            "colorbar": {
             "outlinewidth": 0,
             "ticks": ""
            },
            "colorscale": [
             [
              0,
              "#0d0887"
             ],
             [
              0.1111111111111111,
              "#46039f"
             ],
             [
              0.2222222222222222,
              "#7201a8"
             ],
             [
              0.3333333333333333,
              "#9c179e"
             ],
             [
              0.4444444444444444,
              "#bd3786"
             ],
             [
              0.5555555555555556,
              "#d8576b"
             ],
             [
              0.6666666666666666,
              "#ed7953"
             ],
             [
              0.7777777777777778,
              "#fb9f3a"
             ],
             [
              0.8888888888888888,
              "#fdca26"
             ],
             [
              1,
              "#f0f921"
             ]
            ],
            "type": "surface"
           }
          ],
          "table": [
           {
            "cells": {
             "fill": {
              "color": "#EBF0F8"
             },
             "line": {
              "color": "white"
             }
            },
            "header": {
             "fill": {
              "color": "#C8D4E3"
             },
             "line": {
              "color": "white"
             }
            },
            "type": "table"
           }
          ]
         },
         "layout": {
          "annotationdefaults": {
           "arrowcolor": "#2a3f5f",
           "arrowhead": 0,
           "arrowwidth": 1
          },
          "coloraxis": {
           "colorbar": {
            "outlinewidth": 0,
            "ticks": ""
           }
          },
          "colorscale": {
           "diverging": [
            [
             0,
             "#8e0152"
            ],
            [
             0.1,
             "#c51b7d"
            ],
            [
             0.2,
             "#de77ae"
            ],
            [
             0.3,
             "#f1b6da"
            ],
            [
             0.4,
             "#fde0ef"
            ],
            [
             0.5,
             "#f7f7f7"
            ],
            [
             0.6,
             "#e6f5d0"
            ],
            [
             0.7,
             "#b8e186"
            ],
            [
             0.8,
             "#7fbc41"
            ],
            [
             0.9,
             "#4d9221"
            ],
            [
             1,
             "#276419"
            ]
           ],
           "sequential": [
            [
             0,
             "#0d0887"
            ],
            [
             0.1111111111111111,
             "#46039f"
            ],
            [
             0.2222222222222222,
             "#7201a8"
            ],
            [
             0.3333333333333333,
             "#9c179e"
            ],
            [
             0.4444444444444444,
             "#bd3786"
            ],
            [
             0.5555555555555556,
             "#d8576b"
            ],
            [
             0.6666666666666666,
             "#ed7953"
            ],
            [
             0.7777777777777778,
             "#fb9f3a"
            ],
            [
             0.8888888888888888,
             "#fdca26"
            ],
            [
             1,
             "#f0f921"
            ]
           ],
           "sequentialminus": [
            [
             0,
             "#0d0887"
            ],
            [
             0.1111111111111111,
             "#46039f"
            ],
            [
             0.2222222222222222,
             "#7201a8"
            ],
            [
             0.3333333333333333,
             "#9c179e"
            ],
            [
             0.4444444444444444,
             "#bd3786"
            ],
            [
             0.5555555555555556,
             "#d8576b"
            ],
            [
             0.6666666666666666,
             "#ed7953"
            ],
            [
             0.7777777777777778,
             "#fb9f3a"
            ],
            [
             0.8888888888888888,
             "#fdca26"
            ],
            [
             1,
             "#f0f921"
            ]
           ]
          },
          "colorway": [
           "#636efa",
           "#EF553B",
           "#00cc96",
           "#ab63fa",
           "#FFA15A",
           "#19d3f3",
           "#FF6692",
           "#B6E880",
           "#FF97FF",
           "#FECB52"
          ],
          "font": {
           "color": "#2a3f5f"
          },
          "geo": {
           "bgcolor": "white",
           "lakecolor": "white",
           "landcolor": "#E5ECF6",
           "showlakes": true,
           "showland": true,
           "subunitcolor": "white"
          },
          "hoverlabel": {
           "align": "left"
          },
          "hovermode": "closest",
          "mapbox": {
           "style": "light"
          },
          "paper_bgcolor": "white",
          "plot_bgcolor": "#E5ECF6",
          "polar": {
           "angularaxis": {
            "gridcolor": "white",
            "linecolor": "white",
            "ticks": ""
           },
           "bgcolor": "#E5ECF6",
           "radialaxis": {
            "gridcolor": "white",
            "linecolor": "white",
            "ticks": ""
           }
          },
          "scene": {
           "xaxis": {
            "backgroundcolor": "#E5ECF6",
            "gridcolor": "white",
            "gridwidth": 2,
            "linecolor": "white",
            "showbackground": true,
            "ticks": "",
            "zerolinecolor": "white"
           },
           "yaxis": {
            "backgroundcolor": "#E5ECF6",
            "gridcolor": "white",
            "gridwidth": 2,
            "linecolor": "white",
            "showbackground": true,
            "ticks": "",
            "zerolinecolor": "white"
           },
           "zaxis": {
            "backgroundcolor": "#E5ECF6",
            "gridcolor": "white",
            "gridwidth": 2,
            "linecolor": "white",
            "showbackground": true,
            "ticks": "",
            "zerolinecolor": "white"
           }
          },
          "shapedefaults": {
           "line": {
            "color": "#2a3f5f"
           }
          },
          "ternary": {
           "aaxis": {
            "gridcolor": "white",
            "linecolor": "white",
            "ticks": ""
           },
           "baxis": {
            "gridcolor": "white",
            "linecolor": "white",
            "ticks": ""
           },
           "bgcolor": "#E5ECF6",
           "caxis": {
            "gridcolor": "white",
            "linecolor": "white",
            "ticks": ""
           }
          },
          "title": {
           "x": 0.05
          },
          "xaxis": {
           "automargin": true,
           "gridcolor": "white",
           "linecolor": "white",
           "ticks": "",
           "title": {
            "standoff": 15
           },
           "zerolinecolor": "white",
           "zerolinewidth": 2
          },
          "yaxis": {
           "automargin": true,
           "gridcolor": "white",
           "linecolor": "white",
           "ticks": "",
           "title": {
            "standoff": 15
           },
           "zerolinecolor": "white",
           "zerolinewidth": 2
          }
         }
        },
        "title": {
         "font": {
          "color": "#4D5663"
         },
         "text": "My Graph"
        },
        "xaxis": {
         "gridcolor": "#E1E5ED",
         "showgrid": true,
         "tickfont": {
          "color": "#4D5663"
         },
         "title": {
          "font": {
           "color": "#4D5663"
          },
          "text": "Name of State / UT"
         },
         "zerolinecolor": "#E1E5ED"
        },
        "yaxis": {
         "gridcolor": "#E1E5ED",
         "showgrid": true,
         "tickfont": {
          "color": "#4D5663"
         },
         "title": {
          "font": {
           "color": "#4D5663"
          },
          "text": "Total Cases"
         },
         "zerolinecolor": "#E1E5ED"
        }
       }
      },
      "text/html": [
       "<div>                            <div id=\"68d9b85f-65a5-47fd-b39d-47b5823b425e\" class=\"plotly-graph-div\" style=\"height:525px; width:100%;\"></div>            <script type=\"text/javascript\">                require([\"plotly\"], function(Plotly) {                    window.PLOTLYENV=window.PLOTLYENV || {};\n",
       "                    window.PLOTLYENV.BASE_URL='https://plot.ly';                                    if (document.getElementById(\"68d9b85f-65a5-47fd-b39d-47b5823b425e\")) {                    Plotly.newPlot(                        \"68d9b85f-65a5-47fd-b39d-47b5823b425e\",                        [{\"line\": {\"color\": \"rgba(219, 64, 82, 1.0)\", \"dash\": \"solid\", \"shape\": \"linear\", \"width\": 1.3}, \"marker\": {\"size\": 12, \"symbol\": \"circle\"}, \"mode\": \"markers+lines\", \"name\": \"cases\", \"text\": \"\", \"type\": \"scatter\", \"x\": [\"Maharashtra\", \"Andhra Pradesh\", \"Karnataka\", \"Tamil Nadu\", \"Uttar Pradesh\", \"Delhi\", \"West Bengal \", \"Orissa \", \"Kerala\", \"Telengana\", \"Bihar \", \"Rajasthan\", \"Gujarat\", \"Madhya Pradesh \", \"Haryana\", \"Chhattisgarh \", \"Punjab\", \"Jharkhand \", \"Jammu and Kashmir\", \"Uttarakhand\", \"Goa \", \"Puducherry \", \"Tripura \", \"Himachal Pradesh \", \"Chandigarh \", \"Manipur \", \"Arunachal Pradesh \", \"Meghalaya \", \"Nagaland \", \"Ladakh\", \"Andaman And Nicobar \", \"Sikkim \", \"Dadra And Nagar Haveli \", \"Mizoram \", \"Assam \", \"Lakshadweep \"], \"y\": [1443409, 719256, 640661, 619996, 414466, 290613, 270331, 232713, 229886, 200611, 188168, 144030, 142538, 135638, 133878, 123324, 118157, 87210, 79106, 51481, 35328, 29089, 27033, 15851, 12445, 11855, 10548, 6656, 6552, 4521, 3884, 3174, 3087, 2120, 186, 0]}],                        {\"legend\": {\"bgcolor\": \"#F5F6F9\", \"font\": {\"color\": \"#4D5663\"}}, \"paper_bgcolor\": \"#F5F6F9\", \"plot_bgcolor\": \"#F5F6F9\", \"template\": {\"data\": {\"bar\": [{\"error_x\": {\"color\": \"#2a3f5f\"}, \"error_y\": {\"color\": \"#2a3f5f\"}, \"marker\": {\"line\": {\"color\": \"#E5ECF6\", \"width\": 0.5}}, \"type\": \"bar\"}], \"barpolar\": [{\"marker\": {\"line\": {\"color\": \"#E5ECF6\", \"width\": 0.5}}, \"type\": \"barpolar\"}], \"carpet\": [{\"aaxis\": {\"endlinecolor\": \"#2a3f5f\", \"gridcolor\": \"white\", \"linecolor\": \"white\", \"minorgridcolor\": \"white\", \"startlinecolor\": \"#2a3f5f\"}, \"baxis\": {\"endlinecolor\": \"#2a3f5f\", \"gridcolor\": \"white\", \"linecolor\": \"white\", \"minorgridcolor\": \"white\", \"startlinecolor\": \"#2a3f5f\"}, \"type\": \"carpet\"}], \"choropleth\": [{\"colorbar\": {\"outlinewidth\": 0, \"ticks\": \"\"}, \"type\": \"choropleth\"}], \"contour\": [{\"colorbar\": {\"outlinewidth\": 0, \"ticks\": \"\"}, \"colorscale\": [[0.0, \"#0d0887\"], [0.1111111111111111, \"#46039f\"], [0.2222222222222222, \"#7201a8\"], [0.3333333333333333, \"#9c179e\"], [0.4444444444444444, \"#bd3786\"], [0.5555555555555556, \"#d8576b\"], [0.6666666666666666, \"#ed7953\"], [0.7777777777777778, \"#fb9f3a\"], [0.8888888888888888, \"#fdca26\"], [1.0, \"#f0f921\"]], \"type\": \"contour\"}], \"contourcarpet\": [{\"colorbar\": {\"outlinewidth\": 0, \"ticks\": \"\"}, \"type\": \"contourcarpet\"}], \"heatmap\": [{\"colorbar\": {\"outlinewidth\": 0, \"ticks\": \"\"}, \"colorscale\": [[0.0, \"#0d0887\"], [0.1111111111111111, \"#46039f\"], [0.2222222222222222, \"#7201a8\"], [0.3333333333333333, \"#9c179e\"], [0.4444444444444444, \"#bd3786\"], [0.5555555555555556, \"#d8576b\"], [0.6666666666666666, \"#ed7953\"], [0.7777777777777778, \"#fb9f3a\"], [0.8888888888888888, \"#fdca26\"], [1.0, \"#f0f921\"]], \"type\": \"heatmap\"}], \"heatmapgl\": [{\"colorbar\": {\"outlinewidth\": 0, \"ticks\": \"\"}, \"colorscale\": [[0.0, \"#0d0887\"], [0.1111111111111111, \"#46039f\"], [0.2222222222222222, \"#7201a8\"], [0.3333333333333333, \"#9c179e\"], [0.4444444444444444, \"#bd3786\"], [0.5555555555555556, \"#d8576b\"], [0.6666666666666666, \"#ed7953\"], [0.7777777777777778, \"#fb9f3a\"], [0.8888888888888888, \"#fdca26\"], [1.0, \"#f0f921\"]], \"type\": \"heatmapgl\"}], \"histogram\": [{\"marker\": {\"colorbar\": {\"outlinewidth\": 0, \"ticks\": \"\"}}, \"type\": \"histogram\"}], \"histogram2d\": [{\"colorbar\": {\"outlinewidth\": 0, \"ticks\": \"\"}, \"colorscale\": [[0.0, \"#0d0887\"], [0.1111111111111111, \"#46039f\"], [0.2222222222222222, \"#7201a8\"], [0.3333333333333333, \"#9c179e\"], [0.4444444444444444, \"#bd3786\"], [0.5555555555555556, \"#d8576b\"], [0.6666666666666666, \"#ed7953\"], [0.7777777777777778, \"#fb9f3a\"], [0.8888888888888888, \"#fdca26\"], [1.0, \"#f0f921\"]], \"type\": \"histogram2d\"}], \"histogram2dcontour\": [{\"colorbar\": {\"outlinewidth\": 0, \"ticks\": \"\"}, \"colorscale\": [[0.0, \"#0d0887\"], [0.1111111111111111, \"#46039f\"], [0.2222222222222222, \"#7201a8\"], [0.3333333333333333, \"#9c179e\"], [0.4444444444444444, \"#bd3786\"], [0.5555555555555556, \"#d8576b\"], [0.6666666666666666, \"#ed7953\"], [0.7777777777777778, \"#fb9f3a\"], [0.8888888888888888, \"#fdca26\"], [1.0, \"#f0f921\"]], \"type\": \"histogram2dcontour\"}], \"mesh3d\": [{\"colorbar\": {\"outlinewidth\": 0, \"ticks\": \"\"}, \"type\": \"mesh3d\"}], \"parcoords\": [{\"line\": {\"colorbar\": {\"outlinewidth\": 0, \"ticks\": \"\"}}, \"type\": \"parcoords\"}], \"pie\": [{\"automargin\": true, \"type\": \"pie\"}], \"scatter\": [{\"marker\": {\"colorbar\": {\"outlinewidth\": 0, \"ticks\": \"\"}}, \"type\": \"scatter\"}], \"scatter3d\": [{\"line\": {\"colorbar\": {\"outlinewidth\": 0, \"ticks\": \"\"}}, \"marker\": {\"colorbar\": {\"outlinewidth\": 0, \"ticks\": \"\"}}, \"type\": \"scatter3d\"}], \"scattercarpet\": [{\"marker\": {\"colorbar\": {\"outlinewidth\": 0, \"ticks\": \"\"}}, \"type\": \"scattercarpet\"}], \"scattergeo\": [{\"marker\": {\"colorbar\": {\"outlinewidth\": 0, \"ticks\": \"\"}}, \"type\": \"scattergeo\"}], \"scattergl\": [{\"marker\": {\"colorbar\": {\"outlinewidth\": 0, \"ticks\": \"\"}}, \"type\": \"scattergl\"}], \"scattermapbox\": [{\"marker\": {\"colorbar\": {\"outlinewidth\": 0, \"ticks\": \"\"}}, \"type\": \"scattermapbox\"}], \"scatterpolar\": [{\"marker\": {\"colorbar\": {\"outlinewidth\": 0, \"ticks\": \"\"}}, \"type\": \"scatterpolar\"}], \"scatterpolargl\": [{\"marker\": {\"colorbar\": {\"outlinewidth\": 0, \"ticks\": \"\"}}, \"type\": \"scatterpolargl\"}], \"scatterternary\": [{\"marker\": {\"colorbar\": {\"outlinewidth\": 0, \"ticks\": \"\"}}, \"type\": \"scatterternary\"}], \"surface\": [{\"colorbar\": {\"outlinewidth\": 0, \"ticks\": \"\"}, \"colorscale\": [[0.0, \"#0d0887\"], [0.1111111111111111, \"#46039f\"], [0.2222222222222222, \"#7201a8\"], [0.3333333333333333, \"#9c179e\"], [0.4444444444444444, \"#bd3786\"], [0.5555555555555556, \"#d8576b\"], [0.6666666666666666, \"#ed7953\"], [0.7777777777777778, \"#fb9f3a\"], [0.8888888888888888, \"#fdca26\"], [1.0, \"#f0f921\"]], \"type\": \"surface\"}], \"table\": [{\"cells\": {\"fill\": {\"color\": \"#EBF0F8\"}, \"line\": {\"color\": \"white\"}}, \"header\": {\"fill\": {\"color\": \"#C8D4E3\"}, \"line\": {\"color\": \"white\"}}, \"type\": \"table\"}]}, \"layout\": {\"annotationdefaults\": {\"arrowcolor\": \"#2a3f5f\", \"arrowhead\": 0, \"arrowwidth\": 1}, \"coloraxis\": {\"colorbar\": {\"outlinewidth\": 0, \"ticks\": \"\"}}, \"colorscale\": {\"diverging\": [[0, \"#8e0152\"], [0.1, \"#c51b7d\"], [0.2, \"#de77ae\"], [0.3, \"#f1b6da\"], [0.4, \"#fde0ef\"], [0.5, \"#f7f7f7\"], [0.6, \"#e6f5d0\"], [0.7, \"#b8e186\"], [0.8, \"#7fbc41\"], [0.9, \"#4d9221\"], [1, \"#276419\"]], \"sequential\": [[0.0, \"#0d0887\"], [0.1111111111111111, \"#46039f\"], [0.2222222222222222, \"#7201a8\"], [0.3333333333333333, \"#9c179e\"], [0.4444444444444444, \"#bd3786\"], [0.5555555555555556, \"#d8576b\"], [0.6666666666666666, \"#ed7953\"], [0.7777777777777778, \"#fb9f3a\"], [0.8888888888888888, \"#fdca26\"], [1.0, \"#f0f921\"]], \"sequentialminus\": [[0.0, \"#0d0887\"], [0.1111111111111111, \"#46039f\"], [0.2222222222222222, \"#7201a8\"], [0.3333333333333333, \"#9c179e\"], [0.4444444444444444, \"#bd3786\"], [0.5555555555555556, \"#d8576b\"], [0.6666666666666666, \"#ed7953\"], [0.7777777777777778, \"#fb9f3a\"], [0.8888888888888888, \"#fdca26\"], [1.0, \"#f0f921\"]]}, \"colorway\": [\"#636efa\", \"#EF553B\", \"#00cc96\", \"#ab63fa\", \"#FFA15A\", \"#19d3f3\", \"#FF6692\", \"#B6E880\", \"#FF97FF\", \"#FECB52\"], \"font\": {\"color\": \"#2a3f5f\"}, \"geo\": {\"bgcolor\": \"white\", \"lakecolor\": \"white\", \"landcolor\": \"#E5ECF6\", \"showlakes\": true, \"showland\": true, \"subunitcolor\": \"white\"}, \"hoverlabel\": {\"align\": \"left\"}, \"hovermode\": \"closest\", \"mapbox\": {\"style\": \"light\"}, \"paper_bgcolor\": \"white\", \"plot_bgcolor\": \"#E5ECF6\", \"polar\": {\"angularaxis\": {\"gridcolor\": \"white\", \"linecolor\": \"white\", \"ticks\": \"\"}, \"bgcolor\": \"#E5ECF6\", \"radialaxis\": {\"gridcolor\": \"white\", \"linecolor\": \"white\", \"ticks\": \"\"}}, \"scene\": {\"xaxis\": {\"backgroundcolor\": \"#E5ECF6\", \"gridcolor\": \"white\", \"gridwidth\": 2, \"linecolor\": \"white\", \"showbackground\": true, \"ticks\": \"\", \"zerolinecolor\": \"white\"}, \"yaxis\": {\"backgroundcolor\": \"#E5ECF6\", \"gridcolor\": \"white\", \"gridwidth\": 2, \"linecolor\": \"white\", \"showbackground\": true, \"ticks\": \"\", \"zerolinecolor\": \"white\"}, \"zaxis\": {\"backgroundcolor\": \"#E5ECF6\", \"gridcolor\": \"white\", \"gridwidth\": 2, \"linecolor\": \"white\", \"showbackground\": true, \"ticks\": \"\", \"zerolinecolor\": \"white\"}}, \"shapedefaults\": {\"line\": {\"color\": \"#2a3f5f\"}}, \"ternary\": {\"aaxis\": {\"gridcolor\": \"white\", \"linecolor\": \"white\", \"ticks\": \"\"}, \"baxis\": {\"gridcolor\": \"white\", \"linecolor\": \"white\", \"ticks\": \"\"}, \"bgcolor\": \"#E5ECF6\", \"caxis\": {\"gridcolor\": \"white\", \"linecolor\": \"white\", \"ticks\": \"\"}}, \"title\": {\"x\": 0.05}, \"xaxis\": {\"automargin\": true, \"gridcolor\": \"white\", \"linecolor\": \"white\", \"ticks\": \"\", \"title\": {\"standoff\": 15}, \"zerolinecolor\": \"white\", \"zerolinewidth\": 2}, \"yaxis\": {\"automargin\": true, \"gridcolor\": \"white\", \"linecolor\": \"white\", \"ticks\": \"\", \"title\": {\"standoff\": 15}, \"zerolinecolor\": \"white\", \"zerolinewidth\": 2}}}, \"title\": {\"font\": {\"color\": \"#4D5663\"}, \"text\": \"My Graph\"}, \"xaxis\": {\"gridcolor\": \"#E1E5ED\", \"showgrid\": true, \"tickfont\": {\"color\": \"#4D5663\"}, \"title\": {\"font\": {\"color\": \"#4D5663\"}, \"text\": \"Name of State / UT\"}, \"zerolinecolor\": \"#E1E5ED\"}, \"yaxis\": {\"gridcolor\": \"#E1E5ED\", \"showgrid\": true, \"tickfont\": {\"color\": \"#4D5663\"}, \"title\": {\"font\": {\"color\": \"#4D5663\"}, \"text\": \"Total Cases\"}, \"zerolinecolor\": \"#E1E5ED\"}},                        {\"showLink\": true, \"linkText\": \"Export to plot.ly\", \"plotlyServerURL\": \"https://plot.ly\", \"responsive\": true}                    ).then(function(){\n",
       "                            \n",
       "var gd = document.getElementById('68d9b85f-65a5-47fd-b39d-47b5823b425e');\n",
       "var x = new MutationObserver(function (mutations, observer) {{\n",
       "        var display = window.getComputedStyle(gd).display;\n",
       "        if (!display || display === 'none') {{\n",
       "            console.log([gd, 'removed!']);\n",
       "            Plotly.purge(gd);\n",
       "            observer.disconnect();\n",
       "        }}\n",
       "}});\n",
       "\n",
       "// Listen for the removal of the full notebook cells\n",
       "var notebookContainer = gd.closest('#notebook-container');\n",
       "if (notebookContainer) {{\n",
       "    x.observe(notebookContainer, {childList: true});\n",
       "}}\n",
       "\n",
       "// Listen for the clearing of the current output cell\n",
       "var outputEl = gd.closest('.output');\n",
       "if (outputEl) {{\n",
       "    x.observe(outputEl, {childList: true});\n",
       "}}\n",
       "\n",
       "                        })                };                });            </script>        </div>"
      ]
     },
     "metadata": {},
     "output_type": "display_data"
    }
   ],
   "source": [
    "df_cases.iplot(kind='scatter',x='Name of State / UT',y='cases',mode='markers+lines',title='My Graph',\n",
    "               xTitle='Name of State / UT',yTitle='Total Cases',colors='red',size=12)"
   ]
  },
  {
   "cell_type": "code",
   "execution_count": 28,
   "metadata": {},
   "outputs": [
    {
     "data": {
      "text/html": [
       "<div>\n",
       "<style scoped>\n",
       "    .dataframe tbody tr th:only-of-type {\n",
       "        vertical-align: middle;\n",
       "    }\n",
       "\n",
       "    .dataframe tbody tr th {\n",
       "        vertical-align: top;\n",
       "    }\n",
       "\n",
       "    .dataframe thead th {\n",
       "        text-align: right;\n",
       "    }\n",
       "</style>\n",
       "<table border=\"1\" class=\"dataframe\">\n",
       "  <thead>\n",
       "    <tr style=\"text-align: right;\">\n",
       "      <th></th>\n",
       "      <th>Name of State / UT</th>\n",
       "      <th>Latitude</th>\n",
       "      <th>Longitude</th>\n",
       "      <th>cases</th>\n",
       "      <th>deaths</th>\n",
       "      <th>recovered</th>\n",
       "      <th>active</th>\n",
       "    </tr>\n",
       "  </thead>\n",
       "  <tbody>\n",
       "    <tr>\n",
       "      <th>20</th>\n",
       "      <td>Maharashtra</td>\n",
       "      <td>19.250232</td>\n",
       "      <td>73.160175</td>\n",
       "      <td>1443409</td>\n",
       "      <td>38084</td>\n",
       "      <td>1149603</td>\n",
       "      <td>255722</td>\n",
       "    </tr>\n",
       "    <tr>\n",
       "      <th>1</th>\n",
       "      <td>Andhra Pradesh</td>\n",
       "      <td>14.750429</td>\n",
       "      <td>78.570026</td>\n",
       "      <td>719256</td>\n",
       "      <td>5981</td>\n",
       "      <td>658875</td>\n",
       "      <td>54400</td>\n",
       "    </tr>\n",
       "    <tr>\n",
       "      <th>30</th>\n",
       "      <td>Tamil Nadu</td>\n",
       "      <td>12.920386</td>\n",
       "      <td>79.150042</td>\n",
       "      <td>619996</td>\n",
       "      <td>9784</td>\n",
       "      <td>564092</td>\n",
       "      <td>46120</td>\n",
       "    </tr>\n",
       "    <tr>\n",
       "      <th>15</th>\n",
       "      <td>Karnataka</td>\n",
       "      <td>12.570381</td>\n",
       "      <td>76.919997</td>\n",
       "      <td>640661</td>\n",
       "      <td>9286</td>\n",
       "      <td>515782</td>\n",
       "      <td>115593</td>\n",
       "    </tr>\n",
       "    <tr>\n",
       "      <th>34</th>\n",
       "      <td>Uttar Pradesh</td>\n",
       "      <td>27.599981</td>\n",
       "      <td>78.050006</td>\n",
       "      <td>414466</td>\n",
       "      <td>6029</td>\n",
       "      <td>362052</td>\n",
       "      <td>46385</td>\n",
       "    </tr>\n",
       "  </tbody>\n",
       "</table>\n",
       "</div>"
      ],
      "text/plain": [
       "   Name of State / UT   Latitude  Longitude    cases  deaths  recovered  \\\n",
       "20        Maharashtra  19.250232  73.160175  1443409   38084    1149603   \n",
       "1      Andhra Pradesh  14.750429  78.570026   719256    5981     658875   \n",
       "30         Tamil Nadu  12.920386  79.150042   619996    9784     564092   \n",
       "15          Karnataka  12.570381  76.919997   640661    9286     515782   \n",
       "34      Uttar Pradesh  27.599981  78.050006   414466    6029     362052   \n",
       "\n",
       "    active  \n",
       "20  255722  \n",
       "1    54400  \n",
       "30   46120  \n",
       "15  115593  \n",
       "34   46385  "
      ]
     },
     "execution_count": 28,
     "metadata": {},
     "output_type": "execute_result"
    }
   ],
   "source": [
    "df_recovered=df.sort_values(by=['recovered'], ascending=False)\n",
    "df_recovered.head()"
   ]
  },
  {
   "cell_type": "code",
   "execution_count": 29,
   "metadata": {},
   "outputs": [
    {
     "data": {
      "application/vnd.plotly.v1+json": {
       "config": {
        "linkText": "Export to plot.ly",
        "plotlyServerURL": "https://plot.ly",
        "showLink": true
       },
       "data": [
        {
         "line": {
          "color": "rgba(219, 64, 82, 1.0)",
          "dash": "solid",
          "shape": "linear",
          "width": 1.3
         },
         "marker": {
          "size": 12,
          "symbol": "circle"
         },
         "mode": "markers+lines",
         "name": "recovered",
         "text": "",
         "type": "scatter",
         "x": [
          "Maharashtra",
          "Andhra Pradesh",
          "Tamil Nadu",
          "Karnataka",
          "Uttar Pradesh",
          "Delhi",
          "West Bengal ",
          "Orissa ",
          "Bihar ",
          "Telengana",
          "Assam ",
          "Kerala",
          "Gujarat",
          "Rajasthan",
          "Haryana",
          "Madhya Pradesh ",
          "Punjab",
          "Chhattisgarh ",
          "Jharkhand ",
          "Jammu and Kashmir",
          "Uttarakhand",
          "Goa ",
          "Puducherry ",
          "Tripura ",
          "Himachal Pradesh ",
          "Chandigarh ",
          "Manipur ",
          "Arunachal Pradesh ",
          "Nagaland ",
          "Meghalaya ",
          "Andaman And Nicobar ",
          "Ladakh",
          "Dadra And Nagar Haveli ",
          "Sikkim ",
          "Mizoram ",
          "Lakshadweep "
         ],
         "y": [
          1149603,
          658875,
          564092,
          515782,
          362052,
          260350,
          237698,
          202302,
          175458,
          172388,
          152127,
          144471,
          122233,
          121331,
          120341,
          113832,
          100977,
          93731,
          75531,
          62404,
          41740,
          30033,
          23763,
          21876,
          12361,
          10598,
          9205,
          7577,
          5309,
          4393,
          3649,
          3354,
          2980,
          2480,
          1807,
          0
         ]
        }
       ],
       "layout": {
        "legend": {
         "bgcolor": "#F5F6F9",
         "font": {
          "color": "#4D5663"
         }
        },
        "paper_bgcolor": "#F5F6F9",
        "plot_bgcolor": "#F5F6F9",
        "template": {
         "data": {
          "bar": [
           {
            "error_x": {
             "color": "#2a3f5f"
            },
            "error_y": {
             "color": "#2a3f5f"
            },
            "marker": {
             "line": {
              "color": "#E5ECF6",
              "width": 0.5
             }
            },
            "type": "bar"
           }
          ],
          "barpolar": [
           {
            "marker": {
             "line": {
              "color": "#E5ECF6",
              "width": 0.5
             }
            },
            "type": "barpolar"
           }
          ],
          "carpet": [
           {
            "aaxis": {
             "endlinecolor": "#2a3f5f",
             "gridcolor": "white",
             "linecolor": "white",
             "minorgridcolor": "white",
             "startlinecolor": "#2a3f5f"
            },
            "baxis": {
             "endlinecolor": "#2a3f5f",
             "gridcolor": "white",
             "linecolor": "white",
             "minorgridcolor": "white",
             "startlinecolor": "#2a3f5f"
            },
            "type": "carpet"
           }
          ],
          "choropleth": [
           {
            "colorbar": {
             "outlinewidth": 0,
             "ticks": ""
            },
            "type": "choropleth"
           }
          ],
          "contour": [
           {
            "colorbar": {
             "outlinewidth": 0,
             "ticks": ""
            },
            "colorscale": [
             [
              0,
              "#0d0887"
             ],
             [
              0.1111111111111111,
              "#46039f"
             ],
             [
              0.2222222222222222,
              "#7201a8"
             ],
             [
              0.3333333333333333,
              "#9c179e"
             ],
             [
              0.4444444444444444,
              "#bd3786"
             ],
             [
              0.5555555555555556,
              "#d8576b"
             ],
             [
              0.6666666666666666,
              "#ed7953"
             ],
             [
              0.7777777777777778,
              "#fb9f3a"
             ],
             [
              0.8888888888888888,
              "#fdca26"
             ],
             [
              1,
              "#f0f921"
             ]
            ],
            "type": "contour"
           }
          ],
          "contourcarpet": [
           {
            "colorbar": {
             "outlinewidth": 0,
             "ticks": ""
            },
            "type": "contourcarpet"
           }
          ],
          "heatmap": [
           {
            "colorbar": {
             "outlinewidth": 0,
             "ticks": ""
            },
            "colorscale": [
             [
              0,
              "#0d0887"
             ],
             [
              0.1111111111111111,
              "#46039f"
             ],
             [
              0.2222222222222222,
              "#7201a8"
             ],
             [
              0.3333333333333333,
              "#9c179e"
             ],
             [
              0.4444444444444444,
              "#bd3786"
             ],
             [
              0.5555555555555556,
              "#d8576b"
             ],
             [
              0.6666666666666666,
              "#ed7953"
             ],
             [
              0.7777777777777778,
              "#fb9f3a"
             ],
             [
              0.8888888888888888,
              "#fdca26"
             ],
             [
              1,
              "#f0f921"
             ]
            ],
            "type": "heatmap"
           }
          ],
          "heatmapgl": [
           {
            "colorbar": {
             "outlinewidth": 0,
             "ticks": ""
            },
            "colorscale": [
             [
              0,
              "#0d0887"
             ],
             [
              0.1111111111111111,
              "#46039f"
             ],
             [
              0.2222222222222222,
              "#7201a8"
             ],
             [
              0.3333333333333333,
              "#9c179e"
             ],
             [
              0.4444444444444444,
              "#bd3786"
             ],
             [
              0.5555555555555556,
              "#d8576b"
             ],
             [
              0.6666666666666666,
              "#ed7953"
             ],
             [
              0.7777777777777778,
              "#fb9f3a"
             ],
             [
              0.8888888888888888,
              "#fdca26"
             ],
             [
              1,
              "#f0f921"
             ]
            ],
            "type": "heatmapgl"
           }
          ],
          "histogram": [
           {
            "marker": {
             "colorbar": {
              "outlinewidth": 0,
              "ticks": ""
             }
            },
            "type": "histogram"
           }
          ],
          "histogram2d": [
           {
            "colorbar": {
             "outlinewidth": 0,
             "ticks": ""
            },
            "colorscale": [
             [
              0,
              "#0d0887"
             ],
             [
              0.1111111111111111,
              "#46039f"
             ],
             [
              0.2222222222222222,
              "#7201a8"
             ],
             [
              0.3333333333333333,
              "#9c179e"
             ],
             [
              0.4444444444444444,
              "#bd3786"
             ],
             [
              0.5555555555555556,
              "#d8576b"
             ],
             [
              0.6666666666666666,
              "#ed7953"
             ],
             [
              0.7777777777777778,
              "#fb9f3a"
             ],
             [
              0.8888888888888888,
              "#fdca26"
             ],
             [
              1,
              "#f0f921"
             ]
            ],
            "type": "histogram2d"
           }
          ],
          "histogram2dcontour": [
           {
            "colorbar": {
             "outlinewidth": 0,
             "ticks": ""
            },
            "colorscale": [
             [
              0,
              "#0d0887"
             ],
             [
              0.1111111111111111,
              "#46039f"
             ],
             [
              0.2222222222222222,
              "#7201a8"
             ],
             [
              0.3333333333333333,
              "#9c179e"
             ],
             [
              0.4444444444444444,
              "#bd3786"
             ],
             [
              0.5555555555555556,
              "#d8576b"
             ],
             [
              0.6666666666666666,
              "#ed7953"
             ],
             [
              0.7777777777777778,
              "#fb9f3a"
             ],
             [
              0.8888888888888888,
              "#fdca26"
             ],
             [
              1,
              "#f0f921"
             ]
            ],
            "type": "histogram2dcontour"
           }
          ],
          "mesh3d": [
           {
            "colorbar": {
             "outlinewidth": 0,
             "ticks": ""
            },
            "type": "mesh3d"
           }
          ],
          "parcoords": [
           {
            "line": {
             "colorbar": {
              "outlinewidth": 0,
              "ticks": ""
             }
            },
            "type": "parcoords"
           }
          ],
          "pie": [
           {
            "automargin": true,
            "type": "pie"
           }
          ],
          "scatter": [
           {
            "marker": {
             "colorbar": {
              "outlinewidth": 0,
              "ticks": ""
             }
            },
            "type": "scatter"
           }
          ],
          "scatter3d": [
           {
            "line": {
             "colorbar": {
              "outlinewidth": 0,
              "ticks": ""
             }
            },
            "marker": {
             "colorbar": {
              "outlinewidth": 0,
              "ticks": ""
             }
            },
            "type": "scatter3d"
           }
          ],
          "scattercarpet": [
           {
            "marker": {
             "colorbar": {
              "outlinewidth": 0,
              "ticks": ""
             }
            },
            "type": "scattercarpet"
           }
          ],
          "scattergeo": [
           {
            "marker": {
             "colorbar": {
              "outlinewidth": 0,
              "ticks": ""
             }
            },
            "type": "scattergeo"
           }
          ],
          "scattergl": [
           {
            "marker": {
             "colorbar": {
              "outlinewidth": 0,
              "ticks": ""
             }
            },
            "type": "scattergl"
           }
          ],
          "scattermapbox": [
           {
            "marker": {
             "colorbar": {
              "outlinewidth": 0,
              "ticks": ""
             }
            },
            "type": "scattermapbox"
           }
          ],
          "scatterpolar": [
           {
            "marker": {
             "colorbar": {
              "outlinewidth": 0,
              "ticks": ""
             }
            },
            "type": "scatterpolar"
           }
          ],
          "scatterpolargl": [
           {
            "marker": {
             "colorbar": {
              "outlinewidth": 0,
              "ticks": ""
             }
            },
            "type": "scatterpolargl"
           }
          ],
          "scatterternary": [
           {
            "marker": {
             "colorbar": {
              "outlinewidth": 0,
              "ticks": ""
             }
            },
            "type": "scatterternary"
           }
          ],
          "surface": [
           {
            "colorbar": {
             "outlinewidth": 0,
             "ticks": ""
            },
            "colorscale": [
             [
              0,
              "#0d0887"
             ],
             [
              0.1111111111111111,
              "#46039f"
             ],
             [
              0.2222222222222222,
              "#7201a8"
             ],
             [
              0.3333333333333333,
              "#9c179e"
             ],
             [
              0.4444444444444444,
              "#bd3786"
             ],
             [
              0.5555555555555556,
              "#d8576b"
             ],
             [
              0.6666666666666666,
              "#ed7953"
             ],
             [
              0.7777777777777778,
              "#fb9f3a"
             ],
             [
              0.8888888888888888,
              "#fdca26"
             ],
             [
              1,
              "#f0f921"
             ]
            ],
            "type": "surface"
           }
          ],
          "table": [
           {
            "cells": {
             "fill": {
              "color": "#EBF0F8"
             },
             "line": {
              "color": "white"
             }
            },
            "header": {
             "fill": {
              "color": "#C8D4E3"
             },
             "line": {
              "color": "white"
             }
            },
            "type": "table"
           }
          ]
         },
         "layout": {
          "annotationdefaults": {
           "arrowcolor": "#2a3f5f",
           "arrowhead": 0,
           "arrowwidth": 1
          },
          "coloraxis": {
           "colorbar": {
            "outlinewidth": 0,
            "ticks": ""
           }
          },
          "colorscale": {
           "diverging": [
            [
             0,
             "#8e0152"
            ],
            [
             0.1,
             "#c51b7d"
            ],
            [
             0.2,
             "#de77ae"
            ],
            [
             0.3,
             "#f1b6da"
            ],
            [
             0.4,
             "#fde0ef"
            ],
            [
             0.5,
             "#f7f7f7"
            ],
            [
             0.6,
             "#e6f5d0"
            ],
            [
             0.7,
             "#b8e186"
            ],
            [
             0.8,
             "#7fbc41"
            ],
            [
             0.9,
             "#4d9221"
            ],
            [
             1,
             "#276419"
            ]
           ],
           "sequential": [
            [
             0,
             "#0d0887"
            ],
            [
             0.1111111111111111,
             "#46039f"
            ],
            [
             0.2222222222222222,
             "#7201a8"
            ],
            [
             0.3333333333333333,
             "#9c179e"
            ],
            [
             0.4444444444444444,
             "#bd3786"
            ],
            [
             0.5555555555555556,
             "#d8576b"
            ],
            [
             0.6666666666666666,
             "#ed7953"
            ],
            [
             0.7777777777777778,
             "#fb9f3a"
            ],
            [
             0.8888888888888888,
             "#fdca26"
            ],
            [
             1,
             "#f0f921"
            ]
           ],
           "sequentialminus": [
            [
             0,
             "#0d0887"
            ],
            [
             0.1111111111111111,
             "#46039f"
            ],
            [
             0.2222222222222222,
             "#7201a8"
            ],
            [
             0.3333333333333333,
             "#9c179e"
            ],
            [
             0.4444444444444444,
             "#bd3786"
            ],
            [
             0.5555555555555556,
             "#d8576b"
            ],
            [
             0.6666666666666666,
             "#ed7953"
            ],
            [
             0.7777777777777778,
             "#fb9f3a"
            ],
            [
             0.8888888888888888,
             "#fdca26"
            ],
            [
             1,
             "#f0f921"
            ]
           ]
          },
          "colorway": [
           "#636efa",
           "#EF553B",
           "#00cc96",
           "#ab63fa",
           "#FFA15A",
           "#19d3f3",
           "#FF6692",
           "#B6E880",
           "#FF97FF",
           "#FECB52"
          ],
          "font": {
           "color": "#2a3f5f"
          },
          "geo": {
           "bgcolor": "white",
           "lakecolor": "white",
           "landcolor": "#E5ECF6",
           "showlakes": true,
           "showland": true,
           "subunitcolor": "white"
          },
          "hoverlabel": {
           "align": "left"
          },
          "hovermode": "closest",
          "mapbox": {
           "style": "light"
          },
          "paper_bgcolor": "white",
          "plot_bgcolor": "#E5ECF6",
          "polar": {
           "angularaxis": {
            "gridcolor": "white",
            "linecolor": "white",
            "ticks": ""
           },
           "bgcolor": "#E5ECF6",
           "radialaxis": {
            "gridcolor": "white",
            "linecolor": "white",
            "ticks": ""
           }
          },
          "scene": {
           "xaxis": {
            "backgroundcolor": "#E5ECF6",
            "gridcolor": "white",
            "gridwidth": 2,
            "linecolor": "white",
            "showbackground": true,
            "ticks": "",
            "zerolinecolor": "white"
           },
           "yaxis": {
            "backgroundcolor": "#E5ECF6",
            "gridcolor": "white",
            "gridwidth": 2,
            "linecolor": "white",
            "showbackground": true,
            "ticks": "",
            "zerolinecolor": "white"
           },
           "zaxis": {
            "backgroundcolor": "#E5ECF6",
            "gridcolor": "white",
            "gridwidth": 2,
            "linecolor": "white",
            "showbackground": true,
            "ticks": "",
            "zerolinecolor": "white"
           }
          },
          "shapedefaults": {
           "line": {
            "color": "#2a3f5f"
           }
          },
          "ternary": {
           "aaxis": {
            "gridcolor": "white",
            "linecolor": "white",
            "ticks": ""
           },
           "baxis": {
            "gridcolor": "white",
            "linecolor": "white",
            "ticks": ""
           },
           "bgcolor": "#E5ECF6",
           "caxis": {
            "gridcolor": "white",
            "linecolor": "white",
            "ticks": ""
           }
          },
          "title": {
           "x": 0.05
          },
          "xaxis": {
           "automargin": true,
           "gridcolor": "white",
           "linecolor": "white",
           "ticks": "",
           "title": {
            "standoff": 15
           },
           "zerolinecolor": "white",
           "zerolinewidth": 2
          },
          "yaxis": {
           "automargin": true,
           "gridcolor": "white",
           "linecolor": "white",
           "ticks": "",
           "title": {
            "standoff": 15
           },
           "zerolinecolor": "white",
           "zerolinewidth": 2
          }
         }
        },
        "title": {
         "font": {
          "color": "#4D5663"
         },
         "text": "My Graph"
        },
        "xaxis": {
         "gridcolor": "#E1E5ED",
         "showgrid": true,
         "tickfont": {
          "color": "#4D5663"
         },
         "title": {
          "font": {
           "color": "#4D5663"
          },
          "text": "Name of State / UT"
         },
         "zerolinecolor": "#E1E5ED"
        },
        "yaxis": {
         "gridcolor": "#E1E5ED",
         "showgrid": true,
         "tickfont": {
          "color": "#4D5663"
         },
         "title": {
          "font": {
           "color": "#4D5663"
          },
          "text": "Total Recovered"
         },
         "zerolinecolor": "#E1E5ED"
        }
       }
      },
      "text/html": [
       "<div>                            <div id=\"b6148ad2-7cba-46ac-86a5-3f8113b57905\" class=\"plotly-graph-div\" style=\"height:525px; width:100%;\"></div>            <script type=\"text/javascript\">                require([\"plotly\"], function(Plotly) {                    window.PLOTLYENV=window.PLOTLYENV || {};\n",
       "                    window.PLOTLYENV.BASE_URL='https://plot.ly';                                    if (document.getElementById(\"b6148ad2-7cba-46ac-86a5-3f8113b57905\")) {                    Plotly.newPlot(                        \"b6148ad2-7cba-46ac-86a5-3f8113b57905\",                        [{\"line\": {\"color\": \"rgba(219, 64, 82, 1.0)\", \"dash\": \"solid\", \"shape\": \"linear\", \"width\": 1.3}, \"marker\": {\"size\": 12, \"symbol\": \"circle\"}, \"mode\": \"markers+lines\", \"name\": \"recovered\", \"text\": \"\", \"type\": \"scatter\", \"x\": [\"Maharashtra\", \"Andhra Pradesh\", \"Tamil Nadu\", \"Karnataka\", \"Uttar Pradesh\", \"Delhi\", \"West Bengal \", \"Orissa \", \"Bihar \", \"Telengana\", \"Assam \", \"Kerala\", \"Gujarat\", \"Rajasthan\", \"Haryana\", \"Madhya Pradesh \", \"Punjab\", \"Chhattisgarh \", \"Jharkhand \", \"Jammu and Kashmir\", \"Uttarakhand\", \"Goa \", \"Puducherry \", \"Tripura \", \"Himachal Pradesh \", \"Chandigarh \", \"Manipur \", \"Arunachal Pradesh \", \"Nagaland \", \"Meghalaya \", \"Andaman And Nicobar \", \"Ladakh\", \"Dadra And Nagar Haveli \", \"Sikkim \", \"Mizoram \", \"Lakshadweep \"], \"y\": [1149603, 658875, 564092, 515782, 362052, 260350, 237698, 202302, 175458, 172388, 152127, 144471, 122233, 121331, 120341, 113832, 100977, 93731, 75531, 62404, 41740, 30033, 23763, 21876, 12361, 10598, 9205, 7577, 5309, 4393, 3649, 3354, 2980, 2480, 1807, 0]}],                        {\"legend\": {\"bgcolor\": \"#F5F6F9\", \"font\": {\"color\": \"#4D5663\"}}, \"paper_bgcolor\": \"#F5F6F9\", \"plot_bgcolor\": \"#F5F6F9\", \"template\": {\"data\": {\"bar\": [{\"error_x\": {\"color\": \"#2a3f5f\"}, \"error_y\": {\"color\": \"#2a3f5f\"}, \"marker\": {\"line\": {\"color\": \"#E5ECF6\", \"width\": 0.5}}, \"type\": \"bar\"}], \"barpolar\": [{\"marker\": {\"line\": {\"color\": \"#E5ECF6\", \"width\": 0.5}}, \"type\": \"barpolar\"}], \"carpet\": [{\"aaxis\": {\"endlinecolor\": \"#2a3f5f\", \"gridcolor\": \"white\", \"linecolor\": \"white\", \"minorgridcolor\": \"white\", \"startlinecolor\": \"#2a3f5f\"}, \"baxis\": {\"endlinecolor\": \"#2a3f5f\", \"gridcolor\": \"white\", \"linecolor\": \"white\", \"minorgridcolor\": \"white\", \"startlinecolor\": \"#2a3f5f\"}, \"type\": \"carpet\"}], \"choropleth\": [{\"colorbar\": {\"outlinewidth\": 0, \"ticks\": \"\"}, \"type\": \"choropleth\"}], \"contour\": [{\"colorbar\": {\"outlinewidth\": 0, \"ticks\": \"\"}, \"colorscale\": [[0.0, \"#0d0887\"], [0.1111111111111111, \"#46039f\"], [0.2222222222222222, \"#7201a8\"], [0.3333333333333333, \"#9c179e\"], [0.4444444444444444, \"#bd3786\"], [0.5555555555555556, \"#d8576b\"], [0.6666666666666666, \"#ed7953\"], [0.7777777777777778, \"#fb9f3a\"], [0.8888888888888888, \"#fdca26\"], [1.0, \"#f0f921\"]], \"type\": \"contour\"}], \"contourcarpet\": [{\"colorbar\": {\"outlinewidth\": 0, \"ticks\": \"\"}, \"type\": \"contourcarpet\"}], \"heatmap\": [{\"colorbar\": {\"outlinewidth\": 0, \"ticks\": \"\"}, \"colorscale\": [[0.0, \"#0d0887\"], [0.1111111111111111, \"#46039f\"], [0.2222222222222222, \"#7201a8\"], [0.3333333333333333, \"#9c179e\"], [0.4444444444444444, \"#bd3786\"], [0.5555555555555556, \"#d8576b\"], [0.6666666666666666, \"#ed7953\"], [0.7777777777777778, \"#fb9f3a\"], [0.8888888888888888, \"#fdca26\"], [1.0, \"#f0f921\"]], \"type\": \"heatmap\"}], \"heatmapgl\": [{\"colorbar\": {\"outlinewidth\": 0, \"ticks\": \"\"}, \"colorscale\": [[0.0, \"#0d0887\"], [0.1111111111111111, \"#46039f\"], [0.2222222222222222, \"#7201a8\"], [0.3333333333333333, \"#9c179e\"], [0.4444444444444444, \"#bd3786\"], [0.5555555555555556, \"#d8576b\"], [0.6666666666666666, \"#ed7953\"], [0.7777777777777778, \"#fb9f3a\"], [0.8888888888888888, \"#fdca26\"], [1.0, \"#f0f921\"]], \"type\": \"heatmapgl\"}], \"histogram\": [{\"marker\": {\"colorbar\": {\"outlinewidth\": 0, \"ticks\": \"\"}}, \"type\": \"histogram\"}], \"histogram2d\": [{\"colorbar\": {\"outlinewidth\": 0, \"ticks\": \"\"}, \"colorscale\": [[0.0, \"#0d0887\"], [0.1111111111111111, \"#46039f\"], [0.2222222222222222, \"#7201a8\"], [0.3333333333333333, \"#9c179e\"], [0.4444444444444444, \"#bd3786\"], [0.5555555555555556, \"#d8576b\"], [0.6666666666666666, \"#ed7953\"], [0.7777777777777778, \"#fb9f3a\"], [0.8888888888888888, \"#fdca26\"], [1.0, \"#f0f921\"]], \"type\": \"histogram2d\"}], \"histogram2dcontour\": [{\"colorbar\": {\"outlinewidth\": 0, \"ticks\": \"\"}, \"colorscale\": [[0.0, \"#0d0887\"], [0.1111111111111111, \"#46039f\"], [0.2222222222222222, \"#7201a8\"], [0.3333333333333333, \"#9c179e\"], [0.4444444444444444, \"#bd3786\"], [0.5555555555555556, \"#d8576b\"], [0.6666666666666666, \"#ed7953\"], [0.7777777777777778, \"#fb9f3a\"], [0.8888888888888888, \"#fdca26\"], [1.0, \"#f0f921\"]], \"type\": \"histogram2dcontour\"}], \"mesh3d\": [{\"colorbar\": {\"outlinewidth\": 0, \"ticks\": \"\"}, \"type\": \"mesh3d\"}], \"parcoords\": [{\"line\": {\"colorbar\": {\"outlinewidth\": 0, \"ticks\": \"\"}}, \"type\": \"parcoords\"}], \"pie\": [{\"automargin\": true, \"type\": \"pie\"}], \"scatter\": [{\"marker\": {\"colorbar\": {\"outlinewidth\": 0, \"ticks\": \"\"}}, \"type\": \"scatter\"}], \"scatter3d\": [{\"line\": {\"colorbar\": {\"outlinewidth\": 0, \"ticks\": \"\"}}, \"marker\": {\"colorbar\": {\"outlinewidth\": 0, \"ticks\": \"\"}}, \"type\": \"scatter3d\"}], \"scattercarpet\": [{\"marker\": {\"colorbar\": {\"outlinewidth\": 0, \"ticks\": \"\"}}, \"type\": \"scattercarpet\"}], \"scattergeo\": [{\"marker\": {\"colorbar\": {\"outlinewidth\": 0, \"ticks\": \"\"}}, \"type\": \"scattergeo\"}], \"scattergl\": [{\"marker\": {\"colorbar\": {\"outlinewidth\": 0, \"ticks\": \"\"}}, \"type\": \"scattergl\"}], \"scattermapbox\": [{\"marker\": {\"colorbar\": {\"outlinewidth\": 0, \"ticks\": \"\"}}, \"type\": \"scattermapbox\"}], \"scatterpolar\": [{\"marker\": {\"colorbar\": {\"outlinewidth\": 0, \"ticks\": \"\"}}, \"type\": \"scatterpolar\"}], \"scatterpolargl\": [{\"marker\": {\"colorbar\": {\"outlinewidth\": 0, \"ticks\": \"\"}}, \"type\": \"scatterpolargl\"}], \"scatterternary\": [{\"marker\": {\"colorbar\": {\"outlinewidth\": 0, \"ticks\": \"\"}}, \"type\": \"scatterternary\"}], \"surface\": [{\"colorbar\": {\"outlinewidth\": 0, \"ticks\": \"\"}, \"colorscale\": [[0.0, \"#0d0887\"], [0.1111111111111111, \"#46039f\"], [0.2222222222222222, \"#7201a8\"], [0.3333333333333333, \"#9c179e\"], [0.4444444444444444, \"#bd3786\"], [0.5555555555555556, \"#d8576b\"], [0.6666666666666666, \"#ed7953\"], [0.7777777777777778, \"#fb9f3a\"], [0.8888888888888888, \"#fdca26\"], [1.0, \"#f0f921\"]], \"type\": \"surface\"}], \"table\": [{\"cells\": {\"fill\": {\"color\": \"#EBF0F8\"}, \"line\": {\"color\": \"white\"}}, \"header\": {\"fill\": {\"color\": \"#C8D4E3\"}, \"line\": {\"color\": \"white\"}}, \"type\": \"table\"}]}, \"layout\": {\"annotationdefaults\": {\"arrowcolor\": \"#2a3f5f\", \"arrowhead\": 0, \"arrowwidth\": 1}, \"coloraxis\": {\"colorbar\": {\"outlinewidth\": 0, \"ticks\": \"\"}}, \"colorscale\": {\"diverging\": [[0, \"#8e0152\"], [0.1, \"#c51b7d\"], [0.2, \"#de77ae\"], [0.3, \"#f1b6da\"], [0.4, \"#fde0ef\"], [0.5, \"#f7f7f7\"], [0.6, \"#e6f5d0\"], [0.7, \"#b8e186\"], [0.8, \"#7fbc41\"], [0.9, \"#4d9221\"], [1, \"#276419\"]], \"sequential\": [[0.0, \"#0d0887\"], [0.1111111111111111, \"#46039f\"], [0.2222222222222222, \"#7201a8\"], [0.3333333333333333, \"#9c179e\"], [0.4444444444444444, \"#bd3786\"], [0.5555555555555556, \"#d8576b\"], [0.6666666666666666, \"#ed7953\"], [0.7777777777777778, \"#fb9f3a\"], [0.8888888888888888, \"#fdca26\"], [1.0, \"#f0f921\"]], \"sequentialminus\": [[0.0, \"#0d0887\"], [0.1111111111111111, \"#46039f\"], [0.2222222222222222, \"#7201a8\"], [0.3333333333333333, \"#9c179e\"], [0.4444444444444444, \"#bd3786\"], [0.5555555555555556, \"#d8576b\"], [0.6666666666666666, \"#ed7953\"], [0.7777777777777778, \"#fb9f3a\"], [0.8888888888888888, \"#fdca26\"], [1.0, \"#f0f921\"]]}, \"colorway\": [\"#636efa\", \"#EF553B\", \"#00cc96\", \"#ab63fa\", \"#FFA15A\", \"#19d3f3\", \"#FF6692\", \"#B6E880\", \"#FF97FF\", \"#FECB52\"], \"font\": {\"color\": \"#2a3f5f\"}, \"geo\": {\"bgcolor\": \"white\", \"lakecolor\": \"white\", \"landcolor\": \"#E5ECF6\", \"showlakes\": true, \"showland\": true, \"subunitcolor\": \"white\"}, \"hoverlabel\": {\"align\": \"left\"}, \"hovermode\": \"closest\", \"mapbox\": {\"style\": \"light\"}, \"paper_bgcolor\": \"white\", \"plot_bgcolor\": \"#E5ECF6\", \"polar\": {\"angularaxis\": {\"gridcolor\": \"white\", \"linecolor\": \"white\", \"ticks\": \"\"}, \"bgcolor\": \"#E5ECF6\", \"radialaxis\": {\"gridcolor\": \"white\", \"linecolor\": \"white\", \"ticks\": \"\"}}, \"scene\": {\"xaxis\": {\"backgroundcolor\": \"#E5ECF6\", \"gridcolor\": \"white\", \"gridwidth\": 2, \"linecolor\": \"white\", \"showbackground\": true, \"ticks\": \"\", \"zerolinecolor\": \"white\"}, \"yaxis\": {\"backgroundcolor\": \"#E5ECF6\", \"gridcolor\": \"white\", \"gridwidth\": 2, \"linecolor\": \"white\", \"showbackground\": true, \"ticks\": \"\", \"zerolinecolor\": \"white\"}, \"zaxis\": {\"backgroundcolor\": \"#E5ECF6\", \"gridcolor\": \"white\", \"gridwidth\": 2, \"linecolor\": \"white\", \"showbackground\": true, \"ticks\": \"\", \"zerolinecolor\": \"white\"}}, \"shapedefaults\": {\"line\": {\"color\": \"#2a3f5f\"}}, \"ternary\": {\"aaxis\": {\"gridcolor\": \"white\", \"linecolor\": \"white\", \"ticks\": \"\"}, \"baxis\": {\"gridcolor\": \"white\", \"linecolor\": \"white\", \"ticks\": \"\"}, \"bgcolor\": \"#E5ECF6\", \"caxis\": {\"gridcolor\": \"white\", \"linecolor\": \"white\", \"ticks\": \"\"}}, \"title\": {\"x\": 0.05}, \"xaxis\": {\"automargin\": true, \"gridcolor\": \"white\", \"linecolor\": \"white\", \"ticks\": \"\", \"title\": {\"standoff\": 15}, \"zerolinecolor\": \"white\", \"zerolinewidth\": 2}, \"yaxis\": {\"automargin\": true, \"gridcolor\": \"white\", \"linecolor\": \"white\", \"ticks\": \"\", \"title\": {\"standoff\": 15}, \"zerolinecolor\": \"white\", \"zerolinewidth\": 2}}}, \"title\": {\"font\": {\"color\": \"#4D5663\"}, \"text\": \"My Graph\"}, \"xaxis\": {\"gridcolor\": \"#E1E5ED\", \"showgrid\": true, \"tickfont\": {\"color\": \"#4D5663\"}, \"title\": {\"font\": {\"color\": \"#4D5663\"}, \"text\": \"Name of State / UT\"}, \"zerolinecolor\": \"#E1E5ED\"}, \"yaxis\": {\"gridcolor\": \"#E1E5ED\", \"showgrid\": true, \"tickfont\": {\"color\": \"#4D5663\"}, \"title\": {\"font\": {\"color\": \"#4D5663\"}, \"text\": \"Total Recovered\"}, \"zerolinecolor\": \"#E1E5ED\"}},                        {\"showLink\": true, \"linkText\": \"Export to plot.ly\", \"plotlyServerURL\": \"https://plot.ly\", \"responsive\": true}                    ).then(function(){\n",
       "                            \n",
       "var gd = document.getElementById('b6148ad2-7cba-46ac-86a5-3f8113b57905');\n",
       "var x = new MutationObserver(function (mutations, observer) {{\n",
       "        var display = window.getComputedStyle(gd).display;\n",
       "        if (!display || display === 'none') {{\n",
       "            console.log([gd, 'removed!']);\n",
       "            Plotly.purge(gd);\n",
       "            observer.disconnect();\n",
       "        }}\n",
       "}});\n",
       "\n",
       "// Listen for the removal of the full notebook cells\n",
       "var notebookContainer = gd.closest('#notebook-container');\n",
       "if (notebookContainer) {{\n",
       "    x.observe(notebookContainer, {childList: true});\n",
       "}}\n",
       "\n",
       "// Listen for the clearing of the current output cell\n",
       "var outputEl = gd.closest('.output');\n",
       "if (outputEl) {{\n",
       "    x.observe(outputEl, {childList: true});\n",
       "}}\n",
       "\n",
       "                        })                };                });            </script>        </div>"
      ]
     },
     "metadata": {},
     "output_type": "display_data"
    }
   ],
   "source": [
    "df_recovered.iplot(kind='scatter',x='Name of State / UT',y='recovered',\n",
    "                   mode='markers+lines',title='My Graph',\n",
    "                   xTitle='Name of State / UT',yTitle='Total Recovered',colors='red',size=12)"
   ]
  },
  {
   "cell_type": "code",
   "execution_count": 30,
   "metadata": {},
   "outputs": [
    {
     "data": {
      "text/html": [
       "<div>\n",
       "<style scoped>\n",
       "    .dataframe tbody tr th:only-of-type {\n",
       "        vertical-align: middle;\n",
       "    }\n",
       "\n",
       "    .dataframe tbody tr th {\n",
       "        vertical-align: top;\n",
       "    }\n",
       "\n",
       "    .dataframe thead th {\n",
       "        text-align: right;\n",
       "    }\n",
       "</style>\n",
       "<table border=\"1\" class=\"dataframe\">\n",
       "  <thead>\n",
       "    <tr style=\"text-align: right;\">\n",
       "      <th></th>\n",
       "      <th>Name of State / UT</th>\n",
       "      <th>Latitude</th>\n",
       "      <th>Longitude</th>\n",
       "      <th>cases</th>\n",
       "      <th>deaths</th>\n",
       "      <th>recovered</th>\n",
       "      <th>active</th>\n",
       "    </tr>\n",
       "  </thead>\n",
       "  <tbody>\n",
       "    <tr>\n",
       "      <th>20</th>\n",
       "      <td>Maharashtra</td>\n",
       "      <td>19.250232</td>\n",
       "      <td>73.160175</td>\n",
       "      <td>1443409</td>\n",
       "      <td>38084</td>\n",
       "      <td>1149603</td>\n",
       "      <td>255722</td>\n",
       "    </tr>\n",
       "    <tr>\n",
       "      <th>15</th>\n",
       "      <td>Karnataka</td>\n",
       "      <td>12.570381</td>\n",
       "      <td>76.919997</td>\n",
       "      <td>640661</td>\n",
       "      <td>9286</td>\n",
       "      <td>515782</td>\n",
       "      <td>115593</td>\n",
       "    </tr>\n",
       "    <tr>\n",
       "      <th>16</th>\n",
       "      <td>Kerala</td>\n",
       "      <td>8.900373</td>\n",
       "      <td>76.569993</td>\n",
       "      <td>229886</td>\n",
       "      <td>836</td>\n",
       "      <td>144471</td>\n",
       "      <td>84579</td>\n",
       "    </tr>\n",
       "    <tr>\n",
       "      <th>1</th>\n",
       "      <td>Andhra Pradesh</td>\n",
       "      <td>14.750429</td>\n",
       "      <td>78.570026</td>\n",
       "      <td>719256</td>\n",
       "      <td>5981</td>\n",
       "      <td>658875</td>\n",
       "      <td>54400</td>\n",
       "    </tr>\n",
       "    <tr>\n",
       "      <th>34</th>\n",
       "      <td>Uttar Pradesh</td>\n",
       "      <td>27.599981</td>\n",
       "      <td>78.050006</td>\n",
       "      <td>414466</td>\n",
       "      <td>6029</td>\n",
       "      <td>362052</td>\n",
       "      <td>46385</td>\n",
       "    </tr>\n",
       "  </tbody>\n",
       "</table>\n",
       "</div>"
      ],
      "text/plain": [
       "   Name of State / UT   Latitude  Longitude    cases  deaths  recovered  \\\n",
       "20        Maharashtra  19.250232  73.160175  1443409   38084    1149603   \n",
       "15          Karnataka  12.570381  76.919997   640661    9286     515782   \n",
       "16             Kerala   8.900373  76.569993   229886     836     144471   \n",
       "1      Andhra Pradesh  14.750429  78.570026   719256    5981     658875   \n",
       "34      Uttar Pradesh  27.599981  78.050006   414466    6029     362052   \n",
       "\n",
       "    active  \n",
       "20  255722  \n",
       "15  115593  \n",
       "16   84579  \n",
       "1    54400  \n",
       "34   46385  "
      ]
     },
     "execution_count": 30,
     "metadata": {},
     "output_type": "execute_result"
    }
   ],
   "source": [
    "df_active=df.sort_values(by=['active'], ascending=False)\n",
    "df_active.head()"
   ]
  },
  {
   "cell_type": "code",
   "execution_count": 31,
   "metadata": {},
   "outputs": [
    {
     "data": {
      "application/vnd.plotly.v1+json": {
       "config": {
        "linkText": "Export to plot.ly",
        "plotlyServerURL": "https://plot.ly",
        "showLink": true
       },
       "data": [
        {
         "line": {
          "color": "rgba(219, 64, 82, 1.0)",
          "dash": "solid",
          "shape": "linear",
          "width": 1.3
         },
         "marker": {
          "size": 12,
          "symbol": "circle"
         },
         "mode": "markers+lines",
         "name": "active",
         "text": "",
         "type": "scatter",
         "x": [
          "Maharashtra",
          "Karnataka",
          "Kerala",
          "Andhra Pradesh",
          "Uttar Pradesh",
          "Tamil Nadu",
          "Assam ",
          "Orissa ",
          "Chhattisgarh ",
          "West Bengal ",
          "Telengana",
          "Delhi",
          "Rajasthan",
          "Madhya Pradesh ",
          "Gujarat",
          "Jammu and Kashmir",
          "Punjab",
          "Haryana",
          "Bihar ",
          "Jharkhand ",
          "Uttarakhand",
          "Tripura ",
          "Goa ",
          "Puducherry ",
          "Himachal Pradesh ",
          "Arunachal Pradesh ",
          "Manipur ",
          "Meghalaya ",
          "Chandigarh ",
          "Nagaland ",
          "Ladakh",
          "Sikkim ",
          "Mizoram ",
          "Andaman And Nicobar ",
          "Dadra And Nagar Haveli ",
          "Lakshadweep "
         ],
         "y": [
          255722,
          115593,
          84579,
          54400,
          46385,
          46120,
          33324,
          29504,
          28548,
          27439,
          27052,
          24753,
          21154,
          19372,
          16809,
          15460,
          13577,
          12067,
          11795,
          10936,
          9089,
          4858,
          4839,
          4787,
          3273,
          2953,
          2576,
          2209,
          1673,
          1226,
          1106,
          649,
          313,
          182,
          105,
          0
         ]
        }
       ],
       "layout": {
        "legend": {
         "bgcolor": "#F5F6F9",
         "font": {
          "color": "#4D5663"
         }
        },
        "paper_bgcolor": "#F5F6F9",
        "plot_bgcolor": "#F5F6F9",
        "template": {
         "data": {
          "bar": [
           {
            "error_x": {
             "color": "#2a3f5f"
            },
            "error_y": {
             "color": "#2a3f5f"
            },
            "marker": {
             "line": {
              "color": "#E5ECF6",
              "width": 0.5
             }
            },
            "type": "bar"
           }
          ],
          "barpolar": [
           {
            "marker": {
             "line": {
              "color": "#E5ECF6",
              "width": 0.5
             }
            },
            "type": "barpolar"
           }
          ],
          "carpet": [
           {
            "aaxis": {
             "endlinecolor": "#2a3f5f",
             "gridcolor": "white",
             "linecolor": "white",
             "minorgridcolor": "white",
             "startlinecolor": "#2a3f5f"
            },
            "baxis": {
             "endlinecolor": "#2a3f5f",
             "gridcolor": "white",
             "linecolor": "white",
             "minorgridcolor": "white",
             "startlinecolor": "#2a3f5f"
            },
            "type": "carpet"
           }
          ],
          "choropleth": [
           {
            "colorbar": {
             "outlinewidth": 0,
             "ticks": ""
            },
            "type": "choropleth"
           }
          ],
          "contour": [
           {
            "colorbar": {
             "outlinewidth": 0,
             "ticks": ""
            },
            "colorscale": [
             [
              0,
              "#0d0887"
             ],
             [
              0.1111111111111111,
              "#46039f"
             ],
             [
              0.2222222222222222,
              "#7201a8"
             ],
             [
              0.3333333333333333,
              "#9c179e"
             ],
             [
              0.4444444444444444,
              "#bd3786"
             ],
             [
              0.5555555555555556,
              "#d8576b"
             ],
             [
              0.6666666666666666,
              "#ed7953"
             ],
             [
              0.7777777777777778,
              "#fb9f3a"
             ],
             [
              0.8888888888888888,
              "#fdca26"
             ],
             [
              1,
              "#f0f921"
             ]
            ],
            "type": "contour"
           }
          ],
          "contourcarpet": [
           {
            "colorbar": {
             "outlinewidth": 0,
             "ticks": ""
            },
            "type": "contourcarpet"
           }
          ],
          "heatmap": [
           {
            "colorbar": {
             "outlinewidth": 0,
             "ticks": ""
            },
            "colorscale": [
             [
              0,
              "#0d0887"
             ],
             [
              0.1111111111111111,
              "#46039f"
             ],
             [
              0.2222222222222222,
              "#7201a8"
             ],
             [
              0.3333333333333333,
              "#9c179e"
             ],
             [
              0.4444444444444444,
              "#bd3786"
             ],
             [
              0.5555555555555556,
              "#d8576b"
             ],
             [
              0.6666666666666666,
              "#ed7953"
             ],
             [
              0.7777777777777778,
              "#fb9f3a"
             ],
             [
              0.8888888888888888,
              "#fdca26"
             ],
             [
              1,
              "#f0f921"
             ]
            ],
            "type": "heatmap"
           }
          ],
          "heatmapgl": [
           {
            "colorbar": {
             "outlinewidth": 0,
             "ticks": ""
            },
            "colorscale": [
             [
              0,
              "#0d0887"
             ],
             [
              0.1111111111111111,
              "#46039f"
             ],
             [
              0.2222222222222222,
              "#7201a8"
             ],
             [
              0.3333333333333333,
              "#9c179e"
             ],
             [
              0.4444444444444444,
              "#bd3786"
             ],
             [
              0.5555555555555556,
              "#d8576b"
             ],
             [
              0.6666666666666666,
              "#ed7953"
             ],
             [
              0.7777777777777778,
              "#fb9f3a"
             ],
             [
              0.8888888888888888,
              "#fdca26"
             ],
             [
              1,
              "#f0f921"
             ]
            ],
            "type": "heatmapgl"
           }
          ],
          "histogram": [
           {
            "marker": {
             "colorbar": {
              "outlinewidth": 0,
              "ticks": ""
             }
            },
            "type": "histogram"
           }
          ],
          "histogram2d": [
           {
            "colorbar": {
             "outlinewidth": 0,
             "ticks": ""
            },
            "colorscale": [
             [
              0,
              "#0d0887"
             ],
             [
              0.1111111111111111,
              "#46039f"
             ],
             [
              0.2222222222222222,
              "#7201a8"
             ],
             [
              0.3333333333333333,
              "#9c179e"
             ],
             [
              0.4444444444444444,
              "#bd3786"
             ],
             [
              0.5555555555555556,
              "#d8576b"
             ],
             [
              0.6666666666666666,
              "#ed7953"
             ],
             [
              0.7777777777777778,
              "#fb9f3a"
             ],
             [
              0.8888888888888888,
              "#fdca26"
             ],
             [
              1,
              "#f0f921"
             ]
            ],
            "type": "histogram2d"
           }
          ],
          "histogram2dcontour": [
           {
            "colorbar": {
             "outlinewidth": 0,
             "ticks": ""
            },
            "colorscale": [
             [
              0,
              "#0d0887"
             ],
             [
              0.1111111111111111,
              "#46039f"
             ],
             [
              0.2222222222222222,
              "#7201a8"
             ],
             [
              0.3333333333333333,
              "#9c179e"
             ],
             [
              0.4444444444444444,
              "#bd3786"
             ],
             [
              0.5555555555555556,
              "#d8576b"
             ],
             [
              0.6666666666666666,
              "#ed7953"
             ],
             [
              0.7777777777777778,
              "#fb9f3a"
             ],
             [
              0.8888888888888888,
              "#fdca26"
             ],
             [
              1,
              "#f0f921"
             ]
            ],
            "type": "histogram2dcontour"
           }
          ],
          "mesh3d": [
           {
            "colorbar": {
             "outlinewidth": 0,
             "ticks": ""
            },
            "type": "mesh3d"
           }
          ],
          "parcoords": [
           {
            "line": {
             "colorbar": {
              "outlinewidth": 0,
              "ticks": ""
             }
            },
            "type": "parcoords"
           }
          ],
          "pie": [
           {
            "automargin": true,
            "type": "pie"
           }
          ],
          "scatter": [
           {
            "marker": {
             "colorbar": {
              "outlinewidth": 0,
              "ticks": ""
             }
            },
            "type": "scatter"
           }
          ],
          "scatter3d": [
           {
            "line": {
             "colorbar": {
              "outlinewidth": 0,
              "ticks": ""
             }
            },
            "marker": {
             "colorbar": {
              "outlinewidth": 0,
              "ticks": ""
             }
            },
            "type": "scatter3d"
           }
          ],
          "scattercarpet": [
           {
            "marker": {
             "colorbar": {
              "outlinewidth": 0,
              "ticks": ""
             }
            },
            "type": "scattercarpet"
           }
          ],
          "scattergeo": [
           {
            "marker": {
             "colorbar": {
              "outlinewidth": 0,
              "ticks": ""
             }
            },
            "type": "scattergeo"
           }
          ],
          "scattergl": [
           {
            "marker": {
             "colorbar": {
              "outlinewidth": 0,
              "ticks": ""
             }
            },
            "type": "scattergl"
           }
          ],
          "scattermapbox": [
           {
            "marker": {
             "colorbar": {
              "outlinewidth": 0,
              "ticks": ""
             }
            },
            "type": "scattermapbox"
           }
          ],
          "scatterpolar": [
           {
            "marker": {
             "colorbar": {
              "outlinewidth": 0,
              "ticks": ""
             }
            },
            "type": "scatterpolar"
           }
          ],
          "scatterpolargl": [
           {
            "marker": {
             "colorbar": {
              "outlinewidth": 0,
              "ticks": ""
             }
            },
            "type": "scatterpolargl"
           }
          ],
          "scatterternary": [
           {
            "marker": {
             "colorbar": {
              "outlinewidth": 0,
              "ticks": ""
             }
            },
            "type": "scatterternary"
           }
          ],
          "surface": [
           {
            "colorbar": {
             "outlinewidth": 0,
             "ticks": ""
            },
            "colorscale": [
             [
              0,
              "#0d0887"
             ],
             [
              0.1111111111111111,
              "#46039f"
             ],
             [
              0.2222222222222222,
              "#7201a8"
             ],
             [
              0.3333333333333333,
              "#9c179e"
             ],
             [
              0.4444444444444444,
              "#bd3786"
             ],
             [
              0.5555555555555556,
              "#d8576b"
             ],
             [
              0.6666666666666666,
              "#ed7953"
             ],
             [
              0.7777777777777778,
              "#fb9f3a"
             ],
             [
              0.8888888888888888,
              "#fdca26"
             ],
             [
              1,
              "#f0f921"
             ]
            ],
            "type": "surface"
           }
          ],
          "table": [
           {
            "cells": {
             "fill": {
              "color": "#EBF0F8"
             },
             "line": {
              "color": "white"
             }
            },
            "header": {
             "fill": {
              "color": "#C8D4E3"
             },
             "line": {
              "color": "white"
             }
            },
            "type": "table"
           }
          ]
         },
         "layout": {
          "annotationdefaults": {
           "arrowcolor": "#2a3f5f",
           "arrowhead": 0,
           "arrowwidth": 1
          },
          "coloraxis": {
           "colorbar": {
            "outlinewidth": 0,
            "ticks": ""
           }
          },
          "colorscale": {
           "diverging": [
            [
             0,
             "#8e0152"
            ],
            [
             0.1,
             "#c51b7d"
            ],
            [
             0.2,
             "#de77ae"
            ],
            [
             0.3,
             "#f1b6da"
            ],
            [
             0.4,
             "#fde0ef"
            ],
            [
             0.5,
             "#f7f7f7"
            ],
            [
             0.6,
             "#e6f5d0"
            ],
            [
             0.7,
             "#b8e186"
            ],
            [
             0.8,
             "#7fbc41"
            ],
            [
             0.9,
             "#4d9221"
            ],
            [
             1,
             "#276419"
            ]
           ],
           "sequential": [
            [
             0,
             "#0d0887"
            ],
            [
             0.1111111111111111,
             "#46039f"
            ],
            [
             0.2222222222222222,
             "#7201a8"
            ],
            [
             0.3333333333333333,
             "#9c179e"
            ],
            [
             0.4444444444444444,
             "#bd3786"
            ],
            [
             0.5555555555555556,
             "#d8576b"
            ],
            [
             0.6666666666666666,
             "#ed7953"
            ],
            [
             0.7777777777777778,
             "#fb9f3a"
            ],
            [
             0.8888888888888888,
             "#fdca26"
            ],
            [
             1,
             "#f0f921"
            ]
           ],
           "sequentialminus": [
            [
             0,
             "#0d0887"
            ],
            [
             0.1111111111111111,
             "#46039f"
            ],
            [
             0.2222222222222222,
             "#7201a8"
            ],
            [
             0.3333333333333333,
             "#9c179e"
            ],
            [
             0.4444444444444444,
             "#bd3786"
            ],
            [
             0.5555555555555556,
             "#d8576b"
            ],
            [
             0.6666666666666666,
             "#ed7953"
            ],
            [
             0.7777777777777778,
             "#fb9f3a"
            ],
            [
             0.8888888888888888,
             "#fdca26"
            ],
            [
             1,
             "#f0f921"
            ]
           ]
          },
          "colorway": [
           "#636efa",
           "#EF553B",
           "#00cc96",
           "#ab63fa",
           "#FFA15A",
           "#19d3f3",
           "#FF6692",
           "#B6E880",
           "#FF97FF",
           "#FECB52"
          ],
          "font": {
           "color": "#2a3f5f"
          },
          "geo": {
           "bgcolor": "white",
           "lakecolor": "white",
           "landcolor": "#E5ECF6",
           "showlakes": true,
           "showland": true,
           "subunitcolor": "white"
          },
          "hoverlabel": {
           "align": "left"
          },
          "hovermode": "closest",
          "mapbox": {
           "style": "light"
          },
          "paper_bgcolor": "white",
          "plot_bgcolor": "#E5ECF6",
          "polar": {
           "angularaxis": {
            "gridcolor": "white",
            "linecolor": "white",
            "ticks": ""
           },
           "bgcolor": "#E5ECF6",
           "radialaxis": {
            "gridcolor": "white",
            "linecolor": "white",
            "ticks": ""
           }
          },
          "scene": {
           "xaxis": {
            "backgroundcolor": "#E5ECF6",
            "gridcolor": "white",
            "gridwidth": 2,
            "linecolor": "white",
            "showbackground": true,
            "ticks": "",
            "zerolinecolor": "white"
           },
           "yaxis": {
            "backgroundcolor": "#E5ECF6",
            "gridcolor": "white",
            "gridwidth": 2,
            "linecolor": "white",
            "showbackground": true,
            "ticks": "",
            "zerolinecolor": "white"
           },
           "zaxis": {
            "backgroundcolor": "#E5ECF6",
            "gridcolor": "white",
            "gridwidth": 2,
            "linecolor": "white",
            "showbackground": true,
            "ticks": "",
            "zerolinecolor": "white"
           }
          },
          "shapedefaults": {
           "line": {
            "color": "#2a3f5f"
           }
          },
          "ternary": {
           "aaxis": {
            "gridcolor": "white",
            "linecolor": "white",
            "ticks": ""
           },
           "baxis": {
            "gridcolor": "white",
            "linecolor": "white",
            "ticks": ""
           },
           "bgcolor": "#E5ECF6",
           "caxis": {
            "gridcolor": "white",
            "linecolor": "white",
            "ticks": ""
           }
          },
          "title": {
           "x": 0.05
          },
          "xaxis": {
           "automargin": true,
           "gridcolor": "white",
           "linecolor": "white",
           "ticks": "",
           "title": {
            "standoff": 15
           },
           "zerolinecolor": "white",
           "zerolinewidth": 2
          },
          "yaxis": {
           "automargin": true,
           "gridcolor": "white",
           "linecolor": "white",
           "ticks": "",
           "title": {
            "standoff": 15
           },
           "zerolinecolor": "white",
           "zerolinewidth": 2
          }
         }
        },
        "title": {
         "font": {
          "color": "#4D5663"
         },
         "text": "Total active cases"
        },
        "xaxis": {
         "gridcolor": "#E1E5ED",
         "showgrid": true,
         "tickfont": {
          "color": "#4D5663"
         },
         "title": {
          "font": {
           "color": "#4D5663"
          },
          "text": "Name of State / UT"
         },
         "zerolinecolor": "#E1E5ED"
        },
        "yaxis": {
         "gridcolor": "#E1E5ED",
         "showgrid": true,
         "tickfont": {
          "color": "#4D5663"
         },
         "title": {
          "font": {
           "color": "#4D5663"
          },
          "text": "Total Active Cases"
         },
         "zerolinecolor": "#E1E5ED"
        }
       }
      },
      "text/html": [
       "<div>                            <div id=\"e9c5ef8a-50c2-403b-9f75-02641404cf2e\" class=\"plotly-graph-div\" style=\"height:525px; width:100%;\"></div>            <script type=\"text/javascript\">                require([\"plotly\"], function(Plotly) {                    window.PLOTLYENV=window.PLOTLYENV || {};\n",
       "                    window.PLOTLYENV.BASE_URL='https://plot.ly';                                    if (document.getElementById(\"e9c5ef8a-50c2-403b-9f75-02641404cf2e\")) {                    Plotly.newPlot(                        \"e9c5ef8a-50c2-403b-9f75-02641404cf2e\",                        [{\"line\": {\"color\": \"rgba(219, 64, 82, 1.0)\", \"dash\": \"solid\", \"shape\": \"linear\", \"width\": 1.3}, \"marker\": {\"size\": 12, \"symbol\": \"circle\"}, \"mode\": \"markers+lines\", \"name\": \"active\", \"text\": \"\", \"type\": \"scatter\", \"x\": [\"Maharashtra\", \"Karnataka\", \"Kerala\", \"Andhra Pradesh\", \"Uttar Pradesh\", \"Tamil Nadu\", \"Assam \", \"Orissa \", \"Chhattisgarh \", \"West Bengal \", \"Telengana\", \"Delhi\", \"Rajasthan\", \"Madhya Pradesh \", \"Gujarat\", \"Jammu and Kashmir\", \"Punjab\", \"Haryana\", \"Bihar \", \"Jharkhand \", \"Uttarakhand\", \"Tripura \", \"Goa \", \"Puducherry \", \"Himachal Pradesh \", \"Arunachal Pradesh \", \"Manipur \", \"Meghalaya \", \"Chandigarh \", \"Nagaland \", \"Ladakh\", \"Sikkim \", \"Mizoram \", \"Andaman And Nicobar \", \"Dadra And Nagar Haveli \", \"Lakshadweep \"], \"y\": [255722, 115593, 84579, 54400, 46385, 46120, 33324, 29504, 28548, 27439, 27052, 24753, 21154, 19372, 16809, 15460, 13577, 12067, 11795, 10936, 9089, 4858, 4839, 4787, 3273, 2953, 2576, 2209, 1673, 1226, 1106, 649, 313, 182, 105, 0]}],                        {\"legend\": {\"bgcolor\": \"#F5F6F9\", \"font\": {\"color\": \"#4D5663\"}}, \"paper_bgcolor\": \"#F5F6F9\", \"plot_bgcolor\": \"#F5F6F9\", \"template\": {\"data\": {\"bar\": [{\"error_x\": {\"color\": \"#2a3f5f\"}, \"error_y\": {\"color\": \"#2a3f5f\"}, \"marker\": {\"line\": {\"color\": \"#E5ECF6\", \"width\": 0.5}}, \"type\": \"bar\"}], \"barpolar\": [{\"marker\": {\"line\": {\"color\": \"#E5ECF6\", \"width\": 0.5}}, \"type\": \"barpolar\"}], \"carpet\": [{\"aaxis\": {\"endlinecolor\": \"#2a3f5f\", \"gridcolor\": \"white\", \"linecolor\": \"white\", \"minorgridcolor\": \"white\", \"startlinecolor\": \"#2a3f5f\"}, \"baxis\": {\"endlinecolor\": \"#2a3f5f\", \"gridcolor\": \"white\", \"linecolor\": \"white\", \"minorgridcolor\": \"white\", \"startlinecolor\": \"#2a3f5f\"}, \"type\": \"carpet\"}], \"choropleth\": [{\"colorbar\": {\"outlinewidth\": 0, \"ticks\": \"\"}, \"type\": \"choropleth\"}], \"contour\": [{\"colorbar\": {\"outlinewidth\": 0, \"ticks\": \"\"}, \"colorscale\": [[0.0, \"#0d0887\"], [0.1111111111111111, \"#46039f\"], [0.2222222222222222, \"#7201a8\"], [0.3333333333333333, \"#9c179e\"], [0.4444444444444444, \"#bd3786\"], [0.5555555555555556, \"#d8576b\"], [0.6666666666666666, \"#ed7953\"], [0.7777777777777778, \"#fb9f3a\"], [0.8888888888888888, \"#fdca26\"], [1.0, \"#f0f921\"]], \"type\": \"contour\"}], \"contourcarpet\": [{\"colorbar\": {\"outlinewidth\": 0, \"ticks\": \"\"}, \"type\": \"contourcarpet\"}], \"heatmap\": [{\"colorbar\": {\"outlinewidth\": 0, \"ticks\": \"\"}, \"colorscale\": [[0.0, \"#0d0887\"], [0.1111111111111111, \"#46039f\"], [0.2222222222222222, \"#7201a8\"], [0.3333333333333333, \"#9c179e\"], [0.4444444444444444, \"#bd3786\"], [0.5555555555555556, \"#d8576b\"], [0.6666666666666666, \"#ed7953\"], [0.7777777777777778, \"#fb9f3a\"], [0.8888888888888888, \"#fdca26\"], [1.0, \"#f0f921\"]], \"type\": \"heatmap\"}], \"heatmapgl\": [{\"colorbar\": {\"outlinewidth\": 0, \"ticks\": \"\"}, \"colorscale\": [[0.0, \"#0d0887\"], [0.1111111111111111, \"#46039f\"], [0.2222222222222222, \"#7201a8\"], [0.3333333333333333, \"#9c179e\"], [0.4444444444444444, \"#bd3786\"], [0.5555555555555556, \"#d8576b\"], [0.6666666666666666, \"#ed7953\"], [0.7777777777777778, \"#fb9f3a\"], [0.8888888888888888, \"#fdca26\"], [1.0, \"#f0f921\"]], \"type\": \"heatmapgl\"}], \"histogram\": [{\"marker\": {\"colorbar\": {\"outlinewidth\": 0, \"ticks\": \"\"}}, \"type\": \"histogram\"}], \"histogram2d\": [{\"colorbar\": {\"outlinewidth\": 0, \"ticks\": \"\"}, \"colorscale\": [[0.0, \"#0d0887\"], [0.1111111111111111, \"#46039f\"], [0.2222222222222222, \"#7201a8\"], [0.3333333333333333, \"#9c179e\"], [0.4444444444444444, \"#bd3786\"], [0.5555555555555556, \"#d8576b\"], [0.6666666666666666, \"#ed7953\"], [0.7777777777777778, \"#fb9f3a\"], [0.8888888888888888, \"#fdca26\"], [1.0, \"#f0f921\"]], \"type\": \"histogram2d\"}], \"histogram2dcontour\": [{\"colorbar\": {\"outlinewidth\": 0, \"ticks\": \"\"}, \"colorscale\": [[0.0, \"#0d0887\"], [0.1111111111111111, \"#46039f\"], [0.2222222222222222, \"#7201a8\"], [0.3333333333333333, \"#9c179e\"], [0.4444444444444444, \"#bd3786\"], [0.5555555555555556, \"#d8576b\"], [0.6666666666666666, \"#ed7953\"], [0.7777777777777778, \"#fb9f3a\"], [0.8888888888888888, \"#fdca26\"], [1.0, \"#f0f921\"]], \"type\": \"histogram2dcontour\"}], \"mesh3d\": [{\"colorbar\": {\"outlinewidth\": 0, \"ticks\": \"\"}, \"type\": \"mesh3d\"}], \"parcoords\": [{\"line\": {\"colorbar\": {\"outlinewidth\": 0, \"ticks\": \"\"}}, \"type\": \"parcoords\"}], \"pie\": [{\"automargin\": true, \"type\": \"pie\"}], \"scatter\": [{\"marker\": {\"colorbar\": {\"outlinewidth\": 0, \"ticks\": \"\"}}, \"type\": \"scatter\"}], \"scatter3d\": [{\"line\": {\"colorbar\": {\"outlinewidth\": 0, \"ticks\": \"\"}}, \"marker\": {\"colorbar\": {\"outlinewidth\": 0, \"ticks\": \"\"}}, \"type\": \"scatter3d\"}], \"scattercarpet\": [{\"marker\": {\"colorbar\": {\"outlinewidth\": 0, \"ticks\": \"\"}}, \"type\": \"scattercarpet\"}], \"scattergeo\": [{\"marker\": {\"colorbar\": {\"outlinewidth\": 0, \"ticks\": \"\"}}, \"type\": \"scattergeo\"}], \"scattergl\": [{\"marker\": {\"colorbar\": {\"outlinewidth\": 0, \"ticks\": \"\"}}, \"type\": \"scattergl\"}], \"scattermapbox\": [{\"marker\": {\"colorbar\": {\"outlinewidth\": 0, \"ticks\": \"\"}}, \"type\": \"scattermapbox\"}], \"scatterpolar\": [{\"marker\": {\"colorbar\": {\"outlinewidth\": 0, \"ticks\": \"\"}}, \"type\": \"scatterpolar\"}], \"scatterpolargl\": [{\"marker\": {\"colorbar\": {\"outlinewidth\": 0, \"ticks\": \"\"}}, \"type\": \"scatterpolargl\"}], \"scatterternary\": [{\"marker\": {\"colorbar\": {\"outlinewidth\": 0, \"ticks\": \"\"}}, \"type\": \"scatterternary\"}], \"surface\": [{\"colorbar\": {\"outlinewidth\": 0, \"ticks\": \"\"}, \"colorscale\": [[0.0, \"#0d0887\"], [0.1111111111111111, \"#46039f\"], [0.2222222222222222, \"#7201a8\"], [0.3333333333333333, \"#9c179e\"], [0.4444444444444444, \"#bd3786\"], [0.5555555555555556, \"#d8576b\"], [0.6666666666666666, \"#ed7953\"], [0.7777777777777778, \"#fb9f3a\"], [0.8888888888888888, \"#fdca26\"], [1.0, \"#f0f921\"]], \"type\": \"surface\"}], \"table\": [{\"cells\": {\"fill\": {\"color\": \"#EBF0F8\"}, \"line\": {\"color\": \"white\"}}, \"header\": {\"fill\": {\"color\": \"#C8D4E3\"}, \"line\": {\"color\": \"white\"}}, \"type\": \"table\"}]}, \"layout\": {\"annotationdefaults\": {\"arrowcolor\": \"#2a3f5f\", \"arrowhead\": 0, \"arrowwidth\": 1}, \"coloraxis\": {\"colorbar\": {\"outlinewidth\": 0, \"ticks\": \"\"}}, \"colorscale\": {\"diverging\": [[0, \"#8e0152\"], [0.1, \"#c51b7d\"], [0.2, \"#de77ae\"], [0.3, \"#f1b6da\"], [0.4, \"#fde0ef\"], [0.5, \"#f7f7f7\"], [0.6, \"#e6f5d0\"], [0.7, \"#b8e186\"], [0.8, \"#7fbc41\"], [0.9, \"#4d9221\"], [1, \"#276419\"]], \"sequential\": [[0.0, \"#0d0887\"], [0.1111111111111111, \"#46039f\"], [0.2222222222222222, \"#7201a8\"], [0.3333333333333333, \"#9c179e\"], [0.4444444444444444, \"#bd3786\"], [0.5555555555555556, \"#d8576b\"], [0.6666666666666666, \"#ed7953\"], [0.7777777777777778, \"#fb9f3a\"], [0.8888888888888888, \"#fdca26\"], [1.0, \"#f0f921\"]], \"sequentialminus\": [[0.0, \"#0d0887\"], [0.1111111111111111, \"#46039f\"], [0.2222222222222222, \"#7201a8\"], [0.3333333333333333, \"#9c179e\"], [0.4444444444444444, \"#bd3786\"], [0.5555555555555556, \"#d8576b\"], [0.6666666666666666, \"#ed7953\"], [0.7777777777777778, \"#fb9f3a\"], [0.8888888888888888, \"#fdca26\"], [1.0, \"#f0f921\"]]}, \"colorway\": [\"#636efa\", \"#EF553B\", \"#00cc96\", \"#ab63fa\", \"#FFA15A\", \"#19d3f3\", \"#FF6692\", \"#B6E880\", \"#FF97FF\", \"#FECB52\"], \"font\": {\"color\": \"#2a3f5f\"}, \"geo\": {\"bgcolor\": \"white\", \"lakecolor\": \"white\", \"landcolor\": \"#E5ECF6\", \"showlakes\": true, \"showland\": true, \"subunitcolor\": \"white\"}, \"hoverlabel\": {\"align\": \"left\"}, \"hovermode\": \"closest\", \"mapbox\": {\"style\": \"light\"}, \"paper_bgcolor\": \"white\", \"plot_bgcolor\": \"#E5ECF6\", \"polar\": {\"angularaxis\": {\"gridcolor\": \"white\", \"linecolor\": \"white\", \"ticks\": \"\"}, \"bgcolor\": \"#E5ECF6\", \"radialaxis\": {\"gridcolor\": \"white\", \"linecolor\": \"white\", \"ticks\": \"\"}}, \"scene\": {\"xaxis\": {\"backgroundcolor\": \"#E5ECF6\", \"gridcolor\": \"white\", \"gridwidth\": 2, \"linecolor\": \"white\", \"showbackground\": true, \"ticks\": \"\", \"zerolinecolor\": \"white\"}, \"yaxis\": {\"backgroundcolor\": \"#E5ECF6\", \"gridcolor\": \"white\", \"gridwidth\": 2, \"linecolor\": \"white\", \"showbackground\": true, \"ticks\": \"\", \"zerolinecolor\": \"white\"}, \"zaxis\": {\"backgroundcolor\": \"#E5ECF6\", \"gridcolor\": \"white\", \"gridwidth\": 2, \"linecolor\": \"white\", \"showbackground\": true, \"ticks\": \"\", \"zerolinecolor\": \"white\"}}, \"shapedefaults\": {\"line\": {\"color\": \"#2a3f5f\"}}, \"ternary\": {\"aaxis\": {\"gridcolor\": \"white\", \"linecolor\": \"white\", \"ticks\": \"\"}, \"baxis\": {\"gridcolor\": \"white\", \"linecolor\": \"white\", \"ticks\": \"\"}, \"bgcolor\": \"#E5ECF6\", \"caxis\": {\"gridcolor\": \"white\", \"linecolor\": \"white\", \"ticks\": \"\"}}, \"title\": {\"x\": 0.05}, \"xaxis\": {\"automargin\": true, \"gridcolor\": \"white\", \"linecolor\": \"white\", \"ticks\": \"\", \"title\": {\"standoff\": 15}, \"zerolinecolor\": \"white\", \"zerolinewidth\": 2}, \"yaxis\": {\"automargin\": true, \"gridcolor\": \"white\", \"linecolor\": \"white\", \"ticks\": \"\", \"title\": {\"standoff\": 15}, \"zerolinecolor\": \"white\", \"zerolinewidth\": 2}}}, \"title\": {\"font\": {\"color\": \"#4D5663\"}, \"text\": \"Total active cases\"}, \"xaxis\": {\"gridcolor\": \"#E1E5ED\", \"showgrid\": true, \"tickfont\": {\"color\": \"#4D5663\"}, \"title\": {\"font\": {\"color\": \"#4D5663\"}, \"text\": \"Name of State / UT\"}, \"zerolinecolor\": \"#E1E5ED\"}, \"yaxis\": {\"gridcolor\": \"#E1E5ED\", \"showgrid\": true, \"tickfont\": {\"color\": \"#4D5663\"}, \"title\": {\"font\": {\"color\": \"#4D5663\"}, \"text\": \"Total Active Cases\"}, \"zerolinecolor\": \"#E1E5ED\"}},                        {\"showLink\": true, \"linkText\": \"Export to plot.ly\", \"plotlyServerURL\": \"https://plot.ly\", \"responsive\": true}                    ).then(function(){\n",
       "                            \n",
       "var gd = document.getElementById('e9c5ef8a-50c2-403b-9f75-02641404cf2e');\n",
       "var x = new MutationObserver(function (mutations, observer) {{\n",
       "        var display = window.getComputedStyle(gd).display;\n",
       "        if (!display || display === 'none') {{\n",
       "            console.log([gd, 'removed!']);\n",
       "            Plotly.purge(gd);\n",
       "            observer.disconnect();\n",
       "        }}\n",
       "}});\n",
       "\n",
       "// Listen for the removal of the full notebook cells\n",
       "var notebookContainer = gd.closest('#notebook-container');\n",
       "if (notebookContainer) {{\n",
       "    x.observe(notebookContainer, {childList: true});\n",
       "}}\n",
       "\n",
       "// Listen for the clearing of the current output cell\n",
       "var outputEl = gd.closest('.output');\n",
       "if (outputEl) {{\n",
       "    x.observe(outputEl, {childList: true});\n",
       "}}\n",
       "\n",
       "                        })                };                });            </script>        </div>"
      ]
     },
     "metadata": {},
     "output_type": "display_data"
    }
   ],
   "source": [
    "df_active.iplot(kind='scatter',x='Name of State / UT',y='active',\n",
    "                mode='markers+lines',title='Total active cases',\n",
    "                xTitle='Name of State / UT',yTitle='Total Active Cases',colors='red',size=12)"
   ]
  },
  {
   "cell_type": "code",
   "execution_count": 32,
   "metadata": {},
   "outputs": [
    {
     "data": {
      "text/html": [
       "<div>\n",
       "<style scoped>\n",
       "    .dataframe tbody tr th:only-of-type {\n",
       "        vertical-align: middle;\n",
       "    }\n",
       "\n",
       "    .dataframe tbody tr th {\n",
       "        vertical-align: top;\n",
       "    }\n",
       "\n",
       "    .dataframe thead th {\n",
       "        text-align: right;\n",
       "    }\n",
       "</style>\n",
       "<table border=\"1\" class=\"dataframe\">\n",
       "  <thead>\n",
       "    <tr style=\"text-align: right;\">\n",
       "      <th></th>\n",
       "      <th>Name of State / UT</th>\n",
       "      <th>Latitude</th>\n",
       "      <th>Longitude</th>\n",
       "      <th>cases</th>\n",
       "      <th>deaths</th>\n",
       "      <th>recovered</th>\n",
       "      <th>active</th>\n",
       "    </tr>\n",
       "  </thead>\n",
       "  <tbody>\n",
       "    <tr>\n",
       "      <th>20</th>\n",
       "      <td>Maharashtra</td>\n",
       "      <td>19.250232</td>\n",
       "      <td>73.160175</td>\n",
       "      <td>1443409</td>\n",
       "      <td>38084</td>\n",
       "      <td>1149603</td>\n",
       "      <td>255722</td>\n",
       "    </tr>\n",
       "    <tr>\n",
       "      <th>30</th>\n",
       "      <td>Tamil Nadu</td>\n",
       "      <td>12.920386</td>\n",
       "      <td>79.150042</td>\n",
       "      <td>619996</td>\n",
       "      <td>9784</td>\n",
       "      <td>564092</td>\n",
       "      <td>46120</td>\n",
       "    </tr>\n",
       "    <tr>\n",
       "      <th>15</th>\n",
       "      <td>Karnataka</td>\n",
       "      <td>12.570381</td>\n",
       "      <td>76.919997</td>\n",
       "      <td>640661</td>\n",
       "      <td>9286</td>\n",
       "      <td>515782</td>\n",
       "      <td>115593</td>\n",
       "    </tr>\n",
       "    <tr>\n",
       "      <th>34</th>\n",
       "      <td>Uttar Pradesh</td>\n",
       "      <td>27.599981</td>\n",
       "      <td>78.050006</td>\n",
       "      <td>414466</td>\n",
       "      <td>6029</td>\n",
       "      <td>362052</td>\n",
       "      <td>46385</td>\n",
       "    </tr>\n",
       "    <tr>\n",
       "      <th>1</th>\n",
       "      <td>Andhra Pradesh</td>\n",
       "      <td>14.750429</td>\n",
       "      <td>78.570026</td>\n",
       "      <td>719256</td>\n",
       "      <td>5981</td>\n",
       "      <td>658875</td>\n",
       "      <td>54400</td>\n",
       "    </tr>\n",
       "  </tbody>\n",
       "</table>\n",
       "</div>"
      ],
      "text/plain": [
       "   Name of State / UT   Latitude  Longitude    cases  deaths  recovered  \\\n",
       "20        Maharashtra  19.250232  73.160175  1443409   38084    1149603   \n",
       "30         Tamil Nadu  12.920386  79.150042   619996    9784     564092   \n",
       "15          Karnataka  12.570381  76.919997   640661    9286     515782   \n",
       "34      Uttar Pradesh  27.599981  78.050006   414466    6029     362052   \n",
       "1      Andhra Pradesh  14.750429  78.570026   719256    5981     658875   \n",
       "\n",
       "    active  \n",
       "20  255722  \n",
       "30   46120  \n",
       "15  115593  \n",
       "34   46385  \n",
       "1    54400  "
      ]
     },
     "execution_count": 32,
     "metadata": {},
     "output_type": "execute_result"
    }
   ],
   "source": [
    "df_deaths=df.sort_values(by=['deaths'], ascending=False)\n",
    "df_deaths.head()"
   ]
  },
  {
   "cell_type": "code",
   "execution_count": 33,
   "metadata": {},
   "outputs": [
    {
     "data": {
      "application/vnd.plotly.v1+json": {
       "config": {
        "linkText": "Export to plot.ly",
        "plotlyServerURL": "https://plot.ly",
        "showLink": true
       },
       "data": [
        {
         "line": {
          "color": "rgba(219, 64, 82, 1.0)",
          "dash": "solid",
          "shape": "linear",
          "width": 1.3
         },
         "marker": {
          "size": 12,
          "symbol": "circle"
         },
         "mode": "markers+lines",
         "name": "deaths",
         "text": "",
         "type": "scatter",
         "x": [
          "Maharashtra",
          "Tamil Nadu",
          "Karnataka",
          "Uttar Pradesh",
          "Andhra Pradesh",
          "Delhi",
          "West Bengal ",
          "Punjab",
          "Gujarat",
          "Madhya Pradesh ",
          "Rajasthan",
          "Haryana",
          "Jammu and Kashmir",
          "Telengana",
          "Chhattisgarh ",
          "Bihar ",
          "Orissa ",
          "Kerala",
          "Assam ",
          "Jharkhand ",
          "Uttarakhand",
          "Puducherry ",
          "Goa ",
          "Tripura ",
          "Himachal Pradesh ",
          "Chandigarh ",
          "Manipur ",
          "Ladakh",
          "Meghalaya ",
          "Andaman And Nicobar ",
          "Sikkim ",
          "Arunachal Pradesh ",
          "Nagaland ",
          "Dadra And Nagar Haveli ",
          "Mizoram ",
          "Lakshadweep "
         ],
         "y": [
          38084,
          9784,
          9286,
          6029,
          5981,
          5510,
          5194,
          3603,
          3496,
          2434,
          1545,
          1470,
          1242,
          1171,
          1045,
          915,
          907,
          836,
          749,
          743,
          652,
          539,
          456,
          299,
          217,
          174,
          74,
          61,
          54,
          53,
          45,
          18,
          17,
          2,
          0,
          0
         ]
        }
       ],
       "layout": {
        "legend": {
         "bgcolor": "#F5F6F9",
         "font": {
          "color": "#4D5663"
         }
        },
        "paper_bgcolor": "#F5F6F9",
        "plot_bgcolor": "#F5F6F9",
        "template": {
         "data": {
          "bar": [
           {
            "error_x": {
             "color": "#2a3f5f"
            },
            "error_y": {
             "color": "#2a3f5f"
            },
            "marker": {
             "line": {
              "color": "#E5ECF6",
              "width": 0.5
             }
            },
            "type": "bar"
           }
          ],
          "barpolar": [
           {
            "marker": {
             "line": {
              "color": "#E5ECF6",
              "width": 0.5
             }
            },
            "type": "barpolar"
           }
          ],
          "carpet": [
           {
            "aaxis": {
             "endlinecolor": "#2a3f5f",
             "gridcolor": "white",
             "linecolor": "white",
             "minorgridcolor": "white",
             "startlinecolor": "#2a3f5f"
            },
            "baxis": {
             "endlinecolor": "#2a3f5f",
             "gridcolor": "white",
             "linecolor": "white",
             "minorgridcolor": "white",
             "startlinecolor": "#2a3f5f"
            },
            "type": "carpet"
           }
          ],
          "choropleth": [
           {
            "colorbar": {
             "outlinewidth": 0,
             "ticks": ""
            },
            "type": "choropleth"
           }
          ],
          "contour": [
           {
            "colorbar": {
             "outlinewidth": 0,
             "ticks": ""
            },
            "colorscale": [
             [
              0,
              "#0d0887"
             ],
             [
              0.1111111111111111,
              "#46039f"
             ],
             [
              0.2222222222222222,
              "#7201a8"
             ],
             [
              0.3333333333333333,
              "#9c179e"
             ],
             [
              0.4444444444444444,
              "#bd3786"
             ],
             [
              0.5555555555555556,
              "#d8576b"
             ],
             [
              0.6666666666666666,
              "#ed7953"
             ],
             [
              0.7777777777777778,
              "#fb9f3a"
             ],
             [
              0.8888888888888888,
              "#fdca26"
             ],
             [
              1,
              "#f0f921"
             ]
            ],
            "type": "contour"
           }
          ],
          "contourcarpet": [
           {
            "colorbar": {
             "outlinewidth": 0,
             "ticks": ""
            },
            "type": "contourcarpet"
           }
          ],
          "heatmap": [
           {
            "colorbar": {
             "outlinewidth": 0,
             "ticks": ""
            },
            "colorscale": [
             [
              0,
              "#0d0887"
             ],
             [
              0.1111111111111111,
              "#46039f"
             ],
             [
              0.2222222222222222,
              "#7201a8"
             ],
             [
              0.3333333333333333,
              "#9c179e"
             ],
             [
              0.4444444444444444,
              "#bd3786"
             ],
             [
              0.5555555555555556,
              "#d8576b"
             ],
             [
              0.6666666666666666,
              "#ed7953"
             ],
             [
              0.7777777777777778,
              "#fb9f3a"
             ],
             [
              0.8888888888888888,
              "#fdca26"
             ],
             [
              1,
              "#f0f921"
             ]
            ],
            "type": "heatmap"
           }
          ],
          "heatmapgl": [
           {
            "colorbar": {
             "outlinewidth": 0,
             "ticks": ""
            },
            "colorscale": [
             [
              0,
              "#0d0887"
             ],
             [
              0.1111111111111111,
              "#46039f"
             ],
             [
              0.2222222222222222,
              "#7201a8"
             ],
             [
              0.3333333333333333,
              "#9c179e"
             ],
             [
              0.4444444444444444,
              "#bd3786"
             ],
             [
              0.5555555555555556,
              "#d8576b"
             ],
             [
              0.6666666666666666,
              "#ed7953"
             ],
             [
              0.7777777777777778,
              "#fb9f3a"
             ],
             [
              0.8888888888888888,
              "#fdca26"
             ],
             [
              1,
              "#f0f921"
             ]
            ],
            "type": "heatmapgl"
           }
          ],
          "histogram": [
           {
            "marker": {
             "colorbar": {
              "outlinewidth": 0,
              "ticks": ""
             }
            },
            "type": "histogram"
           }
          ],
          "histogram2d": [
           {
            "colorbar": {
             "outlinewidth": 0,
             "ticks": ""
            },
            "colorscale": [
             [
              0,
              "#0d0887"
             ],
             [
              0.1111111111111111,
              "#46039f"
             ],
             [
              0.2222222222222222,
              "#7201a8"
             ],
             [
              0.3333333333333333,
              "#9c179e"
             ],
             [
              0.4444444444444444,
              "#bd3786"
             ],
             [
              0.5555555555555556,
              "#d8576b"
             ],
             [
              0.6666666666666666,
              "#ed7953"
             ],
             [
              0.7777777777777778,
              "#fb9f3a"
             ],
             [
              0.8888888888888888,
              "#fdca26"
             ],
             [
              1,
              "#f0f921"
             ]
            ],
            "type": "histogram2d"
           }
          ],
          "histogram2dcontour": [
           {
            "colorbar": {
             "outlinewidth": 0,
             "ticks": ""
            },
            "colorscale": [
             [
              0,
              "#0d0887"
             ],
             [
              0.1111111111111111,
              "#46039f"
             ],
             [
              0.2222222222222222,
              "#7201a8"
             ],
             [
              0.3333333333333333,
              "#9c179e"
             ],
             [
              0.4444444444444444,
              "#bd3786"
             ],
             [
              0.5555555555555556,
              "#d8576b"
             ],
             [
              0.6666666666666666,
              "#ed7953"
             ],
             [
              0.7777777777777778,
              "#fb9f3a"
             ],
             [
              0.8888888888888888,
              "#fdca26"
             ],
             [
              1,
              "#f0f921"
             ]
            ],
            "type": "histogram2dcontour"
           }
          ],
          "mesh3d": [
           {
            "colorbar": {
             "outlinewidth": 0,
             "ticks": ""
            },
            "type": "mesh3d"
           }
          ],
          "parcoords": [
           {
            "line": {
             "colorbar": {
              "outlinewidth": 0,
              "ticks": ""
             }
            },
            "type": "parcoords"
           }
          ],
          "pie": [
           {
            "automargin": true,
            "type": "pie"
           }
          ],
          "scatter": [
           {
            "marker": {
             "colorbar": {
              "outlinewidth": 0,
              "ticks": ""
             }
            },
            "type": "scatter"
           }
          ],
          "scatter3d": [
           {
            "line": {
             "colorbar": {
              "outlinewidth": 0,
              "ticks": ""
             }
            },
            "marker": {
             "colorbar": {
              "outlinewidth": 0,
              "ticks": ""
             }
            },
            "type": "scatter3d"
           }
          ],
          "scattercarpet": [
           {
            "marker": {
             "colorbar": {
              "outlinewidth": 0,
              "ticks": ""
             }
            },
            "type": "scattercarpet"
           }
          ],
          "scattergeo": [
           {
            "marker": {
             "colorbar": {
              "outlinewidth": 0,
              "ticks": ""
             }
            },
            "type": "scattergeo"
           }
          ],
          "scattergl": [
           {
            "marker": {
             "colorbar": {
              "outlinewidth": 0,
              "ticks": ""
             }
            },
            "type": "scattergl"
           }
          ],
          "scattermapbox": [
           {
            "marker": {
             "colorbar": {
              "outlinewidth": 0,
              "ticks": ""
             }
            },
            "type": "scattermapbox"
           }
          ],
          "scatterpolar": [
           {
            "marker": {
             "colorbar": {
              "outlinewidth": 0,
              "ticks": ""
             }
            },
            "type": "scatterpolar"
           }
          ],
          "scatterpolargl": [
           {
            "marker": {
             "colorbar": {
              "outlinewidth": 0,
              "ticks": ""
             }
            },
            "type": "scatterpolargl"
           }
          ],
          "scatterternary": [
           {
            "marker": {
             "colorbar": {
              "outlinewidth": 0,
              "ticks": ""
             }
            },
            "type": "scatterternary"
           }
          ],
          "surface": [
           {
            "colorbar": {
             "outlinewidth": 0,
             "ticks": ""
            },
            "colorscale": [
             [
              0,
              "#0d0887"
             ],
             [
              0.1111111111111111,
              "#46039f"
             ],
             [
              0.2222222222222222,
              "#7201a8"
             ],
             [
              0.3333333333333333,
              "#9c179e"
             ],
             [
              0.4444444444444444,
              "#bd3786"
             ],
             [
              0.5555555555555556,
              "#d8576b"
             ],
             [
              0.6666666666666666,
              "#ed7953"
             ],
             [
              0.7777777777777778,
              "#fb9f3a"
             ],
             [
              0.8888888888888888,
              "#fdca26"
             ],
             [
              1,
              "#f0f921"
             ]
            ],
            "type": "surface"
           }
          ],
          "table": [
           {
            "cells": {
             "fill": {
              "color": "#EBF0F8"
             },
             "line": {
              "color": "white"
             }
            },
            "header": {
             "fill": {
              "color": "#C8D4E3"
             },
             "line": {
              "color": "white"
             }
            },
            "type": "table"
           }
          ]
         },
         "layout": {
          "annotationdefaults": {
           "arrowcolor": "#2a3f5f",
           "arrowhead": 0,
           "arrowwidth": 1
          },
          "coloraxis": {
           "colorbar": {
            "outlinewidth": 0,
            "ticks": ""
           }
          },
          "colorscale": {
           "diverging": [
            [
             0,
             "#8e0152"
            ],
            [
             0.1,
             "#c51b7d"
            ],
            [
             0.2,
             "#de77ae"
            ],
            [
             0.3,
             "#f1b6da"
            ],
            [
             0.4,
             "#fde0ef"
            ],
            [
             0.5,
             "#f7f7f7"
            ],
            [
             0.6,
             "#e6f5d0"
            ],
            [
             0.7,
             "#b8e186"
            ],
            [
             0.8,
             "#7fbc41"
            ],
            [
             0.9,
             "#4d9221"
            ],
            [
             1,
             "#276419"
            ]
           ],
           "sequential": [
            [
             0,
             "#0d0887"
            ],
            [
             0.1111111111111111,
             "#46039f"
            ],
            [
             0.2222222222222222,
             "#7201a8"
            ],
            [
             0.3333333333333333,
             "#9c179e"
            ],
            [
             0.4444444444444444,
             "#bd3786"
            ],
            [
             0.5555555555555556,
             "#d8576b"
            ],
            [
             0.6666666666666666,
             "#ed7953"
            ],
            [
             0.7777777777777778,
             "#fb9f3a"
            ],
            [
             0.8888888888888888,
             "#fdca26"
            ],
            [
             1,
             "#f0f921"
            ]
           ],
           "sequentialminus": [
            [
             0,
             "#0d0887"
            ],
            [
             0.1111111111111111,
             "#46039f"
            ],
            [
             0.2222222222222222,
             "#7201a8"
            ],
            [
             0.3333333333333333,
             "#9c179e"
            ],
            [
             0.4444444444444444,
             "#bd3786"
            ],
            [
             0.5555555555555556,
             "#d8576b"
            ],
            [
             0.6666666666666666,
             "#ed7953"
            ],
            [
             0.7777777777777778,
             "#fb9f3a"
            ],
            [
             0.8888888888888888,
             "#fdca26"
            ],
            [
             1,
             "#f0f921"
            ]
           ]
          },
          "colorway": [
           "#636efa",
           "#EF553B",
           "#00cc96",
           "#ab63fa",
           "#FFA15A",
           "#19d3f3",
           "#FF6692",
           "#B6E880",
           "#FF97FF",
           "#FECB52"
          ],
          "font": {
           "color": "#2a3f5f"
          },
          "geo": {
           "bgcolor": "white",
           "lakecolor": "white",
           "landcolor": "#E5ECF6",
           "showlakes": true,
           "showland": true,
           "subunitcolor": "white"
          },
          "hoverlabel": {
           "align": "left"
          },
          "hovermode": "closest",
          "mapbox": {
           "style": "light"
          },
          "paper_bgcolor": "white",
          "plot_bgcolor": "#E5ECF6",
          "polar": {
           "angularaxis": {
            "gridcolor": "white",
            "linecolor": "white",
            "ticks": ""
           },
           "bgcolor": "#E5ECF6",
           "radialaxis": {
            "gridcolor": "white",
            "linecolor": "white",
            "ticks": ""
           }
          },
          "scene": {
           "xaxis": {
            "backgroundcolor": "#E5ECF6",
            "gridcolor": "white",
            "gridwidth": 2,
            "linecolor": "white",
            "showbackground": true,
            "ticks": "",
            "zerolinecolor": "white"
           },
           "yaxis": {
            "backgroundcolor": "#E5ECF6",
            "gridcolor": "white",
            "gridwidth": 2,
            "linecolor": "white",
            "showbackground": true,
            "ticks": "",
            "zerolinecolor": "white"
           },
           "zaxis": {
            "backgroundcolor": "#E5ECF6",
            "gridcolor": "white",
            "gridwidth": 2,
            "linecolor": "white",
            "showbackground": true,
            "ticks": "",
            "zerolinecolor": "white"
           }
          },
          "shapedefaults": {
           "line": {
            "color": "#2a3f5f"
           }
          },
          "ternary": {
           "aaxis": {
            "gridcolor": "white",
            "linecolor": "white",
            "ticks": ""
           },
           "baxis": {
            "gridcolor": "white",
            "linecolor": "white",
            "ticks": ""
           },
           "bgcolor": "#E5ECF6",
           "caxis": {
            "gridcolor": "white",
            "linecolor": "white",
            "ticks": ""
           }
          },
          "title": {
           "x": 0.05
          },
          "xaxis": {
           "automargin": true,
           "gridcolor": "white",
           "linecolor": "white",
           "ticks": "",
           "title": {
            "standoff": 15
           },
           "zerolinecolor": "white",
           "zerolinewidth": 2
          },
          "yaxis": {
           "automargin": true,
           "gridcolor": "white",
           "linecolor": "white",
           "ticks": "",
           "title": {
            "standoff": 15
           },
           "zerolinecolor": "white",
           "zerolinewidth": 2
          }
         }
        },
        "title": {
         "font": {
          "color": "#4D5663"
         },
         "text": "Total Deaths"
        },
        "xaxis": {
         "gridcolor": "#E1E5ED",
         "showgrid": true,
         "tickfont": {
          "color": "#4D5663"
         },
         "title": {
          "font": {
           "color": "#4D5663"
          },
          "text": "Name of State / UT"
         },
         "zerolinecolor": "#E1E5ED"
        },
        "yaxis": {
         "gridcolor": "#E1E5ED",
         "showgrid": true,
         "tickfont": {
          "color": "#4D5663"
         },
         "title": {
          "font": {
           "color": "#4D5663"
          },
          "text": "Total Deaths"
         },
         "zerolinecolor": "#E1E5ED"
        }
       }
      },
      "text/html": [
       "<div>                            <div id=\"e07a2a64-c192-43f9-bcb7-fc91a8c5efce\" class=\"plotly-graph-div\" style=\"height:525px; width:100%;\"></div>            <script type=\"text/javascript\">                require([\"plotly\"], function(Plotly) {                    window.PLOTLYENV=window.PLOTLYENV || {};\n",
       "                    window.PLOTLYENV.BASE_URL='https://plot.ly';                                    if (document.getElementById(\"e07a2a64-c192-43f9-bcb7-fc91a8c5efce\")) {                    Plotly.newPlot(                        \"e07a2a64-c192-43f9-bcb7-fc91a8c5efce\",                        [{\"line\": {\"color\": \"rgba(219, 64, 82, 1.0)\", \"dash\": \"solid\", \"shape\": \"linear\", \"width\": 1.3}, \"marker\": {\"size\": 12, \"symbol\": \"circle\"}, \"mode\": \"markers+lines\", \"name\": \"deaths\", \"text\": \"\", \"type\": \"scatter\", \"x\": [\"Maharashtra\", \"Tamil Nadu\", \"Karnataka\", \"Uttar Pradesh\", \"Andhra Pradesh\", \"Delhi\", \"West Bengal \", \"Punjab\", \"Gujarat\", \"Madhya Pradesh \", \"Rajasthan\", \"Haryana\", \"Jammu and Kashmir\", \"Telengana\", \"Chhattisgarh \", \"Bihar \", \"Orissa \", \"Kerala\", \"Assam \", \"Jharkhand \", \"Uttarakhand\", \"Puducherry \", \"Goa \", \"Tripura \", \"Himachal Pradesh \", \"Chandigarh \", \"Manipur \", \"Ladakh\", \"Meghalaya \", \"Andaman And Nicobar \", \"Sikkim \", \"Arunachal Pradesh \", \"Nagaland \", \"Dadra And Nagar Haveli \", \"Mizoram \", \"Lakshadweep \"], \"y\": [38084, 9784, 9286, 6029, 5981, 5510, 5194, 3603, 3496, 2434, 1545, 1470, 1242, 1171, 1045, 915, 907, 836, 749, 743, 652, 539, 456, 299, 217, 174, 74, 61, 54, 53, 45, 18, 17, 2, 0, 0]}],                        {\"legend\": {\"bgcolor\": \"#F5F6F9\", \"font\": {\"color\": \"#4D5663\"}}, \"paper_bgcolor\": \"#F5F6F9\", \"plot_bgcolor\": \"#F5F6F9\", \"template\": {\"data\": {\"bar\": [{\"error_x\": {\"color\": \"#2a3f5f\"}, \"error_y\": {\"color\": \"#2a3f5f\"}, \"marker\": {\"line\": {\"color\": \"#E5ECF6\", \"width\": 0.5}}, \"type\": \"bar\"}], \"barpolar\": [{\"marker\": {\"line\": {\"color\": \"#E5ECF6\", \"width\": 0.5}}, \"type\": \"barpolar\"}], \"carpet\": [{\"aaxis\": {\"endlinecolor\": \"#2a3f5f\", \"gridcolor\": \"white\", \"linecolor\": \"white\", \"minorgridcolor\": \"white\", \"startlinecolor\": \"#2a3f5f\"}, \"baxis\": {\"endlinecolor\": \"#2a3f5f\", \"gridcolor\": \"white\", \"linecolor\": \"white\", \"minorgridcolor\": \"white\", \"startlinecolor\": \"#2a3f5f\"}, \"type\": \"carpet\"}], \"choropleth\": [{\"colorbar\": {\"outlinewidth\": 0, \"ticks\": \"\"}, \"type\": \"choropleth\"}], \"contour\": [{\"colorbar\": {\"outlinewidth\": 0, \"ticks\": \"\"}, \"colorscale\": [[0.0, \"#0d0887\"], [0.1111111111111111, \"#46039f\"], [0.2222222222222222, \"#7201a8\"], [0.3333333333333333, \"#9c179e\"], [0.4444444444444444, \"#bd3786\"], [0.5555555555555556, \"#d8576b\"], [0.6666666666666666, \"#ed7953\"], [0.7777777777777778, \"#fb9f3a\"], [0.8888888888888888, \"#fdca26\"], [1.0, \"#f0f921\"]], \"type\": \"contour\"}], \"contourcarpet\": [{\"colorbar\": {\"outlinewidth\": 0, \"ticks\": \"\"}, \"type\": \"contourcarpet\"}], \"heatmap\": [{\"colorbar\": {\"outlinewidth\": 0, \"ticks\": \"\"}, \"colorscale\": [[0.0, \"#0d0887\"], [0.1111111111111111, \"#46039f\"], [0.2222222222222222, \"#7201a8\"], [0.3333333333333333, \"#9c179e\"], [0.4444444444444444, \"#bd3786\"], [0.5555555555555556, \"#d8576b\"], [0.6666666666666666, \"#ed7953\"], [0.7777777777777778, \"#fb9f3a\"], [0.8888888888888888, \"#fdca26\"], [1.0, \"#f0f921\"]], \"type\": \"heatmap\"}], \"heatmapgl\": [{\"colorbar\": {\"outlinewidth\": 0, \"ticks\": \"\"}, \"colorscale\": [[0.0, \"#0d0887\"], [0.1111111111111111, \"#46039f\"], [0.2222222222222222, \"#7201a8\"], [0.3333333333333333, \"#9c179e\"], [0.4444444444444444, \"#bd3786\"], [0.5555555555555556, \"#d8576b\"], [0.6666666666666666, \"#ed7953\"], [0.7777777777777778, \"#fb9f3a\"], [0.8888888888888888, \"#fdca26\"], [1.0, \"#f0f921\"]], \"type\": \"heatmapgl\"}], \"histogram\": [{\"marker\": {\"colorbar\": {\"outlinewidth\": 0, \"ticks\": \"\"}}, \"type\": \"histogram\"}], \"histogram2d\": [{\"colorbar\": {\"outlinewidth\": 0, \"ticks\": \"\"}, \"colorscale\": [[0.0, \"#0d0887\"], [0.1111111111111111, \"#46039f\"], [0.2222222222222222, \"#7201a8\"], [0.3333333333333333, \"#9c179e\"], [0.4444444444444444, \"#bd3786\"], [0.5555555555555556, \"#d8576b\"], [0.6666666666666666, \"#ed7953\"], [0.7777777777777778, \"#fb9f3a\"], [0.8888888888888888, \"#fdca26\"], [1.0, \"#f0f921\"]], \"type\": \"histogram2d\"}], \"histogram2dcontour\": [{\"colorbar\": {\"outlinewidth\": 0, \"ticks\": \"\"}, \"colorscale\": [[0.0, \"#0d0887\"], [0.1111111111111111, \"#46039f\"], [0.2222222222222222, \"#7201a8\"], [0.3333333333333333, \"#9c179e\"], [0.4444444444444444, \"#bd3786\"], [0.5555555555555556, \"#d8576b\"], [0.6666666666666666, \"#ed7953\"], [0.7777777777777778, \"#fb9f3a\"], [0.8888888888888888, \"#fdca26\"], [1.0, \"#f0f921\"]], \"type\": \"histogram2dcontour\"}], \"mesh3d\": [{\"colorbar\": {\"outlinewidth\": 0, \"ticks\": \"\"}, \"type\": \"mesh3d\"}], \"parcoords\": [{\"line\": {\"colorbar\": {\"outlinewidth\": 0, \"ticks\": \"\"}}, \"type\": \"parcoords\"}], \"pie\": [{\"automargin\": true, \"type\": \"pie\"}], \"scatter\": [{\"marker\": {\"colorbar\": {\"outlinewidth\": 0, \"ticks\": \"\"}}, \"type\": \"scatter\"}], \"scatter3d\": [{\"line\": {\"colorbar\": {\"outlinewidth\": 0, \"ticks\": \"\"}}, \"marker\": {\"colorbar\": {\"outlinewidth\": 0, \"ticks\": \"\"}}, \"type\": \"scatter3d\"}], \"scattercarpet\": [{\"marker\": {\"colorbar\": {\"outlinewidth\": 0, \"ticks\": \"\"}}, \"type\": \"scattercarpet\"}], \"scattergeo\": [{\"marker\": {\"colorbar\": {\"outlinewidth\": 0, \"ticks\": \"\"}}, \"type\": \"scattergeo\"}], \"scattergl\": [{\"marker\": {\"colorbar\": {\"outlinewidth\": 0, \"ticks\": \"\"}}, \"type\": \"scattergl\"}], \"scattermapbox\": [{\"marker\": {\"colorbar\": {\"outlinewidth\": 0, \"ticks\": \"\"}}, \"type\": \"scattermapbox\"}], \"scatterpolar\": [{\"marker\": {\"colorbar\": {\"outlinewidth\": 0, \"ticks\": \"\"}}, \"type\": \"scatterpolar\"}], \"scatterpolargl\": [{\"marker\": {\"colorbar\": {\"outlinewidth\": 0, \"ticks\": \"\"}}, \"type\": \"scatterpolargl\"}], \"scatterternary\": [{\"marker\": {\"colorbar\": {\"outlinewidth\": 0, \"ticks\": \"\"}}, \"type\": \"scatterternary\"}], \"surface\": [{\"colorbar\": {\"outlinewidth\": 0, \"ticks\": \"\"}, \"colorscale\": [[0.0, \"#0d0887\"], [0.1111111111111111, \"#46039f\"], [0.2222222222222222, \"#7201a8\"], [0.3333333333333333, \"#9c179e\"], [0.4444444444444444, \"#bd3786\"], [0.5555555555555556, \"#d8576b\"], [0.6666666666666666, \"#ed7953\"], [0.7777777777777778, \"#fb9f3a\"], [0.8888888888888888, \"#fdca26\"], [1.0, \"#f0f921\"]], \"type\": \"surface\"}], \"table\": [{\"cells\": {\"fill\": {\"color\": \"#EBF0F8\"}, \"line\": {\"color\": \"white\"}}, \"header\": {\"fill\": {\"color\": \"#C8D4E3\"}, \"line\": {\"color\": \"white\"}}, \"type\": \"table\"}]}, \"layout\": {\"annotationdefaults\": {\"arrowcolor\": \"#2a3f5f\", \"arrowhead\": 0, \"arrowwidth\": 1}, \"coloraxis\": {\"colorbar\": {\"outlinewidth\": 0, \"ticks\": \"\"}}, \"colorscale\": {\"diverging\": [[0, \"#8e0152\"], [0.1, \"#c51b7d\"], [0.2, \"#de77ae\"], [0.3, \"#f1b6da\"], [0.4, \"#fde0ef\"], [0.5, \"#f7f7f7\"], [0.6, \"#e6f5d0\"], [0.7, \"#b8e186\"], [0.8, \"#7fbc41\"], [0.9, \"#4d9221\"], [1, \"#276419\"]], \"sequential\": [[0.0, \"#0d0887\"], [0.1111111111111111, \"#46039f\"], [0.2222222222222222, \"#7201a8\"], [0.3333333333333333, \"#9c179e\"], [0.4444444444444444, \"#bd3786\"], [0.5555555555555556, \"#d8576b\"], [0.6666666666666666, \"#ed7953\"], [0.7777777777777778, \"#fb9f3a\"], [0.8888888888888888, \"#fdca26\"], [1.0, \"#f0f921\"]], \"sequentialminus\": [[0.0, \"#0d0887\"], [0.1111111111111111, \"#46039f\"], [0.2222222222222222, \"#7201a8\"], [0.3333333333333333, \"#9c179e\"], [0.4444444444444444, \"#bd3786\"], [0.5555555555555556, \"#d8576b\"], [0.6666666666666666, \"#ed7953\"], [0.7777777777777778, \"#fb9f3a\"], [0.8888888888888888, \"#fdca26\"], [1.0, \"#f0f921\"]]}, \"colorway\": [\"#636efa\", \"#EF553B\", \"#00cc96\", \"#ab63fa\", \"#FFA15A\", \"#19d3f3\", \"#FF6692\", \"#B6E880\", \"#FF97FF\", \"#FECB52\"], \"font\": {\"color\": \"#2a3f5f\"}, \"geo\": {\"bgcolor\": \"white\", \"lakecolor\": \"white\", \"landcolor\": \"#E5ECF6\", \"showlakes\": true, \"showland\": true, \"subunitcolor\": \"white\"}, \"hoverlabel\": {\"align\": \"left\"}, \"hovermode\": \"closest\", \"mapbox\": {\"style\": \"light\"}, \"paper_bgcolor\": \"white\", \"plot_bgcolor\": \"#E5ECF6\", \"polar\": {\"angularaxis\": {\"gridcolor\": \"white\", \"linecolor\": \"white\", \"ticks\": \"\"}, \"bgcolor\": \"#E5ECF6\", \"radialaxis\": {\"gridcolor\": \"white\", \"linecolor\": \"white\", \"ticks\": \"\"}}, \"scene\": {\"xaxis\": {\"backgroundcolor\": \"#E5ECF6\", \"gridcolor\": \"white\", \"gridwidth\": 2, \"linecolor\": \"white\", \"showbackground\": true, \"ticks\": \"\", \"zerolinecolor\": \"white\"}, \"yaxis\": {\"backgroundcolor\": \"#E5ECF6\", \"gridcolor\": \"white\", \"gridwidth\": 2, \"linecolor\": \"white\", \"showbackground\": true, \"ticks\": \"\", \"zerolinecolor\": \"white\"}, \"zaxis\": {\"backgroundcolor\": \"#E5ECF6\", \"gridcolor\": \"white\", \"gridwidth\": 2, \"linecolor\": \"white\", \"showbackground\": true, \"ticks\": \"\", \"zerolinecolor\": \"white\"}}, \"shapedefaults\": {\"line\": {\"color\": \"#2a3f5f\"}}, \"ternary\": {\"aaxis\": {\"gridcolor\": \"white\", \"linecolor\": \"white\", \"ticks\": \"\"}, \"baxis\": {\"gridcolor\": \"white\", \"linecolor\": \"white\", \"ticks\": \"\"}, \"bgcolor\": \"#E5ECF6\", \"caxis\": {\"gridcolor\": \"white\", \"linecolor\": \"white\", \"ticks\": \"\"}}, \"title\": {\"x\": 0.05}, \"xaxis\": {\"automargin\": true, \"gridcolor\": \"white\", \"linecolor\": \"white\", \"ticks\": \"\", \"title\": {\"standoff\": 15}, \"zerolinecolor\": \"white\", \"zerolinewidth\": 2}, \"yaxis\": {\"automargin\": true, \"gridcolor\": \"white\", \"linecolor\": \"white\", \"ticks\": \"\", \"title\": {\"standoff\": 15}, \"zerolinecolor\": \"white\", \"zerolinewidth\": 2}}}, \"title\": {\"font\": {\"color\": \"#4D5663\"}, \"text\": \"Total Deaths\"}, \"xaxis\": {\"gridcolor\": \"#E1E5ED\", \"showgrid\": true, \"tickfont\": {\"color\": \"#4D5663\"}, \"title\": {\"font\": {\"color\": \"#4D5663\"}, \"text\": \"Name of State / UT\"}, \"zerolinecolor\": \"#E1E5ED\"}, \"yaxis\": {\"gridcolor\": \"#E1E5ED\", \"showgrid\": true, \"tickfont\": {\"color\": \"#4D5663\"}, \"title\": {\"font\": {\"color\": \"#4D5663\"}, \"text\": \"Total Deaths\"}, \"zerolinecolor\": \"#E1E5ED\"}},                        {\"showLink\": true, \"linkText\": \"Export to plot.ly\", \"plotlyServerURL\": \"https://plot.ly\", \"responsive\": true}                    ).then(function(){\n",
       "                            \n",
       "var gd = document.getElementById('e07a2a64-c192-43f9-bcb7-fc91a8c5efce');\n",
       "var x = new MutationObserver(function (mutations, observer) {{\n",
       "        var display = window.getComputedStyle(gd).display;\n",
       "        if (!display || display === 'none') {{\n",
       "            console.log([gd, 'removed!']);\n",
       "            Plotly.purge(gd);\n",
       "            observer.disconnect();\n",
       "        }}\n",
       "}});\n",
       "\n",
       "// Listen for the removal of the full notebook cells\n",
       "var notebookContainer = gd.closest('#notebook-container');\n",
       "if (notebookContainer) {{\n",
       "    x.observe(notebookContainer, {childList: true});\n",
       "}}\n",
       "\n",
       "// Listen for the clearing of the current output cell\n",
       "var outputEl = gd.closest('.output');\n",
       "if (outputEl) {{\n",
       "    x.observe(outputEl, {childList: true});\n",
       "}}\n",
       "\n",
       "                        })                };                });            </script>        </div>"
      ]
     },
     "metadata": {},
     "output_type": "display_data"
    }
   ],
   "source": [
    "df_deaths.iplot(kind='scatter',x='Name of State / UT',y='deaths',mode='markers+lines',\n",
    "                title='Total Deaths',xTitle='Name of State / UT',yTitle='Total Deaths',\n",
    "                colors='red',size=12)"
   ]
  },
  {
   "cell_type": "code",
   "execution_count": 34,
   "metadata": {},
   "outputs": [
    {
     "data": {
      "text/html": [
       "<div>\n",
       "<style scoped>\n",
       "    .dataframe tbody tr th:only-of-type {\n",
       "        vertical-align: middle;\n",
       "    }\n",
       "\n",
       "    .dataframe tbody tr th {\n",
       "        vertical-align: top;\n",
       "    }\n",
       "\n",
       "    .dataframe thead th {\n",
       "        text-align: right;\n",
       "    }\n",
       "</style>\n",
       "<table border=\"1\" class=\"dataframe\">\n",
       "  <thead>\n",
       "    <tr style=\"text-align: right;\">\n",
       "      <th></th>\n",
       "      <th>Date</th>\n",
       "      <th>Daily Confirmed</th>\n",
       "      <th>Total Confirmed</th>\n",
       "      <th>Daily Recovered</th>\n",
       "      <th>Total Recovered</th>\n",
       "      <th>Daily Deceased</th>\n",
       "      <th>Total Deceased</th>\n",
       "    </tr>\n",
       "  </thead>\n",
       "  <tbody>\n",
       "    <tr>\n",
       "      <th>0</th>\n",
       "      <td>30 January</td>\n",
       "      <td>1</td>\n",
       "      <td>1</td>\n",
       "      <td>0</td>\n",
       "      <td>0</td>\n",
       "      <td>0</td>\n",
       "      <td>0</td>\n",
       "    </tr>\n",
       "    <tr>\n",
       "      <th>1</th>\n",
       "      <td>31 January</td>\n",
       "      <td>0</td>\n",
       "      <td>1</td>\n",
       "      <td>0</td>\n",
       "      <td>0</td>\n",
       "      <td>0</td>\n",
       "      <td>0</td>\n",
       "    </tr>\n",
       "    <tr>\n",
       "      <th>2</th>\n",
       "      <td>01 February</td>\n",
       "      <td>0</td>\n",
       "      <td>1</td>\n",
       "      <td>0</td>\n",
       "      <td>0</td>\n",
       "      <td>0</td>\n",
       "      <td>0</td>\n",
       "    </tr>\n",
       "    <tr>\n",
       "      <th>3</th>\n",
       "      <td>02 February</td>\n",
       "      <td>1</td>\n",
       "      <td>2</td>\n",
       "      <td>0</td>\n",
       "      <td>0</td>\n",
       "      <td>0</td>\n",
       "      <td>0</td>\n",
       "    </tr>\n",
       "    <tr>\n",
       "      <th>4</th>\n",
       "      <td>03 February</td>\n",
       "      <td>1</td>\n",
       "      <td>3</td>\n",
       "      <td>0</td>\n",
       "      <td>0</td>\n",
       "      <td>0</td>\n",
       "      <td>0</td>\n",
       "    </tr>\n",
       "  </tbody>\n",
       "</table>\n",
       "</div>"
      ],
      "text/plain": [
       "           Date  Daily Confirmed  Total Confirmed  Daily Recovered  \\\n",
       "0   30 January                 1                1                0   \n",
       "1   31 January                 0                1                0   \n",
       "2  01 February                 0                1                0   \n",
       "3  02 February                 1                2                0   \n",
       "4  03 February                 1                3                0   \n",
       "\n",
       "   Total Recovered  Daily Deceased  Total Deceased  \n",
       "0                0               0               0  \n",
       "1                0               0               0  \n",
       "2                0               0               0  \n",
       "3                0               0               0  \n",
       "4                0               0               0  "
      ]
     },
     "execution_count": 34,
     "metadata": {},
     "output_type": "execute_result"
    }
   ],
   "source": [
    "case_time_series=pd.read_csv(\"https://api.covid19india.org/csv/latest/case_time_series.csv\")\n",
    "case_time_series.head()"
   ]
  },
  {
   "cell_type": "code",
   "execution_count": 35,
   "metadata": {},
   "outputs": [
    {
     "data": {
      "application/vnd.plotly.v1+json": {
       "config": {
        "linkText": "Export to plot.ly",
        "plotlyServerURL": "https://plot.ly",
        "showLink": true
       },
       "data": [
        {
         "line": {
          "color": "rgba(219, 64, 82, 1.0)",
          "dash": "solid",
          "shape": "linear",
          "width": 1.3
         },
         "marker": {
          "size": 6,
          "symbol": "circle"
         },
         "mode": "markers+lines",
         "name": "Total Confirmed",
         "text": "",
         "type": "scatter",
         "x": [
          "30 January ",
          "31 January ",
          "01 February ",
          "02 February ",
          "03 February ",
          "04 February ",
          "05 February ",
          "06 February ",
          "07 February ",
          "08 February ",
          "09 February ",
          "10 February ",
          "11 February ",
          "12 February ",
          "13 February ",
          "14 February ",
          "15 February ",
          "16 February ",
          "17 February ",
          "18 February ",
          "19 February ",
          "20 February ",
          "21 February ",
          "22 February ",
          "23 February ",
          "24 February ",
          "25 February ",
          "26 February ",
          "27 February ",
          "28 February ",
          "29 February ",
          "01 March ",
          "02 March ",
          "03 March ",
          "04 March ",
          "05 March ",
          "06 March ",
          "07 March ",
          "08 March ",
          "09 March ",
          "10 March ",
          "11 March ",
          "12 March ",
          "13 March ",
          "14 March ",
          "15 March ",
          "16 March ",
          "17 March ",
          "18 March ",
          "19 March ",
          "20 March ",
          "21 March ",
          "22 March ",
          "23 March ",
          "24 March ",
          "25 March ",
          "26 March ",
          "27 March ",
          "28 March ",
          "29 March ",
          "30 March ",
          "31 March ",
          "01 April ",
          "02 April ",
          "03 April ",
          "04 April ",
          "05 April ",
          "06 April ",
          "07 April ",
          "08 April ",
          "09 April ",
          "10 April ",
          "11 April ",
          "12 April ",
          "13 April ",
          "14 April ",
          "15 April ",
          "16 April ",
          "17 April ",
          "18 April ",
          "19 April ",
          "20 April ",
          "21 April ",
          "22 April ",
          "23 April ",
          "24 April ",
          "25 April ",
          "26 April ",
          "27 April ",
          "28 April ",
          "29 April ",
          "30 April ",
          "01 May ",
          "02 May ",
          "03 May ",
          "04 May ",
          "05 May ",
          "06 May ",
          "07 May ",
          "08 May ",
          "09 May ",
          "10 May ",
          "11 May ",
          "12 May ",
          "13 May ",
          "14 May ",
          "15 May ",
          "16 May ",
          "17 May ",
          "18 May ",
          "19 May ",
          "20 May ",
          "21 May ",
          "22 May ",
          "23 May ",
          "24 May ",
          "25 May ",
          "26 May ",
          "27 May ",
          "28 May ",
          "29 May ",
          "30 May ",
          "31 May ",
          "01 June ",
          "02 June ",
          "03 June ",
          "04 June ",
          "05 June ",
          "06 June ",
          "07 June ",
          "08 June ",
          "09 June ",
          "10 June ",
          "11 June ",
          "12 June ",
          "13 June ",
          "14 June ",
          "15 June ",
          "16 June ",
          "17 June ",
          "18 June ",
          "19 June ",
          "20 June ",
          "21 June ",
          "22 June ",
          "23 June ",
          "24 June ",
          "25 June ",
          "26 June ",
          "27 June ",
          "28 June ",
          "29 June ",
          "30 June ",
          "01 July ",
          "02 July ",
          "03 July ",
          "04 July ",
          "05 July ",
          "06 July ",
          "07 July ",
          "08 July ",
          "09 July ",
          "10 July ",
          "11 July ",
          "12 July ",
          "13 July ",
          "14 July ",
          "15 July ",
          "16 July ",
          "17 July ",
          "18 July ",
          "19 July ",
          "20 July ",
          "21 July ",
          "22 July ",
          "23 July ",
          "24 July ",
          "25 July ",
          "26 July ",
          "27 July ",
          "28 July ",
          "29 July ",
          "30 July ",
          "31 July ",
          "01 August ",
          "02 August ",
          "03 August ",
          "04 August ",
          "05 August ",
          "06 August ",
          "07 August ",
          "08 August ",
          "09 August ",
          "10 August ",
          "11 August ",
          "12 August ",
          "13 August ",
          "14 August ",
          "15 August ",
          "16 August ",
          "17 August ",
          "18 August ",
          "19 August ",
          "20 August ",
          "21 August ",
          "22 August ",
          "23 August ",
          "24 August ",
          "25 August ",
          "26 August ",
          "27 August ",
          "28 August ",
          "29 August ",
          "30 August ",
          "31 August ",
          "01 September ",
          "02 September ",
          "03 September ",
          "04 September ",
          "05 September ",
          "06 September ",
          "07 September ",
          "08 September ",
          "09 September ",
          "10 September ",
          "11 September ",
          "12 September ",
          "13 September ",
          "14 September ",
          "15 September ",
          "16 September ",
          "17 September ",
          "18 September ",
          "19 September ",
          "20 September ",
          "21 September ",
          "22 September ",
          "23 September ",
          "24 September ",
          "25 September ",
          "26 September ",
          "27 September ",
          "28 September ",
          "29 September ",
          "30 September ",
          "01 October ",
          "02 October ",
          "03 October ",
          "04 October "
         ],
         "y": [
          1,
          1,
          1,
          2,
          3,
          3,
          3,
          3,
          3,
          3,
          3,
          3,
          3,
          3,
          3,
          3,
          3,
          3,
          3,
          3,
          3,
          3,
          3,
          3,
          3,
          3,
          3,
          3,
          3,
          3,
          3,
          3,
          5,
          6,
          28,
          30,
          31,
          34,
          39,
          48,
          63,
          71,
          81,
          91,
          102,
          112,
          126,
          146,
          171,
          198,
          256,
          334,
          403,
          497,
          571,
          657,
          730,
          883,
          1019,
          1139,
          1326,
          1635,
          2059,
          2545,
          3105,
          3684,
          4293,
          4777,
          5350,
          5915,
          6728,
          7599,
          8453,
          9211,
          10454,
          11485,
          12371,
          13432,
          14354,
          15725,
          17305,
          18544,
          20081,
          21373,
          23040,
          24448,
          26283,
          27890,
          29458,
          31360,
          33065,
          34866,
          37262,
          39826,
          42778,
          46434,
          49405,
          53007,
          56351,
          59690,
          62865,
          67176,
          70768,
          74330,
          78056,
          82047,
          85855,
          90649,
          95698,
          100326,
          106480,
          112200,
          118223,
          124759,
          131424,
          138537,
          144951,
          150858,
          158104,
          165358,
          173496,
          181860,
          190649,
          198372,
          207187,
          216876,
          226723,
          236195,
          246603,
          257485,
          266021,
          276002,
          287158,
          298293,
          309599,
          321638,
          333043,
          343075,
          354161,
          367269,
          381098,
          395838,
          411753,
          426904,
          440464,
          456120,
          472988,
          491193,
          509448,
          529590,
          549200,
          567539,
          585795,
          605224,
          627171,
          649889,
          673907,
          697849,
          720349,
          743496,
          769057,
          794847,
          822609,
          850366,
          879472,
          907650,
          937567,
          970174,
          1005642,
          1040462,
          1077873,
          1118108,
          1154914,
          1194084,
          1239685,
          1288128,
          1337016,
          1387088,
          1436020,
          1482504,
          1532135,
          1584614,
          1639582,
          1697068,
          1752185,
          1804857,
          1855345,
          1906627,
          1963253,
          2025423,
          2086878,
          2152034,
          2214151,
          2267167,
          2328419,
          2395485,
          2459626,
          2525236,
          2589222,
          2647318,
          2701616,
          2766640,
          2835836,
          2904354,
          2973383,
          3043450,
          3105199,
          3164895,
          3231768,
          3307763,
          3384590,
          3461247,
          3539726,
          3619187,
          3687953,
          3766121,
          3848981,
          3933137,
          4020252,
          4110852,
          4202577,
          4277592,
          4367447,
          4462983,
          4559745,
          4657400,
          4751814,
          4845034,
          4926947,
          5018045,
          5115905,
          5212692,
          5305665,
          5398239,
          5485634,
          5560127,
          5643489,
          5730192,
          5816113,
          5901830,
          5990589,
          6073359,
          6143028,
          6223528,
          6310276,
          6392060,
          6471943,
          6547422,
          6622192
         ]
        }
       ],
       "layout": {
        "legend": {
         "bgcolor": "#F5F6F9",
         "font": {
          "color": "#4D5663"
         }
        },
        "paper_bgcolor": "#F5F6F9",
        "plot_bgcolor": "#F5F6F9",
        "template": {
         "data": {
          "bar": [
           {
            "error_x": {
             "color": "#2a3f5f"
            },
            "error_y": {
             "color": "#2a3f5f"
            },
            "marker": {
             "line": {
              "color": "#E5ECF6",
              "width": 0.5
             }
            },
            "type": "bar"
           }
          ],
          "barpolar": [
           {
            "marker": {
             "line": {
              "color": "#E5ECF6",
              "width": 0.5
             }
            },
            "type": "barpolar"
           }
          ],
          "carpet": [
           {
            "aaxis": {
             "endlinecolor": "#2a3f5f",
             "gridcolor": "white",
             "linecolor": "white",
             "minorgridcolor": "white",
             "startlinecolor": "#2a3f5f"
            },
            "baxis": {
             "endlinecolor": "#2a3f5f",
             "gridcolor": "white",
             "linecolor": "white",
             "minorgridcolor": "white",
             "startlinecolor": "#2a3f5f"
            },
            "type": "carpet"
           }
          ],
          "choropleth": [
           {
            "colorbar": {
             "outlinewidth": 0,
             "ticks": ""
            },
            "type": "choropleth"
           }
          ],
          "contour": [
           {
            "colorbar": {
             "outlinewidth": 0,
             "ticks": ""
            },
            "colorscale": [
             [
              0,
              "#0d0887"
             ],
             [
              0.1111111111111111,
              "#46039f"
             ],
             [
              0.2222222222222222,
              "#7201a8"
             ],
             [
              0.3333333333333333,
              "#9c179e"
             ],
             [
              0.4444444444444444,
              "#bd3786"
             ],
             [
              0.5555555555555556,
              "#d8576b"
             ],
             [
              0.6666666666666666,
              "#ed7953"
             ],
             [
              0.7777777777777778,
              "#fb9f3a"
             ],
             [
              0.8888888888888888,
              "#fdca26"
             ],
             [
              1,
              "#f0f921"
             ]
            ],
            "type": "contour"
           }
          ],
          "contourcarpet": [
           {
            "colorbar": {
             "outlinewidth": 0,
             "ticks": ""
            },
            "type": "contourcarpet"
           }
          ],
          "heatmap": [
           {
            "colorbar": {
             "outlinewidth": 0,
             "ticks": ""
            },
            "colorscale": [
             [
              0,
              "#0d0887"
             ],
             [
              0.1111111111111111,
              "#46039f"
             ],
             [
              0.2222222222222222,
              "#7201a8"
             ],
             [
              0.3333333333333333,
              "#9c179e"
             ],
             [
              0.4444444444444444,
              "#bd3786"
             ],
             [
              0.5555555555555556,
              "#d8576b"
             ],
             [
              0.6666666666666666,
              "#ed7953"
             ],
             [
              0.7777777777777778,
              "#fb9f3a"
             ],
             [
              0.8888888888888888,
              "#fdca26"
             ],
             [
              1,
              "#f0f921"
             ]
            ],
            "type": "heatmap"
           }
          ],
          "heatmapgl": [
           {
            "colorbar": {
             "outlinewidth": 0,
             "ticks": ""
            },
            "colorscale": [
             [
              0,
              "#0d0887"
             ],
             [
              0.1111111111111111,
              "#46039f"
             ],
             [
              0.2222222222222222,
              "#7201a8"
             ],
             [
              0.3333333333333333,
              "#9c179e"
             ],
             [
              0.4444444444444444,
              "#bd3786"
             ],
             [
              0.5555555555555556,
              "#d8576b"
             ],
             [
              0.6666666666666666,
              "#ed7953"
             ],
             [
              0.7777777777777778,
              "#fb9f3a"
             ],
             [
              0.8888888888888888,
              "#fdca26"
             ],
             [
              1,
              "#f0f921"
             ]
            ],
            "type": "heatmapgl"
           }
          ],
          "histogram": [
           {
            "marker": {
             "colorbar": {
              "outlinewidth": 0,
              "ticks": ""
             }
            },
            "type": "histogram"
           }
          ],
          "histogram2d": [
           {
            "colorbar": {
             "outlinewidth": 0,
             "ticks": ""
            },
            "colorscale": [
             [
              0,
              "#0d0887"
             ],
             [
              0.1111111111111111,
              "#46039f"
             ],
             [
              0.2222222222222222,
              "#7201a8"
             ],
             [
              0.3333333333333333,
              "#9c179e"
             ],
             [
              0.4444444444444444,
              "#bd3786"
             ],
             [
              0.5555555555555556,
              "#d8576b"
             ],
             [
              0.6666666666666666,
              "#ed7953"
             ],
             [
              0.7777777777777778,
              "#fb9f3a"
             ],
             [
              0.8888888888888888,
              "#fdca26"
             ],
             [
              1,
              "#f0f921"
             ]
            ],
            "type": "histogram2d"
           }
          ],
          "histogram2dcontour": [
           {
            "colorbar": {
             "outlinewidth": 0,
             "ticks": ""
            },
            "colorscale": [
             [
              0,
              "#0d0887"
             ],
             [
              0.1111111111111111,
              "#46039f"
             ],
             [
              0.2222222222222222,
              "#7201a8"
             ],
             [
              0.3333333333333333,
              "#9c179e"
             ],
             [
              0.4444444444444444,
              "#bd3786"
             ],
             [
              0.5555555555555556,
              "#d8576b"
             ],
             [
              0.6666666666666666,
              "#ed7953"
             ],
             [
              0.7777777777777778,
              "#fb9f3a"
             ],
             [
              0.8888888888888888,
              "#fdca26"
             ],
             [
              1,
              "#f0f921"
             ]
            ],
            "type": "histogram2dcontour"
           }
          ],
          "mesh3d": [
           {
            "colorbar": {
             "outlinewidth": 0,
             "ticks": ""
            },
            "type": "mesh3d"
           }
          ],
          "parcoords": [
           {
            "line": {
             "colorbar": {
              "outlinewidth": 0,
              "ticks": ""
             }
            },
            "type": "parcoords"
           }
          ],
          "pie": [
           {
            "automargin": true,
            "type": "pie"
           }
          ],
          "scatter": [
           {
            "marker": {
             "colorbar": {
              "outlinewidth": 0,
              "ticks": ""
             }
            },
            "type": "scatter"
           }
          ],
          "scatter3d": [
           {
            "line": {
             "colorbar": {
              "outlinewidth": 0,
              "ticks": ""
             }
            },
            "marker": {
             "colorbar": {
              "outlinewidth": 0,
              "ticks": ""
             }
            },
            "type": "scatter3d"
           }
          ],
          "scattercarpet": [
           {
            "marker": {
             "colorbar": {
              "outlinewidth": 0,
              "ticks": ""
             }
            },
            "type": "scattercarpet"
           }
          ],
          "scattergeo": [
           {
            "marker": {
             "colorbar": {
              "outlinewidth": 0,
              "ticks": ""
             }
            },
            "type": "scattergeo"
           }
          ],
          "scattergl": [
           {
            "marker": {
             "colorbar": {
              "outlinewidth": 0,
              "ticks": ""
             }
            },
            "type": "scattergl"
           }
          ],
          "scattermapbox": [
           {
            "marker": {
             "colorbar": {
              "outlinewidth": 0,
              "ticks": ""
             }
            },
            "type": "scattermapbox"
           }
          ],
          "scatterpolar": [
           {
            "marker": {
             "colorbar": {
              "outlinewidth": 0,
              "ticks": ""
             }
            },
            "type": "scatterpolar"
           }
          ],
          "scatterpolargl": [
           {
            "marker": {
             "colorbar": {
              "outlinewidth": 0,
              "ticks": ""
             }
            },
            "type": "scatterpolargl"
           }
          ],
          "scatterternary": [
           {
            "marker": {
             "colorbar": {
              "outlinewidth": 0,
              "ticks": ""
             }
            },
            "type": "scatterternary"
           }
          ],
          "surface": [
           {
            "colorbar": {
             "outlinewidth": 0,
             "ticks": ""
            },
            "colorscale": [
             [
              0,
              "#0d0887"
             ],
             [
              0.1111111111111111,
              "#46039f"
             ],
             [
              0.2222222222222222,
              "#7201a8"
             ],
             [
              0.3333333333333333,
              "#9c179e"
             ],
             [
              0.4444444444444444,
              "#bd3786"
             ],
             [
              0.5555555555555556,
              "#d8576b"
             ],
             [
              0.6666666666666666,
              "#ed7953"
             ],
             [
              0.7777777777777778,
              "#fb9f3a"
             ],
             [
              0.8888888888888888,
              "#fdca26"
             ],
             [
              1,
              "#f0f921"
             ]
            ],
            "type": "surface"
           }
          ],
          "table": [
           {
            "cells": {
             "fill": {
              "color": "#EBF0F8"
             },
             "line": {
              "color": "white"
             }
            },
            "header": {
             "fill": {
              "color": "#C8D4E3"
             },
             "line": {
              "color": "white"
             }
            },
            "type": "table"
           }
          ]
         },
         "layout": {
          "annotationdefaults": {
           "arrowcolor": "#2a3f5f",
           "arrowhead": 0,
           "arrowwidth": 1
          },
          "coloraxis": {
           "colorbar": {
            "outlinewidth": 0,
            "ticks": ""
           }
          },
          "colorscale": {
           "diverging": [
            [
             0,
             "#8e0152"
            ],
            [
             0.1,
             "#c51b7d"
            ],
            [
             0.2,
             "#de77ae"
            ],
            [
             0.3,
             "#f1b6da"
            ],
            [
             0.4,
             "#fde0ef"
            ],
            [
             0.5,
             "#f7f7f7"
            ],
            [
             0.6,
             "#e6f5d0"
            ],
            [
             0.7,
             "#b8e186"
            ],
            [
             0.8,
             "#7fbc41"
            ],
            [
             0.9,
             "#4d9221"
            ],
            [
             1,
             "#276419"
            ]
           ],
           "sequential": [
            [
             0,
             "#0d0887"
            ],
            [
             0.1111111111111111,
             "#46039f"
            ],
            [
             0.2222222222222222,
             "#7201a8"
            ],
            [
             0.3333333333333333,
             "#9c179e"
            ],
            [
             0.4444444444444444,
             "#bd3786"
            ],
            [
             0.5555555555555556,
             "#d8576b"
            ],
            [
             0.6666666666666666,
             "#ed7953"
            ],
            [
             0.7777777777777778,
             "#fb9f3a"
            ],
            [
             0.8888888888888888,
             "#fdca26"
            ],
            [
             1,
             "#f0f921"
            ]
           ],
           "sequentialminus": [
            [
             0,
             "#0d0887"
            ],
            [
             0.1111111111111111,
             "#46039f"
            ],
            [
             0.2222222222222222,
             "#7201a8"
            ],
            [
             0.3333333333333333,
             "#9c179e"
            ],
            [
             0.4444444444444444,
             "#bd3786"
            ],
            [
             0.5555555555555556,
             "#d8576b"
            ],
            [
             0.6666666666666666,
             "#ed7953"
            ],
            [
             0.7777777777777778,
             "#fb9f3a"
            ],
            [
             0.8888888888888888,
             "#fdca26"
            ],
            [
             1,
             "#f0f921"
            ]
           ]
          },
          "colorway": [
           "#636efa",
           "#EF553B",
           "#00cc96",
           "#ab63fa",
           "#FFA15A",
           "#19d3f3",
           "#FF6692",
           "#B6E880",
           "#FF97FF",
           "#FECB52"
          ],
          "font": {
           "color": "#2a3f5f"
          },
          "geo": {
           "bgcolor": "white",
           "lakecolor": "white",
           "landcolor": "#E5ECF6",
           "showlakes": true,
           "showland": true,
           "subunitcolor": "white"
          },
          "hoverlabel": {
           "align": "left"
          },
          "hovermode": "closest",
          "mapbox": {
           "style": "light"
          },
          "paper_bgcolor": "white",
          "plot_bgcolor": "#E5ECF6",
          "polar": {
           "angularaxis": {
            "gridcolor": "white",
            "linecolor": "white",
            "ticks": ""
           },
           "bgcolor": "#E5ECF6",
           "radialaxis": {
            "gridcolor": "white",
            "linecolor": "white",
            "ticks": ""
           }
          },
          "scene": {
           "xaxis": {
            "backgroundcolor": "#E5ECF6",
            "gridcolor": "white",
            "gridwidth": 2,
            "linecolor": "white",
            "showbackground": true,
            "ticks": "",
            "zerolinecolor": "white"
           },
           "yaxis": {
            "backgroundcolor": "#E5ECF6",
            "gridcolor": "white",
            "gridwidth": 2,
            "linecolor": "white",
            "showbackground": true,
            "ticks": "",
            "zerolinecolor": "white"
           },
           "zaxis": {
            "backgroundcolor": "#E5ECF6",
            "gridcolor": "white",
            "gridwidth": 2,
            "linecolor": "white",
            "showbackground": true,
            "ticks": "",
            "zerolinecolor": "white"
           }
          },
          "shapedefaults": {
           "line": {
            "color": "#2a3f5f"
           }
          },
          "ternary": {
           "aaxis": {
            "gridcolor": "white",
            "linecolor": "white",
            "ticks": ""
           },
           "baxis": {
            "gridcolor": "white",
            "linecolor": "white",
            "ticks": ""
           },
           "bgcolor": "#E5ECF6",
           "caxis": {
            "gridcolor": "white",
            "linecolor": "white",
            "ticks": ""
           }
          },
          "title": {
           "x": 0.05
          },
          "xaxis": {
           "automargin": true,
           "gridcolor": "white",
           "linecolor": "white",
           "ticks": "",
           "title": {
            "standoff": 15
           },
           "zerolinecolor": "white",
           "zerolinewidth": 2
          },
          "yaxis": {
           "automargin": true,
           "gridcolor": "white",
           "linecolor": "white",
           "ticks": "",
           "title": {
            "standoff": 15
           },
           "zerolinecolor": "white",
           "zerolinewidth": 2
          }
         }
        },
        "title": {
         "font": {
          "color": "#4D5663"
         },
         "text": "Total Confirmed"
        },
        "xaxis": {
         "gridcolor": "#E1E5ED",
         "showgrid": true,
         "tickfont": {
          "color": "#4D5663"
         },
         "title": {
          "font": {
           "color": "#4D5663"
          },
          "text": "Date"
         },
         "zerolinecolor": "#E1E5ED"
        },
        "yaxis": {
         "gridcolor": "#E1E5ED",
         "showgrid": true,
         "tickfont": {
          "color": "#4D5663"
         },
         "title": {
          "font": {
           "color": "#4D5663"
          },
          "text": "Total Confirmed Cases"
         },
         "zerolinecolor": "#E1E5ED"
        }
       }
      },
      "text/html": [
       "<div>                            <div id=\"5342464d-99e8-46c6-8949-0d1007acbd4c\" class=\"plotly-graph-div\" style=\"height:525px; width:100%;\"></div>            <script type=\"text/javascript\">                require([\"plotly\"], function(Plotly) {                    window.PLOTLYENV=window.PLOTLYENV || {};\n",
       "                    window.PLOTLYENV.BASE_URL='https://plot.ly';                                    if (document.getElementById(\"5342464d-99e8-46c6-8949-0d1007acbd4c\")) {                    Plotly.newPlot(                        \"5342464d-99e8-46c6-8949-0d1007acbd4c\",                        [{\"line\": {\"color\": \"rgba(219, 64, 82, 1.0)\", \"dash\": \"solid\", \"shape\": \"linear\", \"width\": 1.3}, \"marker\": {\"size\": 6, \"symbol\": \"circle\"}, \"mode\": \"markers+lines\", \"name\": \"Total Confirmed\", \"text\": \"\", \"type\": \"scatter\", \"x\": [\"30 January \", \"31 January \", \"01 February \", \"02 February \", \"03 February \", \"04 February \", \"05 February \", \"06 February \", \"07 February \", \"08 February \", \"09 February \", \"10 February \", \"11 February \", \"12 February \", \"13 February \", \"14 February \", \"15 February \", \"16 February \", \"17 February \", \"18 February \", \"19 February \", \"20 February \", \"21 February \", \"22 February \", \"23 February \", \"24 February \", \"25 February \", \"26 February \", \"27 February \", \"28 February \", \"29 February \", \"01 March \", \"02 March \", \"03 March \", \"04 March \", \"05 March \", \"06 March \", \"07 March \", \"08 March \", \"09 March \", \"10 March \", \"11 March \", \"12 March \", \"13 March \", \"14 March \", \"15 March \", \"16 March \", \"17 March \", \"18 March \", \"19 March \", \"20 March \", \"21 March \", \"22 March \", \"23 March \", \"24 March \", \"25 March \", \"26 March \", \"27 March \", \"28 March \", \"29 March \", \"30 March \", \"31 March \", \"01 April \", \"02 April \", \"03 April \", \"04 April \", \"05 April \", \"06 April \", \"07 April \", \"08 April \", \"09 April \", \"10 April \", \"11 April \", \"12 April \", \"13 April \", \"14 April \", \"15 April \", \"16 April \", \"17 April \", \"18 April \", \"19 April \", \"20 April \", \"21 April \", \"22 April \", \"23 April \", \"24 April \", \"25 April \", \"26 April \", \"27 April \", \"28 April \", \"29 April \", \"30 April \", \"01 May \", \"02 May \", \"03 May \", \"04 May \", \"05 May \", \"06 May \", \"07 May \", \"08 May \", \"09 May \", \"10 May \", \"11 May \", \"12 May \", \"13 May \", \"14 May \", \"15 May \", \"16 May \", \"17 May \", \"18 May \", \"19 May \", \"20 May \", \"21 May \", \"22 May \", \"23 May \", \"24 May \", \"25 May \", \"26 May \", \"27 May \", \"28 May \", \"29 May \", \"30 May \", \"31 May \", \"01 June \", \"02 June \", \"03 June \", \"04 June \", \"05 June \", \"06 June \", \"07 June \", \"08 June \", \"09 June \", \"10 June \", \"11 June \", \"12 June \", \"13 June \", \"14 June \", \"15 June \", \"16 June \", \"17 June \", \"18 June \", \"19 June \", \"20 June \", \"21 June \", \"22 June \", \"23 June \", \"24 June \", \"25 June \", \"26 June \", \"27 June \", \"28 June \", \"29 June \", \"30 June \", \"01 July \", \"02 July \", \"03 July \", \"04 July \", \"05 July \", \"06 July \", \"07 July \", \"08 July \", \"09 July \", \"10 July \", \"11 July \", \"12 July \", \"13 July \", \"14 July \", \"15 July \", \"16 July \", \"17 July \", \"18 July \", \"19 July \", \"20 July \", \"21 July \", \"22 July \", \"23 July \", \"24 July \", \"25 July \", \"26 July \", \"27 July \", \"28 July \", \"29 July \", \"30 July \", \"31 July \", \"01 August \", \"02 August \", \"03 August \", \"04 August \", \"05 August \", \"06 August \", \"07 August \", \"08 August \", \"09 August \", \"10 August \", \"11 August \", \"12 August \", \"13 August \", \"14 August \", \"15 August \", \"16 August \", \"17 August \", \"18 August \", \"19 August \", \"20 August \", \"21 August \", \"22 August \", \"23 August \", \"24 August \", \"25 August \", \"26 August \", \"27 August \", \"28 August \", \"29 August \", \"30 August \", \"31 August \", \"01 September \", \"02 September \", \"03 September \", \"04 September \", \"05 September \", \"06 September \", \"07 September \", \"08 September \", \"09 September \", \"10 September \", \"11 September \", \"12 September \", \"13 September \", \"14 September \", \"15 September \", \"16 September \", \"17 September \", \"18 September \", \"19 September \", \"20 September \", \"21 September \", \"22 September \", \"23 September \", \"24 September \", \"25 September \", \"26 September \", \"27 September \", \"28 September \", \"29 September \", \"30 September \", \"01 October \", \"02 October \", \"03 October \", \"04 October \"], \"y\": [1, 1, 1, 2, 3, 3, 3, 3, 3, 3, 3, 3, 3, 3, 3, 3, 3, 3, 3, 3, 3, 3, 3, 3, 3, 3, 3, 3, 3, 3, 3, 3, 5, 6, 28, 30, 31, 34, 39, 48, 63, 71, 81, 91, 102, 112, 126, 146, 171, 198, 256, 334, 403, 497, 571, 657, 730, 883, 1019, 1139, 1326, 1635, 2059, 2545, 3105, 3684, 4293, 4777, 5350, 5915, 6728, 7599, 8453, 9211, 10454, 11485, 12371, 13432, 14354, 15725, 17305, 18544, 20081, 21373, 23040, 24448, 26283, 27890, 29458, 31360, 33065, 34866, 37262, 39826, 42778, 46434, 49405, 53007, 56351, 59690, 62865, 67176, 70768, 74330, 78056, 82047, 85855, 90649, 95698, 100326, 106480, 112200, 118223, 124759, 131424, 138537, 144951, 150858, 158104, 165358, 173496, 181860, 190649, 198372, 207187, 216876, 226723, 236195, 246603, 257485, 266021, 276002, 287158, 298293, 309599, 321638, 333043, 343075, 354161, 367269, 381098, 395838, 411753, 426904, 440464, 456120, 472988, 491193, 509448, 529590, 549200, 567539, 585795, 605224, 627171, 649889, 673907, 697849, 720349, 743496, 769057, 794847, 822609, 850366, 879472, 907650, 937567, 970174, 1005642, 1040462, 1077873, 1118108, 1154914, 1194084, 1239685, 1288128, 1337016, 1387088, 1436020, 1482504, 1532135, 1584614, 1639582, 1697068, 1752185, 1804857, 1855345, 1906627, 1963253, 2025423, 2086878, 2152034, 2214151, 2267167, 2328419, 2395485, 2459626, 2525236, 2589222, 2647318, 2701616, 2766640, 2835836, 2904354, 2973383, 3043450, 3105199, 3164895, 3231768, 3307763, 3384590, 3461247, 3539726, 3619187, 3687953, 3766121, 3848981, 3933137, 4020252, 4110852, 4202577, 4277592, 4367447, 4462983, 4559745, 4657400, 4751814, 4845034, 4926947, 5018045, 5115905, 5212692, 5305665, 5398239, 5485634, 5560127, 5643489, 5730192, 5816113, 5901830, 5990589, 6073359, 6143028, 6223528, 6310276, 6392060, 6471943, 6547422, 6622192]}],                        {\"legend\": {\"bgcolor\": \"#F5F6F9\", \"font\": {\"color\": \"#4D5663\"}}, \"paper_bgcolor\": \"#F5F6F9\", \"plot_bgcolor\": \"#F5F6F9\", \"template\": {\"data\": {\"bar\": [{\"error_x\": {\"color\": \"#2a3f5f\"}, \"error_y\": {\"color\": \"#2a3f5f\"}, \"marker\": {\"line\": {\"color\": \"#E5ECF6\", \"width\": 0.5}}, \"type\": \"bar\"}], \"barpolar\": [{\"marker\": {\"line\": {\"color\": \"#E5ECF6\", \"width\": 0.5}}, \"type\": \"barpolar\"}], \"carpet\": [{\"aaxis\": {\"endlinecolor\": \"#2a3f5f\", \"gridcolor\": \"white\", \"linecolor\": \"white\", \"minorgridcolor\": \"white\", \"startlinecolor\": \"#2a3f5f\"}, \"baxis\": {\"endlinecolor\": \"#2a3f5f\", \"gridcolor\": \"white\", \"linecolor\": \"white\", \"minorgridcolor\": \"white\", \"startlinecolor\": \"#2a3f5f\"}, \"type\": \"carpet\"}], \"choropleth\": [{\"colorbar\": {\"outlinewidth\": 0, \"ticks\": \"\"}, \"type\": \"choropleth\"}], \"contour\": [{\"colorbar\": {\"outlinewidth\": 0, \"ticks\": \"\"}, \"colorscale\": [[0.0, \"#0d0887\"], [0.1111111111111111, \"#46039f\"], [0.2222222222222222, \"#7201a8\"], [0.3333333333333333, \"#9c179e\"], [0.4444444444444444, \"#bd3786\"], [0.5555555555555556, \"#d8576b\"], [0.6666666666666666, \"#ed7953\"], [0.7777777777777778, \"#fb9f3a\"], [0.8888888888888888, \"#fdca26\"], [1.0, \"#f0f921\"]], \"type\": \"contour\"}], \"contourcarpet\": [{\"colorbar\": {\"outlinewidth\": 0, \"ticks\": \"\"}, \"type\": \"contourcarpet\"}], \"heatmap\": [{\"colorbar\": {\"outlinewidth\": 0, \"ticks\": \"\"}, \"colorscale\": [[0.0, \"#0d0887\"], [0.1111111111111111, \"#46039f\"], [0.2222222222222222, \"#7201a8\"], [0.3333333333333333, \"#9c179e\"], [0.4444444444444444, \"#bd3786\"], [0.5555555555555556, \"#d8576b\"], [0.6666666666666666, \"#ed7953\"], [0.7777777777777778, \"#fb9f3a\"], [0.8888888888888888, \"#fdca26\"], [1.0, \"#f0f921\"]], \"type\": \"heatmap\"}], \"heatmapgl\": [{\"colorbar\": {\"outlinewidth\": 0, \"ticks\": \"\"}, \"colorscale\": [[0.0, \"#0d0887\"], [0.1111111111111111, \"#46039f\"], [0.2222222222222222, \"#7201a8\"], [0.3333333333333333, \"#9c179e\"], [0.4444444444444444, \"#bd3786\"], [0.5555555555555556, \"#d8576b\"], [0.6666666666666666, \"#ed7953\"], [0.7777777777777778, \"#fb9f3a\"], [0.8888888888888888, \"#fdca26\"], [1.0, \"#f0f921\"]], \"type\": \"heatmapgl\"}], \"histogram\": [{\"marker\": {\"colorbar\": {\"outlinewidth\": 0, \"ticks\": \"\"}}, \"type\": \"histogram\"}], \"histogram2d\": [{\"colorbar\": {\"outlinewidth\": 0, \"ticks\": \"\"}, \"colorscale\": [[0.0, \"#0d0887\"], [0.1111111111111111, \"#46039f\"], [0.2222222222222222, \"#7201a8\"], [0.3333333333333333, \"#9c179e\"], [0.4444444444444444, \"#bd3786\"], [0.5555555555555556, \"#d8576b\"], [0.6666666666666666, \"#ed7953\"], [0.7777777777777778, \"#fb9f3a\"], [0.8888888888888888, \"#fdca26\"], [1.0, \"#f0f921\"]], \"type\": \"histogram2d\"}], \"histogram2dcontour\": [{\"colorbar\": {\"outlinewidth\": 0, \"ticks\": \"\"}, \"colorscale\": [[0.0, \"#0d0887\"], [0.1111111111111111, \"#46039f\"], [0.2222222222222222, \"#7201a8\"], [0.3333333333333333, \"#9c179e\"], [0.4444444444444444, \"#bd3786\"], [0.5555555555555556, \"#d8576b\"], [0.6666666666666666, \"#ed7953\"], [0.7777777777777778, \"#fb9f3a\"], [0.8888888888888888, \"#fdca26\"], [1.0, \"#f0f921\"]], \"type\": \"histogram2dcontour\"}], \"mesh3d\": [{\"colorbar\": {\"outlinewidth\": 0, \"ticks\": \"\"}, \"type\": \"mesh3d\"}], \"parcoords\": [{\"line\": {\"colorbar\": {\"outlinewidth\": 0, \"ticks\": \"\"}}, \"type\": \"parcoords\"}], \"pie\": [{\"automargin\": true, \"type\": \"pie\"}], \"scatter\": [{\"marker\": {\"colorbar\": {\"outlinewidth\": 0, \"ticks\": \"\"}}, \"type\": \"scatter\"}], \"scatter3d\": [{\"line\": {\"colorbar\": {\"outlinewidth\": 0, \"ticks\": \"\"}}, \"marker\": {\"colorbar\": {\"outlinewidth\": 0, \"ticks\": \"\"}}, \"type\": \"scatter3d\"}], \"scattercarpet\": [{\"marker\": {\"colorbar\": {\"outlinewidth\": 0, \"ticks\": \"\"}}, \"type\": \"scattercarpet\"}], \"scattergeo\": [{\"marker\": {\"colorbar\": {\"outlinewidth\": 0, \"ticks\": \"\"}}, \"type\": \"scattergeo\"}], \"scattergl\": [{\"marker\": {\"colorbar\": {\"outlinewidth\": 0, \"ticks\": \"\"}}, \"type\": \"scattergl\"}], \"scattermapbox\": [{\"marker\": {\"colorbar\": {\"outlinewidth\": 0, \"ticks\": \"\"}}, \"type\": \"scattermapbox\"}], \"scatterpolar\": [{\"marker\": {\"colorbar\": {\"outlinewidth\": 0, \"ticks\": \"\"}}, \"type\": \"scatterpolar\"}], \"scatterpolargl\": [{\"marker\": {\"colorbar\": {\"outlinewidth\": 0, \"ticks\": \"\"}}, \"type\": \"scatterpolargl\"}], \"scatterternary\": [{\"marker\": {\"colorbar\": {\"outlinewidth\": 0, \"ticks\": \"\"}}, \"type\": \"scatterternary\"}], \"surface\": [{\"colorbar\": {\"outlinewidth\": 0, \"ticks\": \"\"}, \"colorscale\": [[0.0, \"#0d0887\"], [0.1111111111111111, \"#46039f\"], [0.2222222222222222, \"#7201a8\"], [0.3333333333333333, \"#9c179e\"], [0.4444444444444444, \"#bd3786\"], [0.5555555555555556, \"#d8576b\"], [0.6666666666666666, \"#ed7953\"], [0.7777777777777778, \"#fb9f3a\"], [0.8888888888888888, \"#fdca26\"], [1.0, \"#f0f921\"]], \"type\": \"surface\"}], \"table\": [{\"cells\": {\"fill\": {\"color\": \"#EBF0F8\"}, \"line\": {\"color\": \"white\"}}, \"header\": {\"fill\": {\"color\": \"#C8D4E3\"}, \"line\": {\"color\": \"white\"}}, \"type\": \"table\"}]}, \"layout\": {\"annotationdefaults\": {\"arrowcolor\": \"#2a3f5f\", \"arrowhead\": 0, \"arrowwidth\": 1}, \"coloraxis\": {\"colorbar\": {\"outlinewidth\": 0, \"ticks\": \"\"}}, \"colorscale\": {\"diverging\": [[0, \"#8e0152\"], [0.1, \"#c51b7d\"], [0.2, \"#de77ae\"], [0.3, \"#f1b6da\"], [0.4, \"#fde0ef\"], [0.5, \"#f7f7f7\"], [0.6, \"#e6f5d0\"], [0.7, \"#b8e186\"], [0.8, \"#7fbc41\"], [0.9, \"#4d9221\"], [1, \"#276419\"]], \"sequential\": [[0.0, \"#0d0887\"], [0.1111111111111111, \"#46039f\"], [0.2222222222222222, \"#7201a8\"], [0.3333333333333333, \"#9c179e\"], [0.4444444444444444, \"#bd3786\"], [0.5555555555555556, \"#d8576b\"], [0.6666666666666666, \"#ed7953\"], [0.7777777777777778, \"#fb9f3a\"], [0.8888888888888888, \"#fdca26\"], [1.0, \"#f0f921\"]], \"sequentialminus\": [[0.0, \"#0d0887\"], [0.1111111111111111, \"#46039f\"], [0.2222222222222222, \"#7201a8\"], [0.3333333333333333, \"#9c179e\"], [0.4444444444444444, \"#bd3786\"], [0.5555555555555556, \"#d8576b\"], [0.6666666666666666, \"#ed7953\"], [0.7777777777777778, \"#fb9f3a\"], [0.8888888888888888, \"#fdca26\"], [1.0, \"#f0f921\"]]}, \"colorway\": [\"#636efa\", \"#EF553B\", \"#00cc96\", \"#ab63fa\", \"#FFA15A\", \"#19d3f3\", \"#FF6692\", \"#B6E880\", \"#FF97FF\", \"#FECB52\"], \"font\": {\"color\": \"#2a3f5f\"}, \"geo\": {\"bgcolor\": \"white\", \"lakecolor\": \"white\", \"landcolor\": \"#E5ECF6\", \"showlakes\": true, \"showland\": true, \"subunitcolor\": \"white\"}, \"hoverlabel\": {\"align\": \"left\"}, \"hovermode\": \"closest\", \"mapbox\": {\"style\": \"light\"}, \"paper_bgcolor\": \"white\", \"plot_bgcolor\": \"#E5ECF6\", \"polar\": {\"angularaxis\": {\"gridcolor\": \"white\", \"linecolor\": \"white\", \"ticks\": \"\"}, \"bgcolor\": \"#E5ECF6\", \"radialaxis\": {\"gridcolor\": \"white\", \"linecolor\": \"white\", \"ticks\": \"\"}}, \"scene\": {\"xaxis\": {\"backgroundcolor\": \"#E5ECF6\", \"gridcolor\": \"white\", \"gridwidth\": 2, \"linecolor\": \"white\", \"showbackground\": true, \"ticks\": \"\", \"zerolinecolor\": \"white\"}, \"yaxis\": {\"backgroundcolor\": \"#E5ECF6\", \"gridcolor\": \"white\", \"gridwidth\": 2, \"linecolor\": \"white\", \"showbackground\": true, \"ticks\": \"\", \"zerolinecolor\": \"white\"}, \"zaxis\": {\"backgroundcolor\": \"#E5ECF6\", \"gridcolor\": \"white\", \"gridwidth\": 2, \"linecolor\": \"white\", \"showbackground\": true, \"ticks\": \"\", \"zerolinecolor\": \"white\"}}, \"shapedefaults\": {\"line\": {\"color\": \"#2a3f5f\"}}, \"ternary\": {\"aaxis\": {\"gridcolor\": \"white\", \"linecolor\": \"white\", \"ticks\": \"\"}, \"baxis\": {\"gridcolor\": \"white\", \"linecolor\": \"white\", \"ticks\": \"\"}, \"bgcolor\": \"#E5ECF6\", \"caxis\": {\"gridcolor\": \"white\", \"linecolor\": \"white\", \"ticks\": \"\"}}, \"title\": {\"x\": 0.05}, \"xaxis\": {\"automargin\": true, \"gridcolor\": \"white\", \"linecolor\": \"white\", \"ticks\": \"\", \"title\": {\"standoff\": 15}, \"zerolinecolor\": \"white\", \"zerolinewidth\": 2}, \"yaxis\": {\"automargin\": true, \"gridcolor\": \"white\", \"linecolor\": \"white\", \"ticks\": \"\", \"title\": {\"standoff\": 15}, \"zerolinecolor\": \"white\", \"zerolinewidth\": 2}}}, \"title\": {\"font\": {\"color\": \"#4D5663\"}, \"text\": \"Total Confirmed\"}, \"xaxis\": {\"gridcolor\": \"#E1E5ED\", \"showgrid\": true, \"tickfont\": {\"color\": \"#4D5663\"}, \"title\": {\"font\": {\"color\": \"#4D5663\"}, \"text\": \"Date\"}, \"zerolinecolor\": \"#E1E5ED\"}, \"yaxis\": {\"gridcolor\": \"#E1E5ED\", \"showgrid\": true, \"tickfont\": {\"color\": \"#4D5663\"}, \"title\": {\"font\": {\"color\": \"#4D5663\"}, \"text\": \"Total Confirmed Cases\"}, \"zerolinecolor\": \"#E1E5ED\"}},                        {\"showLink\": true, \"linkText\": \"Export to plot.ly\", \"plotlyServerURL\": \"https://plot.ly\", \"responsive\": true}                    ).then(function(){\n",
       "                            \n",
       "var gd = document.getElementById('5342464d-99e8-46c6-8949-0d1007acbd4c');\n",
       "var x = new MutationObserver(function (mutations, observer) {{\n",
       "        var display = window.getComputedStyle(gd).display;\n",
       "        if (!display || display === 'none') {{\n",
       "            console.log([gd, 'removed!']);\n",
       "            Plotly.purge(gd);\n",
       "            observer.disconnect();\n",
       "        }}\n",
       "}});\n",
       "\n",
       "// Listen for the removal of the full notebook cells\n",
       "var notebookContainer = gd.closest('#notebook-container');\n",
       "if (notebookContainer) {{\n",
       "    x.observe(notebookContainer, {childList: true});\n",
       "}}\n",
       "\n",
       "// Listen for the clearing of the current output cell\n",
       "var outputEl = gd.closest('.output');\n",
       "if (outputEl) {{\n",
       "    x.observe(outputEl, {childList: true});\n",
       "}}\n",
       "\n",
       "                        })                };                });            </script>        </div>"
      ]
     },
     "metadata": {},
     "output_type": "display_data"
    }
   ],
   "source": [
    "case_time_series.iplot(kind='scatter',x='Date',y='Total Confirmed',\n",
    "                       mode='markers+lines',\n",
    "                       title='Total Confirmed',\n",
    "                       xTitle='Date',yTitle='Total Confirmed Cases',colors='red',size=6)"
   ]
  },
  {
   "cell_type": "code",
   "execution_count": 36,
   "metadata": {},
   "outputs": [
    {
     "data": {
      "application/vnd.plotly.v1+json": {
       "config": {
        "linkText": "Export to plot.ly",
        "plotlyServerURL": "https://plot.ly",
        "showLink": true
       },
       "data": [
        {
         "line": {
          "color": "rgba(219, 64, 82, 1.0)",
          "dash": "solid",
          "shape": "linear",
          "width": 1.3
         },
         "marker": {
          "size": 6,
          "symbol": "circle"
         },
         "mode": "markers+lines",
         "name": "Daily Confirmed",
         "text": "",
         "type": "scatter",
         "x": [
          "30 January ",
          "31 January ",
          "01 February ",
          "02 February ",
          "03 February ",
          "04 February ",
          "05 February ",
          "06 February ",
          "07 February ",
          "08 February ",
          "09 February ",
          "10 February ",
          "11 February ",
          "12 February ",
          "13 February ",
          "14 February ",
          "15 February ",
          "16 February ",
          "17 February ",
          "18 February ",
          "19 February ",
          "20 February ",
          "21 February ",
          "22 February ",
          "23 February ",
          "24 February ",
          "25 February ",
          "26 February ",
          "27 February ",
          "28 February ",
          "29 February ",
          "01 March ",
          "02 March ",
          "03 March ",
          "04 March ",
          "05 March ",
          "06 March ",
          "07 March ",
          "08 March ",
          "09 March ",
          "10 March ",
          "11 March ",
          "12 March ",
          "13 March ",
          "14 March ",
          "15 March ",
          "16 March ",
          "17 March ",
          "18 March ",
          "19 March ",
          "20 March ",
          "21 March ",
          "22 March ",
          "23 March ",
          "24 March ",
          "25 March ",
          "26 March ",
          "27 March ",
          "28 March ",
          "29 March ",
          "30 March ",
          "31 March ",
          "01 April ",
          "02 April ",
          "03 April ",
          "04 April ",
          "05 April ",
          "06 April ",
          "07 April ",
          "08 April ",
          "09 April ",
          "10 April ",
          "11 April ",
          "12 April ",
          "13 April ",
          "14 April ",
          "15 April ",
          "16 April ",
          "17 April ",
          "18 April ",
          "19 April ",
          "20 April ",
          "21 April ",
          "22 April ",
          "23 April ",
          "24 April ",
          "25 April ",
          "26 April ",
          "27 April ",
          "28 April ",
          "29 April ",
          "30 April ",
          "01 May ",
          "02 May ",
          "03 May ",
          "04 May ",
          "05 May ",
          "06 May ",
          "07 May ",
          "08 May ",
          "09 May ",
          "10 May ",
          "11 May ",
          "12 May ",
          "13 May ",
          "14 May ",
          "15 May ",
          "16 May ",
          "17 May ",
          "18 May ",
          "19 May ",
          "20 May ",
          "21 May ",
          "22 May ",
          "23 May ",
          "24 May ",
          "25 May ",
          "26 May ",
          "27 May ",
          "28 May ",
          "29 May ",
          "30 May ",
          "31 May ",
          "01 June ",
          "02 June ",
          "03 June ",
          "04 June ",
          "05 June ",
          "06 June ",
          "07 June ",
          "08 June ",
          "09 June ",
          "10 June ",
          "11 June ",
          "12 June ",
          "13 June ",
          "14 June ",
          "15 June ",
          "16 June ",
          "17 June ",
          "18 June ",
          "19 June ",
          "20 June ",
          "21 June ",
          "22 June ",
          "23 June ",
          "24 June ",
          "25 June ",
          "26 June ",
          "27 June ",
          "28 June ",
          "29 June ",
          "30 June ",
          "01 July ",
          "02 July ",
          "03 July ",
          "04 July ",
          "05 July ",
          "06 July ",
          "07 July ",
          "08 July ",
          "09 July ",
          "10 July ",
          "11 July ",
          "12 July ",
          "13 July ",
          "14 July ",
          "15 July ",
          "16 July ",
          "17 July ",
          "18 July ",
          "19 July ",
          "20 July ",
          "21 July ",
          "22 July ",
          "23 July ",
          "24 July ",
          "25 July ",
          "26 July ",
          "27 July ",
          "28 July ",
          "29 July ",
          "30 July ",
          "31 July ",
          "01 August ",
          "02 August ",
          "03 August ",
          "04 August ",
          "05 August ",
          "06 August ",
          "07 August ",
          "08 August ",
          "09 August ",
          "10 August ",
          "11 August ",
          "12 August ",
          "13 August ",
          "14 August ",
          "15 August ",
          "16 August ",
          "17 August ",
          "18 August ",
          "19 August ",
          "20 August ",
          "21 August ",
          "22 August ",
          "23 August ",
          "24 August ",
          "25 August ",
          "26 August ",
          "27 August ",
          "28 August ",
          "29 August ",
          "30 August ",
          "31 August ",
          "01 September ",
          "02 September ",
          "03 September ",
          "04 September ",
          "05 September ",
          "06 September ",
          "07 September ",
          "08 September ",
          "09 September ",
          "10 September ",
          "11 September ",
          "12 September ",
          "13 September ",
          "14 September ",
          "15 September ",
          "16 September ",
          "17 September ",
          "18 September ",
          "19 September ",
          "20 September ",
          "21 September ",
          "22 September ",
          "23 September ",
          "24 September ",
          "25 September ",
          "26 September ",
          "27 September ",
          "28 September ",
          "29 September ",
          "30 September ",
          "01 October ",
          "02 October ",
          "03 October ",
          "04 October "
         ],
         "y": [
          1,
          0,
          0,
          1,
          1,
          0,
          0,
          0,
          0,
          0,
          0,
          0,
          0,
          0,
          0,
          0,
          0,
          0,
          0,
          0,
          0,
          0,
          0,
          0,
          0,
          0,
          0,
          0,
          0,
          0,
          0,
          0,
          2,
          1,
          22,
          2,
          1,
          3,
          5,
          9,
          15,
          8,
          10,
          10,
          11,
          10,
          14,
          20,
          25,
          27,
          58,
          78,
          69,
          94,
          74,
          86,
          73,
          153,
          136,
          120,
          187,
          309,
          424,
          486,
          560,
          579,
          609,
          484,
          573,
          565,
          813,
          871,
          854,
          758,
          1243,
          1031,
          886,
          1061,
          922,
          1371,
          1580,
          1239,
          1537,
          1292,
          1667,
          1408,
          1835,
          1607,
          1568,
          1902,
          1705,
          1801,
          2396,
          2564,
          2952,
          3656,
          2971,
          3602,
          3344,
          3339,
          3175,
          4311,
          3592,
          3562,
          3726,
          3991,
          3808,
          4794,
          5049,
          4628,
          6154,
          5720,
          6023,
          6536,
          6667,
          7111,
          6414,
          5907,
          7246,
          7254,
          8138,
          8364,
          8789,
          7723,
          8812,
          9689,
          9847,
          9472,
          10408,
          10882,
          8536,
          9981,
          11156,
          11135,
          11306,
          12039,
          11405,
          10032,
          11086,
          13108,
          13829,
          14740,
          15918,
          15151,
          13560,
          15656,
          16868,
          18205,
          18255,
          20142,
          19610,
          18339,
          18256,
          19429,
          21947,
          22718,
          24018,
          23942,
          22500,
          23147,
          25561,
          25790,
          27762,
          27757,
          29106,
          28178,
          29917,
          32607,
          35468,
          34820,
          37411,
          40235,
          36806,
          39170,
          45601,
          48443,
          48888,
          50072,
          48932,
          46484,
          49631,
          52479,
          54968,
          57486,
          55117,
          52672,
          50488,
          51282,
          56626,
          62170,
          61455,
          65156,
          62117,
          53016,
          61252,
          67066,
          64141,
          65610,
          63986,
          58096,
          54298,
          65024,
          69196,
          68518,
          69029,
          70067,
          61749,
          59696,
          66873,
          75995,
          76827,
          76657,
          78479,
          79461,
          68766,
          78168,
          82860,
          84156,
          87115,
          90600,
          91725,
          75015,
          89855,
          95536,
          96762,
          97655,
          94414,
          93220,
          81913,
          91098,
          97860,
          96787,
          92973,
          92574,
          87395,
          74493,
          83362,
          86703,
          85921,
          85717,
          88759,
          82770,
          69669,
          80500,
          86748,
          81784,
          79883,
          75479,
          74770
         ]
        }
       ],
       "layout": {
        "legend": {
         "bgcolor": "#F5F6F9",
         "font": {
          "color": "#4D5663"
         }
        },
        "paper_bgcolor": "#F5F6F9",
        "plot_bgcolor": "#F5F6F9",
        "template": {
         "data": {
          "bar": [
           {
            "error_x": {
             "color": "#2a3f5f"
            },
            "error_y": {
             "color": "#2a3f5f"
            },
            "marker": {
             "line": {
              "color": "#E5ECF6",
              "width": 0.5
             }
            },
            "type": "bar"
           }
          ],
          "barpolar": [
           {
            "marker": {
             "line": {
              "color": "#E5ECF6",
              "width": 0.5
             }
            },
            "type": "barpolar"
           }
          ],
          "carpet": [
           {
            "aaxis": {
             "endlinecolor": "#2a3f5f",
             "gridcolor": "white",
             "linecolor": "white",
             "minorgridcolor": "white",
             "startlinecolor": "#2a3f5f"
            },
            "baxis": {
             "endlinecolor": "#2a3f5f",
             "gridcolor": "white",
             "linecolor": "white",
             "minorgridcolor": "white",
             "startlinecolor": "#2a3f5f"
            },
            "type": "carpet"
           }
          ],
          "choropleth": [
           {
            "colorbar": {
             "outlinewidth": 0,
             "ticks": ""
            },
            "type": "choropleth"
           }
          ],
          "contour": [
           {
            "colorbar": {
             "outlinewidth": 0,
             "ticks": ""
            },
            "colorscale": [
             [
              0,
              "#0d0887"
             ],
             [
              0.1111111111111111,
              "#46039f"
             ],
             [
              0.2222222222222222,
              "#7201a8"
             ],
             [
              0.3333333333333333,
              "#9c179e"
             ],
             [
              0.4444444444444444,
              "#bd3786"
             ],
             [
              0.5555555555555556,
              "#d8576b"
             ],
             [
              0.6666666666666666,
              "#ed7953"
             ],
             [
              0.7777777777777778,
              "#fb9f3a"
             ],
             [
              0.8888888888888888,
              "#fdca26"
             ],
             [
              1,
              "#f0f921"
             ]
            ],
            "type": "contour"
           }
          ],
          "contourcarpet": [
           {
            "colorbar": {
             "outlinewidth": 0,
             "ticks": ""
            },
            "type": "contourcarpet"
           }
          ],
          "heatmap": [
           {
            "colorbar": {
             "outlinewidth": 0,
             "ticks": ""
            },
            "colorscale": [
             [
              0,
              "#0d0887"
             ],
             [
              0.1111111111111111,
              "#46039f"
             ],
             [
              0.2222222222222222,
              "#7201a8"
             ],
             [
              0.3333333333333333,
              "#9c179e"
             ],
             [
              0.4444444444444444,
              "#bd3786"
             ],
             [
              0.5555555555555556,
              "#d8576b"
             ],
             [
              0.6666666666666666,
              "#ed7953"
             ],
             [
              0.7777777777777778,
              "#fb9f3a"
             ],
             [
              0.8888888888888888,
              "#fdca26"
             ],
             [
              1,
              "#f0f921"
             ]
            ],
            "type": "heatmap"
           }
          ],
          "heatmapgl": [
           {
            "colorbar": {
             "outlinewidth": 0,
             "ticks": ""
            },
            "colorscale": [
             [
              0,
              "#0d0887"
             ],
             [
              0.1111111111111111,
              "#46039f"
             ],
             [
              0.2222222222222222,
              "#7201a8"
             ],
             [
              0.3333333333333333,
              "#9c179e"
             ],
             [
              0.4444444444444444,
              "#bd3786"
             ],
             [
              0.5555555555555556,
              "#d8576b"
             ],
             [
              0.6666666666666666,
              "#ed7953"
             ],
             [
              0.7777777777777778,
              "#fb9f3a"
             ],
             [
              0.8888888888888888,
              "#fdca26"
             ],
             [
              1,
              "#f0f921"
             ]
            ],
            "type": "heatmapgl"
           }
          ],
          "histogram": [
           {
            "marker": {
             "colorbar": {
              "outlinewidth": 0,
              "ticks": ""
             }
            },
            "type": "histogram"
           }
          ],
          "histogram2d": [
           {
            "colorbar": {
             "outlinewidth": 0,
             "ticks": ""
            },
            "colorscale": [
             [
              0,
              "#0d0887"
             ],
             [
              0.1111111111111111,
              "#46039f"
             ],
             [
              0.2222222222222222,
              "#7201a8"
             ],
             [
              0.3333333333333333,
              "#9c179e"
             ],
             [
              0.4444444444444444,
              "#bd3786"
             ],
             [
              0.5555555555555556,
              "#d8576b"
             ],
             [
              0.6666666666666666,
              "#ed7953"
             ],
             [
              0.7777777777777778,
              "#fb9f3a"
             ],
             [
              0.8888888888888888,
              "#fdca26"
             ],
             [
              1,
              "#f0f921"
             ]
            ],
            "type": "histogram2d"
           }
          ],
          "histogram2dcontour": [
           {
            "colorbar": {
             "outlinewidth": 0,
             "ticks": ""
            },
            "colorscale": [
             [
              0,
              "#0d0887"
             ],
             [
              0.1111111111111111,
              "#46039f"
             ],
             [
              0.2222222222222222,
              "#7201a8"
             ],
             [
              0.3333333333333333,
              "#9c179e"
             ],
             [
              0.4444444444444444,
              "#bd3786"
             ],
             [
              0.5555555555555556,
              "#d8576b"
             ],
             [
              0.6666666666666666,
              "#ed7953"
             ],
             [
              0.7777777777777778,
              "#fb9f3a"
             ],
             [
              0.8888888888888888,
              "#fdca26"
             ],
             [
              1,
              "#f0f921"
             ]
            ],
            "type": "histogram2dcontour"
           }
          ],
          "mesh3d": [
           {
            "colorbar": {
             "outlinewidth": 0,
             "ticks": ""
            },
            "type": "mesh3d"
           }
          ],
          "parcoords": [
           {
            "line": {
             "colorbar": {
              "outlinewidth": 0,
              "ticks": ""
             }
            },
            "type": "parcoords"
           }
          ],
          "pie": [
           {
            "automargin": true,
            "type": "pie"
           }
          ],
          "scatter": [
           {
            "marker": {
             "colorbar": {
              "outlinewidth": 0,
              "ticks": ""
             }
            },
            "type": "scatter"
           }
          ],
          "scatter3d": [
           {
            "line": {
             "colorbar": {
              "outlinewidth": 0,
              "ticks": ""
             }
            },
            "marker": {
             "colorbar": {
              "outlinewidth": 0,
              "ticks": ""
             }
            },
            "type": "scatter3d"
           }
          ],
          "scattercarpet": [
           {
            "marker": {
             "colorbar": {
              "outlinewidth": 0,
              "ticks": ""
             }
            },
            "type": "scattercarpet"
           }
          ],
          "scattergeo": [
           {
            "marker": {
             "colorbar": {
              "outlinewidth": 0,
              "ticks": ""
             }
            },
            "type": "scattergeo"
           }
          ],
          "scattergl": [
           {
            "marker": {
             "colorbar": {
              "outlinewidth": 0,
              "ticks": ""
             }
            },
            "type": "scattergl"
           }
          ],
          "scattermapbox": [
           {
            "marker": {
             "colorbar": {
              "outlinewidth": 0,
              "ticks": ""
             }
            },
            "type": "scattermapbox"
           }
          ],
          "scatterpolar": [
           {
            "marker": {
             "colorbar": {
              "outlinewidth": 0,
              "ticks": ""
             }
            },
            "type": "scatterpolar"
           }
          ],
          "scatterpolargl": [
           {
            "marker": {
             "colorbar": {
              "outlinewidth": 0,
              "ticks": ""
             }
            },
            "type": "scatterpolargl"
           }
          ],
          "scatterternary": [
           {
            "marker": {
             "colorbar": {
              "outlinewidth": 0,
              "ticks": ""
             }
            },
            "type": "scatterternary"
           }
          ],
          "surface": [
           {
            "colorbar": {
             "outlinewidth": 0,
             "ticks": ""
            },
            "colorscale": [
             [
              0,
              "#0d0887"
             ],
             [
              0.1111111111111111,
              "#46039f"
             ],
             [
              0.2222222222222222,
              "#7201a8"
             ],
             [
              0.3333333333333333,
              "#9c179e"
             ],
             [
              0.4444444444444444,
              "#bd3786"
             ],
             [
              0.5555555555555556,
              "#d8576b"
             ],
             [
              0.6666666666666666,
              "#ed7953"
             ],
             [
              0.7777777777777778,
              "#fb9f3a"
             ],
             [
              0.8888888888888888,
              "#fdca26"
             ],
             [
              1,
              "#f0f921"
             ]
            ],
            "type": "surface"
           }
          ],
          "table": [
           {
            "cells": {
             "fill": {
              "color": "#EBF0F8"
             },
             "line": {
              "color": "white"
             }
            },
            "header": {
             "fill": {
              "color": "#C8D4E3"
             },
             "line": {
              "color": "white"
             }
            },
            "type": "table"
           }
          ]
         },
         "layout": {
          "annotationdefaults": {
           "arrowcolor": "#2a3f5f",
           "arrowhead": 0,
           "arrowwidth": 1
          },
          "coloraxis": {
           "colorbar": {
            "outlinewidth": 0,
            "ticks": ""
           }
          },
          "colorscale": {
           "diverging": [
            [
             0,
             "#8e0152"
            ],
            [
             0.1,
             "#c51b7d"
            ],
            [
             0.2,
             "#de77ae"
            ],
            [
             0.3,
             "#f1b6da"
            ],
            [
             0.4,
             "#fde0ef"
            ],
            [
             0.5,
             "#f7f7f7"
            ],
            [
             0.6,
             "#e6f5d0"
            ],
            [
             0.7,
             "#b8e186"
            ],
            [
             0.8,
             "#7fbc41"
            ],
            [
             0.9,
             "#4d9221"
            ],
            [
             1,
             "#276419"
            ]
           ],
           "sequential": [
            [
             0,
             "#0d0887"
            ],
            [
             0.1111111111111111,
             "#46039f"
            ],
            [
             0.2222222222222222,
             "#7201a8"
            ],
            [
             0.3333333333333333,
             "#9c179e"
            ],
            [
             0.4444444444444444,
             "#bd3786"
            ],
            [
             0.5555555555555556,
             "#d8576b"
            ],
            [
             0.6666666666666666,
             "#ed7953"
            ],
            [
             0.7777777777777778,
             "#fb9f3a"
            ],
            [
             0.8888888888888888,
             "#fdca26"
            ],
            [
             1,
             "#f0f921"
            ]
           ],
           "sequentialminus": [
            [
             0,
             "#0d0887"
            ],
            [
             0.1111111111111111,
             "#46039f"
            ],
            [
             0.2222222222222222,
             "#7201a8"
            ],
            [
             0.3333333333333333,
             "#9c179e"
            ],
            [
             0.4444444444444444,
             "#bd3786"
            ],
            [
             0.5555555555555556,
             "#d8576b"
            ],
            [
             0.6666666666666666,
             "#ed7953"
            ],
            [
             0.7777777777777778,
             "#fb9f3a"
            ],
            [
             0.8888888888888888,
             "#fdca26"
            ],
            [
             1,
             "#f0f921"
            ]
           ]
          },
          "colorway": [
           "#636efa",
           "#EF553B",
           "#00cc96",
           "#ab63fa",
           "#FFA15A",
           "#19d3f3",
           "#FF6692",
           "#B6E880",
           "#FF97FF",
           "#FECB52"
          ],
          "font": {
           "color": "#2a3f5f"
          },
          "geo": {
           "bgcolor": "white",
           "lakecolor": "white",
           "landcolor": "#E5ECF6",
           "showlakes": true,
           "showland": true,
           "subunitcolor": "white"
          },
          "hoverlabel": {
           "align": "left"
          },
          "hovermode": "closest",
          "mapbox": {
           "style": "light"
          },
          "paper_bgcolor": "white",
          "plot_bgcolor": "#E5ECF6",
          "polar": {
           "angularaxis": {
            "gridcolor": "white",
            "linecolor": "white",
            "ticks": ""
           },
           "bgcolor": "#E5ECF6",
           "radialaxis": {
            "gridcolor": "white",
            "linecolor": "white",
            "ticks": ""
           }
          },
          "scene": {
           "xaxis": {
            "backgroundcolor": "#E5ECF6",
            "gridcolor": "white",
            "gridwidth": 2,
            "linecolor": "white",
            "showbackground": true,
            "ticks": "",
            "zerolinecolor": "white"
           },
           "yaxis": {
            "backgroundcolor": "#E5ECF6",
            "gridcolor": "white",
            "gridwidth": 2,
            "linecolor": "white",
            "showbackground": true,
            "ticks": "",
            "zerolinecolor": "white"
           },
           "zaxis": {
            "backgroundcolor": "#E5ECF6",
            "gridcolor": "white",
            "gridwidth": 2,
            "linecolor": "white",
            "showbackground": true,
            "ticks": "",
            "zerolinecolor": "white"
           }
          },
          "shapedefaults": {
           "line": {
            "color": "#2a3f5f"
           }
          },
          "ternary": {
           "aaxis": {
            "gridcolor": "white",
            "linecolor": "white",
            "ticks": ""
           },
           "baxis": {
            "gridcolor": "white",
            "linecolor": "white",
            "ticks": ""
           },
           "bgcolor": "#E5ECF6",
           "caxis": {
            "gridcolor": "white",
            "linecolor": "white",
            "ticks": ""
           }
          },
          "title": {
           "x": 0.05
          },
          "xaxis": {
           "automargin": true,
           "gridcolor": "white",
           "linecolor": "white",
           "ticks": "",
           "title": {
            "standoff": 15
           },
           "zerolinecolor": "white",
           "zerolinewidth": 2
          },
          "yaxis": {
           "automargin": true,
           "gridcolor": "white",
           "linecolor": "white",
           "ticks": "",
           "title": {
            "standoff": 15
           },
           "zerolinecolor": "white",
           "zerolinewidth": 2
          }
         }
        },
        "title": {
         "font": {
          "color": "#4D5663"
         },
         "text": "Daily Confirmed"
        },
        "xaxis": {
         "gridcolor": "#E1E5ED",
         "showgrid": true,
         "tickfont": {
          "color": "#4D5663"
         },
         "title": {
          "font": {
           "color": "#4D5663"
          },
          "text": "Date"
         },
         "zerolinecolor": "#E1E5ED"
        },
        "yaxis": {
         "gridcolor": "#E1E5ED",
         "showgrid": true,
         "tickfont": {
          "color": "#4D5663"
         },
         "title": {
          "font": {
           "color": "#4D5663"
          },
          "text": "Daily Confirmed Cases"
         },
         "zerolinecolor": "#E1E5ED"
        }
       }
      },
      "text/html": [
       "<div>                            <div id=\"07321b77-8f67-45f7-978c-5d2c6340a39c\" class=\"plotly-graph-div\" style=\"height:525px; width:100%;\"></div>            <script type=\"text/javascript\">                require([\"plotly\"], function(Plotly) {                    window.PLOTLYENV=window.PLOTLYENV || {};\n",
       "                    window.PLOTLYENV.BASE_URL='https://plot.ly';                                    if (document.getElementById(\"07321b77-8f67-45f7-978c-5d2c6340a39c\")) {                    Plotly.newPlot(                        \"07321b77-8f67-45f7-978c-5d2c6340a39c\",                        [{\"line\": {\"color\": \"rgba(219, 64, 82, 1.0)\", \"dash\": \"solid\", \"shape\": \"linear\", \"width\": 1.3}, \"marker\": {\"size\": 6, \"symbol\": \"circle\"}, \"mode\": \"markers+lines\", \"name\": \"Daily Confirmed\", \"text\": \"\", \"type\": \"scatter\", \"x\": [\"30 January \", \"31 January \", \"01 February \", \"02 February \", \"03 February \", \"04 February \", \"05 February \", \"06 February \", \"07 February \", \"08 February \", \"09 February \", \"10 February \", \"11 February \", \"12 February \", \"13 February \", \"14 February \", \"15 February \", \"16 February \", \"17 February \", \"18 February \", \"19 February \", \"20 February \", \"21 February \", \"22 February \", \"23 February \", \"24 February \", \"25 February \", \"26 February \", \"27 February \", \"28 February \", \"29 February \", \"01 March \", \"02 March \", \"03 March \", \"04 March \", \"05 March \", \"06 March \", \"07 March \", \"08 March \", \"09 March \", \"10 March \", \"11 March \", \"12 March \", \"13 March \", \"14 March \", \"15 March \", \"16 March \", \"17 March \", \"18 March \", \"19 March \", \"20 March \", \"21 March \", \"22 March \", \"23 March \", \"24 March \", \"25 March \", \"26 March \", \"27 March \", \"28 March \", \"29 March \", \"30 March \", \"31 March \", \"01 April \", \"02 April \", \"03 April \", \"04 April \", \"05 April \", \"06 April \", \"07 April \", \"08 April \", \"09 April \", \"10 April \", \"11 April \", \"12 April \", \"13 April \", \"14 April \", \"15 April \", \"16 April \", \"17 April \", \"18 April \", \"19 April \", \"20 April \", \"21 April \", \"22 April \", \"23 April \", \"24 April \", \"25 April \", \"26 April \", \"27 April \", \"28 April \", \"29 April \", \"30 April \", \"01 May \", \"02 May \", \"03 May \", \"04 May \", \"05 May \", \"06 May \", \"07 May \", \"08 May \", \"09 May \", \"10 May \", \"11 May \", \"12 May \", \"13 May \", \"14 May \", \"15 May \", \"16 May \", \"17 May \", \"18 May \", \"19 May \", \"20 May \", \"21 May \", \"22 May \", \"23 May \", \"24 May \", \"25 May \", \"26 May \", \"27 May \", \"28 May \", \"29 May \", \"30 May \", \"31 May \", \"01 June \", \"02 June \", \"03 June \", \"04 June \", \"05 June \", \"06 June \", \"07 June \", \"08 June \", \"09 June \", \"10 June \", \"11 June \", \"12 June \", \"13 June \", \"14 June \", \"15 June \", \"16 June \", \"17 June \", \"18 June \", \"19 June \", \"20 June \", \"21 June \", \"22 June \", \"23 June \", \"24 June \", \"25 June \", \"26 June \", \"27 June \", \"28 June \", \"29 June \", \"30 June \", \"01 July \", \"02 July \", \"03 July \", \"04 July \", \"05 July \", \"06 July \", \"07 July \", \"08 July \", \"09 July \", \"10 July \", \"11 July \", \"12 July \", \"13 July \", \"14 July \", \"15 July \", \"16 July \", \"17 July \", \"18 July \", \"19 July \", \"20 July \", \"21 July \", \"22 July \", \"23 July \", \"24 July \", \"25 July \", \"26 July \", \"27 July \", \"28 July \", \"29 July \", \"30 July \", \"31 July \", \"01 August \", \"02 August \", \"03 August \", \"04 August \", \"05 August \", \"06 August \", \"07 August \", \"08 August \", \"09 August \", \"10 August \", \"11 August \", \"12 August \", \"13 August \", \"14 August \", \"15 August \", \"16 August \", \"17 August \", \"18 August \", \"19 August \", \"20 August \", \"21 August \", \"22 August \", \"23 August \", \"24 August \", \"25 August \", \"26 August \", \"27 August \", \"28 August \", \"29 August \", \"30 August \", \"31 August \", \"01 September \", \"02 September \", \"03 September \", \"04 September \", \"05 September \", \"06 September \", \"07 September \", \"08 September \", \"09 September \", \"10 September \", \"11 September \", \"12 September \", \"13 September \", \"14 September \", \"15 September \", \"16 September \", \"17 September \", \"18 September \", \"19 September \", \"20 September \", \"21 September \", \"22 September \", \"23 September \", \"24 September \", \"25 September \", \"26 September \", \"27 September \", \"28 September \", \"29 September \", \"30 September \", \"01 October \", \"02 October \", \"03 October \", \"04 October \"], \"y\": [1, 0, 0, 1, 1, 0, 0, 0, 0, 0, 0, 0, 0, 0, 0, 0, 0, 0, 0, 0, 0, 0, 0, 0, 0, 0, 0, 0, 0, 0, 0, 0, 2, 1, 22, 2, 1, 3, 5, 9, 15, 8, 10, 10, 11, 10, 14, 20, 25, 27, 58, 78, 69, 94, 74, 86, 73, 153, 136, 120, 187, 309, 424, 486, 560, 579, 609, 484, 573, 565, 813, 871, 854, 758, 1243, 1031, 886, 1061, 922, 1371, 1580, 1239, 1537, 1292, 1667, 1408, 1835, 1607, 1568, 1902, 1705, 1801, 2396, 2564, 2952, 3656, 2971, 3602, 3344, 3339, 3175, 4311, 3592, 3562, 3726, 3991, 3808, 4794, 5049, 4628, 6154, 5720, 6023, 6536, 6667, 7111, 6414, 5907, 7246, 7254, 8138, 8364, 8789, 7723, 8812, 9689, 9847, 9472, 10408, 10882, 8536, 9981, 11156, 11135, 11306, 12039, 11405, 10032, 11086, 13108, 13829, 14740, 15918, 15151, 13560, 15656, 16868, 18205, 18255, 20142, 19610, 18339, 18256, 19429, 21947, 22718, 24018, 23942, 22500, 23147, 25561, 25790, 27762, 27757, 29106, 28178, 29917, 32607, 35468, 34820, 37411, 40235, 36806, 39170, 45601, 48443, 48888, 50072, 48932, 46484, 49631, 52479, 54968, 57486, 55117, 52672, 50488, 51282, 56626, 62170, 61455, 65156, 62117, 53016, 61252, 67066, 64141, 65610, 63986, 58096, 54298, 65024, 69196, 68518, 69029, 70067, 61749, 59696, 66873, 75995, 76827, 76657, 78479, 79461, 68766, 78168, 82860, 84156, 87115, 90600, 91725, 75015, 89855, 95536, 96762, 97655, 94414, 93220, 81913, 91098, 97860, 96787, 92973, 92574, 87395, 74493, 83362, 86703, 85921, 85717, 88759, 82770, 69669, 80500, 86748, 81784, 79883, 75479, 74770]}],                        {\"legend\": {\"bgcolor\": \"#F5F6F9\", \"font\": {\"color\": \"#4D5663\"}}, \"paper_bgcolor\": \"#F5F6F9\", \"plot_bgcolor\": \"#F5F6F9\", \"template\": {\"data\": {\"bar\": [{\"error_x\": {\"color\": \"#2a3f5f\"}, \"error_y\": {\"color\": \"#2a3f5f\"}, \"marker\": {\"line\": {\"color\": \"#E5ECF6\", \"width\": 0.5}}, \"type\": \"bar\"}], \"barpolar\": [{\"marker\": {\"line\": {\"color\": \"#E5ECF6\", \"width\": 0.5}}, \"type\": \"barpolar\"}], \"carpet\": [{\"aaxis\": {\"endlinecolor\": \"#2a3f5f\", \"gridcolor\": \"white\", \"linecolor\": \"white\", \"minorgridcolor\": \"white\", \"startlinecolor\": \"#2a3f5f\"}, \"baxis\": {\"endlinecolor\": \"#2a3f5f\", \"gridcolor\": \"white\", \"linecolor\": \"white\", \"minorgridcolor\": \"white\", \"startlinecolor\": \"#2a3f5f\"}, \"type\": \"carpet\"}], \"choropleth\": [{\"colorbar\": {\"outlinewidth\": 0, \"ticks\": \"\"}, \"type\": \"choropleth\"}], \"contour\": [{\"colorbar\": {\"outlinewidth\": 0, \"ticks\": \"\"}, \"colorscale\": [[0.0, \"#0d0887\"], [0.1111111111111111, \"#46039f\"], [0.2222222222222222, \"#7201a8\"], [0.3333333333333333, \"#9c179e\"], [0.4444444444444444, \"#bd3786\"], [0.5555555555555556, \"#d8576b\"], [0.6666666666666666, \"#ed7953\"], [0.7777777777777778, \"#fb9f3a\"], [0.8888888888888888, \"#fdca26\"], [1.0, \"#f0f921\"]], \"type\": \"contour\"}], \"contourcarpet\": [{\"colorbar\": {\"outlinewidth\": 0, \"ticks\": \"\"}, \"type\": \"contourcarpet\"}], \"heatmap\": [{\"colorbar\": {\"outlinewidth\": 0, \"ticks\": \"\"}, \"colorscale\": [[0.0, \"#0d0887\"], [0.1111111111111111, \"#46039f\"], [0.2222222222222222, \"#7201a8\"], [0.3333333333333333, \"#9c179e\"], [0.4444444444444444, \"#bd3786\"], [0.5555555555555556, \"#d8576b\"], [0.6666666666666666, \"#ed7953\"], [0.7777777777777778, \"#fb9f3a\"], [0.8888888888888888, \"#fdca26\"], [1.0, \"#f0f921\"]], \"type\": \"heatmap\"}], \"heatmapgl\": [{\"colorbar\": {\"outlinewidth\": 0, \"ticks\": \"\"}, \"colorscale\": [[0.0, \"#0d0887\"], [0.1111111111111111, \"#46039f\"], [0.2222222222222222, \"#7201a8\"], [0.3333333333333333, \"#9c179e\"], [0.4444444444444444, \"#bd3786\"], [0.5555555555555556, \"#d8576b\"], [0.6666666666666666, \"#ed7953\"], [0.7777777777777778, \"#fb9f3a\"], [0.8888888888888888, \"#fdca26\"], [1.0, \"#f0f921\"]], \"type\": \"heatmapgl\"}], \"histogram\": [{\"marker\": {\"colorbar\": {\"outlinewidth\": 0, \"ticks\": \"\"}}, \"type\": \"histogram\"}], \"histogram2d\": [{\"colorbar\": {\"outlinewidth\": 0, \"ticks\": \"\"}, \"colorscale\": [[0.0, \"#0d0887\"], [0.1111111111111111, \"#46039f\"], [0.2222222222222222, \"#7201a8\"], [0.3333333333333333, \"#9c179e\"], [0.4444444444444444, \"#bd3786\"], [0.5555555555555556, \"#d8576b\"], [0.6666666666666666, \"#ed7953\"], [0.7777777777777778, \"#fb9f3a\"], [0.8888888888888888, \"#fdca26\"], [1.0, \"#f0f921\"]], \"type\": \"histogram2d\"}], \"histogram2dcontour\": [{\"colorbar\": {\"outlinewidth\": 0, \"ticks\": \"\"}, \"colorscale\": [[0.0, \"#0d0887\"], [0.1111111111111111, \"#46039f\"], [0.2222222222222222, \"#7201a8\"], [0.3333333333333333, \"#9c179e\"], [0.4444444444444444, \"#bd3786\"], [0.5555555555555556, \"#d8576b\"], [0.6666666666666666, \"#ed7953\"], [0.7777777777777778, \"#fb9f3a\"], [0.8888888888888888, \"#fdca26\"], [1.0, \"#f0f921\"]], \"type\": \"histogram2dcontour\"}], \"mesh3d\": [{\"colorbar\": {\"outlinewidth\": 0, \"ticks\": \"\"}, \"type\": \"mesh3d\"}], \"parcoords\": [{\"line\": {\"colorbar\": {\"outlinewidth\": 0, \"ticks\": \"\"}}, \"type\": \"parcoords\"}], \"pie\": [{\"automargin\": true, \"type\": \"pie\"}], \"scatter\": [{\"marker\": {\"colorbar\": {\"outlinewidth\": 0, \"ticks\": \"\"}}, \"type\": \"scatter\"}], \"scatter3d\": [{\"line\": {\"colorbar\": {\"outlinewidth\": 0, \"ticks\": \"\"}}, \"marker\": {\"colorbar\": {\"outlinewidth\": 0, \"ticks\": \"\"}}, \"type\": \"scatter3d\"}], \"scattercarpet\": [{\"marker\": {\"colorbar\": {\"outlinewidth\": 0, \"ticks\": \"\"}}, \"type\": \"scattercarpet\"}], \"scattergeo\": [{\"marker\": {\"colorbar\": {\"outlinewidth\": 0, \"ticks\": \"\"}}, \"type\": \"scattergeo\"}], \"scattergl\": [{\"marker\": {\"colorbar\": {\"outlinewidth\": 0, \"ticks\": \"\"}}, \"type\": \"scattergl\"}], \"scattermapbox\": [{\"marker\": {\"colorbar\": {\"outlinewidth\": 0, \"ticks\": \"\"}}, \"type\": \"scattermapbox\"}], \"scatterpolar\": [{\"marker\": {\"colorbar\": {\"outlinewidth\": 0, \"ticks\": \"\"}}, \"type\": \"scatterpolar\"}], \"scatterpolargl\": [{\"marker\": {\"colorbar\": {\"outlinewidth\": 0, \"ticks\": \"\"}}, \"type\": \"scatterpolargl\"}], \"scatterternary\": [{\"marker\": {\"colorbar\": {\"outlinewidth\": 0, \"ticks\": \"\"}}, \"type\": \"scatterternary\"}], \"surface\": [{\"colorbar\": {\"outlinewidth\": 0, \"ticks\": \"\"}, \"colorscale\": [[0.0, \"#0d0887\"], [0.1111111111111111, \"#46039f\"], [0.2222222222222222, \"#7201a8\"], [0.3333333333333333, \"#9c179e\"], [0.4444444444444444, \"#bd3786\"], [0.5555555555555556, \"#d8576b\"], [0.6666666666666666, \"#ed7953\"], [0.7777777777777778, \"#fb9f3a\"], [0.8888888888888888, \"#fdca26\"], [1.0, \"#f0f921\"]], \"type\": \"surface\"}], \"table\": [{\"cells\": {\"fill\": {\"color\": \"#EBF0F8\"}, \"line\": {\"color\": \"white\"}}, \"header\": {\"fill\": {\"color\": \"#C8D4E3\"}, \"line\": {\"color\": \"white\"}}, \"type\": \"table\"}]}, \"layout\": {\"annotationdefaults\": {\"arrowcolor\": \"#2a3f5f\", \"arrowhead\": 0, \"arrowwidth\": 1}, \"coloraxis\": {\"colorbar\": {\"outlinewidth\": 0, \"ticks\": \"\"}}, \"colorscale\": {\"diverging\": [[0, \"#8e0152\"], [0.1, \"#c51b7d\"], [0.2, \"#de77ae\"], [0.3, \"#f1b6da\"], [0.4, \"#fde0ef\"], [0.5, \"#f7f7f7\"], [0.6, \"#e6f5d0\"], [0.7, \"#b8e186\"], [0.8, \"#7fbc41\"], [0.9, \"#4d9221\"], [1, \"#276419\"]], \"sequential\": [[0.0, \"#0d0887\"], [0.1111111111111111, \"#46039f\"], [0.2222222222222222, \"#7201a8\"], [0.3333333333333333, \"#9c179e\"], [0.4444444444444444, \"#bd3786\"], [0.5555555555555556, \"#d8576b\"], [0.6666666666666666, \"#ed7953\"], [0.7777777777777778, \"#fb9f3a\"], [0.8888888888888888, \"#fdca26\"], [1.0, \"#f0f921\"]], \"sequentialminus\": [[0.0, \"#0d0887\"], [0.1111111111111111, \"#46039f\"], [0.2222222222222222, \"#7201a8\"], [0.3333333333333333, \"#9c179e\"], [0.4444444444444444, \"#bd3786\"], [0.5555555555555556, \"#d8576b\"], [0.6666666666666666, \"#ed7953\"], [0.7777777777777778, \"#fb9f3a\"], [0.8888888888888888, \"#fdca26\"], [1.0, \"#f0f921\"]]}, \"colorway\": [\"#636efa\", \"#EF553B\", \"#00cc96\", \"#ab63fa\", \"#FFA15A\", \"#19d3f3\", \"#FF6692\", \"#B6E880\", \"#FF97FF\", \"#FECB52\"], \"font\": {\"color\": \"#2a3f5f\"}, \"geo\": {\"bgcolor\": \"white\", \"lakecolor\": \"white\", \"landcolor\": \"#E5ECF6\", \"showlakes\": true, \"showland\": true, \"subunitcolor\": \"white\"}, \"hoverlabel\": {\"align\": \"left\"}, \"hovermode\": \"closest\", \"mapbox\": {\"style\": \"light\"}, \"paper_bgcolor\": \"white\", \"plot_bgcolor\": \"#E5ECF6\", \"polar\": {\"angularaxis\": {\"gridcolor\": \"white\", \"linecolor\": \"white\", \"ticks\": \"\"}, \"bgcolor\": \"#E5ECF6\", \"radialaxis\": {\"gridcolor\": \"white\", \"linecolor\": \"white\", \"ticks\": \"\"}}, \"scene\": {\"xaxis\": {\"backgroundcolor\": \"#E5ECF6\", \"gridcolor\": \"white\", \"gridwidth\": 2, \"linecolor\": \"white\", \"showbackground\": true, \"ticks\": \"\", \"zerolinecolor\": \"white\"}, \"yaxis\": {\"backgroundcolor\": \"#E5ECF6\", \"gridcolor\": \"white\", \"gridwidth\": 2, \"linecolor\": \"white\", \"showbackground\": true, \"ticks\": \"\", \"zerolinecolor\": \"white\"}, \"zaxis\": {\"backgroundcolor\": \"#E5ECF6\", \"gridcolor\": \"white\", \"gridwidth\": 2, \"linecolor\": \"white\", \"showbackground\": true, \"ticks\": \"\", \"zerolinecolor\": \"white\"}}, \"shapedefaults\": {\"line\": {\"color\": \"#2a3f5f\"}}, \"ternary\": {\"aaxis\": {\"gridcolor\": \"white\", \"linecolor\": \"white\", \"ticks\": \"\"}, \"baxis\": {\"gridcolor\": \"white\", \"linecolor\": \"white\", \"ticks\": \"\"}, \"bgcolor\": \"#E5ECF6\", \"caxis\": {\"gridcolor\": \"white\", \"linecolor\": \"white\", \"ticks\": \"\"}}, \"title\": {\"x\": 0.05}, \"xaxis\": {\"automargin\": true, \"gridcolor\": \"white\", \"linecolor\": \"white\", \"ticks\": \"\", \"title\": {\"standoff\": 15}, \"zerolinecolor\": \"white\", \"zerolinewidth\": 2}, \"yaxis\": {\"automargin\": true, \"gridcolor\": \"white\", \"linecolor\": \"white\", \"ticks\": \"\", \"title\": {\"standoff\": 15}, \"zerolinecolor\": \"white\", \"zerolinewidth\": 2}}}, \"title\": {\"font\": {\"color\": \"#4D5663\"}, \"text\": \"Daily Confirmed\"}, \"xaxis\": {\"gridcolor\": \"#E1E5ED\", \"showgrid\": true, \"tickfont\": {\"color\": \"#4D5663\"}, \"title\": {\"font\": {\"color\": \"#4D5663\"}, \"text\": \"Date\"}, \"zerolinecolor\": \"#E1E5ED\"}, \"yaxis\": {\"gridcolor\": \"#E1E5ED\", \"showgrid\": true, \"tickfont\": {\"color\": \"#4D5663\"}, \"title\": {\"font\": {\"color\": \"#4D5663\"}, \"text\": \"Daily Confirmed Cases\"}, \"zerolinecolor\": \"#E1E5ED\"}},                        {\"showLink\": true, \"linkText\": \"Export to plot.ly\", \"plotlyServerURL\": \"https://plot.ly\", \"responsive\": true}                    ).then(function(){\n",
       "                            \n",
       "var gd = document.getElementById('07321b77-8f67-45f7-978c-5d2c6340a39c');\n",
       "var x = new MutationObserver(function (mutations, observer) {{\n",
       "        var display = window.getComputedStyle(gd).display;\n",
       "        if (!display || display === 'none') {{\n",
       "            console.log([gd, 'removed!']);\n",
       "            Plotly.purge(gd);\n",
       "            observer.disconnect();\n",
       "        }}\n",
       "}});\n",
       "\n",
       "// Listen for the removal of the full notebook cells\n",
       "var notebookContainer = gd.closest('#notebook-container');\n",
       "if (notebookContainer) {{\n",
       "    x.observe(notebookContainer, {childList: true});\n",
       "}}\n",
       "\n",
       "// Listen for the clearing of the current output cell\n",
       "var outputEl = gd.closest('.output');\n",
       "if (outputEl) {{\n",
       "    x.observe(outputEl, {childList: true});\n",
       "}}\n",
       "\n",
       "                        })                };                });            </script>        </div>"
      ]
     },
     "metadata": {},
     "output_type": "display_data"
    }
   ],
   "source": [
    "case_time_series.iplot(kind='scatter',x='Date',y='Daily Confirmed',\n",
    "                       mode='markers+lines',\n",
    "                       title='Daily Confirmed',\n",
    "                       xTitle='Date',yTitle='Daily Confirmed Cases',colors='red',size=6)"
   ]
  },
  {
   "cell_type": "code",
   "execution_count": 37,
   "metadata": {},
   "outputs": [
    {
     "data": {
      "application/vnd.plotly.v1+json": {
       "config": {
        "linkText": "Export to plot.ly",
        "plotlyServerURL": "https://plot.ly",
        "showLink": true
       },
       "data": [
        {
         "line": {
          "color": "rgba(219, 64, 82, 1.0)",
          "dash": "solid",
          "shape": "linear",
          "width": 1.3
         },
         "marker": {
          "size": 6,
          "symbol": "circle"
         },
         "mode": "markers+lines",
         "name": "Daily Deceased",
         "text": "",
         "type": "scatter",
         "x": [
          "30 January ",
          "31 January ",
          "01 February ",
          "02 February ",
          "03 February ",
          "04 February ",
          "05 February ",
          "06 February ",
          "07 February ",
          "08 February ",
          "09 February ",
          "10 February ",
          "11 February ",
          "12 February ",
          "13 February ",
          "14 February ",
          "15 February ",
          "16 February ",
          "17 February ",
          "18 February ",
          "19 February ",
          "20 February ",
          "21 February ",
          "22 February ",
          "23 February ",
          "24 February ",
          "25 February ",
          "26 February ",
          "27 February ",
          "28 February ",
          "29 February ",
          "01 March ",
          "02 March ",
          "03 March ",
          "04 March ",
          "05 March ",
          "06 March ",
          "07 March ",
          "08 March ",
          "09 March ",
          "10 March ",
          "11 March ",
          "12 March ",
          "13 March ",
          "14 March ",
          "15 March ",
          "16 March ",
          "17 March ",
          "18 March ",
          "19 March ",
          "20 March ",
          "21 March ",
          "22 March ",
          "23 March ",
          "24 March ",
          "25 March ",
          "26 March ",
          "27 March ",
          "28 March ",
          "29 March ",
          "30 March ",
          "31 March ",
          "01 April ",
          "02 April ",
          "03 April ",
          "04 April ",
          "05 April ",
          "06 April ",
          "07 April ",
          "08 April ",
          "09 April ",
          "10 April ",
          "11 April ",
          "12 April ",
          "13 April ",
          "14 April ",
          "15 April ",
          "16 April ",
          "17 April ",
          "18 April ",
          "19 April ",
          "20 April ",
          "21 April ",
          "22 April ",
          "23 April ",
          "24 April ",
          "25 April ",
          "26 April ",
          "27 April ",
          "28 April ",
          "29 April ",
          "30 April ",
          "01 May ",
          "02 May ",
          "03 May ",
          "04 May ",
          "05 May ",
          "06 May ",
          "07 May ",
          "08 May ",
          "09 May ",
          "10 May ",
          "11 May ",
          "12 May ",
          "13 May ",
          "14 May ",
          "15 May ",
          "16 May ",
          "17 May ",
          "18 May ",
          "19 May ",
          "20 May ",
          "21 May ",
          "22 May ",
          "23 May ",
          "24 May ",
          "25 May ",
          "26 May ",
          "27 May ",
          "28 May ",
          "29 May ",
          "30 May ",
          "31 May ",
          "01 June ",
          "02 June ",
          "03 June ",
          "04 June ",
          "05 June ",
          "06 June ",
          "07 June ",
          "08 June ",
          "09 June ",
          "10 June ",
          "11 June ",
          "12 June ",
          "13 June ",
          "14 June ",
          "15 June ",
          "16 June ",
          "17 June ",
          "18 June ",
          "19 June ",
          "20 June ",
          "21 June ",
          "22 June ",
          "23 June ",
          "24 June ",
          "25 June ",
          "26 June ",
          "27 June ",
          "28 June ",
          "29 June ",
          "30 June ",
          "01 July ",
          "02 July ",
          "03 July ",
          "04 July ",
          "05 July ",
          "06 July ",
          "07 July ",
          "08 July ",
          "09 July ",
          "10 July ",
          "11 July ",
          "12 July ",
          "13 July ",
          "14 July ",
          "15 July ",
          "16 July ",
          "17 July ",
          "18 July ",
          "19 July ",
          "20 July ",
          "21 July ",
          "22 July ",
          "23 July ",
          "24 July ",
          "25 July ",
          "26 July ",
          "27 July ",
          "28 July ",
          "29 July ",
          "30 July ",
          "31 July ",
          "01 August ",
          "02 August ",
          "03 August ",
          "04 August ",
          "05 August ",
          "06 August ",
          "07 August ",
          "08 August ",
          "09 August ",
          "10 August ",
          "11 August ",
          "12 August ",
          "13 August ",
          "14 August ",
          "15 August ",
          "16 August ",
          "17 August ",
          "18 August ",
          "19 August ",
          "20 August ",
          "21 August ",
          "22 August ",
          "23 August ",
          "24 August ",
          "25 August ",
          "26 August ",
          "27 August ",
          "28 August ",
          "29 August ",
          "30 August ",
          "31 August ",
          "01 September ",
          "02 September ",
          "03 September ",
          "04 September ",
          "05 September ",
          "06 September ",
          "07 September ",
          "08 September ",
          "09 September ",
          "10 September ",
          "11 September ",
          "12 September ",
          "13 September ",
          "14 September ",
          "15 September ",
          "16 September ",
          "17 September ",
          "18 September ",
          "19 September ",
          "20 September ",
          "21 September ",
          "22 September ",
          "23 September ",
          "24 September ",
          "25 September ",
          "26 September ",
          "27 September ",
          "28 September ",
          "29 September ",
          "30 September ",
          "01 October ",
          "02 October ",
          "03 October ",
          "04 October "
         ],
         "y": [
          0,
          0,
          0,
          0,
          0,
          0,
          0,
          0,
          0,
          0,
          0,
          0,
          0,
          0,
          0,
          0,
          0,
          0,
          0,
          0,
          0,
          0,
          0,
          0,
          0,
          0,
          0,
          0,
          0,
          0,
          0,
          0,
          0,
          0,
          0,
          0,
          0,
          0,
          0,
          0,
          0,
          0,
          1,
          0,
          1,
          0,
          0,
          1,
          0,
          1,
          0,
          0,
          3,
          2,
          1,
          1,
          5,
          3,
          5,
          3,
          14,
          6,
          6,
          16,
          14,
          13,
          22,
          16,
          27,
          20,
          46,
          22,
          41,
          42,
          27,
          37,
          27,
          26,
          38,
          35,
          38,
          33,
          53,
          36,
          40,
          59,
          44,
          56,
          58,
          69,
          71,
          75,
          77,
          92,
          140,
          103,
          128,
          91,
          104,
          97,
          115,
          112,
          81,
          120,
          137,
          97,
          104,
          120,
          152,
          131,
          146,
          134,
          148,
          142,
          142,
          156,
          150,
          173,
          188,
          176,
          269,
          205,
          222,
          201,
          222,
          259,
          274,
          286,
          297,
          261,
          271,
          272,
          358,
          394,
          388,
          309,
          324,
          396,
          2004,
          341,
          343,
          364,
          308,
          426,
          312,
          468,
          424,
          401,
          381,
          414,
          384,
          417,
          506,
          438,
          378,
          444,
          611,
          421,
          473,
          479,
          492,
          479,
          520,
          543,
          500,
          541,
          587,
          614,
          680,
          676,
          543,
          675,
          596,
          671,
          1130,
          755,
          763,
          703,
          704,
          642,
          774,
          775,
          784,
          764,
          854,
          760,
          806,
          849,
          919,
          899,
          936,
          875,
          1013,
          887,
          835,
          950,
          1006,
          989,
          952,
          952,
          880,
          1099,
          979,
          981,
          953,
          918,
          846,
          854,
          1066,
          1017,
          1066,
          1019,
          943,
          960,
          816,
          892,
          913,
          979,
          950,
          916,
          1005,
          1129,
          1107,
          1168,
          1213,
          1202,
          1111,
          1140,
          1054,
          1281,
          1140,
          1175,
          1221,
          1149,
          1135,
          1056,
          1085,
          1123,
          1144,
          1093,
          1124,
          1040,
          775,
          1178,
          1179,
          1099,
          1068,
          937,
          903
         ]
        }
       ],
       "layout": {
        "legend": {
         "bgcolor": "#F5F6F9",
         "font": {
          "color": "#4D5663"
         }
        },
        "paper_bgcolor": "#F5F6F9",
        "plot_bgcolor": "#F5F6F9",
        "template": {
         "data": {
          "bar": [
           {
            "error_x": {
             "color": "#2a3f5f"
            },
            "error_y": {
             "color": "#2a3f5f"
            },
            "marker": {
             "line": {
              "color": "#E5ECF6",
              "width": 0.5
             }
            },
            "type": "bar"
           }
          ],
          "barpolar": [
           {
            "marker": {
             "line": {
              "color": "#E5ECF6",
              "width": 0.5
             }
            },
            "type": "barpolar"
           }
          ],
          "carpet": [
           {
            "aaxis": {
             "endlinecolor": "#2a3f5f",
             "gridcolor": "white",
             "linecolor": "white",
             "minorgridcolor": "white",
             "startlinecolor": "#2a3f5f"
            },
            "baxis": {
             "endlinecolor": "#2a3f5f",
             "gridcolor": "white",
             "linecolor": "white",
             "minorgridcolor": "white",
             "startlinecolor": "#2a3f5f"
            },
            "type": "carpet"
           }
          ],
          "choropleth": [
           {
            "colorbar": {
             "outlinewidth": 0,
             "ticks": ""
            },
            "type": "choropleth"
           }
          ],
          "contour": [
           {
            "colorbar": {
             "outlinewidth": 0,
             "ticks": ""
            },
            "colorscale": [
             [
              0,
              "#0d0887"
             ],
             [
              0.1111111111111111,
              "#46039f"
             ],
             [
              0.2222222222222222,
              "#7201a8"
             ],
             [
              0.3333333333333333,
              "#9c179e"
             ],
             [
              0.4444444444444444,
              "#bd3786"
             ],
             [
              0.5555555555555556,
              "#d8576b"
             ],
             [
              0.6666666666666666,
              "#ed7953"
             ],
             [
              0.7777777777777778,
              "#fb9f3a"
             ],
             [
              0.8888888888888888,
              "#fdca26"
             ],
             [
              1,
              "#f0f921"
             ]
            ],
            "type": "contour"
           }
          ],
          "contourcarpet": [
           {
            "colorbar": {
             "outlinewidth": 0,
             "ticks": ""
            },
            "type": "contourcarpet"
           }
          ],
          "heatmap": [
           {
            "colorbar": {
             "outlinewidth": 0,
             "ticks": ""
            },
            "colorscale": [
             [
              0,
              "#0d0887"
             ],
             [
              0.1111111111111111,
              "#46039f"
             ],
             [
              0.2222222222222222,
              "#7201a8"
             ],
             [
              0.3333333333333333,
              "#9c179e"
             ],
             [
              0.4444444444444444,
              "#bd3786"
             ],
             [
              0.5555555555555556,
              "#d8576b"
             ],
             [
              0.6666666666666666,
              "#ed7953"
             ],
             [
              0.7777777777777778,
              "#fb9f3a"
             ],
             [
              0.8888888888888888,
              "#fdca26"
             ],
             [
              1,
              "#f0f921"
             ]
            ],
            "type": "heatmap"
           }
          ],
          "heatmapgl": [
           {
            "colorbar": {
             "outlinewidth": 0,
             "ticks": ""
            },
            "colorscale": [
             [
              0,
              "#0d0887"
             ],
             [
              0.1111111111111111,
              "#46039f"
             ],
             [
              0.2222222222222222,
              "#7201a8"
             ],
             [
              0.3333333333333333,
              "#9c179e"
             ],
             [
              0.4444444444444444,
              "#bd3786"
             ],
             [
              0.5555555555555556,
              "#d8576b"
             ],
             [
              0.6666666666666666,
              "#ed7953"
             ],
             [
              0.7777777777777778,
              "#fb9f3a"
             ],
             [
              0.8888888888888888,
              "#fdca26"
             ],
             [
              1,
              "#f0f921"
             ]
            ],
            "type": "heatmapgl"
           }
          ],
          "histogram": [
           {
            "marker": {
             "colorbar": {
              "outlinewidth": 0,
              "ticks": ""
             }
            },
            "type": "histogram"
           }
          ],
          "histogram2d": [
           {
            "colorbar": {
             "outlinewidth": 0,
             "ticks": ""
            },
            "colorscale": [
             [
              0,
              "#0d0887"
             ],
             [
              0.1111111111111111,
              "#46039f"
             ],
             [
              0.2222222222222222,
              "#7201a8"
             ],
             [
              0.3333333333333333,
              "#9c179e"
             ],
             [
              0.4444444444444444,
              "#bd3786"
             ],
             [
              0.5555555555555556,
              "#d8576b"
             ],
             [
              0.6666666666666666,
              "#ed7953"
             ],
             [
              0.7777777777777778,
              "#fb9f3a"
             ],
             [
              0.8888888888888888,
              "#fdca26"
             ],
             [
              1,
              "#f0f921"
             ]
            ],
            "type": "histogram2d"
           }
          ],
          "histogram2dcontour": [
           {
            "colorbar": {
             "outlinewidth": 0,
             "ticks": ""
            },
            "colorscale": [
             [
              0,
              "#0d0887"
             ],
             [
              0.1111111111111111,
              "#46039f"
             ],
             [
              0.2222222222222222,
              "#7201a8"
             ],
             [
              0.3333333333333333,
              "#9c179e"
             ],
             [
              0.4444444444444444,
              "#bd3786"
             ],
             [
              0.5555555555555556,
              "#d8576b"
             ],
             [
              0.6666666666666666,
              "#ed7953"
             ],
             [
              0.7777777777777778,
              "#fb9f3a"
             ],
             [
              0.8888888888888888,
              "#fdca26"
             ],
             [
              1,
              "#f0f921"
             ]
            ],
            "type": "histogram2dcontour"
           }
          ],
          "mesh3d": [
           {
            "colorbar": {
             "outlinewidth": 0,
             "ticks": ""
            },
            "type": "mesh3d"
           }
          ],
          "parcoords": [
           {
            "line": {
             "colorbar": {
              "outlinewidth": 0,
              "ticks": ""
             }
            },
            "type": "parcoords"
           }
          ],
          "pie": [
           {
            "automargin": true,
            "type": "pie"
           }
          ],
          "scatter": [
           {
            "marker": {
             "colorbar": {
              "outlinewidth": 0,
              "ticks": ""
             }
            },
            "type": "scatter"
           }
          ],
          "scatter3d": [
           {
            "line": {
             "colorbar": {
              "outlinewidth": 0,
              "ticks": ""
             }
            },
            "marker": {
             "colorbar": {
              "outlinewidth": 0,
              "ticks": ""
             }
            },
            "type": "scatter3d"
           }
          ],
          "scattercarpet": [
           {
            "marker": {
             "colorbar": {
              "outlinewidth": 0,
              "ticks": ""
             }
            },
            "type": "scattercarpet"
           }
          ],
          "scattergeo": [
           {
            "marker": {
             "colorbar": {
              "outlinewidth": 0,
              "ticks": ""
             }
            },
            "type": "scattergeo"
           }
          ],
          "scattergl": [
           {
            "marker": {
             "colorbar": {
              "outlinewidth": 0,
              "ticks": ""
             }
            },
            "type": "scattergl"
           }
          ],
          "scattermapbox": [
           {
            "marker": {
             "colorbar": {
              "outlinewidth": 0,
              "ticks": ""
             }
            },
            "type": "scattermapbox"
           }
          ],
          "scatterpolar": [
           {
            "marker": {
             "colorbar": {
              "outlinewidth": 0,
              "ticks": ""
             }
            },
            "type": "scatterpolar"
           }
          ],
          "scatterpolargl": [
           {
            "marker": {
             "colorbar": {
              "outlinewidth": 0,
              "ticks": ""
             }
            },
            "type": "scatterpolargl"
           }
          ],
          "scatterternary": [
           {
            "marker": {
             "colorbar": {
              "outlinewidth": 0,
              "ticks": ""
             }
            },
            "type": "scatterternary"
           }
          ],
          "surface": [
           {
            "colorbar": {
             "outlinewidth": 0,
             "ticks": ""
            },
            "colorscale": [
             [
              0,
              "#0d0887"
             ],
             [
              0.1111111111111111,
              "#46039f"
             ],
             [
              0.2222222222222222,
              "#7201a8"
             ],
             [
              0.3333333333333333,
              "#9c179e"
             ],
             [
              0.4444444444444444,
              "#bd3786"
             ],
             [
              0.5555555555555556,
              "#d8576b"
             ],
             [
              0.6666666666666666,
              "#ed7953"
             ],
             [
              0.7777777777777778,
              "#fb9f3a"
             ],
             [
              0.8888888888888888,
              "#fdca26"
             ],
             [
              1,
              "#f0f921"
             ]
            ],
            "type": "surface"
           }
          ],
          "table": [
           {
            "cells": {
             "fill": {
              "color": "#EBF0F8"
             },
             "line": {
              "color": "white"
             }
            },
            "header": {
             "fill": {
              "color": "#C8D4E3"
             },
             "line": {
              "color": "white"
             }
            },
            "type": "table"
           }
          ]
         },
         "layout": {
          "annotationdefaults": {
           "arrowcolor": "#2a3f5f",
           "arrowhead": 0,
           "arrowwidth": 1
          },
          "coloraxis": {
           "colorbar": {
            "outlinewidth": 0,
            "ticks": ""
           }
          },
          "colorscale": {
           "diverging": [
            [
             0,
             "#8e0152"
            ],
            [
             0.1,
             "#c51b7d"
            ],
            [
             0.2,
             "#de77ae"
            ],
            [
             0.3,
             "#f1b6da"
            ],
            [
             0.4,
             "#fde0ef"
            ],
            [
             0.5,
             "#f7f7f7"
            ],
            [
             0.6,
             "#e6f5d0"
            ],
            [
             0.7,
             "#b8e186"
            ],
            [
             0.8,
             "#7fbc41"
            ],
            [
             0.9,
             "#4d9221"
            ],
            [
             1,
             "#276419"
            ]
           ],
           "sequential": [
            [
             0,
             "#0d0887"
            ],
            [
             0.1111111111111111,
             "#46039f"
            ],
            [
             0.2222222222222222,
             "#7201a8"
            ],
            [
             0.3333333333333333,
             "#9c179e"
            ],
            [
             0.4444444444444444,
             "#bd3786"
            ],
            [
             0.5555555555555556,
             "#d8576b"
            ],
            [
             0.6666666666666666,
             "#ed7953"
            ],
            [
             0.7777777777777778,
             "#fb9f3a"
            ],
            [
             0.8888888888888888,
             "#fdca26"
            ],
            [
             1,
             "#f0f921"
            ]
           ],
           "sequentialminus": [
            [
             0,
             "#0d0887"
            ],
            [
             0.1111111111111111,
             "#46039f"
            ],
            [
             0.2222222222222222,
             "#7201a8"
            ],
            [
             0.3333333333333333,
             "#9c179e"
            ],
            [
             0.4444444444444444,
             "#bd3786"
            ],
            [
             0.5555555555555556,
             "#d8576b"
            ],
            [
             0.6666666666666666,
             "#ed7953"
            ],
            [
             0.7777777777777778,
             "#fb9f3a"
            ],
            [
             0.8888888888888888,
             "#fdca26"
            ],
            [
             1,
             "#f0f921"
            ]
           ]
          },
          "colorway": [
           "#636efa",
           "#EF553B",
           "#00cc96",
           "#ab63fa",
           "#FFA15A",
           "#19d3f3",
           "#FF6692",
           "#B6E880",
           "#FF97FF",
           "#FECB52"
          ],
          "font": {
           "color": "#2a3f5f"
          },
          "geo": {
           "bgcolor": "white",
           "lakecolor": "white",
           "landcolor": "#E5ECF6",
           "showlakes": true,
           "showland": true,
           "subunitcolor": "white"
          },
          "hoverlabel": {
           "align": "left"
          },
          "hovermode": "closest",
          "mapbox": {
           "style": "light"
          },
          "paper_bgcolor": "white",
          "plot_bgcolor": "#E5ECF6",
          "polar": {
           "angularaxis": {
            "gridcolor": "white",
            "linecolor": "white",
            "ticks": ""
           },
           "bgcolor": "#E5ECF6",
           "radialaxis": {
            "gridcolor": "white",
            "linecolor": "white",
            "ticks": ""
           }
          },
          "scene": {
           "xaxis": {
            "backgroundcolor": "#E5ECF6",
            "gridcolor": "white",
            "gridwidth": 2,
            "linecolor": "white",
            "showbackground": true,
            "ticks": "",
            "zerolinecolor": "white"
           },
           "yaxis": {
            "backgroundcolor": "#E5ECF6",
            "gridcolor": "white",
            "gridwidth": 2,
            "linecolor": "white",
            "showbackground": true,
            "ticks": "",
            "zerolinecolor": "white"
           },
           "zaxis": {
            "backgroundcolor": "#E5ECF6",
            "gridcolor": "white",
            "gridwidth": 2,
            "linecolor": "white",
            "showbackground": true,
            "ticks": "",
            "zerolinecolor": "white"
           }
          },
          "shapedefaults": {
           "line": {
            "color": "#2a3f5f"
           }
          },
          "ternary": {
           "aaxis": {
            "gridcolor": "white",
            "linecolor": "white",
            "ticks": ""
           },
           "baxis": {
            "gridcolor": "white",
            "linecolor": "white",
            "ticks": ""
           },
           "bgcolor": "#E5ECF6",
           "caxis": {
            "gridcolor": "white",
            "linecolor": "white",
            "ticks": ""
           }
          },
          "title": {
           "x": 0.05
          },
          "xaxis": {
           "automargin": true,
           "gridcolor": "white",
           "linecolor": "white",
           "ticks": "",
           "title": {
            "standoff": 15
           },
           "zerolinecolor": "white",
           "zerolinewidth": 2
          },
          "yaxis": {
           "automargin": true,
           "gridcolor": "white",
           "linecolor": "white",
           "ticks": "",
           "title": {
            "standoff": 15
           },
           "zerolinecolor": "white",
           "zerolinewidth": 2
          }
         }
        },
        "title": {
         "font": {
          "color": "#4D5663"
         },
         "text": "Daily Deceased"
        },
        "xaxis": {
         "gridcolor": "#E1E5ED",
         "showgrid": true,
         "tickfont": {
          "color": "#4D5663"
         },
         "title": {
          "font": {
           "color": "#4D5663"
          },
          "text": "Date"
         },
         "zerolinecolor": "#E1E5ED"
        },
        "yaxis": {
         "gridcolor": "#E1E5ED",
         "showgrid": true,
         "tickfont": {
          "color": "#4D5663"
         },
         "title": {
          "font": {
           "color": "#4D5663"
          },
          "text": "Daily Deceased"
         },
         "zerolinecolor": "#E1E5ED"
        }
       }
      },
      "text/html": [
       "<div>                            <div id=\"197f9d1c-7492-40d5-b66e-d384509b6fbe\" class=\"plotly-graph-div\" style=\"height:525px; width:100%;\"></div>            <script type=\"text/javascript\">                require([\"plotly\"], function(Plotly) {                    window.PLOTLYENV=window.PLOTLYENV || {};\n",
       "                    window.PLOTLYENV.BASE_URL='https://plot.ly';                                    if (document.getElementById(\"197f9d1c-7492-40d5-b66e-d384509b6fbe\")) {                    Plotly.newPlot(                        \"197f9d1c-7492-40d5-b66e-d384509b6fbe\",                        [{\"line\": {\"color\": \"rgba(219, 64, 82, 1.0)\", \"dash\": \"solid\", \"shape\": \"linear\", \"width\": 1.3}, \"marker\": {\"size\": 6, \"symbol\": \"circle\"}, \"mode\": \"markers+lines\", \"name\": \"Daily Deceased\", \"text\": \"\", \"type\": \"scatter\", \"x\": [\"30 January \", \"31 January \", \"01 February \", \"02 February \", \"03 February \", \"04 February \", \"05 February \", \"06 February \", \"07 February \", \"08 February \", \"09 February \", \"10 February \", \"11 February \", \"12 February \", \"13 February \", \"14 February \", \"15 February \", \"16 February \", \"17 February \", \"18 February \", \"19 February \", \"20 February \", \"21 February \", \"22 February \", \"23 February \", \"24 February \", \"25 February \", \"26 February \", \"27 February \", \"28 February \", \"29 February \", \"01 March \", \"02 March \", \"03 March \", \"04 March \", \"05 March \", \"06 March \", \"07 March \", \"08 March \", \"09 March \", \"10 March \", \"11 March \", \"12 March \", \"13 March \", \"14 March \", \"15 March \", \"16 March \", \"17 March \", \"18 March \", \"19 March \", \"20 March \", \"21 March \", \"22 March \", \"23 March \", \"24 March \", \"25 March \", \"26 March \", \"27 March \", \"28 March \", \"29 March \", \"30 March \", \"31 March \", \"01 April \", \"02 April \", \"03 April \", \"04 April \", \"05 April \", \"06 April \", \"07 April \", \"08 April \", \"09 April \", \"10 April \", \"11 April \", \"12 April \", \"13 April \", \"14 April \", \"15 April \", \"16 April \", \"17 April \", \"18 April \", \"19 April \", \"20 April \", \"21 April \", \"22 April \", \"23 April \", \"24 April \", \"25 April \", \"26 April \", \"27 April \", \"28 April \", \"29 April \", \"30 April \", \"01 May \", \"02 May \", \"03 May \", \"04 May \", \"05 May \", \"06 May \", \"07 May \", \"08 May \", \"09 May \", \"10 May \", \"11 May \", \"12 May \", \"13 May \", \"14 May \", \"15 May \", \"16 May \", \"17 May \", \"18 May \", \"19 May \", \"20 May \", \"21 May \", \"22 May \", \"23 May \", \"24 May \", \"25 May \", \"26 May \", \"27 May \", \"28 May \", \"29 May \", \"30 May \", \"31 May \", \"01 June \", \"02 June \", \"03 June \", \"04 June \", \"05 June \", \"06 June \", \"07 June \", \"08 June \", \"09 June \", \"10 June \", \"11 June \", \"12 June \", \"13 June \", \"14 June \", \"15 June \", \"16 June \", \"17 June \", \"18 June \", \"19 June \", \"20 June \", \"21 June \", \"22 June \", \"23 June \", \"24 June \", \"25 June \", \"26 June \", \"27 June \", \"28 June \", \"29 June \", \"30 June \", \"01 July \", \"02 July \", \"03 July \", \"04 July \", \"05 July \", \"06 July \", \"07 July \", \"08 July \", \"09 July \", \"10 July \", \"11 July \", \"12 July \", \"13 July \", \"14 July \", \"15 July \", \"16 July \", \"17 July \", \"18 July \", \"19 July \", \"20 July \", \"21 July \", \"22 July \", \"23 July \", \"24 July \", \"25 July \", \"26 July \", \"27 July \", \"28 July \", \"29 July \", \"30 July \", \"31 July \", \"01 August \", \"02 August \", \"03 August \", \"04 August \", \"05 August \", \"06 August \", \"07 August \", \"08 August \", \"09 August \", \"10 August \", \"11 August \", \"12 August \", \"13 August \", \"14 August \", \"15 August \", \"16 August \", \"17 August \", \"18 August \", \"19 August \", \"20 August \", \"21 August \", \"22 August \", \"23 August \", \"24 August \", \"25 August \", \"26 August \", \"27 August \", \"28 August \", \"29 August \", \"30 August \", \"31 August \", \"01 September \", \"02 September \", \"03 September \", \"04 September \", \"05 September \", \"06 September \", \"07 September \", \"08 September \", \"09 September \", \"10 September \", \"11 September \", \"12 September \", \"13 September \", \"14 September \", \"15 September \", \"16 September \", \"17 September \", \"18 September \", \"19 September \", \"20 September \", \"21 September \", \"22 September \", \"23 September \", \"24 September \", \"25 September \", \"26 September \", \"27 September \", \"28 September \", \"29 September \", \"30 September \", \"01 October \", \"02 October \", \"03 October \", \"04 October \"], \"y\": [0, 0, 0, 0, 0, 0, 0, 0, 0, 0, 0, 0, 0, 0, 0, 0, 0, 0, 0, 0, 0, 0, 0, 0, 0, 0, 0, 0, 0, 0, 0, 0, 0, 0, 0, 0, 0, 0, 0, 0, 0, 0, 1, 0, 1, 0, 0, 1, 0, 1, 0, 0, 3, 2, 1, 1, 5, 3, 5, 3, 14, 6, 6, 16, 14, 13, 22, 16, 27, 20, 46, 22, 41, 42, 27, 37, 27, 26, 38, 35, 38, 33, 53, 36, 40, 59, 44, 56, 58, 69, 71, 75, 77, 92, 140, 103, 128, 91, 104, 97, 115, 112, 81, 120, 137, 97, 104, 120, 152, 131, 146, 134, 148, 142, 142, 156, 150, 173, 188, 176, 269, 205, 222, 201, 222, 259, 274, 286, 297, 261, 271, 272, 358, 394, 388, 309, 324, 396, 2004, 341, 343, 364, 308, 426, 312, 468, 424, 401, 381, 414, 384, 417, 506, 438, 378, 444, 611, 421, 473, 479, 492, 479, 520, 543, 500, 541, 587, 614, 680, 676, 543, 675, 596, 671, 1130, 755, 763, 703, 704, 642, 774, 775, 784, 764, 854, 760, 806, 849, 919, 899, 936, 875, 1013, 887, 835, 950, 1006, 989, 952, 952, 880, 1099, 979, 981, 953, 918, 846, 854, 1066, 1017, 1066, 1019, 943, 960, 816, 892, 913, 979, 950, 916, 1005, 1129, 1107, 1168, 1213, 1202, 1111, 1140, 1054, 1281, 1140, 1175, 1221, 1149, 1135, 1056, 1085, 1123, 1144, 1093, 1124, 1040, 775, 1178, 1179, 1099, 1068, 937, 903]}],                        {\"legend\": {\"bgcolor\": \"#F5F6F9\", \"font\": {\"color\": \"#4D5663\"}}, \"paper_bgcolor\": \"#F5F6F9\", \"plot_bgcolor\": \"#F5F6F9\", \"template\": {\"data\": {\"bar\": [{\"error_x\": {\"color\": \"#2a3f5f\"}, \"error_y\": {\"color\": \"#2a3f5f\"}, \"marker\": {\"line\": {\"color\": \"#E5ECF6\", \"width\": 0.5}}, \"type\": \"bar\"}], \"barpolar\": [{\"marker\": {\"line\": {\"color\": \"#E5ECF6\", \"width\": 0.5}}, \"type\": \"barpolar\"}], \"carpet\": [{\"aaxis\": {\"endlinecolor\": \"#2a3f5f\", \"gridcolor\": \"white\", \"linecolor\": \"white\", \"minorgridcolor\": \"white\", \"startlinecolor\": \"#2a3f5f\"}, \"baxis\": {\"endlinecolor\": \"#2a3f5f\", \"gridcolor\": \"white\", \"linecolor\": \"white\", \"minorgridcolor\": \"white\", \"startlinecolor\": \"#2a3f5f\"}, \"type\": \"carpet\"}], \"choropleth\": [{\"colorbar\": {\"outlinewidth\": 0, \"ticks\": \"\"}, \"type\": \"choropleth\"}], \"contour\": [{\"colorbar\": {\"outlinewidth\": 0, \"ticks\": \"\"}, \"colorscale\": [[0.0, \"#0d0887\"], [0.1111111111111111, \"#46039f\"], [0.2222222222222222, \"#7201a8\"], [0.3333333333333333, \"#9c179e\"], [0.4444444444444444, \"#bd3786\"], [0.5555555555555556, \"#d8576b\"], [0.6666666666666666, \"#ed7953\"], [0.7777777777777778, \"#fb9f3a\"], [0.8888888888888888, \"#fdca26\"], [1.0, \"#f0f921\"]], \"type\": \"contour\"}], \"contourcarpet\": [{\"colorbar\": {\"outlinewidth\": 0, \"ticks\": \"\"}, \"type\": \"contourcarpet\"}], \"heatmap\": [{\"colorbar\": {\"outlinewidth\": 0, \"ticks\": \"\"}, \"colorscale\": [[0.0, \"#0d0887\"], [0.1111111111111111, \"#46039f\"], [0.2222222222222222, \"#7201a8\"], [0.3333333333333333, \"#9c179e\"], [0.4444444444444444, \"#bd3786\"], [0.5555555555555556, \"#d8576b\"], [0.6666666666666666, \"#ed7953\"], [0.7777777777777778, \"#fb9f3a\"], [0.8888888888888888, \"#fdca26\"], [1.0, \"#f0f921\"]], \"type\": \"heatmap\"}], \"heatmapgl\": [{\"colorbar\": {\"outlinewidth\": 0, \"ticks\": \"\"}, \"colorscale\": [[0.0, \"#0d0887\"], [0.1111111111111111, \"#46039f\"], [0.2222222222222222, \"#7201a8\"], [0.3333333333333333, \"#9c179e\"], [0.4444444444444444, \"#bd3786\"], [0.5555555555555556, \"#d8576b\"], [0.6666666666666666, \"#ed7953\"], [0.7777777777777778, \"#fb9f3a\"], [0.8888888888888888, \"#fdca26\"], [1.0, \"#f0f921\"]], \"type\": \"heatmapgl\"}], \"histogram\": [{\"marker\": {\"colorbar\": {\"outlinewidth\": 0, \"ticks\": \"\"}}, \"type\": \"histogram\"}], \"histogram2d\": [{\"colorbar\": {\"outlinewidth\": 0, \"ticks\": \"\"}, \"colorscale\": [[0.0, \"#0d0887\"], [0.1111111111111111, \"#46039f\"], [0.2222222222222222, \"#7201a8\"], [0.3333333333333333, \"#9c179e\"], [0.4444444444444444, \"#bd3786\"], [0.5555555555555556, \"#d8576b\"], [0.6666666666666666, \"#ed7953\"], [0.7777777777777778, \"#fb9f3a\"], [0.8888888888888888, \"#fdca26\"], [1.0, \"#f0f921\"]], \"type\": \"histogram2d\"}], \"histogram2dcontour\": [{\"colorbar\": {\"outlinewidth\": 0, \"ticks\": \"\"}, \"colorscale\": [[0.0, \"#0d0887\"], [0.1111111111111111, \"#46039f\"], [0.2222222222222222, \"#7201a8\"], [0.3333333333333333, \"#9c179e\"], [0.4444444444444444, \"#bd3786\"], [0.5555555555555556, \"#d8576b\"], [0.6666666666666666, \"#ed7953\"], [0.7777777777777778, \"#fb9f3a\"], [0.8888888888888888, \"#fdca26\"], [1.0, \"#f0f921\"]], \"type\": \"histogram2dcontour\"}], \"mesh3d\": [{\"colorbar\": {\"outlinewidth\": 0, \"ticks\": \"\"}, \"type\": \"mesh3d\"}], \"parcoords\": [{\"line\": {\"colorbar\": {\"outlinewidth\": 0, \"ticks\": \"\"}}, \"type\": \"parcoords\"}], \"pie\": [{\"automargin\": true, \"type\": \"pie\"}], \"scatter\": [{\"marker\": {\"colorbar\": {\"outlinewidth\": 0, \"ticks\": \"\"}}, \"type\": \"scatter\"}], \"scatter3d\": [{\"line\": {\"colorbar\": {\"outlinewidth\": 0, \"ticks\": \"\"}}, \"marker\": {\"colorbar\": {\"outlinewidth\": 0, \"ticks\": \"\"}}, \"type\": \"scatter3d\"}], \"scattercarpet\": [{\"marker\": {\"colorbar\": {\"outlinewidth\": 0, \"ticks\": \"\"}}, \"type\": \"scattercarpet\"}], \"scattergeo\": [{\"marker\": {\"colorbar\": {\"outlinewidth\": 0, \"ticks\": \"\"}}, \"type\": \"scattergeo\"}], \"scattergl\": [{\"marker\": {\"colorbar\": {\"outlinewidth\": 0, \"ticks\": \"\"}}, \"type\": \"scattergl\"}], \"scattermapbox\": [{\"marker\": {\"colorbar\": {\"outlinewidth\": 0, \"ticks\": \"\"}}, \"type\": \"scattermapbox\"}], \"scatterpolar\": [{\"marker\": {\"colorbar\": {\"outlinewidth\": 0, \"ticks\": \"\"}}, \"type\": \"scatterpolar\"}], \"scatterpolargl\": [{\"marker\": {\"colorbar\": {\"outlinewidth\": 0, \"ticks\": \"\"}}, \"type\": \"scatterpolargl\"}], \"scatterternary\": [{\"marker\": {\"colorbar\": {\"outlinewidth\": 0, \"ticks\": \"\"}}, \"type\": \"scatterternary\"}], \"surface\": [{\"colorbar\": {\"outlinewidth\": 0, \"ticks\": \"\"}, \"colorscale\": [[0.0, \"#0d0887\"], [0.1111111111111111, \"#46039f\"], [0.2222222222222222, \"#7201a8\"], [0.3333333333333333, \"#9c179e\"], [0.4444444444444444, \"#bd3786\"], [0.5555555555555556, \"#d8576b\"], [0.6666666666666666, \"#ed7953\"], [0.7777777777777778, \"#fb9f3a\"], [0.8888888888888888, \"#fdca26\"], [1.0, \"#f0f921\"]], \"type\": \"surface\"}], \"table\": [{\"cells\": {\"fill\": {\"color\": \"#EBF0F8\"}, \"line\": {\"color\": \"white\"}}, \"header\": {\"fill\": {\"color\": \"#C8D4E3\"}, \"line\": {\"color\": \"white\"}}, \"type\": \"table\"}]}, \"layout\": {\"annotationdefaults\": {\"arrowcolor\": \"#2a3f5f\", \"arrowhead\": 0, \"arrowwidth\": 1}, \"coloraxis\": {\"colorbar\": {\"outlinewidth\": 0, \"ticks\": \"\"}}, \"colorscale\": {\"diverging\": [[0, \"#8e0152\"], [0.1, \"#c51b7d\"], [0.2, \"#de77ae\"], [0.3, \"#f1b6da\"], [0.4, \"#fde0ef\"], [0.5, \"#f7f7f7\"], [0.6, \"#e6f5d0\"], [0.7, \"#b8e186\"], [0.8, \"#7fbc41\"], [0.9, \"#4d9221\"], [1, \"#276419\"]], \"sequential\": [[0.0, \"#0d0887\"], [0.1111111111111111, \"#46039f\"], [0.2222222222222222, \"#7201a8\"], [0.3333333333333333, \"#9c179e\"], [0.4444444444444444, \"#bd3786\"], [0.5555555555555556, \"#d8576b\"], [0.6666666666666666, \"#ed7953\"], [0.7777777777777778, \"#fb9f3a\"], [0.8888888888888888, \"#fdca26\"], [1.0, \"#f0f921\"]], \"sequentialminus\": [[0.0, \"#0d0887\"], [0.1111111111111111, \"#46039f\"], [0.2222222222222222, \"#7201a8\"], [0.3333333333333333, \"#9c179e\"], [0.4444444444444444, \"#bd3786\"], [0.5555555555555556, \"#d8576b\"], [0.6666666666666666, \"#ed7953\"], [0.7777777777777778, \"#fb9f3a\"], [0.8888888888888888, \"#fdca26\"], [1.0, \"#f0f921\"]]}, \"colorway\": [\"#636efa\", \"#EF553B\", \"#00cc96\", \"#ab63fa\", \"#FFA15A\", \"#19d3f3\", \"#FF6692\", \"#B6E880\", \"#FF97FF\", \"#FECB52\"], \"font\": {\"color\": \"#2a3f5f\"}, \"geo\": {\"bgcolor\": \"white\", \"lakecolor\": \"white\", \"landcolor\": \"#E5ECF6\", \"showlakes\": true, \"showland\": true, \"subunitcolor\": \"white\"}, \"hoverlabel\": {\"align\": \"left\"}, \"hovermode\": \"closest\", \"mapbox\": {\"style\": \"light\"}, \"paper_bgcolor\": \"white\", \"plot_bgcolor\": \"#E5ECF6\", \"polar\": {\"angularaxis\": {\"gridcolor\": \"white\", \"linecolor\": \"white\", \"ticks\": \"\"}, \"bgcolor\": \"#E5ECF6\", \"radialaxis\": {\"gridcolor\": \"white\", \"linecolor\": \"white\", \"ticks\": \"\"}}, \"scene\": {\"xaxis\": {\"backgroundcolor\": \"#E5ECF6\", \"gridcolor\": \"white\", \"gridwidth\": 2, \"linecolor\": \"white\", \"showbackground\": true, \"ticks\": \"\", \"zerolinecolor\": \"white\"}, \"yaxis\": {\"backgroundcolor\": \"#E5ECF6\", \"gridcolor\": \"white\", \"gridwidth\": 2, \"linecolor\": \"white\", \"showbackground\": true, \"ticks\": \"\", \"zerolinecolor\": \"white\"}, \"zaxis\": {\"backgroundcolor\": \"#E5ECF6\", \"gridcolor\": \"white\", \"gridwidth\": 2, \"linecolor\": \"white\", \"showbackground\": true, \"ticks\": \"\", \"zerolinecolor\": \"white\"}}, \"shapedefaults\": {\"line\": {\"color\": \"#2a3f5f\"}}, \"ternary\": {\"aaxis\": {\"gridcolor\": \"white\", \"linecolor\": \"white\", \"ticks\": \"\"}, \"baxis\": {\"gridcolor\": \"white\", \"linecolor\": \"white\", \"ticks\": \"\"}, \"bgcolor\": \"#E5ECF6\", \"caxis\": {\"gridcolor\": \"white\", \"linecolor\": \"white\", \"ticks\": \"\"}}, \"title\": {\"x\": 0.05}, \"xaxis\": {\"automargin\": true, \"gridcolor\": \"white\", \"linecolor\": \"white\", \"ticks\": \"\", \"title\": {\"standoff\": 15}, \"zerolinecolor\": \"white\", \"zerolinewidth\": 2}, \"yaxis\": {\"automargin\": true, \"gridcolor\": \"white\", \"linecolor\": \"white\", \"ticks\": \"\", \"title\": {\"standoff\": 15}, \"zerolinecolor\": \"white\", \"zerolinewidth\": 2}}}, \"title\": {\"font\": {\"color\": \"#4D5663\"}, \"text\": \"Daily Deceased\"}, \"xaxis\": {\"gridcolor\": \"#E1E5ED\", \"showgrid\": true, \"tickfont\": {\"color\": \"#4D5663\"}, \"title\": {\"font\": {\"color\": \"#4D5663\"}, \"text\": \"Date\"}, \"zerolinecolor\": \"#E1E5ED\"}, \"yaxis\": {\"gridcolor\": \"#E1E5ED\", \"showgrid\": true, \"tickfont\": {\"color\": \"#4D5663\"}, \"title\": {\"font\": {\"color\": \"#4D5663\"}, \"text\": \"Daily Deceased\"}, \"zerolinecolor\": \"#E1E5ED\"}},                        {\"showLink\": true, \"linkText\": \"Export to plot.ly\", \"plotlyServerURL\": \"https://plot.ly\", \"responsive\": true}                    ).then(function(){\n",
       "                            \n",
       "var gd = document.getElementById('197f9d1c-7492-40d5-b66e-d384509b6fbe');\n",
       "var x = new MutationObserver(function (mutations, observer) {{\n",
       "        var display = window.getComputedStyle(gd).display;\n",
       "        if (!display || display === 'none') {{\n",
       "            console.log([gd, 'removed!']);\n",
       "            Plotly.purge(gd);\n",
       "            observer.disconnect();\n",
       "        }}\n",
       "}});\n",
       "\n",
       "// Listen for the removal of the full notebook cells\n",
       "var notebookContainer = gd.closest('#notebook-container');\n",
       "if (notebookContainer) {{\n",
       "    x.observe(notebookContainer, {childList: true});\n",
       "}}\n",
       "\n",
       "// Listen for the clearing of the current output cell\n",
       "var outputEl = gd.closest('.output');\n",
       "if (outputEl) {{\n",
       "    x.observe(outputEl, {childList: true});\n",
       "}}\n",
       "\n",
       "                        })                };                });            </script>        </div>"
      ]
     },
     "metadata": {},
     "output_type": "display_data"
    }
   ],
   "source": [
    "case_time_series.iplot(kind='scatter',x='Date',y='Daily Deceased',\n",
    "                       mode='markers+lines',\n",
    "                       title='Daily Deceased',\n",
    "                       xTitle='Date',yTitle='Daily Deceased',colors='red',size=6)"
   ]
  },
  {
   "cell_type": "code",
   "execution_count": 38,
   "metadata": {},
   "outputs": [
    {
     "data": {
      "application/vnd.plotly.v1+json": {
       "config": {
        "linkText": "Export to plot.ly",
        "plotlyServerURL": "https://plot.ly",
        "showLink": true
       },
       "data": [
        {
         "line": {
          "color": "rgba(219, 64, 82, 1.0)",
          "dash": "solid",
          "shape": "linear",
          "width": 1.3
         },
         "marker": {
          "size": 6,
          "symbol": "circle"
         },
         "mode": "markers+lines",
         "name": "Daily Recovered",
         "text": "",
         "type": "scatter",
         "x": [
          "30 January ",
          "31 January ",
          "01 February ",
          "02 February ",
          "03 February ",
          "04 February ",
          "05 February ",
          "06 February ",
          "07 February ",
          "08 February ",
          "09 February ",
          "10 February ",
          "11 February ",
          "12 February ",
          "13 February ",
          "14 February ",
          "15 February ",
          "16 February ",
          "17 February ",
          "18 February ",
          "19 February ",
          "20 February ",
          "21 February ",
          "22 February ",
          "23 February ",
          "24 February ",
          "25 February ",
          "26 February ",
          "27 February ",
          "28 February ",
          "29 February ",
          "01 March ",
          "02 March ",
          "03 March ",
          "04 March ",
          "05 March ",
          "06 March ",
          "07 March ",
          "08 March ",
          "09 March ",
          "10 March ",
          "11 March ",
          "12 March ",
          "13 March ",
          "14 March ",
          "15 March ",
          "16 March ",
          "17 March ",
          "18 March ",
          "19 March ",
          "20 March ",
          "21 March ",
          "22 March ",
          "23 March ",
          "24 March ",
          "25 March ",
          "26 March ",
          "27 March ",
          "28 March ",
          "29 March ",
          "30 March ",
          "31 March ",
          "01 April ",
          "02 April ",
          "03 April ",
          "04 April ",
          "05 April ",
          "06 April ",
          "07 April ",
          "08 April ",
          "09 April ",
          "10 April ",
          "11 April ",
          "12 April ",
          "13 April ",
          "14 April ",
          "15 April ",
          "16 April ",
          "17 April ",
          "18 April ",
          "19 April ",
          "20 April ",
          "21 April ",
          "22 April ",
          "23 April ",
          "24 April ",
          "25 April ",
          "26 April ",
          "27 April ",
          "28 April ",
          "29 April ",
          "30 April ",
          "01 May ",
          "02 May ",
          "03 May ",
          "04 May ",
          "05 May ",
          "06 May ",
          "07 May ",
          "08 May ",
          "09 May ",
          "10 May ",
          "11 May ",
          "12 May ",
          "13 May ",
          "14 May ",
          "15 May ",
          "16 May ",
          "17 May ",
          "18 May ",
          "19 May ",
          "20 May ",
          "21 May ",
          "22 May ",
          "23 May ",
          "24 May ",
          "25 May ",
          "26 May ",
          "27 May ",
          "28 May ",
          "29 May ",
          "30 May ",
          "31 May ",
          "01 June ",
          "02 June ",
          "03 June ",
          "04 June ",
          "05 June ",
          "06 June ",
          "07 June ",
          "08 June ",
          "09 June ",
          "10 June ",
          "11 June ",
          "12 June ",
          "13 June ",
          "14 June ",
          "15 June ",
          "16 June ",
          "17 June ",
          "18 June ",
          "19 June ",
          "20 June ",
          "21 June ",
          "22 June ",
          "23 June ",
          "24 June ",
          "25 June ",
          "26 June ",
          "27 June ",
          "28 June ",
          "29 June ",
          "30 June ",
          "01 July ",
          "02 July ",
          "03 July ",
          "04 July ",
          "05 July ",
          "06 July ",
          "07 July ",
          "08 July ",
          "09 July ",
          "10 July ",
          "11 July ",
          "12 July ",
          "13 July ",
          "14 July ",
          "15 July ",
          "16 July ",
          "17 July ",
          "18 July ",
          "19 July ",
          "20 July ",
          "21 July ",
          "22 July ",
          "23 July ",
          "24 July ",
          "25 July ",
          "26 July ",
          "27 July ",
          "28 July ",
          "29 July ",
          "30 July ",
          "31 July ",
          "01 August ",
          "02 August ",
          "03 August ",
          "04 August ",
          "05 August ",
          "06 August ",
          "07 August ",
          "08 August ",
          "09 August ",
          "10 August ",
          "11 August ",
          "12 August ",
          "13 August ",
          "14 August ",
          "15 August ",
          "16 August ",
          "17 August ",
          "18 August ",
          "19 August ",
          "20 August ",
          "21 August ",
          "22 August ",
          "23 August ",
          "24 August ",
          "25 August ",
          "26 August ",
          "27 August ",
          "28 August ",
          "29 August ",
          "30 August ",
          "31 August ",
          "01 September ",
          "02 September ",
          "03 September ",
          "04 September ",
          "05 September ",
          "06 September ",
          "07 September ",
          "08 September ",
          "09 September ",
          "10 September ",
          "11 September ",
          "12 September ",
          "13 September ",
          "14 September ",
          "15 September ",
          "16 September ",
          "17 September ",
          "18 September ",
          "19 September ",
          "20 September ",
          "21 September ",
          "22 September ",
          "23 September ",
          "24 September ",
          "25 September ",
          "26 September ",
          "27 September ",
          "28 September ",
          "29 September ",
          "30 September ",
          "01 October ",
          "02 October ",
          "03 October ",
          "04 October "
         ],
         "y": [
          0,
          0,
          0,
          0,
          0,
          0,
          0,
          0,
          0,
          0,
          0,
          0,
          0,
          0,
          1,
          0,
          0,
          1,
          0,
          0,
          0,
          1,
          0,
          0,
          0,
          0,
          0,
          0,
          0,
          0,
          0,
          0,
          0,
          0,
          0,
          0,
          0,
          0,
          0,
          0,
          1,
          0,
          0,
          6,
          0,
          3,
          1,
          1,
          0,
          5,
          3,
          0,
          0,
          2,
          15,
          3,
          7,
          25,
          10,
          17,
          35,
          13,
          19,
          22,
          39,
          56,
          43,
          65,
          75,
          96,
          70,
          151,
          186,
          114,
          112,
          167,
          144,
          258,
          273,
          426,
          388,
          419,
          703,
          394,
          642,
          484,
          442,
          585,
          580,
          636,
          690,
          630,
          962,
          831,
          911,
          1082,
          1295,
          1161,
          1475,
          1111,
          1414,
          1669,
          1579,
          1905,
          1963,
          1594,
          2234,
          4012,
          2538,
          2482,
          3032,
          3113,
          3131,
          3280,
          2576,
          3285,
          3012,
          3585,
          3434,
          3171,
          11735,
          4303,
          4928,
          3882,
          4531,
          3789,
          4390,
          4770,
          5433,
          5191,
          5171,
          5634,
          6275,
          6044,
          7263,
          8092,
          7358,
          10639,
          7226,
          6890,
          10741,
          9029,
          13974,
          9075,
          10879,
          10462,
          13089,
          13983,
          10246,
          14229,
          11631,
          13497,
          12565,
          12064,
          19999,
          14417,
          14746,
          15829,
          15315,
          16836,
          19508,
          19408,
          20289,
          19981,
          18198,
          17683,
          20977,
          20646,
          22867,
          17476,
          23583,
          22730,
          24303,
          27589,
          31875,
          33326,
          32514,
          37125,
          31512,
          34354,
          35683,
          32886,
          37425,
          36554,
          51368,
          40355,
          43070,
          51220,
          45583,
          50141,
          50387,
          52135,
          54474,
          47362,
          56461,
          57759,
          54776,
          56920,
          53116,
          57404,
          58172,
          60455,
          59365,
          61873,
          62858,
          59101,
          56896,
          66305,
          64151,
          56191,
          59620,
          64475,
          64982,
          60422,
          64435,
          62145,
          67874,
          67491,
          69625,
          73161,
          69630,
          74116,
          74608,
          73062,
          70904,
          81456,
          77862,
          77748,
          79213,
          82849,
          82924,
          87788,
          95515,
          94389,
          92926,
          102070,
          89657,
          87459,
          81142,
          93331,
          92365,
          74691,
          85198,
          86150,
          85274,
          78731,
          76339,
          81655,
          76713
         ]
        }
       ],
       "layout": {
        "legend": {
         "bgcolor": "#F5F6F9",
         "font": {
          "color": "#4D5663"
         }
        },
        "paper_bgcolor": "#F5F6F9",
        "plot_bgcolor": "#F5F6F9",
        "template": {
         "data": {
          "bar": [
           {
            "error_x": {
             "color": "#2a3f5f"
            },
            "error_y": {
             "color": "#2a3f5f"
            },
            "marker": {
             "line": {
              "color": "#E5ECF6",
              "width": 0.5
             }
            },
            "type": "bar"
           }
          ],
          "barpolar": [
           {
            "marker": {
             "line": {
              "color": "#E5ECF6",
              "width": 0.5
             }
            },
            "type": "barpolar"
           }
          ],
          "carpet": [
           {
            "aaxis": {
             "endlinecolor": "#2a3f5f",
             "gridcolor": "white",
             "linecolor": "white",
             "minorgridcolor": "white",
             "startlinecolor": "#2a3f5f"
            },
            "baxis": {
             "endlinecolor": "#2a3f5f",
             "gridcolor": "white",
             "linecolor": "white",
             "minorgridcolor": "white",
             "startlinecolor": "#2a3f5f"
            },
            "type": "carpet"
           }
          ],
          "choropleth": [
           {
            "colorbar": {
             "outlinewidth": 0,
             "ticks": ""
            },
            "type": "choropleth"
           }
          ],
          "contour": [
           {
            "colorbar": {
             "outlinewidth": 0,
             "ticks": ""
            },
            "colorscale": [
             [
              0,
              "#0d0887"
             ],
             [
              0.1111111111111111,
              "#46039f"
             ],
             [
              0.2222222222222222,
              "#7201a8"
             ],
             [
              0.3333333333333333,
              "#9c179e"
             ],
             [
              0.4444444444444444,
              "#bd3786"
             ],
             [
              0.5555555555555556,
              "#d8576b"
             ],
             [
              0.6666666666666666,
              "#ed7953"
             ],
             [
              0.7777777777777778,
              "#fb9f3a"
             ],
             [
              0.8888888888888888,
              "#fdca26"
             ],
             [
              1,
              "#f0f921"
             ]
            ],
            "type": "contour"
           }
          ],
          "contourcarpet": [
           {
            "colorbar": {
             "outlinewidth": 0,
             "ticks": ""
            },
            "type": "contourcarpet"
           }
          ],
          "heatmap": [
           {
            "colorbar": {
             "outlinewidth": 0,
             "ticks": ""
            },
            "colorscale": [
             [
              0,
              "#0d0887"
             ],
             [
              0.1111111111111111,
              "#46039f"
             ],
             [
              0.2222222222222222,
              "#7201a8"
             ],
             [
              0.3333333333333333,
              "#9c179e"
             ],
             [
              0.4444444444444444,
              "#bd3786"
             ],
             [
              0.5555555555555556,
              "#d8576b"
             ],
             [
              0.6666666666666666,
              "#ed7953"
             ],
             [
              0.7777777777777778,
              "#fb9f3a"
             ],
             [
              0.8888888888888888,
              "#fdca26"
             ],
             [
              1,
              "#f0f921"
             ]
            ],
            "type": "heatmap"
           }
          ],
          "heatmapgl": [
           {
            "colorbar": {
             "outlinewidth": 0,
             "ticks": ""
            },
            "colorscale": [
             [
              0,
              "#0d0887"
             ],
             [
              0.1111111111111111,
              "#46039f"
             ],
             [
              0.2222222222222222,
              "#7201a8"
             ],
             [
              0.3333333333333333,
              "#9c179e"
             ],
             [
              0.4444444444444444,
              "#bd3786"
             ],
             [
              0.5555555555555556,
              "#d8576b"
             ],
             [
              0.6666666666666666,
              "#ed7953"
             ],
             [
              0.7777777777777778,
              "#fb9f3a"
             ],
             [
              0.8888888888888888,
              "#fdca26"
             ],
             [
              1,
              "#f0f921"
             ]
            ],
            "type": "heatmapgl"
           }
          ],
          "histogram": [
           {
            "marker": {
             "colorbar": {
              "outlinewidth": 0,
              "ticks": ""
             }
            },
            "type": "histogram"
           }
          ],
          "histogram2d": [
           {
            "colorbar": {
             "outlinewidth": 0,
             "ticks": ""
            },
            "colorscale": [
             [
              0,
              "#0d0887"
             ],
             [
              0.1111111111111111,
              "#46039f"
             ],
             [
              0.2222222222222222,
              "#7201a8"
             ],
             [
              0.3333333333333333,
              "#9c179e"
             ],
             [
              0.4444444444444444,
              "#bd3786"
             ],
             [
              0.5555555555555556,
              "#d8576b"
             ],
             [
              0.6666666666666666,
              "#ed7953"
             ],
             [
              0.7777777777777778,
              "#fb9f3a"
             ],
             [
              0.8888888888888888,
              "#fdca26"
             ],
             [
              1,
              "#f0f921"
             ]
            ],
            "type": "histogram2d"
           }
          ],
          "histogram2dcontour": [
           {
            "colorbar": {
             "outlinewidth": 0,
             "ticks": ""
            },
            "colorscale": [
             [
              0,
              "#0d0887"
             ],
             [
              0.1111111111111111,
              "#46039f"
             ],
             [
              0.2222222222222222,
              "#7201a8"
             ],
             [
              0.3333333333333333,
              "#9c179e"
             ],
             [
              0.4444444444444444,
              "#bd3786"
             ],
             [
              0.5555555555555556,
              "#d8576b"
             ],
             [
              0.6666666666666666,
              "#ed7953"
             ],
             [
              0.7777777777777778,
              "#fb9f3a"
             ],
             [
              0.8888888888888888,
              "#fdca26"
             ],
             [
              1,
              "#f0f921"
             ]
            ],
            "type": "histogram2dcontour"
           }
          ],
          "mesh3d": [
           {
            "colorbar": {
             "outlinewidth": 0,
             "ticks": ""
            },
            "type": "mesh3d"
           }
          ],
          "parcoords": [
           {
            "line": {
             "colorbar": {
              "outlinewidth": 0,
              "ticks": ""
             }
            },
            "type": "parcoords"
           }
          ],
          "pie": [
           {
            "automargin": true,
            "type": "pie"
           }
          ],
          "scatter": [
           {
            "marker": {
             "colorbar": {
              "outlinewidth": 0,
              "ticks": ""
             }
            },
            "type": "scatter"
           }
          ],
          "scatter3d": [
           {
            "line": {
             "colorbar": {
              "outlinewidth": 0,
              "ticks": ""
             }
            },
            "marker": {
             "colorbar": {
              "outlinewidth": 0,
              "ticks": ""
             }
            },
            "type": "scatter3d"
           }
          ],
          "scattercarpet": [
           {
            "marker": {
             "colorbar": {
              "outlinewidth": 0,
              "ticks": ""
             }
            },
            "type": "scattercarpet"
           }
          ],
          "scattergeo": [
           {
            "marker": {
             "colorbar": {
              "outlinewidth": 0,
              "ticks": ""
             }
            },
            "type": "scattergeo"
           }
          ],
          "scattergl": [
           {
            "marker": {
             "colorbar": {
              "outlinewidth": 0,
              "ticks": ""
             }
            },
            "type": "scattergl"
           }
          ],
          "scattermapbox": [
           {
            "marker": {
             "colorbar": {
              "outlinewidth": 0,
              "ticks": ""
             }
            },
            "type": "scattermapbox"
           }
          ],
          "scatterpolar": [
           {
            "marker": {
             "colorbar": {
              "outlinewidth": 0,
              "ticks": ""
             }
            },
            "type": "scatterpolar"
           }
          ],
          "scatterpolargl": [
           {
            "marker": {
             "colorbar": {
              "outlinewidth": 0,
              "ticks": ""
             }
            },
            "type": "scatterpolargl"
           }
          ],
          "scatterternary": [
           {
            "marker": {
             "colorbar": {
              "outlinewidth": 0,
              "ticks": ""
             }
            },
            "type": "scatterternary"
           }
          ],
          "surface": [
           {
            "colorbar": {
             "outlinewidth": 0,
             "ticks": ""
            },
            "colorscale": [
             [
              0,
              "#0d0887"
             ],
             [
              0.1111111111111111,
              "#46039f"
             ],
             [
              0.2222222222222222,
              "#7201a8"
             ],
             [
              0.3333333333333333,
              "#9c179e"
             ],
             [
              0.4444444444444444,
              "#bd3786"
             ],
             [
              0.5555555555555556,
              "#d8576b"
             ],
             [
              0.6666666666666666,
              "#ed7953"
             ],
             [
              0.7777777777777778,
              "#fb9f3a"
             ],
             [
              0.8888888888888888,
              "#fdca26"
             ],
             [
              1,
              "#f0f921"
             ]
            ],
            "type": "surface"
           }
          ],
          "table": [
           {
            "cells": {
             "fill": {
              "color": "#EBF0F8"
             },
             "line": {
              "color": "white"
             }
            },
            "header": {
             "fill": {
              "color": "#C8D4E3"
             },
             "line": {
              "color": "white"
             }
            },
            "type": "table"
           }
          ]
         },
         "layout": {
          "annotationdefaults": {
           "arrowcolor": "#2a3f5f",
           "arrowhead": 0,
           "arrowwidth": 1
          },
          "coloraxis": {
           "colorbar": {
            "outlinewidth": 0,
            "ticks": ""
           }
          },
          "colorscale": {
           "diverging": [
            [
             0,
             "#8e0152"
            ],
            [
             0.1,
             "#c51b7d"
            ],
            [
             0.2,
             "#de77ae"
            ],
            [
             0.3,
             "#f1b6da"
            ],
            [
             0.4,
             "#fde0ef"
            ],
            [
             0.5,
             "#f7f7f7"
            ],
            [
             0.6,
             "#e6f5d0"
            ],
            [
             0.7,
             "#b8e186"
            ],
            [
             0.8,
             "#7fbc41"
            ],
            [
             0.9,
             "#4d9221"
            ],
            [
             1,
             "#276419"
            ]
           ],
           "sequential": [
            [
             0,
             "#0d0887"
            ],
            [
             0.1111111111111111,
             "#46039f"
            ],
            [
             0.2222222222222222,
             "#7201a8"
            ],
            [
             0.3333333333333333,
             "#9c179e"
            ],
            [
             0.4444444444444444,
             "#bd3786"
            ],
            [
             0.5555555555555556,
             "#d8576b"
            ],
            [
             0.6666666666666666,
             "#ed7953"
            ],
            [
             0.7777777777777778,
             "#fb9f3a"
            ],
            [
             0.8888888888888888,
             "#fdca26"
            ],
            [
             1,
             "#f0f921"
            ]
           ],
           "sequentialminus": [
            [
             0,
             "#0d0887"
            ],
            [
             0.1111111111111111,
             "#46039f"
            ],
            [
             0.2222222222222222,
             "#7201a8"
            ],
            [
             0.3333333333333333,
             "#9c179e"
            ],
            [
             0.4444444444444444,
             "#bd3786"
            ],
            [
             0.5555555555555556,
             "#d8576b"
            ],
            [
             0.6666666666666666,
             "#ed7953"
            ],
            [
             0.7777777777777778,
             "#fb9f3a"
            ],
            [
             0.8888888888888888,
             "#fdca26"
            ],
            [
             1,
             "#f0f921"
            ]
           ]
          },
          "colorway": [
           "#636efa",
           "#EF553B",
           "#00cc96",
           "#ab63fa",
           "#FFA15A",
           "#19d3f3",
           "#FF6692",
           "#B6E880",
           "#FF97FF",
           "#FECB52"
          ],
          "font": {
           "color": "#2a3f5f"
          },
          "geo": {
           "bgcolor": "white",
           "lakecolor": "white",
           "landcolor": "#E5ECF6",
           "showlakes": true,
           "showland": true,
           "subunitcolor": "white"
          },
          "hoverlabel": {
           "align": "left"
          },
          "hovermode": "closest",
          "mapbox": {
           "style": "light"
          },
          "paper_bgcolor": "white",
          "plot_bgcolor": "#E5ECF6",
          "polar": {
           "angularaxis": {
            "gridcolor": "white",
            "linecolor": "white",
            "ticks": ""
           },
           "bgcolor": "#E5ECF6",
           "radialaxis": {
            "gridcolor": "white",
            "linecolor": "white",
            "ticks": ""
           }
          },
          "scene": {
           "xaxis": {
            "backgroundcolor": "#E5ECF6",
            "gridcolor": "white",
            "gridwidth": 2,
            "linecolor": "white",
            "showbackground": true,
            "ticks": "",
            "zerolinecolor": "white"
           },
           "yaxis": {
            "backgroundcolor": "#E5ECF6",
            "gridcolor": "white",
            "gridwidth": 2,
            "linecolor": "white",
            "showbackground": true,
            "ticks": "",
            "zerolinecolor": "white"
           },
           "zaxis": {
            "backgroundcolor": "#E5ECF6",
            "gridcolor": "white",
            "gridwidth": 2,
            "linecolor": "white",
            "showbackground": true,
            "ticks": "",
            "zerolinecolor": "white"
           }
          },
          "shapedefaults": {
           "line": {
            "color": "#2a3f5f"
           }
          },
          "ternary": {
           "aaxis": {
            "gridcolor": "white",
            "linecolor": "white",
            "ticks": ""
           },
           "baxis": {
            "gridcolor": "white",
            "linecolor": "white",
            "ticks": ""
           },
           "bgcolor": "#E5ECF6",
           "caxis": {
            "gridcolor": "white",
            "linecolor": "white",
            "ticks": ""
           }
          },
          "title": {
           "x": 0.05
          },
          "xaxis": {
           "automargin": true,
           "gridcolor": "white",
           "linecolor": "white",
           "ticks": "",
           "title": {
            "standoff": 15
           },
           "zerolinecolor": "white",
           "zerolinewidth": 2
          },
          "yaxis": {
           "automargin": true,
           "gridcolor": "white",
           "linecolor": "white",
           "ticks": "",
           "title": {
            "standoff": 15
           },
           "zerolinecolor": "white",
           "zerolinewidth": 2
          }
         }
        },
        "title": {
         "font": {
          "color": "#4D5663"
         },
         "text": "Daily Recovered"
        },
        "xaxis": {
         "gridcolor": "#E1E5ED",
         "showgrid": true,
         "tickfont": {
          "color": "#4D5663"
         },
         "title": {
          "font": {
           "color": "#4D5663"
          },
          "text": "Date"
         },
         "zerolinecolor": "#E1E5ED"
        },
        "yaxis": {
         "gridcolor": "#E1E5ED",
         "showgrid": true,
         "tickfont": {
          "color": "#4D5663"
         },
         "title": {
          "font": {
           "color": "#4D5663"
          },
          "text": "Daily Recovered"
         },
         "zerolinecolor": "#E1E5ED"
        }
       }
      },
      "text/html": [
       "<div>                            <div id=\"2e01d890-69e3-4dad-8232-975bb906b652\" class=\"plotly-graph-div\" style=\"height:525px; width:100%;\"></div>            <script type=\"text/javascript\">                require([\"plotly\"], function(Plotly) {                    window.PLOTLYENV=window.PLOTLYENV || {};\n",
       "                    window.PLOTLYENV.BASE_URL='https://plot.ly';                                    if (document.getElementById(\"2e01d890-69e3-4dad-8232-975bb906b652\")) {                    Plotly.newPlot(                        \"2e01d890-69e3-4dad-8232-975bb906b652\",                        [{\"line\": {\"color\": \"rgba(219, 64, 82, 1.0)\", \"dash\": \"solid\", \"shape\": \"linear\", \"width\": 1.3}, \"marker\": {\"size\": 6, \"symbol\": \"circle\"}, \"mode\": \"markers+lines\", \"name\": \"Daily Recovered\", \"text\": \"\", \"type\": \"scatter\", \"x\": [\"30 January \", \"31 January \", \"01 February \", \"02 February \", \"03 February \", \"04 February \", \"05 February \", \"06 February \", \"07 February \", \"08 February \", \"09 February \", \"10 February \", \"11 February \", \"12 February \", \"13 February \", \"14 February \", \"15 February \", \"16 February \", \"17 February \", \"18 February \", \"19 February \", \"20 February \", \"21 February \", \"22 February \", \"23 February \", \"24 February \", \"25 February \", \"26 February \", \"27 February \", \"28 February \", \"29 February \", \"01 March \", \"02 March \", \"03 March \", \"04 March \", \"05 March \", \"06 March \", \"07 March \", \"08 March \", \"09 March \", \"10 March \", \"11 March \", \"12 March \", \"13 March \", \"14 March \", \"15 March \", \"16 March \", \"17 March \", \"18 March \", \"19 March \", \"20 March \", \"21 March \", \"22 March \", \"23 March \", \"24 March \", \"25 March \", \"26 March \", \"27 March \", \"28 March \", \"29 March \", \"30 March \", \"31 March \", \"01 April \", \"02 April \", \"03 April \", \"04 April \", \"05 April \", \"06 April \", \"07 April \", \"08 April \", \"09 April \", \"10 April \", \"11 April \", \"12 April \", \"13 April \", \"14 April \", \"15 April \", \"16 April \", \"17 April \", \"18 April \", \"19 April \", \"20 April \", \"21 April \", \"22 April \", \"23 April \", \"24 April \", \"25 April \", \"26 April \", \"27 April \", \"28 April \", \"29 April \", \"30 April \", \"01 May \", \"02 May \", \"03 May \", \"04 May \", \"05 May \", \"06 May \", \"07 May \", \"08 May \", \"09 May \", \"10 May \", \"11 May \", \"12 May \", \"13 May \", \"14 May \", \"15 May \", \"16 May \", \"17 May \", \"18 May \", \"19 May \", \"20 May \", \"21 May \", \"22 May \", \"23 May \", \"24 May \", \"25 May \", \"26 May \", \"27 May \", \"28 May \", \"29 May \", \"30 May \", \"31 May \", \"01 June \", \"02 June \", \"03 June \", \"04 June \", \"05 June \", \"06 June \", \"07 June \", \"08 June \", \"09 June \", \"10 June \", \"11 June \", \"12 June \", \"13 June \", \"14 June \", \"15 June \", \"16 June \", \"17 June \", \"18 June \", \"19 June \", \"20 June \", \"21 June \", \"22 June \", \"23 June \", \"24 June \", \"25 June \", \"26 June \", \"27 June \", \"28 June \", \"29 June \", \"30 June \", \"01 July \", \"02 July \", \"03 July \", \"04 July \", \"05 July \", \"06 July \", \"07 July \", \"08 July \", \"09 July \", \"10 July \", \"11 July \", \"12 July \", \"13 July \", \"14 July \", \"15 July \", \"16 July \", \"17 July \", \"18 July \", \"19 July \", \"20 July \", \"21 July \", \"22 July \", \"23 July \", \"24 July \", \"25 July \", \"26 July \", \"27 July \", \"28 July \", \"29 July \", \"30 July \", \"31 July \", \"01 August \", \"02 August \", \"03 August \", \"04 August \", \"05 August \", \"06 August \", \"07 August \", \"08 August \", \"09 August \", \"10 August \", \"11 August \", \"12 August \", \"13 August \", \"14 August \", \"15 August \", \"16 August \", \"17 August \", \"18 August \", \"19 August \", \"20 August \", \"21 August \", \"22 August \", \"23 August \", \"24 August \", \"25 August \", \"26 August \", \"27 August \", \"28 August \", \"29 August \", \"30 August \", \"31 August \", \"01 September \", \"02 September \", \"03 September \", \"04 September \", \"05 September \", \"06 September \", \"07 September \", \"08 September \", \"09 September \", \"10 September \", \"11 September \", \"12 September \", \"13 September \", \"14 September \", \"15 September \", \"16 September \", \"17 September \", \"18 September \", \"19 September \", \"20 September \", \"21 September \", \"22 September \", \"23 September \", \"24 September \", \"25 September \", \"26 September \", \"27 September \", \"28 September \", \"29 September \", \"30 September \", \"01 October \", \"02 October \", \"03 October \", \"04 October \"], \"y\": [0, 0, 0, 0, 0, 0, 0, 0, 0, 0, 0, 0, 0, 0, 1, 0, 0, 1, 0, 0, 0, 1, 0, 0, 0, 0, 0, 0, 0, 0, 0, 0, 0, 0, 0, 0, 0, 0, 0, 0, 1, 0, 0, 6, 0, 3, 1, 1, 0, 5, 3, 0, 0, 2, 15, 3, 7, 25, 10, 17, 35, 13, 19, 22, 39, 56, 43, 65, 75, 96, 70, 151, 186, 114, 112, 167, 144, 258, 273, 426, 388, 419, 703, 394, 642, 484, 442, 585, 580, 636, 690, 630, 962, 831, 911, 1082, 1295, 1161, 1475, 1111, 1414, 1669, 1579, 1905, 1963, 1594, 2234, 4012, 2538, 2482, 3032, 3113, 3131, 3280, 2576, 3285, 3012, 3585, 3434, 3171, 11735, 4303, 4928, 3882, 4531, 3789, 4390, 4770, 5433, 5191, 5171, 5634, 6275, 6044, 7263, 8092, 7358, 10639, 7226, 6890, 10741, 9029, 13974, 9075, 10879, 10462, 13089, 13983, 10246, 14229, 11631, 13497, 12565, 12064, 19999, 14417, 14746, 15829, 15315, 16836, 19508, 19408, 20289, 19981, 18198, 17683, 20977, 20646, 22867, 17476, 23583, 22730, 24303, 27589, 31875, 33326, 32514, 37125, 31512, 34354, 35683, 32886, 37425, 36554, 51368, 40355, 43070, 51220, 45583, 50141, 50387, 52135, 54474, 47362, 56461, 57759, 54776, 56920, 53116, 57404, 58172, 60455, 59365, 61873, 62858, 59101, 56896, 66305, 64151, 56191, 59620, 64475, 64982, 60422, 64435, 62145, 67874, 67491, 69625, 73161, 69630, 74116, 74608, 73062, 70904, 81456, 77862, 77748, 79213, 82849, 82924, 87788, 95515, 94389, 92926, 102070, 89657, 87459, 81142, 93331, 92365, 74691, 85198, 86150, 85274, 78731, 76339, 81655, 76713]}],                        {\"legend\": {\"bgcolor\": \"#F5F6F9\", \"font\": {\"color\": \"#4D5663\"}}, \"paper_bgcolor\": \"#F5F6F9\", \"plot_bgcolor\": \"#F5F6F9\", \"template\": {\"data\": {\"bar\": [{\"error_x\": {\"color\": \"#2a3f5f\"}, \"error_y\": {\"color\": \"#2a3f5f\"}, \"marker\": {\"line\": {\"color\": \"#E5ECF6\", \"width\": 0.5}}, \"type\": \"bar\"}], \"barpolar\": [{\"marker\": {\"line\": {\"color\": \"#E5ECF6\", \"width\": 0.5}}, \"type\": \"barpolar\"}], \"carpet\": [{\"aaxis\": {\"endlinecolor\": \"#2a3f5f\", \"gridcolor\": \"white\", \"linecolor\": \"white\", \"minorgridcolor\": \"white\", \"startlinecolor\": \"#2a3f5f\"}, \"baxis\": {\"endlinecolor\": \"#2a3f5f\", \"gridcolor\": \"white\", \"linecolor\": \"white\", \"minorgridcolor\": \"white\", \"startlinecolor\": \"#2a3f5f\"}, \"type\": \"carpet\"}], \"choropleth\": [{\"colorbar\": {\"outlinewidth\": 0, \"ticks\": \"\"}, \"type\": \"choropleth\"}], \"contour\": [{\"colorbar\": {\"outlinewidth\": 0, \"ticks\": \"\"}, \"colorscale\": [[0.0, \"#0d0887\"], [0.1111111111111111, \"#46039f\"], [0.2222222222222222, \"#7201a8\"], [0.3333333333333333, \"#9c179e\"], [0.4444444444444444, \"#bd3786\"], [0.5555555555555556, \"#d8576b\"], [0.6666666666666666, \"#ed7953\"], [0.7777777777777778, \"#fb9f3a\"], [0.8888888888888888, \"#fdca26\"], [1.0, \"#f0f921\"]], \"type\": \"contour\"}], \"contourcarpet\": [{\"colorbar\": {\"outlinewidth\": 0, \"ticks\": \"\"}, \"type\": \"contourcarpet\"}], \"heatmap\": [{\"colorbar\": {\"outlinewidth\": 0, \"ticks\": \"\"}, \"colorscale\": [[0.0, \"#0d0887\"], [0.1111111111111111, \"#46039f\"], [0.2222222222222222, \"#7201a8\"], [0.3333333333333333, \"#9c179e\"], [0.4444444444444444, \"#bd3786\"], [0.5555555555555556, \"#d8576b\"], [0.6666666666666666, \"#ed7953\"], [0.7777777777777778, \"#fb9f3a\"], [0.8888888888888888, \"#fdca26\"], [1.0, \"#f0f921\"]], \"type\": \"heatmap\"}], \"heatmapgl\": [{\"colorbar\": {\"outlinewidth\": 0, \"ticks\": \"\"}, \"colorscale\": [[0.0, \"#0d0887\"], [0.1111111111111111, \"#46039f\"], [0.2222222222222222, \"#7201a8\"], [0.3333333333333333, \"#9c179e\"], [0.4444444444444444, \"#bd3786\"], [0.5555555555555556, \"#d8576b\"], [0.6666666666666666, \"#ed7953\"], [0.7777777777777778, \"#fb9f3a\"], [0.8888888888888888, \"#fdca26\"], [1.0, \"#f0f921\"]], \"type\": \"heatmapgl\"}], \"histogram\": [{\"marker\": {\"colorbar\": {\"outlinewidth\": 0, \"ticks\": \"\"}}, \"type\": \"histogram\"}], \"histogram2d\": [{\"colorbar\": {\"outlinewidth\": 0, \"ticks\": \"\"}, \"colorscale\": [[0.0, \"#0d0887\"], [0.1111111111111111, \"#46039f\"], [0.2222222222222222, \"#7201a8\"], [0.3333333333333333, \"#9c179e\"], [0.4444444444444444, \"#bd3786\"], [0.5555555555555556, \"#d8576b\"], [0.6666666666666666, \"#ed7953\"], [0.7777777777777778, \"#fb9f3a\"], [0.8888888888888888, \"#fdca26\"], [1.0, \"#f0f921\"]], \"type\": \"histogram2d\"}], \"histogram2dcontour\": [{\"colorbar\": {\"outlinewidth\": 0, \"ticks\": \"\"}, \"colorscale\": [[0.0, \"#0d0887\"], [0.1111111111111111, \"#46039f\"], [0.2222222222222222, \"#7201a8\"], [0.3333333333333333, \"#9c179e\"], [0.4444444444444444, \"#bd3786\"], [0.5555555555555556, \"#d8576b\"], [0.6666666666666666, \"#ed7953\"], [0.7777777777777778, \"#fb9f3a\"], [0.8888888888888888, \"#fdca26\"], [1.0, \"#f0f921\"]], \"type\": \"histogram2dcontour\"}], \"mesh3d\": [{\"colorbar\": {\"outlinewidth\": 0, \"ticks\": \"\"}, \"type\": \"mesh3d\"}], \"parcoords\": [{\"line\": {\"colorbar\": {\"outlinewidth\": 0, \"ticks\": \"\"}}, \"type\": \"parcoords\"}], \"pie\": [{\"automargin\": true, \"type\": \"pie\"}], \"scatter\": [{\"marker\": {\"colorbar\": {\"outlinewidth\": 0, \"ticks\": \"\"}}, \"type\": \"scatter\"}], \"scatter3d\": [{\"line\": {\"colorbar\": {\"outlinewidth\": 0, \"ticks\": \"\"}}, \"marker\": {\"colorbar\": {\"outlinewidth\": 0, \"ticks\": \"\"}}, \"type\": \"scatter3d\"}], \"scattercarpet\": [{\"marker\": {\"colorbar\": {\"outlinewidth\": 0, \"ticks\": \"\"}}, \"type\": \"scattercarpet\"}], \"scattergeo\": [{\"marker\": {\"colorbar\": {\"outlinewidth\": 0, \"ticks\": \"\"}}, \"type\": \"scattergeo\"}], \"scattergl\": [{\"marker\": {\"colorbar\": {\"outlinewidth\": 0, \"ticks\": \"\"}}, \"type\": \"scattergl\"}], \"scattermapbox\": [{\"marker\": {\"colorbar\": {\"outlinewidth\": 0, \"ticks\": \"\"}}, \"type\": \"scattermapbox\"}], \"scatterpolar\": [{\"marker\": {\"colorbar\": {\"outlinewidth\": 0, \"ticks\": \"\"}}, \"type\": \"scatterpolar\"}], \"scatterpolargl\": [{\"marker\": {\"colorbar\": {\"outlinewidth\": 0, \"ticks\": \"\"}}, \"type\": \"scatterpolargl\"}], \"scatterternary\": [{\"marker\": {\"colorbar\": {\"outlinewidth\": 0, \"ticks\": \"\"}}, \"type\": \"scatterternary\"}], \"surface\": [{\"colorbar\": {\"outlinewidth\": 0, \"ticks\": \"\"}, \"colorscale\": [[0.0, \"#0d0887\"], [0.1111111111111111, \"#46039f\"], [0.2222222222222222, \"#7201a8\"], [0.3333333333333333, \"#9c179e\"], [0.4444444444444444, \"#bd3786\"], [0.5555555555555556, \"#d8576b\"], [0.6666666666666666, \"#ed7953\"], [0.7777777777777778, \"#fb9f3a\"], [0.8888888888888888, \"#fdca26\"], [1.0, \"#f0f921\"]], \"type\": \"surface\"}], \"table\": [{\"cells\": {\"fill\": {\"color\": \"#EBF0F8\"}, \"line\": {\"color\": \"white\"}}, \"header\": {\"fill\": {\"color\": \"#C8D4E3\"}, \"line\": {\"color\": \"white\"}}, \"type\": \"table\"}]}, \"layout\": {\"annotationdefaults\": {\"arrowcolor\": \"#2a3f5f\", \"arrowhead\": 0, \"arrowwidth\": 1}, \"coloraxis\": {\"colorbar\": {\"outlinewidth\": 0, \"ticks\": \"\"}}, \"colorscale\": {\"diverging\": [[0, \"#8e0152\"], [0.1, \"#c51b7d\"], [0.2, \"#de77ae\"], [0.3, \"#f1b6da\"], [0.4, \"#fde0ef\"], [0.5, \"#f7f7f7\"], [0.6, \"#e6f5d0\"], [0.7, \"#b8e186\"], [0.8, \"#7fbc41\"], [0.9, \"#4d9221\"], [1, \"#276419\"]], \"sequential\": [[0.0, \"#0d0887\"], [0.1111111111111111, \"#46039f\"], [0.2222222222222222, \"#7201a8\"], [0.3333333333333333, \"#9c179e\"], [0.4444444444444444, \"#bd3786\"], [0.5555555555555556, \"#d8576b\"], [0.6666666666666666, \"#ed7953\"], [0.7777777777777778, \"#fb9f3a\"], [0.8888888888888888, \"#fdca26\"], [1.0, \"#f0f921\"]], \"sequentialminus\": [[0.0, \"#0d0887\"], [0.1111111111111111, \"#46039f\"], [0.2222222222222222, \"#7201a8\"], [0.3333333333333333, \"#9c179e\"], [0.4444444444444444, \"#bd3786\"], [0.5555555555555556, \"#d8576b\"], [0.6666666666666666, \"#ed7953\"], [0.7777777777777778, \"#fb9f3a\"], [0.8888888888888888, \"#fdca26\"], [1.0, \"#f0f921\"]]}, \"colorway\": [\"#636efa\", \"#EF553B\", \"#00cc96\", \"#ab63fa\", \"#FFA15A\", \"#19d3f3\", \"#FF6692\", \"#B6E880\", \"#FF97FF\", \"#FECB52\"], \"font\": {\"color\": \"#2a3f5f\"}, \"geo\": {\"bgcolor\": \"white\", \"lakecolor\": \"white\", \"landcolor\": \"#E5ECF6\", \"showlakes\": true, \"showland\": true, \"subunitcolor\": \"white\"}, \"hoverlabel\": {\"align\": \"left\"}, \"hovermode\": \"closest\", \"mapbox\": {\"style\": \"light\"}, \"paper_bgcolor\": \"white\", \"plot_bgcolor\": \"#E5ECF6\", \"polar\": {\"angularaxis\": {\"gridcolor\": \"white\", \"linecolor\": \"white\", \"ticks\": \"\"}, \"bgcolor\": \"#E5ECF6\", \"radialaxis\": {\"gridcolor\": \"white\", \"linecolor\": \"white\", \"ticks\": \"\"}}, \"scene\": {\"xaxis\": {\"backgroundcolor\": \"#E5ECF6\", \"gridcolor\": \"white\", \"gridwidth\": 2, \"linecolor\": \"white\", \"showbackground\": true, \"ticks\": \"\", \"zerolinecolor\": \"white\"}, \"yaxis\": {\"backgroundcolor\": \"#E5ECF6\", \"gridcolor\": \"white\", \"gridwidth\": 2, \"linecolor\": \"white\", \"showbackground\": true, \"ticks\": \"\", \"zerolinecolor\": \"white\"}, \"zaxis\": {\"backgroundcolor\": \"#E5ECF6\", \"gridcolor\": \"white\", \"gridwidth\": 2, \"linecolor\": \"white\", \"showbackground\": true, \"ticks\": \"\", \"zerolinecolor\": \"white\"}}, \"shapedefaults\": {\"line\": {\"color\": \"#2a3f5f\"}}, \"ternary\": {\"aaxis\": {\"gridcolor\": \"white\", \"linecolor\": \"white\", \"ticks\": \"\"}, \"baxis\": {\"gridcolor\": \"white\", \"linecolor\": \"white\", \"ticks\": \"\"}, \"bgcolor\": \"#E5ECF6\", \"caxis\": {\"gridcolor\": \"white\", \"linecolor\": \"white\", \"ticks\": \"\"}}, \"title\": {\"x\": 0.05}, \"xaxis\": {\"automargin\": true, \"gridcolor\": \"white\", \"linecolor\": \"white\", \"ticks\": \"\", \"title\": {\"standoff\": 15}, \"zerolinecolor\": \"white\", \"zerolinewidth\": 2}, \"yaxis\": {\"automargin\": true, \"gridcolor\": \"white\", \"linecolor\": \"white\", \"ticks\": \"\", \"title\": {\"standoff\": 15}, \"zerolinecolor\": \"white\", \"zerolinewidth\": 2}}}, \"title\": {\"font\": {\"color\": \"#4D5663\"}, \"text\": \"Daily Recovered\"}, \"xaxis\": {\"gridcolor\": \"#E1E5ED\", \"showgrid\": true, \"tickfont\": {\"color\": \"#4D5663\"}, \"title\": {\"font\": {\"color\": \"#4D5663\"}, \"text\": \"Date\"}, \"zerolinecolor\": \"#E1E5ED\"}, \"yaxis\": {\"gridcolor\": \"#E1E5ED\", \"showgrid\": true, \"tickfont\": {\"color\": \"#4D5663\"}, \"title\": {\"font\": {\"color\": \"#4D5663\"}, \"text\": \"Daily Recovered\"}, \"zerolinecolor\": \"#E1E5ED\"}},                        {\"showLink\": true, \"linkText\": \"Export to plot.ly\", \"plotlyServerURL\": \"https://plot.ly\", \"responsive\": true}                    ).then(function(){\n",
       "                            \n",
       "var gd = document.getElementById('2e01d890-69e3-4dad-8232-975bb906b652');\n",
       "var x = new MutationObserver(function (mutations, observer) {{\n",
       "        var display = window.getComputedStyle(gd).display;\n",
       "        if (!display || display === 'none') {{\n",
       "            console.log([gd, 'removed!']);\n",
       "            Plotly.purge(gd);\n",
       "            observer.disconnect();\n",
       "        }}\n",
       "}});\n",
       "\n",
       "// Listen for the removal of the full notebook cells\n",
       "var notebookContainer = gd.closest('#notebook-container');\n",
       "if (notebookContainer) {{\n",
       "    x.observe(notebookContainer, {childList: true});\n",
       "}}\n",
       "\n",
       "// Listen for the clearing of the current output cell\n",
       "var outputEl = gd.closest('.output');\n",
       "if (outputEl) {{\n",
       "    x.observe(outputEl, {childList: true});\n",
       "}}\n",
       "\n",
       "                        })                };                });            </script>        </div>"
      ]
     },
     "metadata": {},
     "output_type": "display_data"
    }
   ],
   "source": [
    "case_time_series.iplot(kind='scatter',x='Date',y='Daily Recovered',\n",
    "                       mode='markers+lines',\n",
    "                       title='Daily Recovered',\n",
    "                       xTitle='Date',yTitle='Daily Recovered',colors='red',size=6)"
   ]
  },
  {
   "cell_type": "code",
   "execution_count": 39,
   "metadata": {},
   "outputs": [
    {
     "data": {
      "application/vnd.plotly.v1+json": {
       "config": {
        "linkText": "Export to plot.ly",
        "plotlyServerURL": "https://plot.ly",
        "showLink": true
       },
       "data": [
        {
         "line": {
          "color": "rgba(219, 64, 82, 1.0)",
          "dash": "solid",
          "shape": "linear",
          "width": 1.3
         },
         "marker": {
          "size": 6,
          "symbol": "circle"
         },
         "mode": "markers+lines",
         "name": "Total Recovered",
         "text": "",
         "type": "scatter",
         "x": [
          "30 January ",
          "31 January ",
          "01 February ",
          "02 February ",
          "03 February ",
          "04 February ",
          "05 February ",
          "06 February ",
          "07 February ",
          "08 February ",
          "09 February ",
          "10 February ",
          "11 February ",
          "12 February ",
          "13 February ",
          "14 February ",
          "15 February ",
          "16 February ",
          "17 February ",
          "18 February ",
          "19 February ",
          "20 February ",
          "21 February ",
          "22 February ",
          "23 February ",
          "24 February ",
          "25 February ",
          "26 February ",
          "27 February ",
          "28 February ",
          "29 February ",
          "01 March ",
          "02 March ",
          "03 March ",
          "04 March ",
          "05 March ",
          "06 March ",
          "07 March ",
          "08 March ",
          "09 March ",
          "10 March ",
          "11 March ",
          "12 March ",
          "13 March ",
          "14 March ",
          "15 March ",
          "16 March ",
          "17 March ",
          "18 March ",
          "19 March ",
          "20 March ",
          "21 March ",
          "22 March ",
          "23 March ",
          "24 March ",
          "25 March ",
          "26 March ",
          "27 March ",
          "28 March ",
          "29 March ",
          "30 March ",
          "31 March ",
          "01 April ",
          "02 April ",
          "03 April ",
          "04 April ",
          "05 April ",
          "06 April ",
          "07 April ",
          "08 April ",
          "09 April ",
          "10 April ",
          "11 April ",
          "12 April ",
          "13 April ",
          "14 April ",
          "15 April ",
          "16 April ",
          "17 April ",
          "18 April ",
          "19 April ",
          "20 April ",
          "21 April ",
          "22 April ",
          "23 April ",
          "24 April ",
          "25 April ",
          "26 April ",
          "27 April ",
          "28 April ",
          "29 April ",
          "30 April ",
          "01 May ",
          "02 May ",
          "03 May ",
          "04 May ",
          "05 May ",
          "06 May ",
          "07 May ",
          "08 May ",
          "09 May ",
          "10 May ",
          "11 May ",
          "12 May ",
          "13 May ",
          "14 May ",
          "15 May ",
          "16 May ",
          "17 May ",
          "18 May ",
          "19 May ",
          "20 May ",
          "21 May ",
          "22 May ",
          "23 May ",
          "24 May ",
          "25 May ",
          "26 May ",
          "27 May ",
          "28 May ",
          "29 May ",
          "30 May ",
          "31 May ",
          "01 June ",
          "02 June ",
          "03 June ",
          "04 June ",
          "05 June ",
          "06 June ",
          "07 June ",
          "08 June ",
          "09 June ",
          "10 June ",
          "11 June ",
          "12 June ",
          "13 June ",
          "14 June ",
          "15 June ",
          "16 June ",
          "17 June ",
          "18 June ",
          "19 June ",
          "20 June ",
          "21 June ",
          "22 June ",
          "23 June ",
          "24 June ",
          "25 June ",
          "26 June ",
          "27 June ",
          "28 June ",
          "29 June ",
          "30 June ",
          "01 July ",
          "02 July ",
          "03 July ",
          "04 July ",
          "05 July ",
          "06 July ",
          "07 July ",
          "08 July ",
          "09 July ",
          "10 July ",
          "11 July ",
          "12 July ",
          "13 July ",
          "14 July ",
          "15 July ",
          "16 July ",
          "17 July ",
          "18 July ",
          "19 July ",
          "20 July ",
          "21 July ",
          "22 July ",
          "23 July ",
          "24 July ",
          "25 July ",
          "26 July ",
          "27 July ",
          "28 July ",
          "29 July ",
          "30 July ",
          "31 July ",
          "01 August ",
          "02 August ",
          "03 August ",
          "04 August ",
          "05 August ",
          "06 August ",
          "07 August ",
          "08 August ",
          "09 August ",
          "10 August ",
          "11 August ",
          "12 August ",
          "13 August ",
          "14 August ",
          "15 August ",
          "16 August ",
          "17 August ",
          "18 August ",
          "19 August ",
          "20 August ",
          "21 August ",
          "22 August ",
          "23 August ",
          "24 August ",
          "25 August ",
          "26 August ",
          "27 August ",
          "28 August ",
          "29 August ",
          "30 August ",
          "31 August ",
          "01 September ",
          "02 September ",
          "03 September ",
          "04 September ",
          "05 September ",
          "06 September ",
          "07 September ",
          "08 September ",
          "09 September ",
          "10 September ",
          "11 September ",
          "12 September ",
          "13 September ",
          "14 September ",
          "15 September ",
          "16 September ",
          "17 September ",
          "18 September ",
          "19 September ",
          "20 September ",
          "21 September ",
          "22 September ",
          "23 September ",
          "24 September ",
          "25 September ",
          "26 September ",
          "27 September ",
          "28 September ",
          "29 September ",
          "30 September ",
          "01 October ",
          "02 October ",
          "03 October ",
          "04 October "
         ],
         "y": [
          0,
          0,
          0,
          0,
          0,
          0,
          0,
          0,
          0,
          0,
          0,
          0,
          0,
          0,
          1,
          1,
          1,
          2,
          2,
          2,
          2,
          3,
          3,
          3,
          3,
          3,
          3,
          3,
          3,
          3,
          3,
          3,
          3,
          3,
          3,
          3,
          3,
          3,
          3,
          3,
          4,
          4,
          4,
          10,
          10,
          13,
          14,
          15,
          15,
          20,
          23,
          23,
          23,
          25,
          40,
          43,
          50,
          75,
          85,
          102,
          137,
          150,
          169,
          191,
          230,
          286,
          329,
          394,
          469,
          565,
          635,
          786,
          972,
          1086,
          1198,
          1365,
          1509,
          1767,
          2040,
          2466,
          2854,
          3273,
          3976,
          4370,
          5012,
          5496,
          5938,
          6523,
          7103,
          7739,
          8429,
          9059,
          10021,
          10852,
          11763,
          12845,
          14140,
          15301,
          16776,
          17887,
          19301,
          20970,
          22549,
          24454,
          26417,
          28011,
          30245,
          34257,
          36795,
          39277,
          42309,
          45422,
          48553,
          51833,
          54409,
          57694,
          60706,
          64291,
          67725,
          70896,
          82631,
          86934,
          91862,
          95744,
          100275,
          104064,
          108454,
          113224,
          118657,
          123848,
          129019,
          134653,
          140928,
          146972,
          154235,
          162327,
          169685,
          180324,
          187550,
          194440,
          205181,
          214210,
          228184,
          237259,
          248138,
          258600,
          271689,
          285672,
          295918,
          310147,
          321778,
          335275,
          347840,
          359904,
          379903,
          394320,
          409066,
          424895,
          440210,
          457046,
          476554,
          495962,
          516251,
          536232,
          554430,
          572113,
          593090,
          613736,
          636603,
          654079,
          677662,
          700392,
          724695,
          752284,
          784159,
          817485,
          849999,
          887124,
          918636,
          952990,
          988673,
          1021559,
          1058984,
          1095538,
          1146906,
          1187261,
          1230331,
          1281551,
          1327134,
          1377275,
          1427662,
          1479797,
          1534271,
          1581633,
          1638094,
          1695853,
          1750629,
          1807549,
          1860665,
          1918069,
          1976241,
          2036696,
          2096061,
          2157934,
          2220792,
          2279893,
          2336789,
          2403094,
          2467245,
          2523436,
          2583056,
          2647531,
          2712513,
          2772935,
          2837370,
          2899515,
          2967389,
          3034880,
          3104505,
          3177666,
          3247296,
          3321412,
          3396020,
          3469082,
          3539986,
          3621442,
          3699304,
          3777052,
          3856265,
          3939114,
          4022038,
          4109826,
          4205341,
          4299730,
          4392656,
          4494726,
          4584383,
          4671842,
          4752984,
          4846315,
          4938680,
          5013371,
          5098569,
          5184719,
          5269993,
          5348724,
          5425063,
          5506718,
          5583431
         ]
        }
       ],
       "layout": {
        "legend": {
         "bgcolor": "#F5F6F9",
         "font": {
          "color": "#4D5663"
         }
        },
        "paper_bgcolor": "#F5F6F9",
        "plot_bgcolor": "#F5F6F9",
        "template": {
         "data": {
          "bar": [
           {
            "error_x": {
             "color": "#2a3f5f"
            },
            "error_y": {
             "color": "#2a3f5f"
            },
            "marker": {
             "line": {
              "color": "#E5ECF6",
              "width": 0.5
             }
            },
            "type": "bar"
           }
          ],
          "barpolar": [
           {
            "marker": {
             "line": {
              "color": "#E5ECF6",
              "width": 0.5
             }
            },
            "type": "barpolar"
           }
          ],
          "carpet": [
           {
            "aaxis": {
             "endlinecolor": "#2a3f5f",
             "gridcolor": "white",
             "linecolor": "white",
             "minorgridcolor": "white",
             "startlinecolor": "#2a3f5f"
            },
            "baxis": {
             "endlinecolor": "#2a3f5f",
             "gridcolor": "white",
             "linecolor": "white",
             "minorgridcolor": "white",
             "startlinecolor": "#2a3f5f"
            },
            "type": "carpet"
           }
          ],
          "choropleth": [
           {
            "colorbar": {
             "outlinewidth": 0,
             "ticks": ""
            },
            "type": "choropleth"
           }
          ],
          "contour": [
           {
            "colorbar": {
             "outlinewidth": 0,
             "ticks": ""
            },
            "colorscale": [
             [
              0,
              "#0d0887"
             ],
             [
              0.1111111111111111,
              "#46039f"
             ],
             [
              0.2222222222222222,
              "#7201a8"
             ],
             [
              0.3333333333333333,
              "#9c179e"
             ],
             [
              0.4444444444444444,
              "#bd3786"
             ],
             [
              0.5555555555555556,
              "#d8576b"
             ],
             [
              0.6666666666666666,
              "#ed7953"
             ],
             [
              0.7777777777777778,
              "#fb9f3a"
             ],
             [
              0.8888888888888888,
              "#fdca26"
             ],
             [
              1,
              "#f0f921"
             ]
            ],
            "type": "contour"
           }
          ],
          "contourcarpet": [
           {
            "colorbar": {
             "outlinewidth": 0,
             "ticks": ""
            },
            "type": "contourcarpet"
           }
          ],
          "heatmap": [
           {
            "colorbar": {
             "outlinewidth": 0,
             "ticks": ""
            },
            "colorscale": [
             [
              0,
              "#0d0887"
             ],
             [
              0.1111111111111111,
              "#46039f"
             ],
             [
              0.2222222222222222,
              "#7201a8"
             ],
             [
              0.3333333333333333,
              "#9c179e"
             ],
             [
              0.4444444444444444,
              "#bd3786"
             ],
             [
              0.5555555555555556,
              "#d8576b"
             ],
             [
              0.6666666666666666,
              "#ed7953"
             ],
             [
              0.7777777777777778,
              "#fb9f3a"
             ],
             [
              0.8888888888888888,
              "#fdca26"
             ],
             [
              1,
              "#f0f921"
             ]
            ],
            "type": "heatmap"
           }
          ],
          "heatmapgl": [
           {
            "colorbar": {
             "outlinewidth": 0,
             "ticks": ""
            },
            "colorscale": [
             [
              0,
              "#0d0887"
             ],
             [
              0.1111111111111111,
              "#46039f"
             ],
             [
              0.2222222222222222,
              "#7201a8"
             ],
             [
              0.3333333333333333,
              "#9c179e"
             ],
             [
              0.4444444444444444,
              "#bd3786"
             ],
             [
              0.5555555555555556,
              "#d8576b"
             ],
             [
              0.6666666666666666,
              "#ed7953"
             ],
             [
              0.7777777777777778,
              "#fb9f3a"
             ],
             [
              0.8888888888888888,
              "#fdca26"
             ],
             [
              1,
              "#f0f921"
             ]
            ],
            "type": "heatmapgl"
           }
          ],
          "histogram": [
           {
            "marker": {
             "colorbar": {
              "outlinewidth": 0,
              "ticks": ""
             }
            },
            "type": "histogram"
           }
          ],
          "histogram2d": [
           {
            "colorbar": {
             "outlinewidth": 0,
             "ticks": ""
            },
            "colorscale": [
             [
              0,
              "#0d0887"
             ],
             [
              0.1111111111111111,
              "#46039f"
             ],
             [
              0.2222222222222222,
              "#7201a8"
             ],
             [
              0.3333333333333333,
              "#9c179e"
             ],
             [
              0.4444444444444444,
              "#bd3786"
             ],
             [
              0.5555555555555556,
              "#d8576b"
             ],
             [
              0.6666666666666666,
              "#ed7953"
             ],
             [
              0.7777777777777778,
              "#fb9f3a"
             ],
             [
              0.8888888888888888,
              "#fdca26"
             ],
             [
              1,
              "#f0f921"
             ]
            ],
            "type": "histogram2d"
           }
          ],
          "histogram2dcontour": [
           {
            "colorbar": {
             "outlinewidth": 0,
             "ticks": ""
            },
            "colorscale": [
             [
              0,
              "#0d0887"
             ],
             [
              0.1111111111111111,
              "#46039f"
             ],
             [
              0.2222222222222222,
              "#7201a8"
             ],
             [
              0.3333333333333333,
              "#9c179e"
             ],
             [
              0.4444444444444444,
              "#bd3786"
             ],
             [
              0.5555555555555556,
              "#d8576b"
             ],
             [
              0.6666666666666666,
              "#ed7953"
             ],
             [
              0.7777777777777778,
              "#fb9f3a"
             ],
             [
              0.8888888888888888,
              "#fdca26"
             ],
             [
              1,
              "#f0f921"
             ]
            ],
            "type": "histogram2dcontour"
           }
          ],
          "mesh3d": [
           {
            "colorbar": {
             "outlinewidth": 0,
             "ticks": ""
            },
            "type": "mesh3d"
           }
          ],
          "parcoords": [
           {
            "line": {
             "colorbar": {
              "outlinewidth": 0,
              "ticks": ""
             }
            },
            "type": "parcoords"
           }
          ],
          "pie": [
           {
            "automargin": true,
            "type": "pie"
           }
          ],
          "scatter": [
           {
            "marker": {
             "colorbar": {
              "outlinewidth": 0,
              "ticks": ""
             }
            },
            "type": "scatter"
           }
          ],
          "scatter3d": [
           {
            "line": {
             "colorbar": {
              "outlinewidth": 0,
              "ticks": ""
             }
            },
            "marker": {
             "colorbar": {
              "outlinewidth": 0,
              "ticks": ""
             }
            },
            "type": "scatter3d"
           }
          ],
          "scattercarpet": [
           {
            "marker": {
             "colorbar": {
              "outlinewidth": 0,
              "ticks": ""
             }
            },
            "type": "scattercarpet"
           }
          ],
          "scattergeo": [
           {
            "marker": {
             "colorbar": {
              "outlinewidth": 0,
              "ticks": ""
             }
            },
            "type": "scattergeo"
           }
          ],
          "scattergl": [
           {
            "marker": {
             "colorbar": {
              "outlinewidth": 0,
              "ticks": ""
             }
            },
            "type": "scattergl"
           }
          ],
          "scattermapbox": [
           {
            "marker": {
             "colorbar": {
              "outlinewidth": 0,
              "ticks": ""
             }
            },
            "type": "scattermapbox"
           }
          ],
          "scatterpolar": [
           {
            "marker": {
             "colorbar": {
              "outlinewidth": 0,
              "ticks": ""
             }
            },
            "type": "scatterpolar"
           }
          ],
          "scatterpolargl": [
           {
            "marker": {
             "colorbar": {
              "outlinewidth": 0,
              "ticks": ""
             }
            },
            "type": "scatterpolargl"
           }
          ],
          "scatterternary": [
           {
            "marker": {
             "colorbar": {
              "outlinewidth": 0,
              "ticks": ""
             }
            },
            "type": "scatterternary"
           }
          ],
          "surface": [
           {
            "colorbar": {
             "outlinewidth": 0,
             "ticks": ""
            },
            "colorscale": [
             [
              0,
              "#0d0887"
             ],
             [
              0.1111111111111111,
              "#46039f"
             ],
             [
              0.2222222222222222,
              "#7201a8"
             ],
             [
              0.3333333333333333,
              "#9c179e"
             ],
             [
              0.4444444444444444,
              "#bd3786"
             ],
             [
              0.5555555555555556,
              "#d8576b"
             ],
             [
              0.6666666666666666,
              "#ed7953"
             ],
             [
              0.7777777777777778,
              "#fb9f3a"
             ],
             [
              0.8888888888888888,
              "#fdca26"
             ],
             [
              1,
              "#f0f921"
             ]
            ],
            "type": "surface"
           }
          ],
          "table": [
           {
            "cells": {
             "fill": {
              "color": "#EBF0F8"
             },
             "line": {
              "color": "white"
             }
            },
            "header": {
             "fill": {
              "color": "#C8D4E3"
             },
             "line": {
              "color": "white"
             }
            },
            "type": "table"
           }
          ]
         },
         "layout": {
          "annotationdefaults": {
           "arrowcolor": "#2a3f5f",
           "arrowhead": 0,
           "arrowwidth": 1
          },
          "coloraxis": {
           "colorbar": {
            "outlinewidth": 0,
            "ticks": ""
           }
          },
          "colorscale": {
           "diverging": [
            [
             0,
             "#8e0152"
            ],
            [
             0.1,
             "#c51b7d"
            ],
            [
             0.2,
             "#de77ae"
            ],
            [
             0.3,
             "#f1b6da"
            ],
            [
             0.4,
             "#fde0ef"
            ],
            [
             0.5,
             "#f7f7f7"
            ],
            [
             0.6,
             "#e6f5d0"
            ],
            [
             0.7,
             "#b8e186"
            ],
            [
             0.8,
             "#7fbc41"
            ],
            [
             0.9,
             "#4d9221"
            ],
            [
             1,
             "#276419"
            ]
           ],
           "sequential": [
            [
             0,
             "#0d0887"
            ],
            [
             0.1111111111111111,
             "#46039f"
            ],
            [
             0.2222222222222222,
             "#7201a8"
            ],
            [
             0.3333333333333333,
             "#9c179e"
            ],
            [
             0.4444444444444444,
             "#bd3786"
            ],
            [
             0.5555555555555556,
             "#d8576b"
            ],
            [
             0.6666666666666666,
             "#ed7953"
            ],
            [
             0.7777777777777778,
             "#fb9f3a"
            ],
            [
             0.8888888888888888,
             "#fdca26"
            ],
            [
             1,
             "#f0f921"
            ]
           ],
           "sequentialminus": [
            [
             0,
             "#0d0887"
            ],
            [
             0.1111111111111111,
             "#46039f"
            ],
            [
             0.2222222222222222,
             "#7201a8"
            ],
            [
             0.3333333333333333,
             "#9c179e"
            ],
            [
             0.4444444444444444,
             "#bd3786"
            ],
            [
             0.5555555555555556,
             "#d8576b"
            ],
            [
             0.6666666666666666,
             "#ed7953"
            ],
            [
             0.7777777777777778,
             "#fb9f3a"
            ],
            [
             0.8888888888888888,
             "#fdca26"
            ],
            [
             1,
             "#f0f921"
            ]
           ]
          },
          "colorway": [
           "#636efa",
           "#EF553B",
           "#00cc96",
           "#ab63fa",
           "#FFA15A",
           "#19d3f3",
           "#FF6692",
           "#B6E880",
           "#FF97FF",
           "#FECB52"
          ],
          "font": {
           "color": "#2a3f5f"
          },
          "geo": {
           "bgcolor": "white",
           "lakecolor": "white",
           "landcolor": "#E5ECF6",
           "showlakes": true,
           "showland": true,
           "subunitcolor": "white"
          },
          "hoverlabel": {
           "align": "left"
          },
          "hovermode": "closest",
          "mapbox": {
           "style": "light"
          },
          "paper_bgcolor": "white",
          "plot_bgcolor": "#E5ECF6",
          "polar": {
           "angularaxis": {
            "gridcolor": "white",
            "linecolor": "white",
            "ticks": ""
           },
           "bgcolor": "#E5ECF6",
           "radialaxis": {
            "gridcolor": "white",
            "linecolor": "white",
            "ticks": ""
           }
          },
          "scene": {
           "xaxis": {
            "backgroundcolor": "#E5ECF6",
            "gridcolor": "white",
            "gridwidth": 2,
            "linecolor": "white",
            "showbackground": true,
            "ticks": "",
            "zerolinecolor": "white"
           },
           "yaxis": {
            "backgroundcolor": "#E5ECF6",
            "gridcolor": "white",
            "gridwidth": 2,
            "linecolor": "white",
            "showbackground": true,
            "ticks": "",
            "zerolinecolor": "white"
           },
           "zaxis": {
            "backgroundcolor": "#E5ECF6",
            "gridcolor": "white",
            "gridwidth": 2,
            "linecolor": "white",
            "showbackground": true,
            "ticks": "",
            "zerolinecolor": "white"
           }
          },
          "shapedefaults": {
           "line": {
            "color": "#2a3f5f"
           }
          },
          "ternary": {
           "aaxis": {
            "gridcolor": "white",
            "linecolor": "white",
            "ticks": ""
           },
           "baxis": {
            "gridcolor": "white",
            "linecolor": "white",
            "ticks": ""
           },
           "bgcolor": "#E5ECF6",
           "caxis": {
            "gridcolor": "white",
            "linecolor": "white",
            "ticks": ""
           }
          },
          "title": {
           "x": 0.05
          },
          "xaxis": {
           "automargin": true,
           "gridcolor": "white",
           "linecolor": "white",
           "ticks": "",
           "title": {
            "standoff": 15
           },
           "zerolinecolor": "white",
           "zerolinewidth": 2
          },
          "yaxis": {
           "automargin": true,
           "gridcolor": "white",
           "linecolor": "white",
           "ticks": "",
           "title": {
            "standoff": 15
           },
           "zerolinecolor": "white",
           "zerolinewidth": 2
          }
         }
        },
        "title": {
         "font": {
          "color": "#4D5663"
         },
         "text": "Total Recovered"
        },
        "xaxis": {
         "gridcolor": "#E1E5ED",
         "showgrid": true,
         "tickfont": {
          "color": "#4D5663"
         },
         "title": {
          "font": {
           "color": "#4D5663"
          },
          "text": "Date"
         },
         "zerolinecolor": "#E1E5ED"
        },
        "yaxis": {
         "gridcolor": "#E1E5ED",
         "showgrid": true,
         "tickfont": {
          "color": "#4D5663"
         },
         "title": {
          "font": {
           "color": "#4D5663"
          },
          "text": "Total Recovered"
         },
         "zerolinecolor": "#E1E5ED"
        }
       }
      },
      "text/html": [
       "<div>                            <div id=\"f1146fe5-66c4-4c13-bc19-148189410c21\" class=\"plotly-graph-div\" style=\"height:525px; width:100%;\"></div>            <script type=\"text/javascript\">                require([\"plotly\"], function(Plotly) {                    window.PLOTLYENV=window.PLOTLYENV || {};\n",
       "                    window.PLOTLYENV.BASE_URL='https://plot.ly';                                    if (document.getElementById(\"f1146fe5-66c4-4c13-bc19-148189410c21\")) {                    Plotly.newPlot(                        \"f1146fe5-66c4-4c13-bc19-148189410c21\",                        [{\"line\": {\"color\": \"rgba(219, 64, 82, 1.0)\", \"dash\": \"solid\", \"shape\": \"linear\", \"width\": 1.3}, \"marker\": {\"size\": 6, \"symbol\": \"circle\"}, \"mode\": \"markers+lines\", \"name\": \"Total Recovered\", \"text\": \"\", \"type\": \"scatter\", \"x\": [\"30 January \", \"31 January \", \"01 February \", \"02 February \", \"03 February \", \"04 February \", \"05 February \", \"06 February \", \"07 February \", \"08 February \", \"09 February \", \"10 February \", \"11 February \", \"12 February \", \"13 February \", \"14 February \", \"15 February \", \"16 February \", \"17 February \", \"18 February \", \"19 February \", \"20 February \", \"21 February \", \"22 February \", \"23 February \", \"24 February \", \"25 February \", \"26 February \", \"27 February \", \"28 February \", \"29 February \", \"01 March \", \"02 March \", \"03 March \", \"04 March \", \"05 March \", \"06 March \", \"07 March \", \"08 March \", \"09 March \", \"10 March \", \"11 March \", \"12 March \", \"13 March \", \"14 March \", \"15 March \", \"16 March \", \"17 March \", \"18 March \", \"19 March \", \"20 March \", \"21 March \", \"22 March \", \"23 March \", \"24 March \", \"25 March \", \"26 March \", \"27 March \", \"28 March \", \"29 March \", \"30 March \", \"31 March \", \"01 April \", \"02 April \", \"03 April \", \"04 April \", \"05 April \", \"06 April \", \"07 April \", \"08 April \", \"09 April \", \"10 April \", \"11 April \", \"12 April \", \"13 April \", \"14 April \", \"15 April \", \"16 April \", \"17 April \", \"18 April \", \"19 April \", \"20 April \", \"21 April \", \"22 April \", \"23 April \", \"24 April \", \"25 April \", \"26 April \", \"27 April \", \"28 April \", \"29 April \", \"30 April \", \"01 May \", \"02 May \", \"03 May \", \"04 May \", \"05 May \", \"06 May \", \"07 May \", \"08 May \", \"09 May \", \"10 May \", \"11 May \", \"12 May \", \"13 May \", \"14 May \", \"15 May \", \"16 May \", \"17 May \", \"18 May \", \"19 May \", \"20 May \", \"21 May \", \"22 May \", \"23 May \", \"24 May \", \"25 May \", \"26 May \", \"27 May \", \"28 May \", \"29 May \", \"30 May \", \"31 May \", \"01 June \", \"02 June \", \"03 June \", \"04 June \", \"05 June \", \"06 June \", \"07 June \", \"08 June \", \"09 June \", \"10 June \", \"11 June \", \"12 June \", \"13 June \", \"14 June \", \"15 June \", \"16 June \", \"17 June \", \"18 June \", \"19 June \", \"20 June \", \"21 June \", \"22 June \", \"23 June \", \"24 June \", \"25 June \", \"26 June \", \"27 June \", \"28 June \", \"29 June \", \"30 June \", \"01 July \", \"02 July \", \"03 July \", \"04 July \", \"05 July \", \"06 July \", \"07 July \", \"08 July \", \"09 July \", \"10 July \", \"11 July \", \"12 July \", \"13 July \", \"14 July \", \"15 July \", \"16 July \", \"17 July \", \"18 July \", \"19 July \", \"20 July \", \"21 July \", \"22 July \", \"23 July \", \"24 July \", \"25 July \", \"26 July \", \"27 July \", \"28 July \", \"29 July \", \"30 July \", \"31 July \", \"01 August \", \"02 August \", \"03 August \", \"04 August \", \"05 August \", \"06 August \", \"07 August \", \"08 August \", \"09 August \", \"10 August \", \"11 August \", \"12 August \", \"13 August \", \"14 August \", \"15 August \", \"16 August \", \"17 August \", \"18 August \", \"19 August \", \"20 August \", \"21 August \", \"22 August \", \"23 August \", \"24 August \", \"25 August \", \"26 August \", \"27 August \", \"28 August \", \"29 August \", \"30 August \", \"31 August \", \"01 September \", \"02 September \", \"03 September \", \"04 September \", \"05 September \", \"06 September \", \"07 September \", \"08 September \", \"09 September \", \"10 September \", \"11 September \", \"12 September \", \"13 September \", \"14 September \", \"15 September \", \"16 September \", \"17 September \", \"18 September \", \"19 September \", \"20 September \", \"21 September \", \"22 September \", \"23 September \", \"24 September \", \"25 September \", \"26 September \", \"27 September \", \"28 September \", \"29 September \", \"30 September \", \"01 October \", \"02 October \", \"03 October \", \"04 October \"], \"y\": [0, 0, 0, 0, 0, 0, 0, 0, 0, 0, 0, 0, 0, 0, 1, 1, 1, 2, 2, 2, 2, 3, 3, 3, 3, 3, 3, 3, 3, 3, 3, 3, 3, 3, 3, 3, 3, 3, 3, 3, 4, 4, 4, 10, 10, 13, 14, 15, 15, 20, 23, 23, 23, 25, 40, 43, 50, 75, 85, 102, 137, 150, 169, 191, 230, 286, 329, 394, 469, 565, 635, 786, 972, 1086, 1198, 1365, 1509, 1767, 2040, 2466, 2854, 3273, 3976, 4370, 5012, 5496, 5938, 6523, 7103, 7739, 8429, 9059, 10021, 10852, 11763, 12845, 14140, 15301, 16776, 17887, 19301, 20970, 22549, 24454, 26417, 28011, 30245, 34257, 36795, 39277, 42309, 45422, 48553, 51833, 54409, 57694, 60706, 64291, 67725, 70896, 82631, 86934, 91862, 95744, 100275, 104064, 108454, 113224, 118657, 123848, 129019, 134653, 140928, 146972, 154235, 162327, 169685, 180324, 187550, 194440, 205181, 214210, 228184, 237259, 248138, 258600, 271689, 285672, 295918, 310147, 321778, 335275, 347840, 359904, 379903, 394320, 409066, 424895, 440210, 457046, 476554, 495962, 516251, 536232, 554430, 572113, 593090, 613736, 636603, 654079, 677662, 700392, 724695, 752284, 784159, 817485, 849999, 887124, 918636, 952990, 988673, 1021559, 1058984, 1095538, 1146906, 1187261, 1230331, 1281551, 1327134, 1377275, 1427662, 1479797, 1534271, 1581633, 1638094, 1695853, 1750629, 1807549, 1860665, 1918069, 1976241, 2036696, 2096061, 2157934, 2220792, 2279893, 2336789, 2403094, 2467245, 2523436, 2583056, 2647531, 2712513, 2772935, 2837370, 2899515, 2967389, 3034880, 3104505, 3177666, 3247296, 3321412, 3396020, 3469082, 3539986, 3621442, 3699304, 3777052, 3856265, 3939114, 4022038, 4109826, 4205341, 4299730, 4392656, 4494726, 4584383, 4671842, 4752984, 4846315, 4938680, 5013371, 5098569, 5184719, 5269993, 5348724, 5425063, 5506718, 5583431]}],                        {\"legend\": {\"bgcolor\": \"#F5F6F9\", \"font\": {\"color\": \"#4D5663\"}}, \"paper_bgcolor\": \"#F5F6F9\", \"plot_bgcolor\": \"#F5F6F9\", \"template\": {\"data\": {\"bar\": [{\"error_x\": {\"color\": \"#2a3f5f\"}, \"error_y\": {\"color\": \"#2a3f5f\"}, \"marker\": {\"line\": {\"color\": \"#E5ECF6\", \"width\": 0.5}}, \"type\": \"bar\"}], \"barpolar\": [{\"marker\": {\"line\": {\"color\": \"#E5ECF6\", \"width\": 0.5}}, \"type\": \"barpolar\"}], \"carpet\": [{\"aaxis\": {\"endlinecolor\": \"#2a3f5f\", \"gridcolor\": \"white\", \"linecolor\": \"white\", \"minorgridcolor\": \"white\", \"startlinecolor\": \"#2a3f5f\"}, \"baxis\": {\"endlinecolor\": \"#2a3f5f\", \"gridcolor\": \"white\", \"linecolor\": \"white\", \"minorgridcolor\": \"white\", \"startlinecolor\": \"#2a3f5f\"}, \"type\": \"carpet\"}], \"choropleth\": [{\"colorbar\": {\"outlinewidth\": 0, \"ticks\": \"\"}, \"type\": \"choropleth\"}], \"contour\": [{\"colorbar\": {\"outlinewidth\": 0, \"ticks\": \"\"}, \"colorscale\": [[0.0, \"#0d0887\"], [0.1111111111111111, \"#46039f\"], [0.2222222222222222, \"#7201a8\"], [0.3333333333333333, \"#9c179e\"], [0.4444444444444444, \"#bd3786\"], [0.5555555555555556, \"#d8576b\"], [0.6666666666666666, \"#ed7953\"], [0.7777777777777778, \"#fb9f3a\"], [0.8888888888888888, \"#fdca26\"], [1.0, \"#f0f921\"]], \"type\": \"contour\"}], \"contourcarpet\": [{\"colorbar\": {\"outlinewidth\": 0, \"ticks\": \"\"}, \"type\": \"contourcarpet\"}], \"heatmap\": [{\"colorbar\": {\"outlinewidth\": 0, \"ticks\": \"\"}, \"colorscale\": [[0.0, \"#0d0887\"], [0.1111111111111111, \"#46039f\"], [0.2222222222222222, \"#7201a8\"], [0.3333333333333333, \"#9c179e\"], [0.4444444444444444, \"#bd3786\"], [0.5555555555555556, \"#d8576b\"], [0.6666666666666666, \"#ed7953\"], [0.7777777777777778, \"#fb9f3a\"], [0.8888888888888888, \"#fdca26\"], [1.0, \"#f0f921\"]], \"type\": \"heatmap\"}], \"heatmapgl\": [{\"colorbar\": {\"outlinewidth\": 0, \"ticks\": \"\"}, \"colorscale\": [[0.0, \"#0d0887\"], [0.1111111111111111, \"#46039f\"], [0.2222222222222222, \"#7201a8\"], [0.3333333333333333, \"#9c179e\"], [0.4444444444444444, \"#bd3786\"], [0.5555555555555556, \"#d8576b\"], [0.6666666666666666, \"#ed7953\"], [0.7777777777777778, \"#fb9f3a\"], [0.8888888888888888, \"#fdca26\"], [1.0, \"#f0f921\"]], \"type\": \"heatmapgl\"}], \"histogram\": [{\"marker\": {\"colorbar\": {\"outlinewidth\": 0, \"ticks\": \"\"}}, \"type\": \"histogram\"}], \"histogram2d\": [{\"colorbar\": {\"outlinewidth\": 0, \"ticks\": \"\"}, \"colorscale\": [[0.0, \"#0d0887\"], [0.1111111111111111, \"#46039f\"], [0.2222222222222222, \"#7201a8\"], [0.3333333333333333, \"#9c179e\"], [0.4444444444444444, \"#bd3786\"], [0.5555555555555556, \"#d8576b\"], [0.6666666666666666, \"#ed7953\"], [0.7777777777777778, \"#fb9f3a\"], [0.8888888888888888, \"#fdca26\"], [1.0, \"#f0f921\"]], \"type\": \"histogram2d\"}], \"histogram2dcontour\": [{\"colorbar\": {\"outlinewidth\": 0, \"ticks\": \"\"}, \"colorscale\": [[0.0, \"#0d0887\"], [0.1111111111111111, \"#46039f\"], [0.2222222222222222, \"#7201a8\"], [0.3333333333333333, \"#9c179e\"], [0.4444444444444444, \"#bd3786\"], [0.5555555555555556, \"#d8576b\"], [0.6666666666666666, \"#ed7953\"], [0.7777777777777778, \"#fb9f3a\"], [0.8888888888888888, \"#fdca26\"], [1.0, \"#f0f921\"]], \"type\": \"histogram2dcontour\"}], \"mesh3d\": [{\"colorbar\": {\"outlinewidth\": 0, \"ticks\": \"\"}, \"type\": \"mesh3d\"}], \"parcoords\": [{\"line\": {\"colorbar\": {\"outlinewidth\": 0, \"ticks\": \"\"}}, \"type\": \"parcoords\"}], \"pie\": [{\"automargin\": true, \"type\": \"pie\"}], \"scatter\": [{\"marker\": {\"colorbar\": {\"outlinewidth\": 0, \"ticks\": \"\"}}, \"type\": \"scatter\"}], \"scatter3d\": [{\"line\": {\"colorbar\": {\"outlinewidth\": 0, \"ticks\": \"\"}}, \"marker\": {\"colorbar\": {\"outlinewidth\": 0, \"ticks\": \"\"}}, \"type\": \"scatter3d\"}], \"scattercarpet\": [{\"marker\": {\"colorbar\": {\"outlinewidth\": 0, \"ticks\": \"\"}}, \"type\": \"scattercarpet\"}], \"scattergeo\": [{\"marker\": {\"colorbar\": {\"outlinewidth\": 0, \"ticks\": \"\"}}, \"type\": \"scattergeo\"}], \"scattergl\": [{\"marker\": {\"colorbar\": {\"outlinewidth\": 0, \"ticks\": \"\"}}, \"type\": \"scattergl\"}], \"scattermapbox\": [{\"marker\": {\"colorbar\": {\"outlinewidth\": 0, \"ticks\": \"\"}}, \"type\": \"scattermapbox\"}], \"scatterpolar\": [{\"marker\": {\"colorbar\": {\"outlinewidth\": 0, \"ticks\": \"\"}}, \"type\": \"scatterpolar\"}], \"scatterpolargl\": [{\"marker\": {\"colorbar\": {\"outlinewidth\": 0, \"ticks\": \"\"}}, \"type\": \"scatterpolargl\"}], \"scatterternary\": [{\"marker\": {\"colorbar\": {\"outlinewidth\": 0, \"ticks\": \"\"}}, \"type\": \"scatterternary\"}], \"surface\": [{\"colorbar\": {\"outlinewidth\": 0, \"ticks\": \"\"}, \"colorscale\": [[0.0, \"#0d0887\"], [0.1111111111111111, \"#46039f\"], [0.2222222222222222, \"#7201a8\"], [0.3333333333333333, \"#9c179e\"], [0.4444444444444444, \"#bd3786\"], [0.5555555555555556, \"#d8576b\"], [0.6666666666666666, \"#ed7953\"], [0.7777777777777778, \"#fb9f3a\"], [0.8888888888888888, \"#fdca26\"], [1.0, \"#f0f921\"]], \"type\": \"surface\"}], \"table\": [{\"cells\": {\"fill\": {\"color\": \"#EBF0F8\"}, \"line\": {\"color\": \"white\"}}, \"header\": {\"fill\": {\"color\": \"#C8D4E3\"}, \"line\": {\"color\": \"white\"}}, \"type\": \"table\"}]}, \"layout\": {\"annotationdefaults\": {\"arrowcolor\": \"#2a3f5f\", \"arrowhead\": 0, \"arrowwidth\": 1}, \"coloraxis\": {\"colorbar\": {\"outlinewidth\": 0, \"ticks\": \"\"}}, \"colorscale\": {\"diverging\": [[0, \"#8e0152\"], [0.1, \"#c51b7d\"], [0.2, \"#de77ae\"], [0.3, \"#f1b6da\"], [0.4, \"#fde0ef\"], [0.5, \"#f7f7f7\"], [0.6, \"#e6f5d0\"], [0.7, \"#b8e186\"], [0.8, \"#7fbc41\"], [0.9, \"#4d9221\"], [1, \"#276419\"]], \"sequential\": [[0.0, \"#0d0887\"], [0.1111111111111111, \"#46039f\"], [0.2222222222222222, \"#7201a8\"], [0.3333333333333333, \"#9c179e\"], [0.4444444444444444, \"#bd3786\"], [0.5555555555555556, \"#d8576b\"], [0.6666666666666666, \"#ed7953\"], [0.7777777777777778, \"#fb9f3a\"], [0.8888888888888888, \"#fdca26\"], [1.0, \"#f0f921\"]], \"sequentialminus\": [[0.0, \"#0d0887\"], [0.1111111111111111, \"#46039f\"], [0.2222222222222222, \"#7201a8\"], [0.3333333333333333, \"#9c179e\"], [0.4444444444444444, \"#bd3786\"], [0.5555555555555556, \"#d8576b\"], [0.6666666666666666, \"#ed7953\"], [0.7777777777777778, \"#fb9f3a\"], [0.8888888888888888, \"#fdca26\"], [1.0, \"#f0f921\"]]}, \"colorway\": [\"#636efa\", \"#EF553B\", \"#00cc96\", \"#ab63fa\", \"#FFA15A\", \"#19d3f3\", \"#FF6692\", \"#B6E880\", \"#FF97FF\", \"#FECB52\"], \"font\": {\"color\": \"#2a3f5f\"}, \"geo\": {\"bgcolor\": \"white\", \"lakecolor\": \"white\", \"landcolor\": \"#E5ECF6\", \"showlakes\": true, \"showland\": true, \"subunitcolor\": \"white\"}, \"hoverlabel\": {\"align\": \"left\"}, \"hovermode\": \"closest\", \"mapbox\": {\"style\": \"light\"}, \"paper_bgcolor\": \"white\", \"plot_bgcolor\": \"#E5ECF6\", \"polar\": {\"angularaxis\": {\"gridcolor\": \"white\", \"linecolor\": \"white\", \"ticks\": \"\"}, \"bgcolor\": \"#E5ECF6\", \"radialaxis\": {\"gridcolor\": \"white\", \"linecolor\": \"white\", \"ticks\": \"\"}}, \"scene\": {\"xaxis\": {\"backgroundcolor\": \"#E5ECF6\", \"gridcolor\": \"white\", \"gridwidth\": 2, \"linecolor\": \"white\", \"showbackground\": true, \"ticks\": \"\", \"zerolinecolor\": \"white\"}, \"yaxis\": {\"backgroundcolor\": \"#E5ECF6\", \"gridcolor\": \"white\", \"gridwidth\": 2, \"linecolor\": \"white\", \"showbackground\": true, \"ticks\": \"\", \"zerolinecolor\": \"white\"}, \"zaxis\": {\"backgroundcolor\": \"#E5ECF6\", \"gridcolor\": \"white\", \"gridwidth\": 2, \"linecolor\": \"white\", \"showbackground\": true, \"ticks\": \"\", \"zerolinecolor\": \"white\"}}, \"shapedefaults\": {\"line\": {\"color\": \"#2a3f5f\"}}, \"ternary\": {\"aaxis\": {\"gridcolor\": \"white\", \"linecolor\": \"white\", \"ticks\": \"\"}, \"baxis\": {\"gridcolor\": \"white\", \"linecolor\": \"white\", \"ticks\": \"\"}, \"bgcolor\": \"#E5ECF6\", \"caxis\": {\"gridcolor\": \"white\", \"linecolor\": \"white\", \"ticks\": \"\"}}, \"title\": {\"x\": 0.05}, \"xaxis\": {\"automargin\": true, \"gridcolor\": \"white\", \"linecolor\": \"white\", \"ticks\": \"\", \"title\": {\"standoff\": 15}, \"zerolinecolor\": \"white\", \"zerolinewidth\": 2}, \"yaxis\": {\"automargin\": true, \"gridcolor\": \"white\", \"linecolor\": \"white\", \"ticks\": \"\", \"title\": {\"standoff\": 15}, \"zerolinecolor\": \"white\", \"zerolinewidth\": 2}}}, \"title\": {\"font\": {\"color\": \"#4D5663\"}, \"text\": \"Total Recovered\"}, \"xaxis\": {\"gridcolor\": \"#E1E5ED\", \"showgrid\": true, \"tickfont\": {\"color\": \"#4D5663\"}, \"title\": {\"font\": {\"color\": \"#4D5663\"}, \"text\": \"Date\"}, \"zerolinecolor\": \"#E1E5ED\"}, \"yaxis\": {\"gridcolor\": \"#E1E5ED\", \"showgrid\": true, \"tickfont\": {\"color\": \"#4D5663\"}, \"title\": {\"font\": {\"color\": \"#4D5663\"}, \"text\": \"Total Recovered\"}, \"zerolinecolor\": \"#E1E5ED\"}},                        {\"showLink\": true, \"linkText\": \"Export to plot.ly\", \"plotlyServerURL\": \"https://plot.ly\", \"responsive\": true}                    ).then(function(){\n",
       "                            \n",
       "var gd = document.getElementById('f1146fe5-66c4-4c13-bc19-148189410c21');\n",
       "var x = new MutationObserver(function (mutations, observer) {{\n",
       "        var display = window.getComputedStyle(gd).display;\n",
       "        if (!display || display === 'none') {{\n",
       "            console.log([gd, 'removed!']);\n",
       "            Plotly.purge(gd);\n",
       "            observer.disconnect();\n",
       "        }}\n",
       "}});\n",
       "\n",
       "// Listen for the removal of the full notebook cells\n",
       "var notebookContainer = gd.closest('#notebook-container');\n",
       "if (notebookContainer) {{\n",
       "    x.observe(notebookContainer, {childList: true});\n",
       "}}\n",
       "\n",
       "// Listen for the clearing of the current output cell\n",
       "var outputEl = gd.closest('.output');\n",
       "if (outputEl) {{\n",
       "    x.observe(outputEl, {childList: true});\n",
       "}}\n",
       "\n",
       "                        })                };                });            </script>        </div>"
      ]
     },
     "metadata": {},
     "output_type": "display_data"
    }
   ],
   "source": [
    "case_time_series.iplot(kind='scatter',x='Date',y='Total Recovered',\n",
    "                       mode='markers+lines',\n",
    "                       title='Total Recovered',\n",
    "                       xTitle='Date',yTitle='Total Recovered',colors='red',size=6)"
   ]
  },
  {
   "cell_type": "code",
   "execution_count": 40,
   "metadata": {},
   "outputs": [
    {
     "data": {
      "text/html": [
       "<div>\n",
       "<style scoped>\n",
       "    .dataframe tbody tr th:only-of-type {\n",
       "        vertical-align: middle;\n",
       "    }\n",
       "\n",
       "    .dataframe tbody tr th {\n",
       "        vertical-align: top;\n",
       "    }\n",
       "\n",
       "    .dataframe thead th {\n",
       "        text-align: right;\n",
       "    }\n",
       "</style>\n",
       "<table border=\"1\" class=\"dataframe\">\n",
       "  <thead>\n",
       "    <tr style=\"text-align: right;\">\n",
       "      <th></th>\n",
       "      <th>Date</th>\n",
       "      <th>Status</th>\n",
       "      <th>TT</th>\n",
       "      <th>AN</th>\n",
       "      <th>AP</th>\n",
       "      <th>AR</th>\n",
       "      <th>AS</th>\n",
       "      <th>BR</th>\n",
       "      <th>CH</th>\n",
       "      <th>CT</th>\n",
       "      <th>...</th>\n",
       "      <th>PB</th>\n",
       "      <th>RJ</th>\n",
       "      <th>SK</th>\n",
       "      <th>TN</th>\n",
       "      <th>TG</th>\n",
       "      <th>TR</th>\n",
       "      <th>UP</th>\n",
       "      <th>UT</th>\n",
       "      <th>WB</th>\n",
       "      <th>UN</th>\n",
       "    </tr>\n",
       "  </thead>\n",
       "  <tbody>\n",
       "    <tr>\n",
       "      <th>0</th>\n",
       "      <td>14-Mar-20</td>\n",
       "      <td>Confirmed</td>\n",
       "      <td>81</td>\n",
       "      <td>0</td>\n",
       "      <td>1</td>\n",
       "      <td>0</td>\n",
       "      <td>0</td>\n",
       "      <td>0</td>\n",
       "      <td>0</td>\n",
       "      <td>0</td>\n",
       "      <td>...</td>\n",
       "      <td>1</td>\n",
       "      <td>3</td>\n",
       "      <td>0</td>\n",
       "      <td>1</td>\n",
       "      <td>1</td>\n",
       "      <td>0</td>\n",
       "      <td>12</td>\n",
       "      <td>0</td>\n",
       "      <td>0</td>\n",
       "      <td>0</td>\n",
       "    </tr>\n",
       "    <tr>\n",
       "      <th>1</th>\n",
       "      <td>14-Mar-20</td>\n",
       "      <td>Recovered</td>\n",
       "      <td>9</td>\n",
       "      <td>0</td>\n",
       "      <td>0</td>\n",
       "      <td>0</td>\n",
       "      <td>0</td>\n",
       "      <td>0</td>\n",
       "      <td>0</td>\n",
       "      <td>0</td>\n",
       "      <td>...</td>\n",
       "      <td>0</td>\n",
       "      <td>1</td>\n",
       "      <td>0</td>\n",
       "      <td>0</td>\n",
       "      <td>0</td>\n",
       "      <td>0</td>\n",
       "      <td>4</td>\n",
       "      <td>0</td>\n",
       "      <td>0</td>\n",
       "      <td>0</td>\n",
       "    </tr>\n",
       "    <tr>\n",
       "      <th>2</th>\n",
       "      <td>14-Mar-20</td>\n",
       "      <td>Deceased</td>\n",
       "      <td>2</td>\n",
       "      <td>0</td>\n",
       "      <td>0</td>\n",
       "      <td>0</td>\n",
       "      <td>0</td>\n",
       "      <td>0</td>\n",
       "      <td>0</td>\n",
       "      <td>0</td>\n",
       "      <td>...</td>\n",
       "      <td>0</td>\n",
       "      <td>0</td>\n",
       "      <td>0</td>\n",
       "      <td>0</td>\n",
       "      <td>0</td>\n",
       "      <td>0</td>\n",
       "      <td>0</td>\n",
       "      <td>0</td>\n",
       "      <td>0</td>\n",
       "      <td>0</td>\n",
       "    </tr>\n",
       "    <tr>\n",
       "      <th>3</th>\n",
       "      <td>15-Mar-20</td>\n",
       "      <td>Confirmed</td>\n",
       "      <td>27</td>\n",
       "      <td>0</td>\n",
       "      <td>0</td>\n",
       "      <td>0</td>\n",
       "      <td>0</td>\n",
       "      <td>0</td>\n",
       "      <td>0</td>\n",
       "      <td>0</td>\n",
       "      <td>...</td>\n",
       "      <td>0</td>\n",
       "      <td>1</td>\n",
       "      <td>0</td>\n",
       "      <td>0</td>\n",
       "      <td>2</td>\n",
       "      <td>0</td>\n",
       "      <td>1</td>\n",
       "      <td>0</td>\n",
       "      <td>0</td>\n",
       "      <td>0</td>\n",
       "    </tr>\n",
       "    <tr>\n",
       "      <th>4</th>\n",
       "      <td>15-Mar-20</td>\n",
       "      <td>Recovered</td>\n",
       "      <td>4</td>\n",
       "      <td>0</td>\n",
       "      <td>0</td>\n",
       "      <td>0</td>\n",
       "      <td>0</td>\n",
       "      <td>0</td>\n",
       "      <td>0</td>\n",
       "      <td>0</td>\n",
       "      <td>...</td>\n",
       "      <td>0</td>\n",
       "      <td>2</td>\n",
       "      <td>0</td>\n",
       "      <td>0</td>\n",
       "      <td>1</td>\n",
       "      <td>0</td>\n",
       "      <td>0</td>\n",
       "      <td>0</td>\n",
       "      <td>0</td>\n",
       "      <td>0</td>\n",
       "    </tr>\n",
       "    <tr>\n",
       "      <th>...</th>\n",
       "      <td>...</td>\n",
       "      <td>...</td>\n",
       "      <td>...</td>\n",
       "      <td>...</td>\n",
       "      <td>...</td>\n",
       "      <td>...</td>\n",
       "      <td>...</td>\n",
       "      <td>...</td>\n",
       "      <td>...</td>\n",
       "      <td>...</td>\n",
       "      <td>...</td>\n",
       "      <td>...</td>\n",
       "      <td>...</td>\n",
       "      <td>...</td>\n",
       "      <td>...</td>\n",
       "      <td>...</td>\n",
       "      <td>...</td>\n",
       "      <td>...</td>\n",
       "      <td>...</td>\n",
       "      <td>...</td>\n",
       "      <td>...</td>\n",
       "    </tr>\n",
       "    <tr>\n",
       "      <th>610</th>\n",
       "      <td>03-Oct-20</td>\n",
       "      <td>Recovered</td>\n",
       "      <td>81655</td>\n",
       "      <td>11</td>\n",
       "      <td>7798</td>\n",
       "      <td>205</td>\n",
       "      <td>1813</td>\n",
       "      <td>1431</td>\n",
       "      <td>234</td>\n",
       "      <td>2982</td>\n",
       "      <td>...</td>\n",
       "      <td>1691</td>\n",
       "      <td>2003</td>\n",
       "      <td>39</td>\n",
       "      <td>5596</td>\n",
       "      <td>2002</td>\n",
       "      <td>301</td>\n",
       "      <td>4860</td>\n",
       "      <td>919</td>\n",
       "      <td>3013</td>\n",
       "      <td>0</td>\n",
       "    </tr>\n",
       "    <tr>\n",
       "      <th>611</th>\n",
       "      <td>03-Oct-20</td>\n",
       "      <td>Deceased</td>\n",
       "      <td>937</td>\n",
       "      <td>0</td>\n",
       "      <td>41</td>\n",
       "      <td>0</td>\n",
       "      <td>14</td>\n",
       "      <td>2</td>\n",
       "      <td>3</td>\n",
       "      <td>29</td>\n",
       "      <td>...</td>\n",
       "      <td>61</td>\n",
       "      <td>14</td>\n",
       "      <td>2</td>\n",
       "      <td>65</td>\n",
       "      <td>8</td>\n",
       "      <td>3</td>\n",
       "      <td>60</td>\n",
       "      <td>12</td>\n",
       "      <td>62</td>\n",
       "      <td>0</td>\n",
       "    </tr>\n",
       "    <tr>\n",
       "      <th>612</th>\n",
       "      <td>04-Oct-20</td>\n",
       "      <td>Confirmed</td>\n",
       "      <td>74770</td>\n",
       "      <td>16</td>\n",
       "      <td>6242</td>\n",
       "      <td>127</td>\n",
       "      <td>756</td>\n",
       "      <td>1261</td>\n",
       "      <td>85</td>\n",
       "      <td>1924</td>\n",
       "      <td>...</td>\n",
       "      <td>838</td>\n",
       "      <td>2184</td>\n",
       "      <td>43</td>\n",
       "      <td>5489</td>\n",
       "      <td>1949</td>\n",
       "      <td>322</td>\n",
       "      <td>3840</td>\n",
       "      <td>1419</td>\n",
       "      <td>3357</td>\n",
       "      <td>0</td>\n",
       "    </tr>\n",
       "    <tr>\n",
       "      <th>613</th>\n",
       "      <td>04-Oct-20</td>\n",
       "      <td>Recovered</td>\n",
       "      <td>76713</td>\n",
       "      <td>7</td>\n",
       "      <td>7084</td>\n",
       "      <td>189</td>\n",
       "      <td>1351</td>\n",
       "      <td>1314</td>\n",
       "      <td>202</td>\n",
       "      <td>2654</td>\n",
       "      <td>...</td>\n",
       "      <td>1509</td>\n",
       "      <td>2090</td>\n",
       "      <td>32</td>\n",
       "      <td>5558</td>\n",
       "      <td>2366</td>\n",
       "      <td>513</td>\n",
       "      <td>5226</td>\n",
       "      <td>392</td>\n",
       "      <td>2986</td>\n",
       "      <td>0</td>\n",
       "    </tr>\n",
       "    <tr>\n",
       "      <th>614</th>\n",
       "      <td>04-Oct-20</td>\n",
       "      <td>Deceased</td>\n",
       "      <td>903</td>\n",
       "      <td>0</td>\n",
       "      <td>40</td>\n",
       "      <td>0</td>\n",
       "      <td>14</td>\n",
       "      <td>3</td>\n",
       "      <td>2</td>\n",
       "      <td>14</td>\n",
       "      <td>...</td>\n",
       "      <td>41</td>\n",
       "      <td>15</td>\n",
       "      <td>2</td>\n",
       "      <td>66</td>\n",
       "      <td>10</td>\n",
       "      <td>4</td>\n",
       "      <td>52</td>\n",
       "      <td>4</td>\n",
       "      <td>62</td>\n",
       "      <td>0</td>\n",
       "    </tr>\n",
       "  </tbody>\n",
       "</table>\n",
       "<p>615 rows × 41 columns</p>\n",
       "</div>"
      ],
      "text/plain": [
       "          Date     Status     TT  AN    AP   AR    AS    BR   CH    CT  ...  \\\n",
       "0    14-Mar-20  Confirmed     81   0     1    0     0     0    0     0  ...   \n",
       "1    14-Mar-20  Recovered      9   0     0    0     0     0    0     0  ...   \n",
       "2    14-Mar-20   Deceased      2   0     0    0     0     0    0     0  ...   \n",
       "3    15-Mar-20  Confirmed     27   0     0    0     0     0    0     0  ...   \n",
       "4    15-Mar-20  Recovered      4   0     0    0     0     0    0     0  ...   \n",
       "..         ...        ...    ...  ..   ...  ...   ...   ...  ...   ...  ...   \n",
       "610  03-Oct-20  Recovered  81655  11  7798  205  1813  1431  234  2982  ...   \n",
       "611  03-Oct-20   Deceased    937   0    41    0    14     2    3    29  ...   \n",
       "612  04-Oct-20  Confirmed  74770  16  6242  127   756  1261   85  1924  ...   \n",
       "613  04-Oct-20  Recovered  76713   7  7084  189  1351  1314  202  2654  ...   \n",
       "614  04-Oct-20   Deceased    903   0    40    0    14     3    2    14  ...   \n",
       "\n",
       "       PB    RJ  SK    TN    TG   TR    UP    UT    WB  UN  \n",
       "0       1     3   0     1     1    0    12     0     0   0  \n",
       "1       0     1   0     0     0    0     4     0     0   0  \n",
       "2       0     0   0     0     0    0     0     0     0   0  \n",
       "3       0     1   0     0     2    0     1     0     0   0  \n",
       "4       0     2   0     0     1    0     0     0     0   0  \n",
       "..    ...   ...  ..   ...   ...  ...   ...   ...   ...  ..  \n",
       "610  1691  2003  39  5596  2002  301  4860   919  3013   0  \n",
       "611    61    14   2    65     8    3    60    12    62   0  \n",
       "612   838  2184  43  5489  1949  322  3840  1419  3357   0  \n",
       "613  1509  2090  32  5558  2366  513  5226   392  2986   0  \n",
       "614    41    15   2    66    10    4    52     4    62   0  \n",
       "\n",
       "[615 rows x 41 columns]"
      ]
     },
     "execution_count": 40,
     "metadata": {},
     "output_type": "execute_result"
    }
   ],
   "source": [
    "state_wise=pd.read_csv(\"https://api.covid19india.org/csv/latest/state_wise_daily.csv\")\n",
    "state_wise"
   ]
  },
  {
   "cell_type": "code",
   "execution_count": null,
   "metadata": {},
   "outputs": [],
   "source": []
  }
 ],
 "metadata": {
  "kernelspec": {
   "display_name": "Python 3",
   "language": "python",
   "name": "python3"
  },
  "language_info": {
   "codemirror_mode": {
    "name": "ipython",
    "version": 3
   },
   "file_extension": ".py",
   "mimetype": "text/x-python",
   "name": "python",
   "nbconvert_exporter": "python",
   "pygments_lexer": "ipython3",
   "version": "3.7.6"
  }
 },
 "nbformat": 4,
 "nbformat_minor": 4
}
